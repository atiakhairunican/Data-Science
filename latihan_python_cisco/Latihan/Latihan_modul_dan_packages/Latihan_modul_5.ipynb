{
 "cells": [
  {
   "cell_type": "markdown",
   "metadata": {},
   "source": [
    "5.1.2.2 Useful Modules | Math."
   ]
  },
  {
   "cell_type": "code",
   "execution_count": 1,
   "metadata": {},
   "outputs": [],
   "source": [
    "import math as m\n",
    "from math import *"
   ]
  },
  {
   "cell_type": "code",
   "execution_count": 14,
   "metadata": {},
   "outputs": [
    {
     "name": "stdout",
     "output_type": "stream",
     "text": [
      "True True True\n",
      "1.0 0.9\n"
     ]
    }
   ],
   "source": [
    "rad = radians(90)\n",
    "ad = degrees(rad)\n",
    "\n",
    "print(rad == pi/2, sin(rad) / cos(rad) == tan (rad), asin(sin(rad)) == rad)\n",
    "print(m.sin(rad), round(m.sin(ad), 1))"
   ]
  },
  {
   "cell_type": "code",
   "execution_count": 17,
   "metadata": {},
   "outputs": [
    {
     "name": "stdout",
     "output_type": "stream",
     "text": [
      "True\n",
      "True\n",
      "True\n",
      "True\n"
     ]
    }
   ],
   "source": [
    "print(pow(e, 1) == exp(1))\n",
    "print(pow(e, 1) == exp(log(e)))\n",
    "print(pow(2, 2) == exp(2 * log(2)))\n",
    "print(log(e, e) == exp(0))"
   ]
  },
  {
   "cell_type": "code",
   "execution_count": 19,
   "metadata": {},
   "outputs": [
    {
     "name": "stdout",
     "output_type": "stream",
     "text": [
      "1 2 -2 -3\n",
      "2 3 -1 -2\n",
      "1 2 -1 -2\n"
     ]
    }
   ],
   "source": [
    "x = 1.4\n",
    "y = 2.6\n",
    "\n",
    "print(floor(x), floor(y), floor(-x), floor(-y))\n",
    "print(ceil(x), ceil(y), ceil(-x), ceil(-y))\n",
    "print(trunc(x), trunc(y), trunc(-x), trunc(-y))"
   ]
  },
  {
   "cell_type": "markdown",
   "metadata": {},
   "source": [
    "5.1.2.6 Useful Modules | Random."
   ]
  },
  {
   "cell_type": "code",
   "execution_count": 22,
   "metadata": {},
   "outputs": [
    {
     "name": "stdout",
     "output_type": "stream",
     "text": [
      "0.5512263133926268\n",
      "0.07785836532365997\n",
      "0.9893503630768712\n",
      "0.7766483755058707\n",
      "0.9195458555953814\n"
     ]
    }
   ],
   "source": [
    "from random import random\n",
    "\n",
    "for i in range(5):\n",
    "    print(random())\n",
    "    \n",
    "# Nilai random akan berubah setiap kali di run ulang"
   ]
  },
  {
   "cell_type": "code",
   "execution_count": 26,
   "metadata": {},
   "outputs": [
    {
     "name": "stdout",
     "output_type": "stream",
     "text": [
      "0.8444218515250481\n",
      "0.7579544029403025\n",
      "0.420571580830845\n",
      "0.25891675029296335\n",
      "0.5112747213686085\n"
     ]
    }
   ],
   "source": [
    "from random import random, seed\n",
    "\n",
    "seed(0)\n",
    "for i in range(5):\n",
    "    print(random())\n",
    "    \n",
    "# Nilai random tidak akan berubah setiap kali di run ulang karena seed nya sama yaitu 0\n",
    "# Tapi jika nol dirubah maka nilainya juga akan berubah"
   ]
  },
  {
   "cell_type": "code",
   "execution_count": 59,
   "metadata": {},
   "outputs": [
    {
     "name": "stdout",
     "output_type": "stream",
     "text": [
      "0 1 0 1\n",
      "3 8 9 8 9 10 1 1 8 6 -3 -2 -5 -2 -4 "
     ]
    }
   ],
   "source": [
    "from random import randrange, randint\n",
    "\n",
    "print(randrange(2), end=\" \")\n",
    "print(randrange(0, 2), end=\" \")\n",
    "print(randrange(0, 2, 1), end=\" \")\n",
    "print(randint(0, 2))\n",
    "\n",
    "for i in range(10):\n",
    "    print(randint(1, 10), end=\" \")\n",
    "\n",
    "for j in range(5):\n",
    "    print(randint(-5, -1), end=\" \")"
   ]
  },
  {
   "cell_type": "code",
   "execution_count": 63,
   "metadata": {},
   "outputs": [
    {
     "name": "stdout",
     "output_type": "stream",
     "text": [
      "1\n",
      "[4, 1, 6, 8, 5]\n"
     ]
    }
   ],
   "source": [
    "from random import choice, sample\n",
    "\n",
    "lst = [i for i in range(1, 10)]\n",
    "\n",
    "print(choice(lst))          # Choice hanya menerima 1 argument\n",
    "print(sample(lst, 5))       # Sample hanya menerima 2 argument"
   ]
  },
  {
   "cell_type": "markdown",
   "metadata": {},
   "source": [
    "5.1.2.10 Useful Modules | Platform."
   ]
  },
  {
   "cell_type": "code",
   "execution_count": 66,
   "metadata": {},
   "outputs": [
    {
     "name": "stdout",
     "output_type": "stream",
     "text": [
      "Windows-10-10.0.17763-SP0  --  Windows-10-10.0.17763-SP0  --  Windows-10\n",
      "AMD64\n",
      "Intel64 Family 6 Model 122 Stepping 1, GenuineIntel\n",
      "Windows\n",
      "10.0.17763\n"
     ]
    }
   ],
   "source": [
    "from platform import platform, machine, processor, system, version\n",
    "\n",
    "print(platform(), \" -- \", platform(1), \" -- \", platform(0, 1))\n",
    "print(machine())\n",
    "print(processor())\n",
    "print(system())\n",
    "print(version())"
   ]
  },
  {
   "cell_type": "code",
   "execution_count": 70,
   "metadata": {},
   "outputs": [
    {
     "name": "stdout",
     "output_type": "stream",
     "text": [
      "CPython\n",
      "3 7 6 "
     ]
    }
   ],
   "source": [
    "from platform import python_implementation, python_version_tuple\n",
    "\n",
    "print(python_implementation())\n",
    "\n",
    "for atr in python_version_tuple():\n",
    "    print(atr, end=\" \")"
   ]
  },
  {
   "cell_type": "markdown",
   "metadata": {},
   "source": [
    "5.1.4.1 Error the Programmer"
   ]
  },
  {
   "cell_type": "code",
   "execution_count": 72,
   "metadata": {},
   "outputs": [
    {
     "name": "stdout",
     "output_type": "stream",
     "text": [
      "Enter x : 67\n",
      "The square root of 67.0 equals to 8.18535277187245\n",
      "Enter x : -1\n"
     ]
    },
    {
     "ename": "ValueError",
     "evalue": "math domain error",
     "output_type": "error",
     "traceback": [
      "\u001b[1;31m---------------------------------------------------------------------------\u001b[0m",
      "\u001b[1;31mValueError\u001b[0m                                Traceback (most recent call last)",
      "\u001b[1;32m<ipython-input-72-882f7bf5afbc>\u001b[0m in \u001b[0;36m<module>\u001b[1;34m\u001b[0m\n\u001b[0;32m      3\u001b[0m \u001b[1;32mfor\u001b[0m \u001b[0mi\u001b[0m \u001b[1;32min\u001b[0m \u001b[0mrange\u001b[0m\u001b[1;33m(\u001b[0m\u001b[1;36m2\u001b[0m\u001b[1;33m)\u001b[0m\u001b[1;33m:\u001b[0m\u001b[1;33m\u001b[0m\u001b[1;33m\u001b[0m\u001b[0m\n\u001b[0;32m      4\u001b[0m     \u001b[0mx\u001b[0m \u001b[1;33m=\u001b[0m \u001b[0mfloat\u001b[0m\u001b[1;33m(\u001b[0m\u001b[0minput\u001b[0m\u001b[1;33m(\u001b[0m\u001b[1;34m\"Enter x : \"\u001b[0m\u001b[1;33m)\u001b[0m\u001b[1;33m)\u001b[0m\u001b[1;33m\u001b[0m\u001b[1;33m\u001b[0m\u001b[0m\n\u001b[1;32m----> 5\u001b[1;33m     \u001b[0my\u001b[0m \u001b[1;33m=\u001b[0m \u001b[0mmath\u001b[0m\u001b[1;33m.\u001b[0m\u001b[0msqrt\u001b[0m\u001b[1;33m(\u001b[0m\u001b[0mx\u001b[0m\u001b[1;33m)\u001b[0m\u001b[1;33m\u001b[0m\u001b[1;33m\u001b[0m\u001b[0m\n\u001b[0m\u001b[0;32m      6\u001b[0m     \u001b[0mprint\u001b[0m\u001b[1;33m(\u001b[0m\u001b[1;34m\"The square root of\"\u001b[0m\u001b[1;33m,\u001b[0m \u001b[0mx\u001b[0m\u001b[1;33m,\u001b[0m \u001b[1;34m\"equals to\"\u001b[0m\u001b[1;33m,\u001b[0m \u001b[0my\u001b[0m\u001b[1;33m)\u001b[0m\u001b[1;33m\u001b[0m\u001b[1;33m\u001b[0m\u001b[0m\n",
      "\u001b[1;31mValueError\u001b[0m: math domain error"
     ]
    }
   ],
   "source": [
    "import math\n",
    "\n",
    "for i in range(2):\n",
    "    x = float(input(\"Enter x : \"))\n",
    "    y = math.sqrt(x)\n",
    "    print(\"The square root of\", x, \"equals to\", y)"
   ]
  },
  {
   "cell_type": "code",
   "execution_count": 73,
   "metadata": {},
   "outputs": [
    {
     "ename": "ZeroDivisionError",
     "evalue": "division by zero",
     "output_type": "error",
     "traceback": [
      "\u001b[1;31m---------------------------------------------------------------------------\u001b[0m",
      "\u001b[1;31mZeroDivisionError\u001b[0m                         Traceback (most recent call last)",
      "\u001b[1;32m<ipython-input-73-ad45975c684c>\u001b[0m in \u001b[0;36m<module>\u001b[1;34m\u001b[0m\n\u001b[0;32m      1\u001b[0m \u001b[0mvalue\u001b[0m \u001b[1;33m=\u001b[0m \u001b[1;36m1\u001b[0m\u001b[1;33m\u001b[0m\u001b[1;33m\u001b[0m\u001b[0m\n\u001b[1;32m----> 2\u001b[1;33m \u001b[0mvalue\u001b[0m \u001b[1;33m/=\u001b[0m \u001b[1;36m0\u001b[0m\u001b[1;33m\u001b[0m\u001b[1;33m\u001b[0m\u001b[0m\n\u001b[0m",
      "\u001b[1;31mZeroDivisionError\u001b[0m: division by zero"
     ]
    }
   ],
   "source": [
    "value = 1\n",
    "value /= 0"
   ]
  },
  {
   "cell_type": "code",
   "execution_count": 75,
   "metadata": {},
   "outputs": [
    {
     "ename": "IndexError",
     "evalue": "list index out of range",
     "output_type": "error",
     "traceback": [
      "\u001b[1;31m---------------------------------------------------------------------------\u001b[0m",
      "\u001b[1;31mIndexError\u001b[0m                                Traceback (most recent call last)",
      "\u001b[1;32m<ipython-input-75-1e0e1bafb025>\u001b[0m in \u001b[0;36m<module>\u001b[1;34m\u001b[0m\n\u001b[0;32m      1\u001b[0m \u001b[0mlist\u001b[0m \u001b[1;33m=\u001b[0m \u001b[1;33m[\u001b[0m\u001b[1;33m]\u001b[0m\u001b[1;33m\u001b[0m\u001b[1;33m\u001b[0m\u001b[0m\n\u001b[1;32m----> 2\u001b[1;33m \u001b[0mx\u001b[0m \u001b[1;33m=\u001b[0m \u001b[0mlist\u001b[0m\u001b[1;33m[\u001b[0m\u001b[1;36m0\u001b[0m\u001b[1;33m]\u001b[0m\u001b[1;33m\u001b[0m\u001b[1;33m\u001b[0m\u001b[0m\n\u001b[0m",
      "\u001b[1;31mIndexError\u001b[0m: list index out of range"
     ]
    }
   ],
   "source": [
    "list = []\n",
    "x = list[0]"
   ]
  },
  {
   "cell_type": "code",
   "execution_count": 82,
   "metadata": {},
   "outputs": [
    {
     "name": "stdout",
     "output_type": "stream",
     "text": [
      "The first number : 5\n",
      "The second number : 6\n",
      "0.8333333333333334\n",
      "\n",
      "The first number : 3\n",
      "The second number : 0\n",
      "This operation cannot be done.\n",
      "\n",
      "THE END.\n"
     ]
    }
   ],
   "source": [
    "for i in range(2):\n",
    "    inp1 = int(input(\"The first number : \"))\n",
    "    inp2 = int(input(\"The second number : \"))\n",
    "\n",
    "    if inp2 != 0:\n",
    "        print(inp1 / inp2)\n",
    "    else:\n",
    "        print(\"This operation cannot be done.\")\n",
    "        \n",
    "    print()\n",
    "\n",
    "print(\"THE END.\")"
   ]
  },
  {
   "cell_type": "code",
   "execution_count": 84,
   "metadata": {},
   "outputs": [
    {
     "name": "stdout",
     "output_type": "stream",
     "text": [
      "1\n",
      "Oh dear, something went wrong!\n",
      "3\n"
     ]
    }
   ],
   "source": [
    "try:\n",
    "    print(\"1\")\n",
    "    x = 1 / 0       # Ketika terjadi kesalahan maka operasi dibawahnya tidak akan diproses\n",
    "    print(\"2\")\n",
    "except:\n",
    "    print(\"Oh dear, something went wrong!\")\n",
    "    \n",
    "print(\"3\")"
   ]
  },
  {
   "cell_type": "code",
   "execution_count": 1,
   "metadata": {},
   "outputs": [
    {
     "name": "stdout",
     "output_type": "stream",
     "text": [
      "Enter a number : 8\n",
      "THE END.\n",
      "\n",
      "Enter a number : 0\n",
      "Oh dear, something went wrong!\n",
      "THE END.\n",
      "\n"
     ]
    }
   ],
   "source": [
    "for i in range(2):\n",
    "    try:\n",
    "        x = int(input(\"Enter a number : \"))\n",
    "        y = 1 / x\n",
    "    except:\n",
    "        print(\"Oh dear, something went wrong!\")\n",
    "        \n",
    "    print(\"THE END.\"); print()"
   ]
  },
  {
   "cell_type": "code",
   "execution_count": 5,
   "metadata": {},
   "outputs": [
    {
     "name": "stdout",
     "output_type": "stream",
     "text": [
      "Enter a number : 5\n",
      "0.2\n",
      "THE END.\n",
      "\n",
      "Enter a number : 0\n",
      "You cannot divide by zero, sorry.\n",
      "THE END.\n",
      "\n",
      "Enter a number : a\n",
      "You must enter an integer value.\n",
      "THE END.\n",
      "\n",
      "Enter a number : ...\n",
      "You must enter an integer value.\n",
      "THE END.\n",
      "\n"
     ]
    }
   ],
   "source": [
    "for i in range(4):\n",
    "    try:\n",
    "        x = int(input(\"Enter a number : \"))\n",
    "        y = 1 / x\n",
    "        print(y)\n",
    "    except ZeroDivisionError:\n",
    "        print(\"You cannot divide by zero, sorry.\")\n",
    "    except ValueError:\n",
    "        print(\"You must enter an integer value.\")\n",
    "    except:\n",
    "        print(\"Oh dear, something went wrong!\")\n",
    "        \n",
    "    print(\"THE END.\"); print()"
   ]
  },
  {
   "cell_type": "code",
   "execution_count": 6,
   "metadata": {},
   "outputs": [
    {
     "name": "stdout",
     "output_type": "stream",
     "text": [
      "Enter a number : 2\n",
      "0.5\n",
      "THE END.\n",
      "\n",
      "Enter a number : 8.0\n",
      "You must enter an integer value.\n",
      "THE END.\n",
      "\n",
      "Enter a number : a\n",
      "You must enter an integer value.\n",
      "THE END.\n",
      "\n",
      "Enter a number : 0\n",
      "Oh dear, something went wrong!\n",
      "THE END.\n",
      "\n"
     ]
    }
   ],
   "source": [
    "for i in range(4):\n",
    "    try:\n",
    "        x = int(input(\"Enter a number : \"))\n",
    "        y = 1 / x\n",
    "        print(y)\n",
    "    except ValueError:\n",
    "        print(\"You must enter an integer value.\")\n",
    "    except:\n",
    "        print(\"Oh dear, something went wrong!\")\n",
    "        \n",
    "    print(\"THE END.\"); print()"
   ]
  },
  {
   "cell_type": "code",
   "execution_count": 7,
   "metadata": {},
   "outputs": [
    {
     "name": "stdout",
     "output_type": "stream",
     "text": [
      "Enter a number : 8.0\n",
      "You must enter an integer value.\n",
      "THE END.\n",
      "\n",
      "Enter a number : 0\n"
     ]
    },
    {
     "ename": "ZeroDivisionError",
     "evalue": "division by zero",
     "output_type": "error",
     "traceback": [
      "\u001b[1;31m---------------------------------------------------------------------------\u001b[0m",
      "\u001b[1;31mZeroDivisionError\u001b[0m                         Traceback (most recent call last)",
      "\u001b[1;32m<ipython-input-7-b1ba422bd095>\u001b[0m in \u001b[0;36m<module>\u001b[1;34m\u001b[0m\n\u001b[0;32m      2\u001b[0m     \u001b[1;32mtry\u001b[0m\u001b[1;33m:\u001b[0m\u001b[1;33m\u001b[0m\u001b[1;33m\u001b[0m\u001b[0m\n\u001b[0;32m      3\u001b[0m         \u001b[0mx\u001b[0m \u001b[1;33m=\u001b[0m \u001b[0mint\u001b[0m\u001b[1;33m(\u001b[0m\u001b[0minput\u001b[0m\u001b[1;33m(\u001b[0m\u001b[1;34m\"Enter a number : \"\u001b[0m\u001b[1;33m)\u001b[0m\u001b[1;33m)\u001b[0m\u001b[1;33m\u001b[0m\u001b[1;33m\u001b[0m\u001b[0m\n\u001b[1;32m----> 4\u001b[1;33m         \u001b[0my\u001b[0m \u001b[1;33m=\u001b[0m \u001b[1;36m1\u001b[0m \u001b[1;33m/\u001b[0m \u001b[0mx\u001b[0m\u001b[1;33m\u001b[0m\u001b[1;33m\u001b[0m\u001b[0m\n\u001b[0m\u001b[0;32m      5\u001b[0m         \u001b[0mprint\u001b[0m\u001b[1;33m(\u001b[0m\u001b[0my\u001b[0m\u001b[1;33m)\u001b[0m\u001b[1;33m\u001b[0m\u001b[1;33m\u001b[0m\u001b[0m\n\u001b[0;32m      6\u001b[0m \u001b[1;33m\u001b[0m\u001b[0m\n",
      "\u001b[1;31mZeroDivisionError\u001b[0m: division by zero"
     ]
    }
   ],
   "source": [
    "for i in range(2):\n",
    "    try:\n",
    "        x = int(input(\"Enter a number : \"))\n",
    "        y = 1 / x\n",
    "        print(y)\n",
    "        \n",
    "    except ValueError:\n",
    "        print(\"You must enter an integer value.\")\n",
    "        \n",
    "    print(\"THE END.\"); print()"
   ]
  },
  {
   "cell_type": "markdown",
   "metadata": {},
   "source": [
    "5.1.5.3 The Anatomyof Exceptions."
   ]
  },
  {
   "cell_type": "code",
   "execution_count": 9,
   "metadata": {},
   "outputs": [
    {
     "name": "stdout",
     "output_type": "stream",
     "text": [
      "Arithmetic problem!\n",
      "THE END.\n",
      "\n",
      "Zero division!\n",
      "THE END.\n"
     ]
    }
   ],
   "source": [
    "try:\n",
    "    y = 1 / 0\n",
    "except ArithmeticError:\n",
    "    print(\"Arithmetic problem!\")\n",
    "except ZeroDivisionError:\n",
    "    print(\"Zero division!\")\n",
    "    \n",
    "print(\"THE END.\")\n",
    "print()\n",
    "\n",
    "try:\n",
    "    y = 1 / 0\n",
    "except ZeroDivisionError:\n",
    "    print(\"Zero division!\")\n",
    "except ArithmeticError:\n",
    "    print(\"Arithmetic problem!\")\n",
    "    \n",
    "print(\"THE END.\")"
   ]
  },
  {
   "cell_type": "code",
   "execution_count": 11,
   "metadata": {},
   "outputs": [
    {
     "name": "stdout",
     "output_type": "stream",
     "text": [
      "Arithmetic problem!\n",
      "THE END.\n"
     ]
    }
   ],
   "source": [
    "def badFun(n):\n",
    "    try:\n",
    "        return 1 / n\n",
    "    except ArithmeticError:\n",
    "        print(\"Arithmetic problem!\")\n",
    "    return None\n",
    "\n",
    "badFun(0)\n",
    "print(\"THE END.\")"
   ]
  },
  {
   "cell_type": "code",
   "execution_count": 12,
   "metadata": {},
   "outputs": [
    {
     "name": "stdout",
     "output_type": "stream",
     "text": [
      "Arithmetic problem!\n",
      "THE END.\n"
     ]
    }
   ],
   "source": [
    "def badFun(n):\n",
    "    return 1 / n\n",
    "\n",
    "try:\n",
    "    badFun(0)\n",
    "except ArithmeticError:\n",
    "    print(\"Arithmetic problem!\")\n",
    "\n",
    "print(\"THE END.\")"
   ]
  },
  {
   "cell_type": "code",
   "execution_count": 13,
   "metadata": {},
   "outputs": [
    {
     "name": "stdout",
     "output_type": "stream",
     "text": [
      "Arithmetic problem!\n",
      "THE END.\n"
     ]
    }
   ],
   "source": [
    "def badFun(n):\n",
    "    raise ZeroDivisionError\n",
    "\n",
    "try:\n",
    "    badFun(0)\n",
    "except ArithmeticError:\n",
    "    print(\"Arithmetic problem!\")\n",
    "\n",
    "print(\"THE END.\")"
   ]
  },
  {
   "cell_type": "code",
   "execution_count": 16,
   "metadata": {},
   "outputs": [
    {
     "name": "stdout",
     "output_type": "stream",
     "text": [
      "I did it again..\n",
      "I see!\n",
      "THE END.\n"
     ]
    }
   ],
   "source": [
    "def badFun(n):\n",
    "    try:\n",
    "        return n / 0\n",
    "    except:\n",
    "        print(\"I did it again..\")\n",
    "        raise\n",
    "\n",
    "try:\n",
    "    badFun(0)\n",
    "except ArithmeticError:\n",
    "    print(\"I see!\")\n",
    "\n",
    "print(\"THE END.\")"
   ]
  },
  {
   "cell_type": "markdown",
   "metadata": {},
   "source": [
    "5.1.5.7 The Anatomy of Exceptions | Assert."
   ]
  },
  {
   "cell_type": "code",
   "execution_count": 19,
   "metadata": {},
   "outputs": [
    {
     "name": "stdout",
     "output_type": "stream",
     "text": [
      "Enter a number : 81\n",
      "9.0\n",
      "\n",
      "Enter a number : -1\n"
     ]
    },
    {
     "ename": "AssertionError",
     "evalue": "",
     "output_type": "error",
     "traceback": [
      "\u001b[1;31m---------------------------------------------------------------------------\u001b[0m",
      "\u001b[1;31mAssertionError\u001b[0m                            Traceback (most recent call last)",
      "\u001b[1;32m<ipython-input-19-8650ca34d6a3>\u001b[0m in \u001b[0;36m<module>\u001b[1;34m\u001b[0m\n\u001b[0;32m      4\u001b[0m     \u001b[0mx\u001b[0m \u001b[1;33m=\u001b[0m \u001b[0mfloat\u001b[0m\u001b[1;33m(\u001b[0m\u001b[0minput\u001b[0m\u001b[1;33m(\u001b[0m\u001b[1;34m\"Enter a number : \"\u001b[0m\u001b[1;33m)\u001b[0m\u001b[1;33m)\u001b[0m\u001b[1;33m\u001b[0m\u001b[1;33m\u001b[0m\u001b[0m\n\u001b[0;32m      5\u001b[0m \u001b[1;33m\u001b[0m\u001b[0m\n\u001b[1;32m----> 6\u001b[1;33m     \u001b[1;32massert\u001b[0m \u001b[0mx\u001b[0m \u001b[1;33m>=\u001b[0m \u001b[1;36m0.0\u001b[0m\u001b[1;33m\u001b[0m\u001b[1;33m\u001b[0m\u001b[0m\n\u001b[0m\u001b[0;32m      7\u001b[0m     \u001b[0mx\u001b[0m \u001b[1;33m=\u001b[0m \u001b[0mmath\u001b[0m\u001b[1;33m.\u001b[0m\u001b[0msqrt\u001b[0m\u001b[1;33m(\u001b[0m\u001b[0mx\u001b[0m\u001b[1;33m)\u001b[0m\u001b[1;33m\u001b[0m\u001b[1;33m\u001b[0m\u001b[0m\n\u001b[0;32m      8\u001b[0m \u001b[1;33m\u001b[0m\u001b[0m\n",
      "\u001b[1;31mAssertionError\u001b[0m: "
     ]
    }
   ],
   "source": [
    "import math\n",
    "\n",
    "for i in range(2):\n",
    "    x = float(input(\"Enter a number : \"))\n",
    "    \n",
    "    assert x >= 0.0\n",
    "    x = math.sqrt(x)\n",
    "    \n",
    "    print(x); print()"
   ]
  },
  {
   "cell_type": "markdown",
   "metadata": {},
   "source": [
    "5.1.6.1 Useful Exceptions | Built-in Exception"
   ]
  },
  {
   "cell_type": "code",
   "execution_count": 8,
   "metadata": {},
   "outputs": [
    {
     "name": "stdout",
     "output_type": "stream",
     "text": [
      "Enter integral angle in degrees: 45\n",
      "tan(45) degrees = 0.9999999999999999\n",
      "\n",
      "Enter integral angle in degrees: 180\n",
      "tan(180) degrees = -1.2246467991473532e-16\n",
      "\n",
      "Enter integral angle in degrees: 90\n"
     ]
    },
    {
     "ename": "AssertionError",
     "evalue": "",
     "output_type": "error",
     "traceback": [
      "\u001b[1;31m---------------------------------------------------------------------------\u001b[0m",
      "\u001b[1;31mAssertionError\u001b[0m                            Traceback (most recent call last)",
      "\u001b[1;32m<ipython-input-8-2ca97cc2c0ec>\u001b[0m in \u001b[0;36m<module>\u001b[1;34m\u001b[0m\n\u001b[0;32m      6\u001b[0m \u001b[1;33m\u001b[0m\u001b[0m\n\u001b[0;32m      7\u001b[0m     \u001b[1;31m# We must be sure that angle != 90 + k * 180 karena tan 90 dan 270 = infinity\u001b[0m\u001b[1;33m\u001b[0m\u001b[1;33m\u001b[0m\u001b[1;33m\u001b[0m\u001b[0m\n\u001b[1;32m----> 8\u001b[1;33m     \u001b[1;32massert\u001b[0m \u001b[0mangle\u001b[0m \u001b[1;33m%\u001b[0m \u001b[1;36m180\u001b[0m \u001b[1;33m!=\u001b[0m \u001b[1;36m90\u001b[0m\u001b[1;33m\u001b[0m\u001b[1;33m\u001b[0m\u001b[0m\n\u001b[0m\u001b[0;32m      9\u001b[0m \u001b[1;33m\u001b[0m\u001b[0m\n\u001b[0;32m     10\u001b[0m     \u001b[0mprint\u001b[0m\u001b[1;33m(\u001b[0m\u001b[1;34m\"tan(\"\u001b[0m \u001b[1;33m+\u001b[0m \u001b[0mstr\u001b[0m\u001b[1;33m(\u001b[0m\u001b[0mangle\u001b[0m\u001b[1;33m)\u001b[0m \u001b[1;33m+\u001b[0m \u001b[1;34m\") degrees =\"\u001b[0m\u001b[1;33m,\u001b[0m \u001b[0mtan\u001b[0m\u001b[1;33m(\u001b[0m\u001b[0mradians\u001b[0m\u001b[1;33m(\u001b[0m\u001b[0mangle\u001b[0m\u001b[1;33m)\u001b[0m\u001b[1;33m)\u001b[0m\u001b[1;33m)\u001b[0m\u001b[1;33m;\u001b[0m \u001b[0mprint\u001b[0m\u001b[1;33m(\u001b[0m\u001b[1;33m)\u001b[0m\u001b[1;33m\u001b[0m\u001b[1;33m\u001b[0m\u001b[0m\n",
      "\u001b[1;31mAssertionError\u001b[0m: "
     ]
    }
   ],
   "source": [
    "from math import tan, radians\n",
    "\n",
    "for i in range(3):\n",
    "    \n",
    "    angle = int(input(\"Enter integral angle in degrees: \"))\n",
    "\n",
    "    # We must be sure that angle != 90 + k * 180 karena tan 90 dan 270 = infinity\n",
    "    assert angle % 180 != 90\n",
    "\n",
    "    print(\"tan(\" + str(angle) + \") degrees =\", tan(radians(angle))); print()"
   ]
  },
  {
   "cell_type": "code",
   "execution_count": 10,
   "metadata": {},
   "outputs": [
    {
     "name": "stdout",
     "output_type": "stream",
     "text": [
      "1 2 3 4 5 Done\n"
     ]
    }
   ],
   "source": [
    "# The code shows an extravagant way of leaving the loop\n",
    "\n",
    "list = [1,2,3,4,5]\n",
    "ix = 0\n",
    "doit = True\n",
    "\n",
    "while doit:\n",
    "    try:\n",
    "        print(list[ix], end=\" \")\n",
    "        ix += 1\n",
    "    except IndexError:\n",
    "        doit = False\n",
    "        \n",
    "print(\"Done\")"
   ]
  },
  {
   "cell_type": "code",
   "execution_count": 2,
   "metadata": {},
   "outputs": [
    {
     "name": "stdout",
     "output_type": "stream",
     "text": [
      "0 1 2 3 4 5 6 7 8 9 10 11 12 13 14 15 16 17 18 19 "
     ]
    }
   ],
   "source": [
    "# This code cannot be terminated by pressing Ctrl-C\n",
    "\n",
    "from time import sleep\n",
    "seconds = 0\n",
    "\n",
    "for i in range(20):\n",
    "    try:\n",
    "        print(seconds, end=\" \")\n",
    "        seconds += 1\n",
    "        sleep(1)\n",
    "    except KeyboardInterrupt:\n",
    "        print(\"Don't do that!\")"
   ]
  },
  {
   "cell_type": "code",
   "execution_count": 9,
   "metadata": {},
   "outputs": [
    {
     "name": "stdout",
     "output_type": "stream",
     "text": [
      "2.718281828459045\n",
      "7.38905609893065\n",
      "54.598150033144236\n",
      "2980.9579870417283\n",
      "8886110.520507872\n",
      "78962960182680.69\n",
      "6.235149080811617e+27\n",
      "3.8877084059945954e+55\n",
      "1.5114276650041035e+111\n",
      "2.2844135865397565e+222\n",
      "The number is too big!\n"
     ]
    }
   ],
   "source": [
    "# The code prints subsequent values of exp(k), k = 1,2,4,8,16,...\n",
    "\n",
    "from math import exp\n",
    "ex = 1\n",
    "\n",
    "try:\n",
    "    while True:\n",
    "        print(exp(ex))\n",
    "        ex *= 2\n",
    "except OverflowError:\n",
    "    print(\"The number is too big!\")"
   ]
  },
  {
   "cell_type": "code",
   "execution_count": 11,
   "metadata": {},
   "outputs": [
    {
     "name": "stdout",
     "output_type": "stream",
     "text": [
      "ImportError - One of your imports has failed\n"
     ]
    }
   ],
   "source": [
    "try:\n",
    "    import math\n",
    "    import abracadabra\n",
    "    import time\n",
    "except:\n",
    "    print(\"ImportError - One of your imports has failed\")"
   ]
  },
  {
   "cell_type": "code",
   "execution_count": 12,
   "metadata": {},
   "outputs": [
    {
     "name": "stdout",
     "output_type": "stream",
     "text": [
      "b\n",
      "c\n",
      "d\n",
      "No such key : d\n"
     ]
    }
   ],
   "source": [
    "# How to abuse dictionary and how to deal with it\n",
    "\n",
    "dic = {'a':'b', 'b':'c', 'c':'d'}\n",
    "ch = 'a'\n",
    "\n",
    "try:\n",
    "    while True:\n",
    "        ch = dic[ch]\n",
    "        print(ch)\n",
    "except KeyError:\n",
    "    print('No such key :', ch)"
   ]
  },
  {
   "cell_type": "code",
   "execution_count": 5,
   "metadata": {},
   "outputs": [
    {
     "name": "stdout",
     "output_type": "stream",
     "text": [
      "Enter a number: 11\n",
      "Error: the value is not within permitted range(-10..10)\n",
      "Enter a number: asd\n",
      "Error: wrong input.\n",
      "Enter a number: 12\n",
      "Error: the value is not within permitted range(-10..10)\n",
      "Enter a number: eee\n",
      "Error: wrong input.\n",
      "Enter a number: 8\n",
      "The number is: 8\n"
     ]
    }
   ],
   "source": [
    "prompt = int(input(\"Enter a number: \"))\n",
    "\n",
    "def ifInRange(prompt, minim=-10, maxi=10):\n",
    "    while True:\n",
    "        try:\n",
    "            if prompt in range(minim, maxi+1):\n",
    "                print(\"The number is:\", prompt)\n",
    "                break\n",
    "            else:\n",
    "                print(\"Error: the value is not within permitted range(\" + str(minim) + \"..\" + str(maxi) + \")\")\n",
    "                prompt = int(input(\"Enter a number: \"))\n",
    "        except:\n",
    "            print(\"Error: wrong input.\")\n",
    "            prompt = int(input(\"Enter a number: \"))\n",
    "        \n",
    "ifInRange(prompt)"
   ]
  },
  {
   "cell_type": "markdown",
   "metadata": {},
   "source": [
    "5.1.8.1 The Nature of Strings in Python."
   ]
  },
  {
   "cell_type": "code",
   "execution_count": 10,
   "metadata": {},
   "outputs": [
    {
     "name": "stdout",
     "output_type": "stream",
     "text": [
      "5 17 4\n",
      "Atia Khairuni Can\n",
      "Atia Atia \n"
     ]
    }
   ],
   "source": [
    "str1 = 'Atia '\n",
    "str2 = 'Khairuni '\n",
    "str3 = 'Can'\n",
    "str4 = 'I\\'am'\n",
    "multiLine = '''Line 1 #\n",
    "Line 2 #'''\n",
    "\n",
    "print(len(str1), len(multiLine), len(str4))\n",
    "print(str1 + str2 + str3)\n",
    "print(2 * str1)"
   ]
  },
  {
   "cell_type": "code",
   "execution_count": 18,
   "metadata": {},
   "outputs": [
    {
     "name": "stdout",
     "output_type": "stream",
     "text": [
      "The ordinal of 'a' is 97\n",
      "The ordinal of ' ' is 32\n",
      "\n",
      "The character of 97 is 'a'\n",
      "The character of 32 is ' '\n"
     ]
    }
   ],
   "source": [
    "ch1 = 'a'\n",
    "ch2 = ' '\n",
    "\n",
    "ord1 = ord(ch1)\n",
    "ord2 = ord(ch2)\n",
    "\n",
    "print(\"The ordinal of '\" + str(ch1) + \"' is\", ord1)\n",
    "print(\"The ordinal of '\" + str(ch2) + \"' is\", ord2)\n",
    "print()\n",
    "print(\"The character of\", ord1, \"is '\" + str(ch1) + \"'\")\n",
    "print(\"The character of\", ord2, \"is '\" + str(ch2) + \"'\")"
   ]
  },
  {
   "cell_type": "code",
   "execution_count": 24,
   "metadata": {},
   "outputs": [
    {
     "name": "stdout",
     "output_type": "stream",
     "text": [
      "a\n",
      "α\n",
      "True\n",
      "True\n"
     ]
    }
   ],
   "source": [
    "print(chr(97))\n",
    "print(chr(945))\n",
    "print(chr(ord('x')) == 'x')\n",
    "print(ord(chr(97)) == 97)"
   ]
  },
  {
   "cell_type": "code",
   "execution_count": 32,
   "metadata": {},
   "outputs": [
    {
     "name": "stdout",
     "output_type": "stream",
     "text": [
      "S i l l y   W a l k s \n",
      "S i l l y   J u m p s "
     ]
    }
   ],
   "source": [
    "ex1 = 'Silly Walks'\n",
    "ex2 = 'Silly Jumps'\n",
    "\n",
    "for i in range(len(ex1)):\n",
    "    print(ex1[i], end=\" \")\n",
    "print()   \n",
    "for j in ex2:\n",
    "    print(j, end=\" \")"
   ]
  },
  {
   "cell_type": "code",
   "execution_count": 38,
   "metadata": {},
   "outputs": [
    {
     "name": "stdout",
     "output_type": "stream",
     "text": [
      "bc\n",
      "abc\n",
      "efg\n",
      "aceg\n",
      "be\n",
      "\n",
      "True\n",
      "True\n",
      "False\n",
      "True\n"
     ]
    }
   ],
   "source": [
    "alpha = 'abcdefg'\n",
    "\n",
    "print(alpha[1:3])\n",
    "print(alpha[:3])\n",
    "print(alpha[4:])\n",
    "print(alpha[::2])\n",
    "print(alpha[1::3]); print()\n",
    "print('a' in alpha)\n",
    "print('abc' in alpha)\n",
    "print('ade' in alpha)\n",
    "print('ade' not in alpha)"
   ]
  },
  {
   "cell_type": "code",
   "execution_count": 40,
   "metadata": {},
   "outputs": [
    {
     "ename": "TypeError",
     "evalue": "'str' object doesn't support item deletion",
     "output_type": "error",
     "traceback": [
      "\u001b[1;31m---------------------------------------------------------------------------\u001b[0m",
      "\u001b[1;31mTypeError\u001b[0m                                 Traceback (most recent call last)",
      "\u001b[1;32m<ipython-input-40-84d52124184e>\u001b[0m in \u001b[0;36m<module>\u001b[1;34m\u001b[0m\n\u001b[0;32m      2\u001b[0m \u001b[1;33m\u001b[0m\u001b[0m\n\u001b[0;32m      3\u001b[0m \u001b[0malphabet\u001b[0m \u001b[1;33m=\u001b[0m \u001b[1;34m'abcdefghijklmnopqrstuvwxyz'\u001b[0m\u001b[1;33m\u001b[0m\u001b[1;33m\u001b[0m\u001b[0m\n\u001b[1;32m----> 4\u001b[1;33m \u001b[1;32mdel\u001b[0m \u001b[0malphabet\u001b[0m\u001b[1;33m[\u001b[0m\u001b[1;36m0\u001b[0m\u001b[1;33m]\u001b[0m\u001b[1;33m\u001b[0m\u001b[1;33m\u001b[0m\u001b[0m\n\u001b[0m",
      "\u001b[1;31mTypeError\u001b[0m: 'str' object doesn't support item deletion"
     ]
    }
   ],
   "source": [
    "# String is imutable like tuple\n",
    "\n",
    "alphabet = 'abcdefghijklmnopqrstuvwxyz'\n",
    "del alphabet[0]"
   ]
  },
  {
   "cell_type": "code",
   "execution_count": 41,
   "metadata": {},
   "outputs": [
    {
     "ename": "AttributeError",
     "evalue": "'str' object has no attribute 'insert'",
     "output_type": "error",
     "traceback": [
      "\u001b[1;31m---------------------------------------------------------------------------\u001b[0m",
      "\u001b[1;31mAttributeError\u001b[0m                            Traceback (most recent call last)",
      "\u001b[1;32m<ipython-input-41-4548091777b6>\u001b[0m in \u001b[0;36m<module>\u001b[1;34m\u001b[0m\n\u001b[0;32m      1\u001b[0m \u001b[0malphabet\u001b[0m \u001b[1;33m=\u001b[0m \u001b[1;34m'abcdefghijklmnopqrstuvwxyz'\u001b[0m\u001b[1;33m\u001b[0m\u001b[1;33m\u001b[0m\u001b[0m\n\u001b[1;32m----> 2\u001b[1;33m \u001b[0malphabet\u001b[0m\u001b[1;33m.\u001b[0m\u001b[0minsert\u001b[0m\u001b[1;33m(\u001b[0m\u001b[1;36m0\u001b[0m\u001b[1;33m,\u001b[0m \u001b[1;34m\"A\"\u001b[0m\u001b[1;33m)\u001b[0m\u001b[1;33m\u001b[0m\u001b[1;33m\u001b[0m\u001b[0m\n\u001b[0m",
      "\u001b[1;31mAttributeError\u001b[0m: 'str' object has no attribute 'insert'"
     ]
    }
   ],
   "source": [
    "alphabet = 'abcdefghijklmnopqrstuvwxyz'\n",
    "alphabet.insert(0, \"A\")"
   ]
  },
  {
   "cell_type": "code",
   "execution_count": 42,
   "metadata": {},
   "outputs": [
    {
     "ename": "AttributeError",
     "evalue": "'str' object has no attribute 'append'",
     "output_type": "error",
     "traceback": [
      "\u001b[1;31m---------------------------------------------------------------------------\u001b[0m",
      "\u001b[1;31mAttributeError\u001b[0m                            Traceback (most recent call last)",
      "\u001b[1;32m<ipython-input-42-e24ebe180829>\u001b[0m in \u001b[0;36m<module>\u001b[1;34m\u001b[0m\n\u001b[0;32m      1\u001b[0m \u001b[0malphabet\u001b[0m \u001b[1;33m=\u001b[0m \u001b[1;34m'abcdefghijklmnopqrstuvwxyz'\u001b[0m\u001b[1;33m\u001b[0m\u001b[1;33m\u001b[0m\u001b[0m\n\u001b[1;32m----> 2\u001b[1;33m \u001b[0malphabet\u001b[0m\u001b[1;33m.\u001b[0m\u001b[0mappend\u001b[0m\u001b[1;33m(\u001b[0m\u001b[1;34m\"A\"\u001b[0m\u001b[1;33m)\u001b[0m\u001b[1;33m\u001b[0m\u001b[1;33m\u001b[0m\u001b[0m\n\u001b[0m",
      "\u001b[1;31mAttributeError\u001b[0m: 'str' object has no attribute 'append'"
     ]
    }
   ],
   "source": [
    "alphabet = 'abcdefghijklmnopqrstuvwxyz'\n",
    "alphabet.append(\"A\")"
   ]
  },
  {
   "cell_type": "code",
   "execution_count": 43,
   "metadata": {},
   "outputs": [
    {
     "name": "stdout",
     "output_type": "stream",
     "text": [
      "AabcdefghijklmnopqrstuvwxyzZ\n"
     ]
    }
   ],
   "source": [
    "alphabet = 'abcdefghijklmnopqrstuvwxyz'\n",
    "alphabet = \"A\" + alphabet\n",
    "alphabet = alphabet + \"Z\"\n",
    "print(alphabet)"
   ]
  },
  {
   "cell_type": "code",
   "execution_count": 63,
   "metadata": {},
   "outputs": [
    {
     "name": "stdout",
     "output_type": "stream",
     "text": [
      "Min 'aAbByYzZ' = A\n",
      "Max 'aAbByYzZ' = z\n",
      "Index b = 2\n",
      "Index A = 1\n",
      "\n",
      "Min \"The Knight Who Say 'Ni!'\" = [ ]\n",
      "Max \"The Knight Who Say 'Ni!'\" = [y]\n",
      "\n",
      "Min [11, 7, 9] = 7\n",
      "Max [11, 7, 9] = 11\n"
     ]
    }
   ],
   "source": [
    "print(\"Min 'aAbByYzZ' =\", min('aAbByYzZ'))\n",
    "print(\"Max 'aAbByYzZ' =\", max('aAbByYzZ'))\n",
    "print(\"Index b =\", 'aAbByYzZ'.index('b'))\n",
    "print(\"Index A =\", 'aAbByYzZaA'.index('A'))\n",
    "\n",
    "print()\n",
    "\n",
    "t = \"The Knight Who Say 'Ni!'\"\n",
    "print(\"Min \\\"\" + t + '\\\" = [' + min(t) + ']')\n",
    "print(\"Max \\\"\" + t + '\\\" = [' + max(t) + ']')\n",
    "\n",
    "print()\n",
    "\n",
    "t = [11, 7, 9]\n",
    "print(\"Min\", t, \"=\", min(t))\n",
    "print(\"Max\", t, \"=\", max(t))"
   ]
  },
  {
   "cell_type": "code",
   "execution_count": 55,
   "metadata": {},
   "outputs": [
    {
     "name": "stdout",
     "output_type": "stream",
     "text": [
      "['A', 't', 'i', 'a'] \n",
      "4 2 0\n"
     ]
    }
   ],
   "source": [
    "print(list('Atia'), end=\" \")\n",
    "print()\n",
    "print(('atia'*2).count('a'), end=\" \")\n",
    "print(('atia'*2).count('t'), end=\" \")\n",
    "print(('atia'*2).count('T'))"
   ]
  },
  {
   "cell_type": "markdown",
   "metadata": {},
   "source": [
    "5.1.9.1 String Methods"
   ]
  },
  {
   "cell_type": "code",
   "execution_count": 67,
   "metadata": {},
   "outputs": [
    {
     "name": "stdout",
     "output_type": "stream",
     "text": [
      "Abcd\n",
      "Alpha\n",
      "Alpha\n",
      "123\n",
      "Αβγδ\n"
     ]
    }
   ],
   "source": [
    "print('aBcD'.capitalize())\n",
    "print('Alpha'.capitalize())\n",
    "print('ALPHA'.capitalize())\n",
    "print('123'.capitalize())\n",
    "print('αβγδ'.capitalize())"
   ]
  },
  {
   "cell_type": "code",
   "execution_count": 66,
   "metadata": {},
   "outputs": [
    {
     "name": "stdout",
     "output_type": "stream",
     "text": [
      "α β γ δ\n"
     ]
    }
   ],
   "source": [
    "print(chr(945), chr(946), chr(947), chr(948))"
   ]
  },
  {
   "cell_type": "code",
   "execution_count": 81,
   "metadata": {},
   "outputs": [
    {
     "name": "stdout",
     "output_type": "stream",
     "text": [
      "------------ MY BIODATA -----------\n",
      " Name          : Atia Khairuni Can \n",
      " Date of birth : January, 02 1997  \n",
      " Sex           : Female            \n",
      " Address       : Padang            \n"
     ]
    }
   ],
   "source": [
    "print(' MY BIODATA '.center(35, '-'))\n",
    "print('Name          : Atia Khairuni Can'.center(35))\n",
    "print('Date of birth : January, 02 1997 '.center(35))\n",
    "print('Sex           : Female           '.center(35))\n",
    "print('Address       : Padang           '.center(35))"
   ]
  },
  {
   "cell_type": "code",
   "execution_count": 86,
   "metadata": {},
   "outputs": [
    {
     "name": "stdout",
     "output_type": "stream",
     "text": [
      "True\n",
      "False\n",
      "True\n",
      "False\n",
      "\n",
      "2 0 -1 -1 4\n"
     ]
    }
   ],
   "source": [
    "t = 'epsilon'\n",
    "\n",
    "print(t.endswith('n'))\n",
    "print(t.endswith('N'))\n",
    "print(t.endswith('ilon'))\n",
    "print(t.endswith('silo'))\n",
    "print()\n",
    "print(t.find('sil'), end=\" \")\n",
    "print(t.find('ep'), end=\" \")\n",
    "print(t.find('ion'), end=\" \") # Jika salah maka nilainya -1\n",
    "print(t.find('no'), end=\" \")\n",
    "print(t.find('lon'))"
   ]
  },
  {
   "cell_type": "code",
   "execution_count": 104,
   "metadata": {},
   "outputs": [
    {
     "name": "stdout",
     "output_type": "stream",
     "text": [
      "16\n",
      "191\n",
      "214\n",
      "231\n",
      "\n",
      "4 10 -1 1 1 5\n"
     ]
    }
   ],
   "source": [
    "txt = ''' A variation of the ordianry lorem ipsum text has been used in type setting since 1960s or earlier,\n",
    "when it was popularized by edvertisement for Letraset transfer sheets.It was introduced to the information Age\n",
    "in the mid 1980s by the Aldus Corporation, which employed it in graphics and word-processing templates for its\n",
    "desktop publishing program PageMaker (from Wikipedia)\n",
    "'''\n",
    "\n",
    "fnd = txt.find('the')\n",
    "while fnd != -1:\n",
    "    print(fnd)\n",
    "    fnd = txt.find('the', fnd+1)\n",
    "\n",
    "print() # a.find(b,c,d) b=huruf yang dicari, c=index awal mulai mencari, d=index akhir batas mencari\n",
    "print('kappaatiagamma'.find('a', 4, 5), end=\" \") \n",
    "print('kappaatiagamma'.find('a', 9, 11), end=\" \")\n",
    "print('kappaatiagamma'.find('a', 6, 7), end=\" \")\n",
    "print('kappaatiagamma'.find('a', 1, 5), end=\" \")\n",
    "print('kappaatiagamma'.find('a', 1, 6), end=\" \")\n",
    "print('kappaatiagamma'.find('a', 5, 10))"
   ]
  },
  {
   "cell_type": "code",
   "execution_count": 108,
   "metadata": {},
   "outputs": [
    {
     "name": "stdout",
     "output_type": "stream",
     "text": [
      "True\n",
      "True\n",
      "True\n",
      "False\n",
      "False\n",
      "False\n",
      "False\n",
      "True\n"
     ]
    }
   ],
   "source": [
    "# isalnum = apakah terdiri dari alphabet dan numerik\n",
    "\n",
    "print('atia37'.isalnum())\n",
    "print('atia'.isalnum())\n",
    "print('37'.isalnum())\n",
    "print('@'.isalnum())\n",
    "print('atia_37'.isalnum())\n",
    "print(''.isalnum())\n",
    "print('Six years'.isalnum())\n",
    "print('αβγδ'.isalnum())"
   ]
  },
  {
   "cell_type": "code",
   "execution_count": 114,
   "metadata": {},
   "outputs": [
    {
     "name": "stdout",
     "output_type": "stream",
     "text": [
      "False\n",
      "True\n",
      "True\n",
      "False\n",
      "\n",
      "False\n",
      "True\n",
      "True\n",
      "\n",
      "True\n",
      "True\n",
      "False\n"
     ]
    }
   ],
   "source": [
    "# isalpha, isdigit, islower, isupper, isspace\n",
    "\n",
    "print('atia37'.isalpha())\n",
    "print('Atia'.isalpha())\n",
    "print('37'.isdigit())\n",
    "print('200k'.isdigit()); print()\n",
    "\n",
    "print('Atia'.islower())\n",
    "print('atia'.islower())\n",
    "print('ATIA'.isupper()); print()\n",
    "\n",
    "print(' \\n '.isspace())\n",
    "print(' '.isspace())\n",
    "print('moo moo moo'.isspace())"
   ]
  },
  {
   "cell_type": "code",
   "execution_count": 126,
   "metadata": {},
   "outputs": [
    {
     "name": "stdout",
     "output_type": "stream",
     "text": [
      "Atia_Khairuni_Can\n",
      "age = 23 years old\n",
      "FIGHTHING!\n",
      "\n",
      "Atia   Khairuni  Can\n",
      "cisco.com\n",
      "pythoninstitute.org\n"
     ]
    }
   ],
   "source": [
    "print('_'.join(['Atia', 'Khairuni', 'Can']))\n",
    "print('aGe = 23 Years Old'.lower())\n",
    "print('fighthing!'.upper())\n",
    "\n",
    "print()\n",
    "\n",
    "print('   Atia   Khairuni  Can'.lstrip())\n",
    "print('www.cisco.com'.lstrip('w.'))\n",
    "print('pythoninstitute.org'.lstrip('.org'))"
   ]
  },
  {
   "cell_type": "code",
   "execution_count": 130,
   "metadata": {},
   "outputs": [
    {
     "name": "stdout",
     "output_type": "stream",
     "text": [
      "www.cisco.com\n",
      "Apple\n",
      "Thare is it!\n",
      "Thare are it!\n"
     ]
    }
   ],
   "source": [
    "print('www.netacad.com'.replace('netacad', 'cisco'))\n",
    "print('Apple juice'.replace(' juice', ''))\n",
    "print('This is it!'.replace('is', 'are', 1))\n",
    "print('This is it!'.replace('is', 'are', 2))"
   ]
  },
  {
   "cell_type": "code",
   "execution_count": 133,
   "metadata": {},
   "outputs": [
    {
     "name": "stdout",
     "output_type": "stream",
     "text": [
      "8\n",
      "-1\n",
      "4\n"
     ]
    }
   ],
   "source": [
    "print('tau tau tau'.rfind('ta'))\n",
    "print('tau tau tau'.rfind('ta', 9))\n",
    "print('tau tau tau'.rfind('ta', 3, 9))"
   ]
  },
  {
   "cell_type": "code",
   "execution_count": 145,
   "metadata": {},
   "outputs": [
    {
     "name": "stdout",
     "output_type": "stream",
     "text": [
      "[  apsilon]\n",
      "cis\n",
      "atia.\n",
      "atia\n",
      "at\n"
     ]
    }
   ],
   "source": [
    "print('[' + '  apsilon   '.rstrip() + ']')\n",
    "print('cisco.com'.rstrip('.com'))\n",
    "print('atia.ia'.rstrip('ia'))\n",
    "print('atia.org'.rstrip('.org'))\n",
    "print('atrg.org'.rstrip('.org'))"
   ]
  },
  {
   "cell_type": "code",
   "execution_count": 148,
   "metadata": {},
   "outputs": [
    {
     "name": "stdout",
     "output_type": "stream",
     "text": [
      "['Atia', 'Khairuni', 'Can']\n",
      "\n",
      "False\n",
      "True\n",
      "[Omega]\n"
     ]
    }
   ],
   "source": [
    "print('Atia    Khairuni \\n Can'.split())\n",
    "print()\n",
    "print('Omega'.startswith('meg'))\n",
    "print('Omega'.startswith('Om'))\n",
    "print('[' + '     Omega     '.strip() + ']')"
   ]
  },
  {
   "cell_type": "code",
   "execution_count": 152,
   "metadata": {},
   "outputs": [
    {
     "name": "stdout",
     "output_type": "stream",
     "text": [
      "i kNOW tHAT i kNOW nOTHING\n",
      "I Know That I Know Nothing. Part 1\n",
      "I KNOW THAT I KNOW NOTHING. PART 2\n"
     ]
    }
   ],
   "source": [
    "print('I Know That I Know Nothing'.swapcase())\n",
    "print('I KNOW THAT I KNOW NOTHING. Part 1'.title())\n",
    "print('I Know That I Know Nothing. Part 2'.upper())"
   ]
  },
  {
   "cell_type": "code",
   "execution_count": 153,
   "metadata": {},
   "outputs": [
    {
     "name": "stdout",
     "output_type": "stream",
     "text": [
      "['To', 'be', 'or', 'not', 'to', 'be,', 'that', 'is', 'the', 'question']\n",
      "['To', 'be', 'or', 'not', 'to', 'be,that', 'is', 'the', 'question']\n",
      "[]\n",
      "['abc']\n",
      "[]\n"
     ]
    }
   ],
   "source": [
    "def mySplit(string):\n",
    "    return string.split()\n",
    "\n",
    "print(mySplit(\"To be or not to be, that is the question\"))\n",
    "print(mySplit(\"To be or not to be,that is the question\"))\n",
    "print(mySplit(\"  \"))\n",
    "print(mySplit(\" abc \"))\n",
    "print(mySplit(\"\"))"
   ]
  },
  {
   "cell_type": "markdown",
   "metadata": {},
   "source": [
    "5.1.10 String in Action"
   ]
  },
  {
   "cell_type": "code",
   "execution_count": 3,
   "metadata": {},
   "outputs": [
    {
     "name": "stdout",
     "output_type": "stream",
     "text": [
      "True\n",
      "True\n",
      "True\n",
      "True\n",
      "\n",
      "False\n",
      "True\n",
      "False\n",
      "True\n",
      "True\n"
     ]
    }
   ],
   "source": [
    "print('alpha' == 'alpha')\n",
    "print('alpha' != 'Alpha')\n",
    "print('alpha' < 'lphabet')\n",
    "print('beta' > 'Beta')\n",
    "print()\n",
    "print('10' == '010')\n",
    "print('10' > '010')\n",
    "print('10' > 'B')\n",
    "print('20' < 'B')\n",
    "print('20' < 'B0')"
   ]
  },
  {
   "cell_type": "code",
   "execution_count": 4,
   "metadata": {},
   "outputs": [
    {
     "name": "stdout",
     "output_type": "stream",
     "text": [
      "False\n",
      "True\n",
      "False\n",
      "True\n",
      "TypeError Exception\n"
     ]
    }
   ],
   "source": [
    "try:\n",
    "    print('10' == 10)\n",
    "    print('10' != 10)\n",
    "    print('10' == 1)\n",
    "    print('10' != 1)\n",
    "    print('10' > 10)\n",
    "except:\n",
    "    print('TypeError Exception')"
   ]
  },
  {
   "cell_type": "code",
   "execution_count": 5,
   "metadata": {},
   "outputs": [
    {
     "name": "stdout",
     "output_type": "stream",
     "text": [
      "['omega', 'alpha', 'pi', 'gamma']\n",
      "['alpha', 'gamma', 'omega', 'pi']\n",
      "\n",
      "['omega', 'alpha', 'pi', 'gamma']\n",
      "['alpha', 'gamma', 'omega', 'pi']\n"
     ]
    }
   ],
   "source": [
    "first = ['omega', 'alpha', 'pi', 'gamma']\n",
    "first2 = sorted(first)\n",
    "print(first)\n",
    "print(first2); print()\n",
    "\n",
    "second = ['omega', 'alpha', 'pi', 'gamma']\n",
    "print(second)\n",
    "second.sort()\n",
    "print(second)"
   ]
  },
  {
   "cell_type": "code",
   "execution_count": 8,
   "metadata": {},
   "outputs": [
    {
     "name": "stdout",
     "output_type": "stream",
     "text": [
      "13 1.3\n",
      "14.3\n"
     ]
    }
   ],
   "source": [
    "itg = 13\n",
    "flt = 1.3\n",
    "si = str(itg)\n",
    "sf = str(flt)\n",
    "print(si + \" \" + sf)\n",
    "\n",
    "si = '13'\n",
    "sf = '1.3'\n",
    "itg = int(si)\n",
    "flt = float(sf)\n",
    "print(itg + flt)"
   ]
  },
  {
   "cell_type": "code",
   "execution_count": 1,
   "metadata": {},
   "outputs": [
    {
     "name": "stdout",
     "output_type": "stream",
     "text": [
      "Enter a number: a\n",
      "Wrong input!\n",
      "Enter a number: 12\n"
     ]
    }
   ],
   "source": [
    "# ed = [\n",
    "#     [\"#\",  \"###\",  \"###\",  \"# #\",  \"###\",  \"###\",  \"###\",  \"###\",  \"###\",  \"###\"],\n",
    "#     [\"#\",  \"  #\",  \"  #\",  \"# #\",  \"#  \",  \"#  \",  \"  #\",  \"# #\",  \"# #\",  \"# #\"],\n",
    "#     [\"#\",  \"###\",  \"###\",  \"###\",  \"###\",  \"###\",  \"  #\",  \"###\",  \"###\",  \"# #\"],\n",
    "#     [\"#\",  \"#  \",  \"  #\",  \"  #\",  \"  #\",  \"# #\",  \"  #\",  \"# #\",  \"  #\",  \"# #\"],\n",
    "#     [\"#\",  \"###\",  \"###\",  \"  #\",  \"###\",  \"###\",  \"  #\",  \"###\",  \"###\",  \"###\"]\n",
    "# ]\n",
    "\n",
    "led = [\n",
    "    ['#','#','#','#','#'],           ['###','  #','###','#  ','###'], ['###','  #','###','  #','###'],\n",
    "    ['# #','# #','###','  #','  #'], ['###','#  ','###','  #','###'], ['###','#  ','###','# #','###'],\n",
    "    ['###','  #','  #','  #','  #'], ['###','# #','###','# #','###'], ['###','# #','###','  #','###'],\n",
    "    ['###','# #','# #','# #','###']\n",
    "]\n",
    "\n",
    "# for j in range(5):\n",
    "value = input(\"Enter a number: \")\n",
    "try:\n",
    "    for i in range(5):\n",
    "        for item in value:\n",
    "            print(led[int(item)-1][i], end=\" \")\n",
    "        print()\n",
    "except:\n",
    "    print(\"Wrong input!\")\n",
    "    value = input(\"Enter a number: \")\n",
    "#     print()\n",
    "        "
   ]
  },
  {
   "cell_type": "markdown",
   "metadata": {},
   "source": [
    "5.1.11.1 Four Simple Programs | Encrypting a Message"
   ]
  },
  {
   "cell_type": "code",
   "execution_count": 8,
   "metadata": {},
   "outputs": [
    {
     "name": "stdout",
     "output_type": "stream",
     "text": [
      "Enter your message: AVE CAESAR\n",
      "BWFDBFTBS\n",
      "Enter your message: 123\n",
      "\n",
      "Enter your message: Atia037\n",
      "BUJB\n",
      "Enter your message: Atia Khairuni Can\n",
      "BUJBLIBJSVOJDBO\n",
      "Enter your message: ave caesar\n",
      "BWFDBFTBS\n"
     ]
    }
   ],
   "source": [
    "for rpt in range(5):\n",
    "\n",
    "    message = input(\"Enter your message: \")\n",
    "    chiper = ''\n",
    "\n",
    "    for char in message:\n",
    "        if not char.isalpha():\n",
    "            continue\n",
    "        char = char.upper()\n",
    "        code = ord(char) + 1\n",
    "        if code > ord('Z'):\n",
    "            code = ord('A')\n",
    "        chiper += chr(code)\n",
    "\n",
    "    print(chiper)"
   ]
  },
  {
   "cell_type": "code",
   "execution_count": 1,
   "metadata": {},
   "outputs": [
    {
     "name": "stdout",
     "output_type": "stream",
     "text": [
      "Enter your message: BWFDBFTBS\n",
      "AVECAESAR\n",
      "Enter your message: BUJBLIBJSVOJDBO\n",
      "ATIAKHAIRUNICAN\n",
      "Enter your message: bwfdbftbs\n",
      "AVECAESAR\n",
      "Enter your message: bujb037\n",
      "ATIA\n",
      "Enter your message: mjdf hjsmt\n",
      "LICEGIRLS\n"
     ]
    }
   ],
   "source": [
    "for rpt in range(5):\n",
    "\n",
    "    chiper = input(\"Enter your message: \")\n",
    "    message = ''\n",
    "\n",
    "    for charr in chiper:\n",
    "        if not charr.isalpha():\n",
    "            continue\n",
    "        charr = charr.upper()\n",
    "        code = ord(charr) - 1\n",
    "        if code < ord('A'):\n",
    "            code = ord('Z')\n",
    "        message += chr(code)\n",
    "\n",
    "    print(message)"
   ]
  },
  {
   "cell_type": "code",
   "execution_count": 7,
   "metadata": {},
   "outputs": [
    {
     "name": "stdout",
     "output_type": "stream",
     "text": [
      "Enter a line of numbers - separate them with spaces: 123 456\n",
      "The total is: 579.0\n"
     ]
    }
   ],
   "source": [
    "line = input(\"Enter a line of numbers - separate them with spaces: \")\n",
    "strings = line.split()\n",
    "total = 0\n",
    "\n",
    "try:\n",
    "    for substr in strings:\n",
    "        total += float(substr)\n",
    "    print(\"The total is:\", total)\n",
    "except:\n",
    "    print(substr, \"is not aa number\")"
   ]
  },
  {
   "cell_type": "code",
   "execution_count": 9,
   "metadata": {},
   "outputs": [
    {
     "name": "stdout",
     "output_type": "stream",
     "text": [
      "Enter your IBAN, please: GB12 CPBK 0892 9965 0449 91\n",
      "IBAN entered is valid.\n",
      "Enter your IBAN, please: NL69 PSTB 0001 2345 67\n",
      "IBAN entered is valid.\n",
      "Enter your IBAN, please: BE62 5100 0754 7061\n",
      "IBAN entered is valid.\n",
      "Enter your IBAN, please: DE89 3704 0044 0532 0130 00\n",
      "IBAN entered is valid.\n"
     ]
    }
   ],
   "source": [
    "# IBAN Validator\n",
    "\n",
    "for i in range(4):\n",
    "    iban = input(\"Enter your IBAN, please: \")\n",
    "    iban = iban.replace(' ','')\n",
    "\n",
    "    if not iban.isalnum():\n",
    "        print(\"You have entered invalid characters.\")\n",
    "    elif len(iban) < 15:\n",
    "        print(\"IBAN entered is too short.\")\n",
    "    elif len(iban) > 31:\n",
    "        print(\"IBAN entered is too long.\")\n",
    "    else:\n",
    "        iban = (iban[4:] + iban[:4]).upper()\n",
    "        iban2 = ''\n",
    "        for ch in iban:\n",
    "            if ch.isdigit():\n",
    "                iban2 += ch\n",
    "            else:\n",
    "                iban2 += str(10 + ord(ch) - ord('A'))\n",
    "\n",
    "        ibann = int(iban2)\n",
    "        if ibann % 97 == 1:\n",
    "            print(\"IBAN entered is valid.\")\n",
    "        else:\n",
    "            print(\"IBAN entered is invalid.\")"
   ]
  },
  {
   "cell_type": "markdown",
   "metadata": {},
   "source": [
    "LAB:5.1.11.6. Improving The Caesar Chiper."
   ]
  },
  {
   "cell_type": "code",
   "execution_count": 8,
   "metadata": {},
   "outputs": [
    {
     "name": "stdout",
     "output_type": "stream",
     "text": [
      "Enter the data you want to encrypt: Atia037\n",
      "Enter the shift of encrypt: a\n",
      "Something wrong - input the right shift.\n",
      "Enter the data you want to encrypt: The die is cast\n",
      "Enter the shift of encrypt: 25\n",
      "Sgd chd hr bzrs\n"
     ]
    }
   ],
   "source": [
    "chiper = \"\"\n",
    "\n",
    "while True:\n",
    "    try:\n",
    "        txt = input(\"Enter the data you want to encrypt: \")\n",
    "        shift = int(input(\"Enter the shift of encrypt: \"))\n",
    "        \n",
    "        for char in txt:\n",
    "            if char.isalpha():\n",
    "                code = ord(char) + shift\n",
    "                if char.islower():\n",
    "                    if code > ord(\"z\"):\n",
    "                        code -= 26\n",
    "                    elif code < ord(\"a\"):\n",
    "                        code += 26\n",
    "                else:\n",
    "                    if code > ord(\"Z\"):\n",
    "                        code -= 26\n",
    "                    elif code < ord(\"A\"):\n",
    "                        code += 26\n",
    "\n",
    "                chiper += chr(code)\n",
    "            else:\n",
    "                chiper += char\n",
    "\n",
    "        print(chiper)\n",
    "        break\n",
    "        \n",
    "    except:\n",
    "        print(\"Something wrong - input the right shift.\")"
   ]
  },
  {
   "cell_type": "code",
   "execution_count": 14,
   "metadata": {},
   "outputs": [
    {
     "name": "stdout",
     "output_type": "stream",
     "text": [
      "Enter a paragraph: Ten animals i slam in a net\n",
      "It's a palindrome\n"
     ]
    }
   ],
   "source": [
    "letter = input(\"Enter a paragraph: \")\n",
    "\n",
    "letter = letter.upper()\n",
    "letter = letter.split()\n",
    "\n",
    "for item in letter:\n",
    "    item2 = ''\n",
    "    for i in item[::-1]:\n",
    "        item2 += i\n",
    "\n",
    "count = 0    \n",
    "for item in letter:\n",
    "    if item == item2:\n",
    "        count += 1\n",
    "        \n",
    "if count != 0:\n",
    "    print(\"It's a palindrome\")\n",
    "else:\n",
    "    print(\"It's not a palindrome\")\n",
    "            "
   ]
  },
  {
   "cell_type": "code",
   "execution_count": 20,
   "metadata": {},
   "outputs": [
    {
     "name": "stdout",
     "output_type": "stream",
     "text": [
      "Enter the first word: liste\n",
      "Enter the second word: silent\n",
      "Not anagrams\n"
     ]
    }
   ],
   "source": [
    "txt1 = input(\"Enter the first word: \")\n",
    "txt2 = input(\"Enter the second word: \")\n",
    "\n",
    "ctn = 0\n",
    "for char1 in txt1:\n",
    "    for char2 in txt2:\n",
    "        if char1 == char2:\n",
    "            ctn += 1\n",
    "\n",
    "if txt1 > txt2:\n",
    "    a = txt1\n",
    "else:\n",
    "    a = txt2\n",
    "\n",
    "if ctn == len(a):\n",
    "    print(\"Anagrams\")\n",
    "else:\n",
    "    print(\"Not anagrams\")"
   ]
  },
  {
   "cell_type": "code",
   "execution_count": 2,
   "metadata": {},
   "outputs": [
    {
     "name": "stdout",
     "output_type": "stream",
     "text": [
      "Enter your birthday (no space and just number): 199721\n",
      "Format in YYYYDDMM or YYYYMMDD or DDMMYYYY\n",
      "Enter your birthday (no space and just number): 199702011\n",
      "Format in YYYYDDMM or YYYYMMDD or DDMMYYYY\n",
      "Enter your birthday (no space and just number): 1997020a\n",
      "Something wrong!\n",
      "Enter your birthday (no space and just number): 19970201\n",
      "2\n"
     ]
    }
   ],
   "source": [
    "while True:\n",
    "    try:\n",
    "        birth = input(\"Enter your birthday (no space and just number): \")\n",
    "        total = 0\n",
    "        totals = 0\n",
    "        totalss = 0\n",
    "        \n",
    "        if len(birth) == 8:\n",
    "            for num in birth:\n",
    "                total += int(num)\n",
    "            total = str(total)\n",
    "            for num2 in total:\n",
    "                totals += int(num2)\n",
    "            totals = str(totals)\n",
    "            for num3 in totals:\n",
    "                totalss += int(num3)\n",
    "            print(totalss)\n",
    "            break\n",
    "        else:\n",
    "            print(\"Format in YYYYDDMM or YYYYMMDD or DDMMYYYY\")\n",
    "    except:\n",
    "        print(\"Something wrong!\")"
   ]
  },
  {
   "cell_type": "code",
   "execution_count": 6,
   "metadata": {},
   "outputs": [
    {
     "name": "stdout",
     "output_type": "stream",
     "text": [
      "Enter the key word: donut\n",
      "Enter the word: Nabucodonosor\n",
      "No\n"
     ]
    }
   ],
   "source": [
    "key = input(\"Enter the key word: \")\n",
    "word = input(\"Enter the word: \")\n",
    "item2 = ''\n",
    "\n",
    "for item1 in key:\n",
    "    word.find(item1)\n",
    "    if item1 in word:\n",
    "        item2 += item1\n",
    "        \n",
    "if key == item2:\n",
    "    print(\"Yes\")\n",
    "else:\n",
    "    print(\"No\")"
   ]
  },
  {
   "cell_type": "code",
   "execution_count": null,
   "metadata": {},
   "outputs": [],
   "source": []
  }
 ],
 "metadata": {
  "kernelspec": {
   "display_name": "Python 3",
   "language": "python",
   "name": "python3"
  },
  "language_info": {
   "codemirror_mode": {
    "name": "ipython",
    "version": 3
   },
   "file_extension": ".py",
   "mimetype": "text/x-python",
   "name": "python",
   "nbconvert_exporter": "python",
   "pygments_lexer": "ipython3",
   "version": "3.7.6"
  }
 },
 "nbformat": 4,
 "nbformat_minor": 4
}
