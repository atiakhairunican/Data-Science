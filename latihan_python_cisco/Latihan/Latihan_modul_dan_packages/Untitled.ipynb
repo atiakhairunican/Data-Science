{
 "cells": [
  {
   "cell_type": "code",
   "execution_count": 11,
   "metadata": {},
   "outputs": [
    {
     "name": "stdout",
     "output_type": "stream",
     "text": [
      "Akar-akar Persamaan Kuadrat\n",
      "Something error!\n",
      "Akar-akar Persamaan Kuadrat\n",
      "akar-akar imajiner, exitting...\n",
      "Something error!\n",
      "Akar-akar Persamaan Kuadrat\n",
      "akar-akar imajiner, exitting...\n",
      "Something error!\n",
      "Akar-akar Persamaan Kuadrat\n",
      "akar-akar imajiner, exitting...\n",
      "Something error!\n",
      "Akar-akar Persamaan Kuadrat\n",
      "akar-akar imajiner, exitting...\n",
      "Something error!\n",
      "Akar-akar Persamaan Kuadrat\n",
      "akar-akar imajiner, exitting...\n",
      "Something error!\n",
      "Akar-akar Persamaan Kuadrat\n",
      "akar-akar imajiner, exitting...\n",
      "Something error!\n",
      "Akar-akar Persamaan Kuadrat\n",
      "akar-akar imajiner, exitting...\n",
      "Something error!\n",
      "Akar-akar Persamaan Kuadrat\n",
      "akar-akar imajiner, exitting...\n",
      "Something error!\n"
     ]
    }
   ],
   "source": [
    "import sys\n",
    "import os\n",
    "import math\n",
    "# from sympy import symbols\n",
    "# m = symbols('m')\n",
    "\n",
    "def main(m):\n",
    "    # Menampilkan judul program\n",
    "    print (\"Akar-akar Persamaan Kuadrat\")\n",
    "\n",
    "    # Meminta user memasukkan a b c\n",
    "    a = 1\n",
    "    b = m*(3*m-1) / 2*(m-1)\n",
    "    c = (-3/2)*(m**2) + m\n",
    "#     a = int(input(\"\\nMasukkan nilai a: \"))\n",
    "#     b = int(input(\"Masukkan nilai b: \"))\n",
    "#     c = int(input(\"Masukkan nilai c: \"))\n",
    "\n",
    "    # Hitung D\n",
    "    D = (b*b) - (4*a*c)\n",
    "\n",
    "    if D < 0:\n",
    "        print (\"akar-akar imajiner, exitting...\")\n",
    "        sys.exit(1) #exit program\n",
    "\n",
    "    elif D == 0:\n",
    "        x1 = (-b + math.sqrt(D)) / (2*a)\n",
    "        x1 = x2\n",
    "\n",
    "    else:\n",
    "        x1 = (-b + math.sqrt(D)) / (2*a)\n",
    "        x2 = (-b - math.sqrt(D)) / (2*a) \n",
    "\n",
    "    # Setelah nilai D dan akar-akar didapat, tampilkan hasil\n",
    "    print (\"\\nx1 = %d\" %x1)\n",
    "    print (\"x2 = %d\" %x2)\n",
    "\n",
    "    os.system(\"pause\")\n",
    "\n",
    "if __name__ == \"__main__\":\n",
    "    lst = [0, 1/3, 1/4, 1/5, 1/6, 1/7, 1/8, 1/9, 1/10]\n",
    "    for i in lst:\n",
    "        try:\n",
    "            main(i)\n",
    "        except:\n",
    "            print('Something error!')\n"
   ]
  },
  {
   "cell_type": "code",
   "execution_count": null,
   "metadata": {},
   "outputs": [],
   "source": []
  }
 ],
 "metadata": {
  "kernelspec": {
   "display_name": "Python 3",
   "language": "python",
   "name": "python3"
  },
  "language_info": {
   "codemirror_mode": {
    "name": "ipython",
    "version": 3
   },
   "file_extension": ".py",
   "mimetype": "text/x-python",
   "name": "python",
   "nbconvert_exporter": "python",
   "pygments_lexer": "ipython3",
   "version": "3.7.6"
  }
 },
 "nbformat": 4,
 "nbformat_minor": 4
}
