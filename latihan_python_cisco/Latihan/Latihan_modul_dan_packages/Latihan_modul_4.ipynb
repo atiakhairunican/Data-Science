{
 "cells": [
  {
   "cell_type": "markdown",
   "metadata": {},
   "source": [
    "4.1.2.8 EXCERCISE"
   ]
  },
  {
   "cell_type": "code",
   "execution_count": 7,
   "metadata": {},
   "outputs": [
    {
     "name": "stdout",
     "output_type": "stream",
     "text": [
      "My name is  Bond. James Bond.\n",
      "My name is  Bond . James Bond .\n"
     ]
    }
   ],
   "source": [
    "def intro(firstN = \"James Bond\", lastN = \"Bond\"):\n",
    "    print(\"My name is \", lastN + \".\", firstN + \".\")\n",
    "    print(\"My name is \", lastN, \".\", firstN, \".\")\n",
    "\n",
    "intro()"
   ]
  },
  {
   "cell_type": "code",
   "execution_count": 11,
   "metadata": {},
   "outputs": [
    {
     "name": "stdout",
     "output_type": "stream",
     "text": [
      "My name is  Sean Connery. James Bond.\n"
     ]
    }
   ],
   "source": [
    "def intro(a = \"James Bond\", b = \"Bond\"):\n",
    "    print(\"My name is \", b + \".\", a + \".\")\n",
    "    \n",
    "intro(b = \"Sean Connery\")"
   ]
  },
  {
   "cell_type": "code",
   "execution_count": 12,
   "metadata": {},
   "outputs": [
    {
     "name": "stdout",
     "output_type": "stream",
     "text": [
      "My name is  Bond. Susan.\n"
     ]
    }
   ],
   "source": [
    "def intro(a, b = \"Bond\"):\n",
    "    print(\"My name is \", b + \".\", a + \".\")\n",
    "    \n",
    "intro(\"Susan\")"
   ]
  },
  {
   "cell_type": "code",
   "execution_count": 16,
   "metadata": {},
   "outputs": [
    {
     "ename": "SyntaxError",
     "evalue": "non-default argument follows default argument (<ipython-input-16-a089aa46739d>, line 1)",
     "output_type": "error",
     "traceback": [
      "\u001b[1;36m  File \u001b[1;32m\"<ipython-input-16-a089aa46739d>\"\u001b[1;36m, line \u001b[1;32m1\u001b[0m\n\u001b[1;33m    def sum(a, b=2, c):\u001b[0m\n\u001b[1;37m           ^\u001b[0m\n\u001b[1;31mSyntaxError\u001b[0m\u001b[1;31m:\u001b[0m non-default argument follows default argument\n"
     ]
    }
   ],
   "source": [
    "def sum(a, b=2, c):\n",
    "    print(a + b + c)\n",
    "\n",
    "sum(a=1, b, c=3);print()\n",
    "sum(a=1, c=3)"
   ]
  },
  {
   "cell_type": "code",
   "execution_count": 26,
   "metadata": {},
   "outputs": [
    {
     "name": "stdout",
     "output_type": "stream",
     "text": [
      "9\n",
      "6\n",
      "8\n",
      "4\n",
      "7\n"
     ]
    }
   ],
   "source": [
    "def sum(a, b=2, c=1):\n",
    "    print(a + b + c)\n",
    "\n",
    "sum(1, 5, 3)\n",
    "sum(a=1, c=3)\n",
    "sum(1, c=5)\n",
    "sum(a=1)\n",
    "sum(b=4, a=2)"
   ]
  },
  {
   "cell_type": "markdown",
   "metadata": {},
   "source": [
    "4.1.3.1 Returning a Result From a Function"
   ]
  },
  {
   "cell_type": "code",
   "execution_count": 36,
   "metadata": {},
   "outputs": [
    {
     "name": "stdout",
     "output_type": "stream",
     "text": [
      "Three...\n",
      "Two...\n",
      "One...\n",
      "Happy New Year!\n"
     ]
    }
   ],
   "source": [
    "def happyNewYear(wishes=True):\n",
    "    print(\"Three...\")\n",
    "    print(\"Two...\")\n",
    "    print(\"One...\")\n",
    "    if not wishes:\n",
    "        return\n",
    "    print(\"Happy New Year!\")\n",
    "\n",
    "happyNewYear()"
   ]
  },
  {
   "cell_type": "code",
   "execution_count": 35,
   "metadata": {},
   "outputs": [
    {
     "name": "stdout",
     "output_type": "stream",
     "text": [
      "Three...\n",
      "Two...\n",
      "One...\n"
     ]
    }
   ],
   "source": [
    "def happyNewYear(wishes=True):\n",
    "    print(\"Three...\")\n",
    "    print(\"Two...\")\n",
    "    print(\"One...\")\n",
    "    if not wishes:\n",
    "        return\n",
    "    print(\"Happy New Year!\")\n",
    "    \n",
    "happyNewYear(False)"
   ]
  },
  {
   "cell_type": "code",
   "execution_count": 37,
   "metadata": {},
   "outputs": [
    {
     "name": "stdout",
     "output_type": "stream",
     "text": [
      "Three...\n",
      "Two...\n",
      "One...\n",
      "Happy New Year!\n"
     ]
    }
   ],
   "source": [
    "def happyNewYear(wishes=True):\n",
    "    print(\"Three...\")\n",
    "    print(\"Two...\")\n",
    "    print(\"One...\")\n",
    "    if not wishes:\n",
    "        return\n",
    "    print(\"Happy New Year!\")\n",
    "\n",
    "happyNewYear(True)"
   ]
  },
  {
   "cell_type": "code",
   "execution_count": 42,
   "metadata": {},
   "outputs": [
    {
     "name": "stdout",
     "output_type": "stream",
     "text": [
      "The boring function has returned its result. it's:  123\n"
     ]
    }
   ],
   "source": [
    "def boringFunction():\n",
    "    return 123\n",
    "\n",
    "x = boringFunction()\n",
    "print(\"The boring function has returned its result. it's: \", x)"
   ]
  },
  {
   "cell_type": "code",
   "execution_count": 43,
   "metadata": {},
   "outputs": [
    {
     "name": "stdout",
     "output_type": "stream",
     "text": [
      "This lesson is interesting!\n",
      "'Boredom Mode'. ON\n",
      "This lesson is boring...\n"
     ]
    }
   ],
   "source": [
    "def boringFunction():\n",
    "    print(\"'Boredom Mode'. ON\")\n",
    "    return 123\n",
    "\n",
    "print(\"This lesson is interesting!\")\n",
    "boringFunction()\n",
    "print(\"This lesson is boring...\")"
   ]
  },
  {
   "cell_type": "markdown",
   "metadata": {},
   "source": [
    "4.1.3.2 Returning a Result From a Function"
   ]
  },
  {
   "cell_type": "code",
   "execution_count": 46,
   "metadata": {},
   "outputs": [
    {
     "name": "stdout",
     "output_type": "stream",
     "text": [
      "Sorry, you don't carry any value\n",
      "\n"
     ]
    },
    {
     "ename": "TypeError",
     "evalue": "unsupported operand type(s) for +: 'NoneType' and 'int'",
     "output_type": "error",
     "traceback": [
      "\u001b[1;31m---------------------------------------------------------------------------\u001b[0m",
      "\u001b[1;31mTypeError\u001b[0m                                 Traceback (most recent call last)",
      "\u001b[1;32m<ipython-input-46-0b325dcfb8ed>\u001b[0m in \u001b[0;36m<module>\u001b[1;34m\u001b[0m\n\u001b[0;32m      5\u001b[0m \u001b[1;33m\u001b[0m\u001b[0m\n\u001b[0;32m      6\u001b[0m \u001b[0mprint\u001b[0m\u001b[1;33m(\u001b[0m\u001b[1;33m)\u001b[0m\u001b[1;33m\u001b[0m\u001b[1;33m\u001b[0m\u001b[0m\n\u001b[1;32m----> 7\u001b[1;33m \u001b[0mprint\u001b[0m\u001b[1;33m(\u001b[0m\u001b[1;32mNone\u001b[0m \u001b[1;33m+\u001b[0m \u001b[1;36m2\u001b[0m\u001b[1;33m)\u001b[0m\u001b[1;33m\u001b[0m\u001b[1;33m\u001b[0m\u001b[0m\n\u001b[0m",
      "\u001b[1;31mTypeError\u001b[0m: unsupported operand type(s) for +: 'NoneType' and 'int'"
     ]
    }
   ],
   "source": [
    "value = None\n",
    "\n",
    "if value == None:\n",
    "    print(\"Sorry, you don't carry any value\")\n",
    "\n",
    "print()    \n",
    "print(None + 2)"
   ]
  },
  {
   "cell_type": "code",
   "execution_count": 48,
   "metadata": {},
   "outputs": [
    {
     "name": "stdout",
     "output_type": "stream",
     "text": [
      "True\n",
      "None\n"
     ]
    }
   ],
   "source": [
    "def strangeFunction(n):\n",
    "    if n % 2 == 0:\n",
    "        return True\n",
    "    \n",
    "print(strangeFunction(2))\n",
    "print(strangeFunction(1))"
   ]
  },
  {
   "cell_type": "code",
   "execution_count": 52,
   "metadata": {},
   "outputs": [
    {
     "name": "stdout",
     "output_type": "stream",
     "text": [
      "16\n",
      "5\n"
     ]
    },
    {
     "ename": "TypeError",
     "evalue": "'int' object is not iterable",
     "output_type": "error",
     "traceback": [
      "\u001b[1;31m---------------------------------------------------------------------------\u001b[0m",
      "\u001b[1;31mTypeError\u001b[0m                                 Traceback (most recent call last)",
      "\u001b[1;32m<ipython-input-52-ab712bcd5a80>\u001b[0m in \u001b[0;36m<module>\u001b[1;34m\u001b[0m\n\u001b[0;32m      7\u001b[0m \u001b[0mprint\u001b[0m\u001b[1;33m(\u001b[0m\u001b[0msumOfList\u001b[0m\u001b[1;33m(\u001b[0m\u001b[1;33m[\u001b[0m\u001b[1;36m5\u001b[0m\u001b[1;33m,\u001b[0m\u001b[1;36m4\u001b[0m\u001b[1;33m,\u001b[0m\u001b[1;36m7\u001b[0m\u001b[1;33m]\u001b[0m\u001b[1;33m)\u001b[0m\u001b[1;33m)\u001b[0m\u001b[1;33m\u001b[0m\u001b[1;33m\u001b[0m\u001b[0m\n\u001b[0;32m      8\u001b[0m \u001b[0mprint\u001b[0m\u001b[1;33m(\u001b[0m\u001b[0msumOfList\u001b[0m\u001b[1;33m(\u001b[0m\u001b[1;33m[\u001b[0m\u001b[1;36m5\u001b[0m\u001b[1;33m]\u001b[0m\u001b[1;33m)\u001b[0m\u001b[1;33m)\u001b[0m\u001b[1;33m\u001b[0m\u001b[1;33m\u001b[0m\u001b[0m\n\u001b[1;32m----> 9\u001b[1;33m \u001b[0mprint\u001b[0m\u001b[1;33m(\u001b[0m\u001b[0msumOfList\u001b[0m\u001b[1;33m(\u001b[0m\u001b[1;36m5\u001b[0m\u001b[1;33m)\u001b[0m\u001b[1;33m)\u001b[0m\u001b[1;33m\u001b[0m\u001b[1;33m\u001b[0m\u001b[0m\n\u001b[0m",
      "\u001b[1;32m<ipython-input-52-ab712bcd5a80>\u001b[0m in \u001b[0;36msumOfList\u001b[1;34m(lst)\u001b[0m\n\u001b[0;32m      1\u001b[0m \u001b[1;32mdef\u001b[0m \u001b[0msumOfList\u001b[0m\u001b[1;33m(\u001b[0m\u001b[0mlst\u001b[0m\u001b[1;33m)\u001b[0m\u001b[1;33m:\u001b[0m\u001b[1;33m\u001b[0m\u001b[1;33m\u001b[0m\u001b[0m\n\u001b[0;32m      2\u001b[0m     \u001b[0msum\u001b[0m \u001b[1;33m=\u001b[0m \u001b[1;36m0\u001b[0m\u001b[1;33m\u001b[0m\u001b[1;33m\u001b[0m\u001b[0m\n\u001b[1;32m----> 3\u001b[1;33m     \u001b[1;32mfor\u001b[0m \u001b[0mi\u001b[0m \u001b[1;32min\u001b[0m \u001b[0mlst\u001b[0m\u001b[1;33m:\u001b[0m\u001b[1;33m\u001b[0m\u001b[1;33m\u001b[0m\u001b[0m\n\u001b[0m\u001b[0;32m      4\u001b[0m         \u001b[0msum\u001b[0m \u001b[1;33m+=\u001b[0m \u001b[0mi\u001b[0m\u001b[1;33m\u001b[0m\u001b[1;33m\u001b[0m\u001b[0m\n\u001b[0;32m      5\u001b[0m     \u001b[1;32mreturn\u001b[0m \u001b[0msum\u001b[0m\u001b[1;33m\u001b[0m\u001b[1;33m\u001b[0m\u001b[0m\n",
      "\u001b[1;31mTypeError\u001b[0m: 'int' object is not iterable"
     ]
    }
   ],
   "source": [
    "def sumOfList(lst):\n",
    "    sum = 0\n",
    "    for i in lst:\n",
    "        sum += i\n",
    "    return sum\n",
    "\n",
    "print(sumOfList([5,4,7]))\n",
    "print(sumOfList([5]))\n",
    "print(sumOfList(5))"
   ]
  },
  {
   "cell_type": "code",
   "execution_count": 53,
   "metadata": {},
   "outputs": [
    {
     "name": "stdout",
     "output_type": "stream",
     "text": [
      "None\n"
     ]
    }
   ],
   "source": [
    "def strangeList(n):\n",
    "    strangeList = []\n",
    "    for i in range(n):\n",
    "        strangeList.insert(0, i)\n",
    "    \n",
    "print(strangeList(5))"
   ]
  },
  {
   "cell_type": "code",
   "execution_count": 54,
   "metadata": {},
   "outputs": [
    {
     "name": "stdout",
     "output_type": "stream",
     "text": [
      "[4, 3, 2, 1, 0]\n"
     ]
    }
   ],
   "source": [
    "def strangeList(n):\n",
    "    strangeList = []\n",
    "    for i in range(n):\n",
    "        strangeList.insert(0, i)\n",
    "    return strangeList\n",
    "    \n",
    "print(strangeList(5))"
   ]
  },
  {
   "cell_type": "code",
   "execution_count": 55,
   "metadata": {},
   "outputs": [
    {
     "name": "stdout",
     "output_type": "stream",
     "text": [
      "[0, 1, 2, 3, 4]\n"
     ]
    }
   ],
   "source": [
    "def strangeList(n):\n",
    "    strangeList = []\n",
    "    for i in range(n):\n",
    "        strangeList.insert(n, i)\n",
    "    return strangeList\n",
    "    \n",
    "print(strangeList(5))"
   ]
  },
  {
   "cell_type": "code",
   "execution_count": 64,
   "metadata": {},
   "outputs": [
    {
     "name": "stdout",
     "output_type": "stream",
     "text": [
      "[4, 3, 2, 1, 0]\n",
      "[0, 1, 2, 3, 4, 5]\n"
     ]
    }
   ],
   "source": [
    "def strangeListFunction(n):\n",
    "    strangeList = []\n",
    "    for i in range(n):\n",
    "        if n % 2 == 0:\n",
    "            strangeList.insert(n, i)\n",
    "        else:\n",
    "            strangeList.insert(0, i)\n",
    "            \n",
    "    return strangeList\n",
    "    \n",
    "print(strangeListFunction(5))\n",
    "print(strangeListFunction(6))"
   ]
  },
  {
   "cell_type": "markdown",
   "metadata": {},
   "source": [
    "LAB: 4.1.3.6 A Leap Year: Writing Your Own Functions"
   ]
  },
  {
   "cell_type": "code",
   "execution_count": 65,
   "metadata": {},
   "outputs": [
    {
     "name": "stdout",
     "output_type": "stream",
     "text": [
      "1900 -->OK\n",
      "2000 -->OK\n",
      "2016 -->OK\n",
      "1987 -->OK\n"
     ]
    }
   ],
   "source": [
    "def isYearLeap(year):\n",
    "    if year % 400 == 0:\n",
    "        return True\n",
    "    else:\n",
    "        if year % 100 != 0:\n",
    "            if year % 4 == 0:\n",
    "                return True\n",
    "            else:\n",
    "                return False\n",
    "        else:\n",
    "            return False\n",
    "\n",
    "\n",
    "testData = [1900, 2000, 2016, 1987]\n",
    "testResult = [False, True, True, False]\n",
    "\n",
    "for i in range(len(testData)):\n",
    "    yr = testData[i]\n",
    "    print(yr, \"-->\", end=\"\")\n",
    "    result = isYearLeap(yr)\n",
    "    if result == testResult[i]:\n",
    "        print(\"OK\")\n",
    "    else:\n",
    "        print(\"Failed\")"
   ]
  },
  {
   "cell_type": "markdown",
   "metadata": {},
   "source": [
    "LAB: 4.1.3.7 How Many Days: Writing and Using Your Own Functions"
   ]
  },
  {
   "cell_type": "code",
   "execution_count": 74,
   "metadata": {},
   "outputs": [
    {
     "name": "stdout",
     "output_type": "stream",
     "text": [
      "1900 2 ->OK\n",
      "2000 2 ->OK\n",
      "2016 1 ->OK\n",
      "1987 11 ->OK\n"
     ]
    }
   ],
   "source": [
    "def isYearLeap(year):\n",
    "    if year % 400 == 0:\n",
    "        return True\n",
    "    else:\n",
    "        if year % 100 != 0:\n",
    "            if year % 4 == 0:\n",
    "                return True\n",
    "            else:\n",
    "                return False\n",
    "        else:\n",
    "            return False\n",
    "        \n",
    "def daysInMonth(year, month):      \n",
    "    days = [31, 28, 31, 30, 31, 30, 31, 31, 30, 31, 30, 31]\n",
    "    val = days[month-1]\n",
    "    if month == 2 and isYearLeap(year):\n",
    "        val = 29\n",
    "    return val\n",
    "\n",
    "\n",
    "testYears = [1900, 2000, 2016, 1987]\n",
    "testMonths = [2, 2, 1, 11]\n",
    "testResults = [28, 29, 31, 30]\n",
    "for i in range(len(testYears)):\n",
    "    yr = testYears[i]\n",
    "    mo = testMonths[i]\n",
    "    print(yr, mo, \"->\", end=\"\")\n",
    "    result = daysInMonth(yr, mo)\n",
    "    if result == testResults[i]:\n",
    "        print(\"OK\")\n",
    "    else:\n",
    "        print(\"Failed\")"
   ]
  },
  {
   "cell_type": "markdown",
   "metadata": {},
   "source": [
    "LAB: 4.1.3.8 Day of The Year: Writing and Using Your Own Functions"
   ]
  },
  {
   "cell_type": "code",
   "execution_count": 108,
   "metadata": {},
   "outputs": [
    {
     "name": "stdout",
     "output_type": "stream",
     "text": [
      "1\n"
     ]
    }
   ],
   "source": [
    "def dayOfYear(year, month, day):\n",
    "    if year % 400 == 0:\n",
    "        restOfDay = 0\n",
    "        print(restOfDay)\n",
    "    else:\n",
    "        if year % 100 == 0:\n",
    "            year = year % 400\n",
    "            restOfDay = ((year / 100) * 5) % 7\n",
    "            print(int(restOfDay))\n",
    "        else:\n",
    "            year100 = (year // 100) * 100 # 1900\n",
    "            year100 = year100 % 400\n",
    "            restOfDay = ((year100 / 100) * 5) % 7\n",
    "#             print(int(restOfDay))\n",
    "            yearS = year % 100 # 45\n",
    "            if yearS % 4 == 0:\n",
    "                restOfDay += (( (yearS / 4) * 2 + (yearS - (yearS / 4)) * 1 ) % 7)\n",
    "                restOfDay %= 7\n",
    "                print(int(restOfDay))\n",
    "            else:\n",
    "                restOfDay += (( (yearS // 4) * 2 + (yearS - (yearS // 4)) * 1 ) % 7)\n",
    "                restOfDay %= 7\n",
    "                print(int(restOfDay))\n",
    "\n",
    "dayOfYear(1945, 8, 17)\n",
    "            \n",
    "# if restOfDay == 0:\n",
    "#     print(\"Sunday\")\n",
    "# elif restOfDay == 1:\n",
    "#     print(\"Monday\")\n",
    "# elif restOfDay == 2:\n",
    "#     print(\"Tuesday\")\n",
    "# elif restOfDay == 3:\n",
    "#     print(\"Wednesday\")\n",
    "# elif restOfDay == 4:\n",
    "#     print(\"Thursday\")\n",
    "# elif restOfDay == 5:\n",
    "#     print(\"Friday\")\n",
    "# elif restOfDay == 6:\n",
    "#     print(\"Saturday\")\n",
    "# else:\n",
    "#     print(\"Something wrong!\")\n",
    "            \n",
    "# print(dayOfYear(2000, 12, 31))"
   ]
  },
  {
   "cell_type": "code",
   "execution_count": 26,
   "metadata": {},
   "outputs": [
    {
     "name": "stdout",
     "output_type": "stream",
     "text": [
      "None\n",
      "366\n",
      "243\n"
     ]
    }
   ],
   "source": [
    "def isYearLeap(year):\n",
    "    if year % 400 == 0:\n",
    "        return True\n",
    "    else:\n",
    "        if year % 100 != 0:\n",
    "            if year % 4 == 0:\n",
    "                return True\n",
    "            else:\n",
    "                return False\n",
    "        else:\n",
    "            return False\n",
    "        \n",
    "def daysInMonth(year, month):      \n",
    "    days = [31, 28, 31, 30, 31, 30, 31, 31, 30, 31, 30, 31]\n",
    "    val = days[month-1]\n",
    "    if month == 2 and isYearLeap(year):\n",
    "        val = 29\n",
    "    return val\n",
    "\n",
    "def dayOfYear(year, month, day):\n",
    "    if (month==2) & (day is [30, 31]):\n",
    "        return None\n",
    "    elif (day == 31) & (month is [1, 3, 5, 7, 8, 10, 12]):\n",
    "        return None\n",
    "    elif (month > 12) | (day > 31):\n",
    "        return None\n",
    "    else:\n",
    "        leapp = [31, 29, 31, 30, 31, 30, 31, 31, 30, 31, 30, 31]\n",
    "        normal = [31, 28, 31, 30, 31, 30, 31, 31, 30, 31, 30, 31]\n",
    "        dday = 0\n",
    "        if year % 400 == 0:\n",
    "            for i in range(month):\n",
    "                dday += leapp[i]\n",
    "        else:   \n",
    "            if year % 100 != 0:\n",
    "                if year % 4 == 0:\n",
    "                    for i in range(month):\n",
    "                        dday += leapp[i]\n",
    "                else:\n",
    "                    for i in range(month):\n",
    "                        dday += normal[i]\n",
    "            else:\n",
    "                for i in range(month):\n",
    "                    dday += normal[i]\n",
    "                \n",
    "        return dday\n",
    "    \n",
    "print(dayOfYear(2000, 8, 32))\n",
    "print(dayOfYear(2000, 12, 31))\n",
    "print(dayOfYear(1945, 8, 17))"
   ]
  },
  {
   "cell_type": "code",
   "execution_count": 143,
   "metadata": {},
   "outputs": [
    {
     "name": "stdout",
     "output_type": "stream",
     "text": [
      "The day in month = 29\n",
      "The day in month = 28\n",
      "The day in month = 31\n",
      "The day in month = 30\n",
      "\n",
      "The rest of day = 1\n",
      "\n",
      "Count of day = 229\n",
      "Count of day = None\n",
      "Count of day = 366\n",
      "Count of day = 331\n",
      "\n",
      "The day is Sunday\n"
     ]
    }
   ],
   "source": [
    "def isYearLeap(year):\n",
    "    if year % 400 == 0:\n",
    "        dayOfYear = 0\n",
    "        return dayOfYear\n",
    "    else:\n",
    "        if year % 100 == 0:\n",
    "            year %= 400\n",
    "            dayOfYear = ((year / 100) * 5) % 7\n",
    "            return int(dayOfYear)\n",
    "        else:\n",
    "            year %= 400\n",
    "            if year >= 100:\n",
    "                year100 = (year // 100) * 100\n",
    "                dayOfYear = ((year100 / 100) * 5) % 7\n",
    "                year4 = year % year100\n",
    "                if year4 % 4 == 0:\n",
    "                    dayOfYear += (((year4 / 4) * 2 + (year4 - (year4 / 4)) * 1) % 7)\n",
    "                    dayOfYear %= 7\n",
    "                    return int(dayOfYear)\n",
    "                else:\n",
    "                    dayOfYear += (((year4 // 4) * 2 + (year4 - (year4 // 4)) * 1) % 7)\n",
    "                    dayOfYear %= 7\n",
    "                    return int(dayOfYear)\n",
    "            else:\n",
    "                year4 = year\n",
    "                if year4 % 4 == 0:\n",
    "                    dayOfYear = (((year4 / 4) * 2 + (year4 - (year4 / 4)) * 1) % 7)\n",
    "                    dayOfYear %= 7\n",
    "                    return int(dayOfYear)\n",
    "                else:\n",
    "                    dayOfYear = (((year4 // 4) * 2 + (year4 - (year4 // 4)) * 1) % 7)\n",
    "                    dayOfYear %= 7\n",
    "                    return int(dayOfYear)\n",
    "        \n",
    "def daysInMonth(year, month):\n",
    "    days = [31, 28, 31, 30, 31, 30, 31, 31, 30, 31, 30, 31]\n",
    "    val = days[month-1]\n",
    "    if month == 2 and isYearLeap(year):\n",
    "        val = 29\n",
    "    return val\n",
    "\n",
    "def dayOfYear(year, month, day):\n",
    "    if (month==2) & (day is [30, 31]):\n",
    "        return None\n",
    "    elif (day == 31) & (month is [1, 3, 5, 7, 8, 10, 12]):\n",
    "        return None\n",
    "    elif (month > 12) | (day > 31):\n",
    "        return None\n",
    "    else:\n",
    "        leapp = [31, 29, 31, 30, 31, 30, 31, 31, 30, 31, 30, 31]\n",
    "        normal = [31, 28, 31, 30, 31, 30, 31, 31, 30, 31, 30, 31]\n",
    "        dday = 0\n",
    "        if year % 400 == 0:\n",
    "            if month == 12:\n",
    "                for i in range(month):\n",
    "                    dday += leapp[i]\n",
    "            else:\n",
    "                for i in range(month-1):\n",
    "                    dday += leapp[i]\n",
    "                    dday += day\n",
    "        else:   \n",
    "            if year % 100 != 0:\n",
    "                if year % 4 == 0:\n",
    "                    if month == 12:\n",
    "                        for i in range(month):\n",
    "                            dday += leapp[i]\n",
    "                    else:\n",
    "                        for i in range(month-1):\n",
    "                            dday += leapp[i]\n",
    "                            dday += day    \n",
    "                else:\n",
    "                    if month == 12:\n",
    "                        for i in range(month):\n",
    "                            dday += normal[i]\n",
    "                    else:\n",
    "                        for i in range(month-1):\n",
    "                            dday += normal[i]\n",
    "                            dday += day \n",
    "            else:\n",
    "                if month == 12:\n",
    "                    for i in range(month):\n",
    "                        dday += normal[i]\n",
    "                    else:\n",
    "                        for i in range(month-1):\n",
    "                            dday += normal[i]\n",
    "                            dday += day\n",
    "                \n",
    "        return dday\n",
    "    \n",
    "def day():\n",
    "    restOfDay = isYearLeap(2020 - 1)\n",
    "    dday = dayOfYear(2020, 5, 27)\n",
    "    restOfDay = (restOfDay + (dday % 7)) % 7\n",
    "    \n",
    "    if restOfDay == 0:\n",
    "        return \"Sunday\"\n",
    "    elif restOfDay == 1:\n",
    "        return \"Monday\"\n",
    "    elif restOfDay == 2:\n",
    "        return \"Tuesday\"\n",
    "    elif restOfDay == 3:\n",
    "        return \"Wednesday\"\n",
    "    elif restOfDay == 4:\n",
    "        return \"Thursday\"\n",
    "    elif restOfDay == 5:\n",
    "        return \"Friday\"\n",
    "    elif restOfDay == 6:\n",
    "        return \"Saturday\"\n",
    "    else:\n",
    "        print(\"Something wrong!\")\n",
    "        \n",
    "\n",
    "print(\"The day in month =\", daysInMonth(1900, 2))\n",
    "print(\"The day in month =\", daysInMonth(2000, 2))\n",
    "print(\"The day in month =\", daysInMonth(2016, 1))\n",
    "print(\"The day in month =\", daysInMonth(1987, 11)); print()\n",
    "\n",
    "print(\"The rest of day =\", isYearLeap(1945)); print()\n",
    "\n",
    "print(\"Count of day =\", dayOfYear(2020, 5, 27))\n",
    "print(\"Count of day =\", dayOfYear(2000, 8, 32))\n",
    "print(\"Count of day =\", dayOfYear(2000, 12, 31))\n",
    "print(\"Count of day =\", dayOfYear(1945, 8, 17)); print()\n",
    "\n",
    "print(\"The day is\", day())"
   ]
  },
  {
   "cell_type": "markdown",
   "metadata": {},
   "source": [
    "LAB: 4.1.3.9 Prime Numbers. How to Find Them."
   ]
  },
  {
   "cell_type": "code",
   "execution_count": 175,
   "metadata": {},
   "outputs": [
    {
     "name": "stdout",
     "output_type": "stream",
     "text": [
      "2 3 5 7 11 13 17 19 "
     ]
    }
   ],
   "source": [
    "def isPrime(num):\n",
    "    if num == 2:\n",
    "        return True\n",
    "    for i in range(2, num):\n",
    "        if num % i == 0:\n",
    "            return False\n",
    "    else:\n",
    "        return True\n",
    "\n",
    "for i in range(1, 20):\n",
    "    if isPrime(i + 1):\n",
    "        print(i + 1, end=\" \")"
   ]
  },
  {
   "cell_type": "code",
   "execution_count": 184,
   "metadata": {},
   "outputs": [
    {
     "name": "stdout",
     "output_type": "stream",
     "text": [
      "Wanna try to find prime numbers? y\n",
      "Just answer yes or no!\n",
      "Try again? yes\n",
      "How many numbers do you want to find prime numbers? 20\n",
      "Your prime numbers is [2, 3, 5, 7, 11, 13, 17, 19]\n",
      "You have 8 prime numbers\n",
      "\n",
      "More example? yes\n",
      "How many numbers do you want to find prime numbers? 25\n",
      "Your prime numbers is [2, 3, 5, 7, 11, 13, 17, 19, 23]\n",
      "You have 9 prime numbers\n",
      "\n",
      "More example? yes\n",
      "How many numbers do you want to find prime numbers? 50\n",
      "Your prime numbers is [2, 3, 5, 7, 11, 13, 17, 19, 23, 29, 31, 37, 41, 43, 47]\n",
      "You have 15 prime numbers\n",
      "\n",
      "More example? yes\n",
      "How many numbers do you want to find prime numbers? 100\n",
      "Your prime numbers is [2, 3, 5, 7, 11, 13, 17, 19, 23, 29, 31, 37, 41, 43, 47, 53, 59, 61, 67, 71, 73, 79, 83, 89, 97]\n",
      "You have 25 prime numbers\n",
      "\n",
      "More example? no\n",
      "Thank you for coming! Have a nice day :)\n"
     ]
    }
   ],
   "source": [
    "def isPrime(num):\n",
    "    if num == 2:\n",
    "        return True\n",
    "    for i in range(2, num):\n",
    "        if num % i == 0:\n",
    "            return False\n",
    "    else:\n",
    "        return True\n",
    "\n",
    "    \n",
    "repeat = input(\"Wanna try to find prime numbers? \")\n",
    "\n",
    "while repeat != \"no\":\n",
    "    if repeat == \"yes\":       \n",
    "        number = int(input(\"How many numbers do you want to find prime numbers? \"))\n",
    "        \n",
    "        prime = []\n",
    "        count = 0\n",
    "        for i in range(1, number):\n",
    "            if isPrime(i + 1):\n",
    "                prime.insert(number, (i + 1))\n",
    "                count += 1\n",
    "                \n",
    "        print(\"Your prime numbers is\", prime)\n",
    "        print(\"You have\", count, \"prime numbers\")\n",
    "        print()\n",
    "        repeat = input(\"More example? \")\n",
    "    \n",
    "    else:\n",
    "        print(\"Just answer yes or no!\")\n",
    "        repeat = input(\"Try again? \")\n",
    "        \n",
    "if repeat == \"no\":\n",
    "    print(\"Thank you for coming! Have a nice day :)\")"
   ]
  },
  {
   "cell_type": "markdown",
   "metadata": {},
   "source": [
    "LAB: 4.1.3.10 Converting Fuel Consumption."
   ]
  },
  {
   "cell_type": "code",
   "execution_count": 10,
   "metadata": {},
   "outputs": [
    {
     "name": "stdout",
     "output_type": "stream",
     "text": [
      "60.3\n",
      "31.4\n",
      "23.5\n",
      "3.9\n",
      "7.5\n",
      "10.0\n"
     ]
    }
   ],
   "source": [
    "# liter/km to mile/gallon\n",
    "# mile/gallon to liter/km\n",
    "\n",
    "def l100kmtompg(liters):\n",
    "    mpg = 235.215 / liters\n",
    "    return round(mpg, 1)\n",
    "\n",
    "def mpgtol100km(miles):\n",
    "    l100km = 235.215 / miles\n",
    "    return round(l100km, 1)\n",
    "\n",
    "#     miles = 1609.344 * metres = 1.609344 km\n",
    "#     gallon = 3.785411784 * liters\n",
    "\n",
    "print(l100kmtompg(3.9))\n",
    "print(l100kmtompg(7.5))\n",
    "print(l100kmtompg(10.))\n",
    "print(mpgtol100km(60.3))\n",
    "print(mpgtol100km(31.4))\n",
    "print(mpgtol100km(23.5))"
   ]
  },
  {
   "cell_type": "markdown",
   "metadata": {},
   "source": [
    "4.1.3.11 EXERCISE"
   ]
  },
  {
   "cell_type": "code",
   "execution_count": 15,
   "metadata": {},
   "outputs": [
    {
     "data": {
      "text/plain": [
       "30"
      ]
     },
     "execution_count": 15,
     "metadata": {},
     "output_type": "execute_result"
    }
   ],
   "source": [
    "def multiply(a, b):\n",
    "    return a * b\n",
    "\n",
    "multiply(5, 6)"
   ]
  },
  {
   "cell_type": "code",
   "execution_count": 14,
   "metadata": {},
   "outputs": [
    {
     "name": "stdout",
     "output_type": "stream",
     "text": [
      "30\n"
     ]
    }
   ],
   "source": [
    "def multiply(a, b):\n",
    "    return  a * b\n",
    "\n",
    "print(multiply(5, 6))"
   ]
  },
  {
   "cell_type": "code",
   "execution_count": 16,
   "metadata": {},
   "outputs": [
    {
     "name": "stdout",
     "output_type": "stream",
     "text": [
      "None\n"
     ]
    }
   ],
   "source": [
    "def multiply(a, b):\n",
    "    return\n",
    "\n",
    "print(multiply(5, 6))"
   ]
  },
  {
   "cell_type": "code",
   "execution_count": 17,
   "metadata": {},
   "outputs": [
    {
     "name": "stdout",
     "output_type": "stream",
     "text": [
      "Happy Birthday\n"
     ]
    }
   ],
   "source": [
    "def wishes():\n",
    "    return \"Happy Birthday\"\n",
    "\n",
    "w = wishes()\n",
    "print(w)"
   ]
  },
  {
   "cell_type": "code",
   "execution_count": 18,
   "metadata": {},
   "outputs": [
    {
     "name": "stdout",
     "output_type": "stream",
     "text": [
      "My wishes\n"
     ]
    },
    {
     "data": {
      "text/plain": [
       "'Happy Birthday'"
      ]
     },
     "execution_count": 18,
     "metadata": {},
     "output_type": "execute_result"
    }
   ],
   "source": [
    "def wishes():\n",
    "    print(\"My wishes\")\n",
    "    return \"Happy Birthday\"\n",
    "\n",
    "wishes()"
   ]
  },
  {
   "cell_type": "code",
   "execution_count": 19,
   "metadata": {},
   "outputs": [
    {
     "name": "stdout",
     "output_type": "stream",
     "text": [
      "My wishes\n",
      "Happy Birthday\n"
     ]
    }
   ],
   "source": [
    "def wishes():\n",
    "    print(\"My wishes\")\n",
    "    return \"Happy Birthday\"\n",
    "\n",
    "print(wishes())"
   ]
  },
  {
   "cell_type": "code",
   "execution_count": 22,
   "metadata": {},
   "outputs": [
    {
     "name": "stdout",
     "output_type": "stream",
     "text": [
      "Hi, Adam\n",
      "Hi, John\n",
      "Hi, Lucy\n"
     ]
    }
   ],
   "source": [
    "def hiEverybody(myList):\n",
    "    for name in myList:\n",
    "        print(\"Hi,\", name)\n",
    "        \n",
    "hiEverybody([\"Adam\", \"John\", \"Lucy\"])"
   ]
  },
  {
   "cell_type": "code",
   "execution_count": 25,
   "metadata": {},
   "outputs": [
    {
     "name": "stdout",
     "output_type": "stream",
     "text": [
      "[0, 1, 2, 3, 4]\n"
     ]
    }
   ],
   "source": [
    "def createList(n):\n",
    "    myList = []\n",
    "    for i in range(n):\n",
    "        myList.append(i)\n",
    "    return myList\n",
    "        \n",
    "print(createList(5))"
   ]
  },
  {
   "cell_type": "code",
   "execution_count": 28,
   "metadata": {},
   "outputs": [
    {
     "name": "stdout",
     "output_type": "stream",
     "text": [
      "None\n"
     ]
    }
   ],
   "source": [
    "def hi():\n",
    "    return\n",
    "    print(\"Hi!\")\n",
    "    \n",
    "hi()\n",
    "print(hi())"
   ]
  },
  {
   "cell_type": "code",
   "execution_count": 30,
   "metadata": {},
   "outputs": [
    {
     "name": "stdout",
     "output_type": "stream",
     "text": [
      "True\n",
      "False\n",
      "None\n"
     ]
    }
   ],
   "source": [
    "def isInt(data):\n",
    "    if type(data) == int:\n",
    "        return True\n",
    "    elif type(data) == float:\n",
    "        return False\n",
    "    \n",
    "print(isInt(5))\n",
    "print(isInt(5.0))\n",
    "print(isInt(\"5\"))"
   ]
  },
  {
   "cell_type": "code",
   "execution_count": 36,
   "metadata": {},
   "outputs": [
    {
     "name": "stdout",
     "output_type": "stream",
     "text": [
      "[0, 2, 4, 6, 8, 10]\n"
     ]
    }
   ],
   "source": [
    "def evenNumLst(n):\n",
    "    lst = []\n",
    "    for num in range(n):\n",
    "        if num % 2 == 0:\n",
    "            lst.append(num)\n",
    "    return lst\n",
    "\n",
    "print(evenNumLst(11))"
   ]
  },
  {
   "cell_type": "code",
   "execution_count": 39,
   "metadata": {},
   "outputs": [
    {
     "name": "stdout",
     "output_type": "stream",
     "text": [
      "[1, 4, 9, 16, 25]\n"
     ]
    }
   ],
   "source": [
    "def listUpdater(n):\n",
    "    lst = []\n",
    "    for elem in n:\n",
    "        elem **=  2\n",
    "        lst.append(elem)\n",
    "    return lst\n",
    "\n",
    "x = [1, 2, 3, 4, 5]\n",
    "print(listUpdater(x))"
   ]
  },
  {
   "cell_type": "markdown",
   "metadata": {},
   "source": [
    "4.1.4.5 EXERCISE"
   ]
  },
  {
   "cell_type": "code",
   "execution_count": 40,
   "metadata": {},
   "outputs": [
    {
     "ename": "NameError",
     "evalue": "name 'alt' is not defined",
     "output_type": "error",
     "traceback": [
      "\u001b[1;31m---------------------------------------------------------------------------\u001b[0m",
      "\u001b[1;31mNameError\u001b[0m                                 Traceback (most recent call last)",
      "\u001b[1;32m<ipython-input-40-7dbbedbd6fe6>\u001b[0m in \u001b[0;36m<module>\u001b[1;34m\u001b[0m\n\u001b[0;32m      3\u001b[0m     \u001b[0mprint\u001b[0m\u001b[1;33m(\u001b[0m\u001b[1;34m\"Hello world!\"\u001b[0m\u001b[1;33m)\u001b[0m\u001b[1;33m\u001b[0m\u001b[1;33m\u001b[0m\u001b[0m\n\u001b[0;32m      4\u001b[0m \u001b[1;33m\u001b[0m\u001b[0m\n\u001b[1;32m----> 5\u001b[1;33m \u001b[0mprint\u001b[0m\u001b[1;33m(\u001b[0m\u001b[0malt\u001b[0m\u001b[1;33m)\u001b[0m\u001b[1;33m\u001b[0m\u001b[1;33m\u001b[0m\u001b[0m\n\u001b[0m",
      "\u001b[1;31mNameError\u001b[0m: name 'alt' is not defined"
     ]
    }
   ],
   "source": [
    "def message():\n",
    "    alt = 1\n",
    "    print(\"Hello world!\")\n",
    "    \n",
    "print(alt)"
   ]
  },
  {
   "cell_type": "code",
   "execution_count": 41,
   "metadata": {},
   "outputs": [
    {
     "name": "stdout",
     "output_type": "stream",
     "text": [
      "Hello world!\n",
      "None\n"
     ]
    }
   ],
   "source": [
    "def message():\n",
    "    alt = 1\n",
    "    print(\"Hello world!\")\n",
    "    \n",
    "print(message())"
   ]
  },
  {
   "cell_type": "code",
   "execution_count": 42,
   "metadata": {},
   "outputs": [
    {
     "name": "stdout",
     "output_type": "stream",
     "text": [
      "Hello world!\n"
     ]
    }
   ],
   "source": [
    "def message():\n",
    "    alt = 1\n",
    "    print(\"Hello world!\")\n",
    "    \n",
    "message()"
   ]
  },
  {
   "cell_type": "code",
   "execution_count": 43,
   "metadata": {},
   "outputs": [
    {
     "name": "stdout",
     "output_type": "stream",
     "text": [
      "Hello world! 1\n",
      "None\n"
     ]
    }
   ],
   "source": [
    "def message():\n",
    "    alt = 1\n",
    "    print(\"Hello world!\", alt)\n",
    "    \n",
    "print(message())"
   ]
  },
  {
   "cell_type": "code",
   "execution_count": 45,
   "metadata": {},
   "outputs": [
    {
     "name": "stdout",
     "output_type": "stream",
     "text": [
      "1\n"
     ]
    }
   ],
   "source": [
    "def message():\n",
    "    alt = 1\n",
    "    return alt\n",
    "    print(\"Hello world!\", alt)\n",
    "    \n",
    "print(message())"
   ]
  },
  {
   "cell_type": "code",
   "execution_count": 46,
   "metadata": {},
   "outputs": [
    {
     "name": "stdout",
     "output_type": "stream",
     "text": [
      "Hello world! 1\n",
      "1\n"
     ]
    }
   ],
   "source": [
    "def message():\n",
    "    alt = 1\n",
    "    print(\"Hello world!\", alt)\n",
    "    return alt\n",
    "    \n",
    "print(message())"
   ]
  },
  {
   "cell_type": "code",
   "execution_count": 49,
   "metadata": {},
   "outputs": [
    {
     "name": "stdout",
     "output_type": "stream",
     "text": [
      "Hello world! 1\n",
      "2\n"
     ]
    }
   ],
   "source": [
    "def message(n):\n",
    "    alt = 1\n",
    "    print(\"Hello world!\", alt)\n",
    "\n",
    "alt = 2\n",
    "message(alt)\n",
    "print(alt)"
   ]
  },
  {
   "cell_type": "code",
   "execution_count": 51,
   "metadata": {},
   "outputs": [
    {
     "name": "stdout",
     "output_type": "stream",
     "text": [
      "Hello world! 1\n",
      "1\n"
     ]
    }
   ],
   "source": [
    "def message(n):\n",
    "    global alt\n",
    "    alt = 1\n",
    "    print(\"Hello world!\", alt)\n",
    "\n",
    "alt = 2\n",
    "message(alt)\n",
    "print(alt)"
   ]
  },
  {
   "cell_type": "code",
   "execution_count": 52,
   "metadata": {},
   "outputs": [
    {
     "name": "stdout",
     "output_type": "stream",
     "text": [
      "1\n",
      "Hello world! 2\n",
      "3\n"
     ]
    }
   ],
   "source": [
    "def message(n):\n",
    "    alt = 1\n",
    "    print(alt)\n",
    "    alt += 1\n",
    "    print(\"Hello world!\", alt)\n",
    "\n",
    "alt = 3\n",
    "message(alt)\n",
    "print(alt)"
   ]
  },
  {
   "cell_type": "code",
   "execution_count": 53,
   "metadata": {},
   "outputs": [
    {
     "name": "stdout",
     "output_type": "stream",
     "text": [
      "2\n",
      "1\n"
     ]
    }
   ],
   "source": [
    "a = 1\n",
    "def fun():\n",
    "    a = 2\n",
    "    print(a)\n",
    "    \n",
    "fun()\n",
    "print(a)"
   ]
  },
  {
   "cell_type": "code",
   "execution_count": 56,
   "metadata": {},
   "outputs": [
    {
     "name": "stdout",
     "output_type": "stream",
     "text": [
      "2\n",
      "3\n"
     ]
    }
   ],
   "source": [
    "a = 1\n",
    "def fun():\n",
    "    global a\n",
    "    a = 2\n",
    "    print(a)\n",
    "    \n",
    "fun()\n",
    "a = 3\n",
    "print(a)"
   ]
  },
  {
   "cell_type": "code",
   "execution_count": 57,
   "metadata": {},
   "outputs": [
    {
     "name": "stdout",
     "output_type": "stream",
     "text": [
      "2\n",
      "2\n"
     ]
    }
   ],
   "source": [
    "a = 1\n",
    "def fun():\n",
    "    global a\n",
    "    a = 2\n",
    "    print(a)\n",
    "    \n",
    "fun()\n",
    "print(a)"
   ]
  },
  {
   "cell_type": "code",
   "execution_count": 58,
   "metadata": {},
   "outputs": [
    {
     "name": "stdout",
     "output_type": "stream",
     "text": [
      "2\n",
      "2\n"
     ]
    }
   ],
   "source": [
    "a = 1\n",
    "def fun():\n",
    "    global a\n",
    "    a = 2\n",
    "    print(a)\n",
    "\n",
    "a = 3\n",
    "fun()\n",
    "print(a)"
   ]
  },
  {
   "cell_type": "code",
   "execution_count": 59,
   "metadata": {},
   "outputs": [
    {
     "name": "stdout",
     "output_type": "stream",
     "text": [
      "2\n",
      "3\n"
     ]
    }
   ],
   "source": [
    "a = 1\n",
    "def fun():\n",
    "    a = 2\n",
    "    print(a)\n",
    "\n",
    "a = 3\n",
    "fun()\n",
    "print(a)"
   ]
  },
  {
   "cell_type": "markdown",
   "metadata": {},
   "source": [
    "4.1.5.6 Creating Function. Factorials"
   ]
  },
  {
   "cell_type": "code",
   "execution_count": 64,
   "metadata": {},
   "outputs": [
    {
     "name": "stdout",
     "output_type": "stream",
     "text": [
      "Factorial 1 --> 1\n",
      "Factorial 2 --> 2\n",
      "Factorial 3 --> 6\n",
      "Factorial 4 --> 24\n",
      "Factorial 5 --> 120\n"
     ]
    }
   ],
   "source": [
    "def factorial(n):\n",
    "    if n < 0:\n",
    "        return None\n",
    "    if n < 2:\n",
    "        return 1\n",
    "    else:\n",
    "        elem = 1\n",
    "        for n in range(2, n+1):\n",
    "            elem *= n\n",
    "        return elem\n",
    "\n",
    "for n in range (1, 6):\n",
    "    print(\"Factorial\", n, \"-->\", factorial(n))"
   ]
  },
  {
   "cell_type": "code",
   "execution_count": 86,
   "metadata": {},
   "outputs": [
    {
     "name": "stdout",
     "output_type": "stream",
     "text": [
      "Do you want to know the factorial results of a number? y\n",
      "Just type yes or no.\n",
      "Try again? yes\n",
      "Type the number: 5\n",
      "5! --> 120\n",
      "\n",
      "Wanna try again? yes\n",
      "Type the number: 0\n",
      "0! --> 1\n",
      "\n",
      "Wanna try again? yes\n",
      "Type the number: 1\n",
      "1! --> 1\n",
      "\n",
      "Wanna try again? yes\n",
      "Type the number: -10\n",
      "-10! --> None\n",
      "\n",
      "Wanna try again? yes\n",
      "Type the number: 20\n",
      "20! --> 2432902008176640000\n",
      "\n",
      "Wanna try again? yes\n",
      "Type the number: 21\n",
      "The number is to high! Just until 20.\n",
      "\n",
      "Wanna try again? yes\n",
      "Type the number: 10\n",
      "10! --> 3628800\n",
      "\n",
      "Wanna try again? no\n",
      "Thank you\n",
      "Have a nice day :)\n"
     ]
    }
   ],
   "source": [
    "def factorial(n):\n",
    "    if n < 0:\n",
    "        return None\n",
    "    if n < 2:\n",
    "        return 1\n",
    "    else:\n",
    "        elem = 1\n",
    "        for n in range(2, n+1):\n",
    "            elem *= n\n",
    "        return elem\n",
    "\n",
    "repeat = input(\"Do you want to know the factorial results of a number? \")\n",
    "\n",
    "while repeat != \"no\":\n",
    "    if repeat == \"yes\":\n",
    "        num = int(input(\"Type the number: \"))\n",
    "        \n",
    "        if num > 20:\n",
    "            print(\"The number is to high! Just until 20.\")\n",
    "            print()\n",
    "        else:\n",
    "            print(str(num) + \"!\", \"-->\", factorial(num))\n",
    "            print()\n",
    "        \n",
    "        repeat = input(\"Wanna try again? \")\n",
    "        \n",
    "    else:\n",
    "        print(\"Just type yes or no.\")\n",
    "        repeat = input(\"Try again? \")\n",
    "        \n",
    "if repeat == \"no\":\n",
    "    print(\"Thank you\")\n",
    "    print(\"Have a nice day :)\")"
   ]
  },
  {
   "cell_type": "code",
   "execution_count": 4,
   "metadata": {},
   "outputs": [
    {
     "name": "stdout",
     "output_type": "stream",
     "text": [
      "Do you want to know the factorial results of a number? y\n",
      "Just type yes or no.\n",
      "Try again? yes\n",
      "Type the first number: 0\n",
      "Type the last number: 5\n",
      "0! --> 1\n",
      "1! --> 1\n",
      "2! --> 2\n",
      "3! --> 6\n",
      "4! --> 24\n",
      "5! --> 120\n",
      "\n",
      "Wanna try again? yes\n",
      "Type the first number: 12\n",
      "Type the last number: 8\n",
      "8! --> 40320\n",
      "9! --> 362880\n",
      "10! --> 3628800\n",
      "11! --> 39916800\n",
      "12! --> 479001600\n",
      "\n",
      "Wanna try again? yes\n",
      "Type the first number: -1\n",
      "Type the last number: 2\n",
      "-1! --> None\n",
      "0! --> 1\n",
      "1! --> 1\n",
      "2! --> 2\n",
      "\n",
      "Wanna try again? yes\n",
      "Type the first number: -2\n",
      "Type the last number: 3\n",
      "-2! --> None\n",
      "-1! --> None\n",
      "0! --> 1\n",
      "1! --> 1\n",
      "2! --> 2\n",
      "3! --> 6\n",
      "\n",
      "Wanna try again? yes\n",
      "Type the first number: 18\n",
      "Type the last number: 21\n",
      "To highest number! Just until 20.\n",
      "\n",
      "Wanna try again? yes\n",
      "Type the first number: 21\n",
      "Type the last number: 18\n",
      "To highest number! Just until 20.\n",
      "\n",
      "Wanna try again? yes\n",
      "Type the first number: 20\n",
      "Type the last number: 16\n",
      "16! --> 20922789888000\n",
      "17! --> 355687428096000\n",
      "18! --> 6402373705728000\n",
      "19! --> 121645100408832000\n",
      "20! --> 2432902008176640000\n",
      "\n",
      "Wanna try again? no\n",
      "Thank you\n",
      "Have a nice day :)\n"
     ]
    }
   ],
   "source": [
    "def factorial(n):\n",
    "    if n < 0:\n",
    "        return None\n",
    "    if n < 2:\n",
    "        return 1\n",
    "    else:\n",
    "        elem = 1\n",
    "        for n in range(2, n+1):\n",
    "            elem *= n\n",
    "        return elem\n",
    "\n",
    "repeat = input(\"Do you want to know the factorial results of a number? \")\n",
    "\n",
    "while repeat != \"no\":\n",
    "    if repeat == \"yes\":\n",
    "        n = int(input(\"Type the first number: \"))\n",
    "        m = int(input(\"Type the last number: \"))\n",
    "\n",
    "        if m > 20 or n > 20:\n",
    "            print(\"To highest number! Just until 20.\")\n",
    "        else:\n",
    "            if n < m:\n",
    "                for i in range (n, m+1):\n",
    "                    print(str(i) + \"!\", \"-->\", factorial(i))\n",
    "            else:\n",
    "                for i in range (m, n+1):\n",
    "                    print(str(i) + \"!\", \"-->\", factorial(i))\n",
    "                \n",
    "        print()\n",
    "        repeat = input(\"Wanna try again? \")\n",
    "        \n",
    "    else:\n",
    "        print(\"Just type yes or no.\")\n",
    "        repeat = input(\"Try again? \")\n",
    "        \n",
    "if repeat == \"no\":\n",
    "    print(\"Thank you\")\n",
    "    print(\"Have a nice day :)\")"
   ]
  },
  {
   "cell_type": "markdown",
   "metadata": {},
   "source": [
    "4.1.5.7 Creating Function. Fibonacci Numbers."
   ]
  },
  {
   "cell_type": "code",
   "execution_count": 25,
   "metadata": {},
   "outputs": [
    {
     "name": "stdout",
     "output_type": "stream",
     "text": [
      "fib1 --> 1\n",
      "fib2 --> 1\n",
      "fib3 --> 2\n",
      "fib4 --> 3\n",
      "fib5 --> 5\n",
      "fib6 --> 8\n",
      "fib7 --> 13\n",
      "fib8 --> 21\n",
      "fib9 --> 34\n"
     ]
    }
   ],
   "source": [
    "def fibonacci(n):\n",
    "    if n <= 0:\n",
    "        return None\n",
    "    if n <= 2:\n",
    "        return 1\n",
    "    else:\n",
    "        fib1 = fib2 = 1\n",
    "        sum = 0\n",
    "        for i in range(3, n+1):\n",
    "            sum = fib1 + fib2\n",
    "            fib1, fib2 = fib2, sum\n",
    "        return sum\n",
    "\n",
    "for n in range(1, 10):\n",
    "    print(\"fib\" + str(n), \"-->\", fibonacci(n))"
   ]
  },
  {
   "cell_type": "markdown",
   "metadata": {},
   "source": [
    "4.1.5.8 Creating Function. Recursion."
   ]
  },
  {
   "cell_type": "code",
   "execution_count": 26,
   "metadata": {},
   "outputs": [
    {
     "name": "stdout",
     "output_type": "stream",
     "text": [
      "5\n",
      "34\n"
     ]
    }
   ],
   "source": [
    "def fibonacci(n):\n",
    "    if n < 1:\n",
    "        return None\n",
    "    if n < 3:\n",
    "        return 1\n",
    "    \n",
    "    return fibonacci(n-2) + fibonacci(n-1)\n",
    "\n",
    "print(fibonacci(5))\n",
    "print(fibonacci(9))"
   ]
  },
  {
   "cell_type": "code",
   "execution_count": 31,
   "metadata": {},
   "outputs": [
    {
     "name": "stdout",
     "output_type": "stream",
     "text": [
      "120\n",
      "24\n",
      "3628800\n"
     ]
    }
   ],
   "source": [
    "def factorial(n):\n",
    "    if n < 0:\n",
    "        return None\n",
    "    if n < 2:\n",
    "        return 1\n",
    "    \n",
    "    return n * factorial(n-1)\n",
    "\n",
    "print(factorial(5))\n",
    "print(factorial(4))\n",
    "print(factorial(10))"
   ]
  },
  {
   "cell_type": "markdown",
   "metadata": {},
   "source": [
    "4.1.5.9 EXCERCISE"
   ]
  },
  {
   "cell_type": "code",
   "execution_count": 32,
   "metadata": {},
   "outputs": [
    {
     "ename": "RecursionError",
     "evalue": "maximum recursion depth exceeded",
     "output_type": "error",
     "traceback": [
      "\u001b[1;31m---------------------------------------------------------------------------\u001b[0m",
      "\u001b[1;31mRecursionError\u001b[0m                            Traceback (most recent call last)",
      "\u001b[1;32m<ipython-input-32-1f076ef0a263>\u001b[0m in \u001b[0;36m<module>\u001b[1;34m\u001b[0m\n\u001b[0;32m      2\u001b[0m     \u001b[1;32mreturn\u001b[0m \u001b[0mn\u001b[0m \u001b[1;33m*\u001b[0m \u001b[0mfactorial\u001b[0m\u001b[1;33m(\u001b[0m\u001b[0mn\u001b[0m\u001b[1;33m-\u001b[0m\u001b[1;36m1\u001b[0m\u001b[1;33m)\u001b[0m\u001b[1;33m\u001b[0m\u001b[1;33m\u001b[0m\u001b[0m\n\u001b[0;32m      3\u001b[0m \u001b[1;33m\u001b[0m\u001b[0m\n\u001b[1;32m----> 4\u001b[1;33m \u001b[0mprint\u001b[0m\u001b[1;33m(\u001b[0m\u001b[0mfactorial\u001b[0m\u001b[1;33m(\u001b[0m\u001b[1;36m4\u001b[0m\u001b[1;33m)\u001b[0m\u001b[1;33m)\u001b[0m\u001b[1;33m\u001b[0m\u001b[1;33m\u001b[0m\u001b[0m\n\u001b[0m",
      "\u001b[1;32m<ipython-input-32-1f076ef0a263>\u001b[0m in \u001b[0;36mfactorial\u001b[1;34m(n)\u001b[0m\n\u001b[0;32m      1\u001b[0m \u001b[1;32mdef\u001b[0m \u001b[0mfactorial\u001b[0m\u001b[1;33m(\u001b[0m\u001b[0mn\u001b[0m\u001b[1;33m)\u001b[0m\u001b[1;33m:\u001b[0m\u001b[1;33m\u001b[0m\u001b[1;33m\u001b[0m\u001b[0m\n\u001b[1;32m----> 2\u001b[1;33m     \u001b[1;32mreturn\u001b[0m \u001b[0mn\u001b[0m \u001b[1;33m*\u001b[0m \u001b[0mfactorial\u001b[0m\u001b[1;33m(\u001b[0m\u001b[0mn\u001b[0m\u001b[1;33m-\u001b[0m\u001b[1;36m1\u001b[0m\u001b[1;33m)\u001b[0m\u001b[1;33m\u001b[0m\u001b[1;33m\u001b[0m\u001b[0m\n\u001b[0m\u001b[0;32m      3\u001b[0m \u001b[1;33m\u001b[0m\u001b[0m\n\u001b[0;32m      4\u001b[0m \u001b[0mprint\u001b[0m\u001b[1;33m(\u001b[0m\u001b[0mfactorial\u001b[0m\u001b[1;33m(\u001b[0m\u001b[1;36m4\u001b[0m\u001b[1;33m)\u001b[0m\u001b[1;33m)\u001b[0m\u001b[1;33m\u001b[0m\u001b[1;33m\u001b[0m\u001b[0m\n",
      "... last 1 frames repeated, from the frame below ...\n",
      "\u001b[1;32m<ipython-input-32-1f076ef0a263>\u001b[0m in \u001b[0;36mfactorial\u001b[1;34m(n)\u001b[0m\n\u001b[0;32m      1\u001b[0m \u001b[1;32mdef\u001b[0m \u001b[0mfactorial\u001b[0m\u001b[1;33m(\u001b[0m\u001b[0mn\u001b[0m\u001b[1;33m)\u001b[0m\u001b[1;33m:\u001b[0m\u001b[1;33m\u001b[0m\u001b[1;33m\u001b[0m\u001b[0m\n\u001b[1;32m----> 2\u001b[1;33m     \u001b[1;32mreturn\u001b[0m \u001b[0mn\u001b[0m \u001b[1;33m*\u001b[0m \u001b[0mfactorial\u001b[0m\u001b[1;33m(\u001b[0m\u001b[0mn\u001b[0m\u001b[1;33m-\u001b[0m\u001b[1;36m1\u001b[0m\u001b[1;33m)\u001b[0m\u001b[1;33m\u001b[0m\u001b[1;33m\u001b[0m\u001b[0m\n\u001b[0m\u001b[0;32m      3\u001b[0m \u001b[1;33m\u001b[0m\u001b[0m\n\u001b[0;32m      4\u001b[0m \u001b[0mprint\u001b[0m\u001b[1;33m(\u001b[0m\u001b[0mfactorial\u001b[0m\u001b[1;33m(\u001b[0m\u001b[1;36m4\u001b[0m\u001b[1;33m)\u001b[0m\u001b[1;33m)\u001b[0m\u001b[1;33m\u001b[0m\u001b[1;33m\u001b[0m\u001b[0m\n",
      "\u001b[1;31mRecursionError\u001b[0m: maximum recursion depth exceeded"
     ]
    }
   ],
   "source": [
    "def factorial(n):\n",
    "    return n * factorial(n-1)\n",
    "\n",
    "print(factorial(4))"
   ]
  },
  {
   "cell_type": "code",
   "execution_count": 34,
   "metadata": {},
   "outputs": [
    {
     "name": "stdout",
     "output_type": "stream",
     "text": [
      "56\n"
     ]
    }
   ],
   "source": [
    "def fun(a):\n",
    "    if a > 30:\n",
    "        return 3\n",
    "    else:\n",
    "        return a + fun(a+3)\n",
    "        \n",
    "#         25 + fun(25+3) = 25 + fun(28) = 25 + (28 + fun(28+3)) = 53 + fun(31) = 53 + 3 = 56\n",
    "        \n",
    "print(fun(25))"
   ]
  },
  {
   "cell_type": "markdown",
   "metadata": {},
   "source": [
    "4.1.6.2 Tuple and Dictionaries"
   ]
  },
  {
   "cell_type": "code",
   "execution_count": 51,
   "metadata": {},
   "outputs": [
    {
     "name": "stdout",
     "output_type": "stream",
     "text": [
      "myTuples[0]   = 1\n",
      "myTuples[-1]  = 1000\n",
      "myTuples[-2]  = 100\n",
      "myTuples[:-2] = (1, 10)\n",
      "myTuples[1:]  = (10, 100, 1000)\n",
      "\n",
      "myTuples = 1  10  100  1000  "
     ]
    }
   ],
   "source": [
    "myTuples = (1, 10, 100, 1000)\n",
    "\n",
    "print(\"myTuples[0]   =\", myTuples[0])\n",
    "print(\"myTuples[-1]  =\", myTuples[-1])\n",
    "print(\"myTuples[-2]  =\", myTuples[-2])\n",
    "print(\"myTuples[:-2] =\", myTuples[:-2])\n",
    "print(\"myTuples[1:]  =\", myTuples[1:])\n",
    "print()\n",
    "\n",
    "print(\"myTuples =\", end=\" \")\n",
    "for elem in myTuples:\n",
    "    print(elem, end=\"  \")"
   ]
  },
  {
   "cell_type": "code",
   "execution_count": 52,
   "metadata": {},
   "outputs": [
    {
     "ename": "AttributeError",
     "evalue": "'tuple' object has no attribute 'append'",
     "output_type": "error",
     "traceback": [
      "\u001b[1;31m---------------------------------------------------------------------------\u001b[0m",
      "\u001b[1;31mAttributeError\u001b[0m                            Traceback (most recent call last)",
      "\u001b[1;32m<ipython-input-52-67cad111a79c>\u001b[0m in \u001b[0;36m<module>\u001b[1;34m\u001b[0m\n\u001b[0;32m      1\u001b[0m \u001b[0mmyTuples\u001b[0m \u001b[1;33m=\u001b[0m \u001b[1;33m(\u001b[0m\u001b[1;36m1\u001b[0m\u001b[1;33m,\u001b[0m \u001b[1;36m10\u001b[0m\u001b[1;33m,\u001b[0m \u001b[1;36m100\u001b[0m\u001b[1;33m,\u001b[0m \u001b[1;36m1000\u001b[0m\u001b[1;33m)\u001b[0m\u001b[1;33m\u001b[0m\u001b[1;33m\u001b[0m\u001b[0m\n\u001b[0;32m      2\u001b[0m \u001b[1;33m\u001b[0m\u001b[0m\n\u001b[1;32m----> 3\u001b[1;33m \u001b[0mmyTuples\u001b[0m\u001b[1;33m.\u001b[0m\u001b[0mappend\u001b[0m\u001b[1;33m(\u001b[0m\u001b[1;36m10000\u001b[0m\u001b[1;33m)\u001b[0m\u001b[1;33m\u001b[0m\u001b[1;33m\u001b[0m\u001b[0m\n\u001b[0m\u001b[0;32m      4\u001b[0m \u001b[0mprint\u001b[0m\u001b[1;33m(\u001b[0m\u001b[0mmyTuples\u001b[0m\u001b[1;33m)\u001b[0m\u001b[1;33m\u001b[0m\u001b[1;33m\u001b[0m\u001b[0m\n",
      "\u001b[1;31mAttributeError\u001b[0m: 'tuple' object has no attribute 'append'"
     ]
    }
   ],
   "source": [
    "myTuples = (1, 10, 100, 1000)\n",
    "\n",
    "myTuples.append(10000)\n",
    "print(myTuples)"
   ]
  },
  {
   "cell_type": "code",
   "execution_count": 53,
   "metadata": {},
   "outputs": [
    {
     "ename": "TypeError",
     "evalue": "'tuple' object doesn't support item deletion",
     "output_type": "error",
     "traceback": [
      "\u001b[1;31m---------------------------------------------------------------------------\u001b[0m",
      "\u001b[1;31mTypeError\u001b[0m                                 Traceback (most recent call last)",
      "\u001b[1;32m<ipython-input-53-828ffdcbf0e1>\u001b[0m in \u001b[0;36m<module>\u001b[1;34m\u001b[0m\n\u001b[0;32m      1\u001b[0m \u001b[0mmyTuples\u001b[0m \u001b[1;33m=\u001b[0m \u001b[1;33m(\u001b[0m\u001b[1;36m1\u001b[0m\u001b[1;33m,\u001b[0m \u001b[1;36m10\u001b[0m\u001b[1;33m,\u001b[0m \u001b[1;36m100\u001b[0m\u001b[1;33m,\u001b[0m \u001b[1;36m1000\u001b[0m\u001b[1;33m)\u001b[0m\u001b[1;33m\u001b[0m\u001b[1;33m\u001b[0m\u001b[0m\n\u001b[0;32m      2\u001b[0m \u001b[1;33m\u001b[0m\u001b[0m\n\u001b[1;32m----> 3\u001b[1;33m \u001b[1;32mdel\u001b[0m \u001b[0mmyTuples\u001b[0m\u001b[1;33m[\u001b[0m\u001b[1;36m0\u001b[0m\u001b[1;33m]\u001b[0m\u001b[1;33m\u001b[0m\u001b[1;33m\u001b[0m\u001b[0m\n\u001b[0m\u001b[0;32m      4\u001b[0m \u001b[0mprint\u001b[0m\u001b[1;33m(\u001b[0m\u001b[0mmyTuples\u001b[0m\u001b[1;33m)\u001b[0m\u001b[1;33m\u001b[0m\u001b[1;33m\u001b[0m\u001b[0m\n",
      "\u001b[1;31mTypeError\u001b[0m: 'tuple' object doesn't support item deletion"
     ]
    }
   ],
   "source": [
    "myTuples = (1, 10, 100, 1000)\n",
    "\n",
    "del myTuples[0]\n",
    "print(myTuples)"
   ]
  },
  {
   "cell_type": "code",
   "execution_count": 54,
   "metadata": {},
   "outputs": [
    {
     "ename": "TypeError",
     "evalue": "'tuple' object does not support item assignment",
     "output_type": "error",
     "traceback": [
      "\u001b[1;31m---------------------------------------------------------------------------\u001b[0m",
      "\u001b[1;31mTypeError\u001b[0m                                 Traceback (most recent call last)",
      "\u001b[1;32m<ipython-input-54-56801f18e933>\u001b[0m in \u001b[0;36m<module>\u001b[1;34m\u001b[0m\n\u001b[0;32m      1\u001b[0m \u001b[0mmyTuples\u001b[0m \u001b[1;33m=\u001b[0m \u001b[1;33m(\u001b[0m\u001b[1;36m1\u001b[0m\u001b[1;33m,\u001b[0m \u001b[1;36m10\u001b[0m\u001b[1;33m,\u001b[0m \u001b[1;36m100\u001b[0m\u001b[1;33m,\u001b[0m \u001b[1;36m1000\u001b[0m\u001b[1;33m)\u001b[0m\u001b[1;33m\u001b[0m\u001b[1;33m\u001b[0m\u001b[0m\n\u001b[0;32m      2\u001b[0m \u001b[1;33m\u001b[0m\u001b[0m\n\u001b[1;32m----> 3\u001b[1;33m \u001b[0mmyTuples\u001b[0m\u001b[1;33m[\u001b[0m\u001b[1;36m1\u001b[0m\u001b[1;33m]\u001b[0m \u001b[1;33m=\u001b[0m \u001b[1;33m-\u001b[0m\u001b[1;36m10\u001b[0m\u001b[1;33m\u001b[0m\u001b[1;33m\u001b[0m\u001b[0m\n\u001b[0m\u001b[0;32m      4\u001b[0m \u001b[0mprint\u001b[0m\u001b[1;33m(\u001b[0m\u001b[0mmyTuples\u001b[0m\u001b[1;33m)\u001b[0m\u001b[1;33m\u001b[0m\u001b[1;33m\u001b[0m\u001b[0m\n",
      "\u001b[1;31mTypeError\u001b[0m: 'tuple' object does not support item assignment"
     ]
    }
   ],
   "source": [
    "myTuples = (1, 10, 100, 1000)\n",
    "\n",
    "myTuples[1] = -10\n",
    "print(myTuples)"
   ]
  },
  {
   "cell_type": "code",
   "execution_count": 58,
   "metadata": {},
   "outputs": [
    {
     "name": "stdout",
     "output_type": "stream",
     "text": [
      "len(t2) = 9\n",
      "Tuple t1 = (1, 10, 100, 1000, 10000)\n",
      "Tuple t2 = (1, 10, 100, 1, 10, 100, 1, 10, 100)\n",
      "10 in myTuples? True\n",
      "-10 not in myTuples? True\n"
     ]
    }
   ],
   "source": [
    "myTuples = (1, 10, 100)\n",
    "\n",
    "t1 = myTuples + (1000, 10000)\n",
    "t2 = myTuples * 3\n",
    "\n",
    "print(\"len(t2) =\", len(t2))\n",
    "print(\"Tuple t1 =\", t1)\n",
    "print(\"Tuple t2 =\", t2)\n",
    "print(\"10 in myTuples?\", 10 in myTuples)\n",
    "print(\"-10 not in myTuples?\", -10 not in myTuples)"
   ]
  },
  {
   "cell_type": "code",
   "execution_count": 60,
   "metadata": {},
   "outputs": [
    {
     "name": "stdout",
     "output_type": "stream",
     "text": [
      "chat\n",
      "082287910938\n"
     ]
    },
    {
     "ename": "KeyError",
     "evalue": "'president'",
     "output_type": "error",
     "traceback": [
      "\u001b[1;31m---------------------------------------------------------------------------\u001b[0m",
      "\u001b[1;31mKeyError\u001b[0m                                  Traceback (most recent call last)",
      "\u001b[1;32m<ipython-input-60-6de788655562>\u001b[0m in \u001b[0;36m<module>\u001b[1;34m\u001b[0m\n\u001b[0;32m      4\u001b[0m \u001b[0mprint\u001b[0m\u001b[1;33m(\u001b[0m\u001b[0mdict\u001b[0m\u001b[1;33m[\u001b[0m\u001b[1;34m\"cat\"\u001b[0m\u001b[1;33m]\u001b[0m\u001b[1;33m)\u001b[0m\u001b[1;33m\u001b[0m\u001b[1;33m\u001b[0m\u001b[0m\n\u001b[0;32m      5\u001b[0m \u001b[0mprint\u001b[0m\u001b[1;33m(\u001b[0m\u001b[0mphoneNumber\u001b[0m\u001b[1;33m[\u001b[0m\u001b[1;34m'gandung'\u001b[0m\u001b[1;33m]\u001b[0m\u001b[1;33m)\u001b[0m\u001b[1;33m\u001b[0m\u001b[1;33m\u001b[0m\u001b[0m\n\u001b[1;32m----> 6\u001b[1;33m \u001b[0mprint\u001b[0m\u001b[1;33m(\u001b[0m\u001b[0mphoneNumber\u001b[0m\u001b[1;33m[\u001b[0m\u001b[1;34m\"president\"\u001b[0m\u001b[1;33m]\u001b[0m\u001b[1;33m)\u001b[0m\u001b[1;33m\u001b[0m\u001b[1;33m\u001b[0m\u001b[0m\n\u001b[0m",
      "\u001b[1;31mKeyError\u001b[0m: 'president'"
     ]
    }
   ],
   "source": [
    "dict = {\"cat\" : \"chat\", \"dog\" : \"chien\", \"horse\" : \"cheval\"}\n",
    "phoneNumber = {\"atia\" : \"082286678796\", \"gandung\" : \"082287910938\"}\n",
    "\n",
    "print(dict[\"cat\"])\n",
    "print(phoneNumber['gandung'])\n",
    "print(phoneNumber[\"president\"])"
   ]
  },
  {
   "cell_type": "code",
   "execution_count": 61,
   "metadata": {},
   "outputs": [
    {
     "name": "stdout",
     "output_type": "stream",
     "text": [
      "cat --> chat\n",
      "lion is not in dictionary\n",
      "horse --> cheval\n"
     ]
    }
   ],
   "source": [
    "dict = {\"cat\" : \"chat\", \"dog\" : \"chien\", \"horse\" : \"cheval\"}\n",
    "words = [\"cat\", \"lion\", \"horse\"]\n",
    "\n",
    "for word in words:\n",
    "    if word in dict:\n",
    "        print(word, \"-->\", dict[word])\n",
    "    else:\n",
    "        print(word, \"is not in dictionary\")"
   ]
  },
  {
   "cell_type": "code",
   "execution_count": 63,
   "metadata": {},
   "outputs": [
    {
     "name": "stdout",
     "output_type": "stream",
     "text": [
      "horse --> cheval\n",
      "dog --> chien\n",
      "cat --> chat\n",
      "\n",
      "cat --> chat\n",
      "dog --> chien\n",
      "horse --> cheval\n"
     ]
    }
   ],
   "source": [
    "dict = {\"horse\" : \"cheval\", \"dog\" : \"chien\", \"cat\" : \"chat\"}\n",
    "\n",
    "for key in dict.keys():\n",
    "    print(key, \"-->\", dict[key])\n",
    "    \n",
    "print()\n",
    "\n",
    "for key in sorted(dict.keys()):\n",
    "    print(key, \"-->\", dict[key])"
   ]
  },
  {
   "cell_type": "code",
   "execution_count": 70,
   "metadata": {},
   "outputs": [
    {
     "name": "stdout",
     "output_type": "stream",
     "text": [
      "cat --> chat\n",
      "dog --> chien\n",
      "horse --> cheval\n",
      "\n",
      "chat\n",
      "chien\n",
      "cheval\n"
     ]
    }
   ],
   "source": [
    "dict = {\"cat\" : \"chat\", \"dog\" : \"chien\", \"horse\" : \"cheval\"}\n",
    "\n",
    "for english, french in dict.items():\n",
    "    print(english, \"-->\", french)\n",
    "    \n",
    "print()\n",
    "\n",
    "for french in dict.values():\n",
    "    print(french)"
   ]
  },
  {
   "cell_type": "code",
   "execution_count": 67,
   "metadata": {},
   "outputs": [
    {
     "ename": "AttributeError",
     "evalue": "'dict' object has no attribute 'item'",
     "output_type": "error",
     "traceback": [
      "\u001b[1;31m---------------------------------------------------------------------------\u001b[0m",
      "\u001b[1;31mAttributeError\u001b[0m                            Traceback (most recent call last)",
      "\u001b[1;32m<ipython-input-67-fbc0028b103d>\u001b[0m in \u001b[0;36m<module>\u001b[1;34m\u001b[0m\n\u001b[0;32m      1\u001b[0m \u001b[0mdict\u001b[0m \u001b[1;33m=\u001b[0m \u001b[1;33m{\u001b[0m\u001b[1;34m\"cat\"\u001b[0m \u001b[1;33m:\u001b[0m \u001b[1;34m\"chat\"\u001b[0m\u001b[1;33m,\u001b[0m \u001b[1;34m\"dog\"\u001b[0m \u001b[1;33m:\u001b[0m \u001b[1;34m\"chien\"\u001b[0m\u001b[1;33m,\u001b[0m \u001b[1;34m\"horse\"\u001b[0m \u001b[1;33m:\u001b[0m \u001b[1;34m\"cheval\"\u001b[0m\u001b[1;33m}\u001b[0m\u001b[1;33m\u001b[0m\u001b[1;33m\u001b[0m\u001b[0m\n\u001b[0;32m      2\u001b[0m \u001b[1;33m\u001b[0m\u001b[0m\n\u001b[1;32m----> 3\u001b[1;33m \u001b[1;32mfor\u001b[0m \u001b[0menglish\u001b[0m\u001b[1;33m,\u001b[0m \u001b[0mfrench\u001b[0m \u001b[1;32min\u001b[0m \u001b[0mdict\u001b[0m\u001b[1;33m.\u001b[0m\u001b[0mitem\u001b[0m\u001b[1;33m(\u001b[0m\u001b[1;33m)\u001b[0m\u001b[1;33m:\u001b[0m\u001b[1;33m\u001b[0m\u001b[1;33m\u001b[0m\u001b[0m\n\u001b[0m\u001b[0;32m      4\u001b[0m     \u001b[0mprint\u001b[0m\u001b[1;33m(\u001b[0m\u001b[0menglish\u001b[0m\u001b[1;33m,\u001b[0m \u001b[1;34m\"-->\"\u001b[0m\u001b[1;33m,\u001b[0m \u001b[0mfrench\u001b[0m\u001b[1;33m)\u001b[0m\u001b[1;33m\u001b[0m\u001b[1;33m\u001b[0m\u001b[0m\n",
      "\u001b[1;31mAttributeError\u001b[0m: 'dict' object has no attribute 'item'"
     ]
    }
   ],
   "source": [
    "dict = {\"cat\" : \"chat\", \"dog\" : \"chien\", \"horse\" : \"cheval\"}\n",
    "\n",
    "for english, french in dict.item(): # items adalah atribut dari dictionaries\n",
    "    print(english, \"-->\", french)"
   ]
  },
  {
   "cell_type": "code",
   "execution_count": 78,
   "metadata": {},
   "outputs": [
    {
     "name": "stdout",
     "output_type": "stream",
     "text": [
      "{'cat': 'minou', 'dog': 'chien', 'horse': 'cheval'}\n",
      "{'cat': 'minou', 'dog': 'chien', 'horse': 'cheval', 'swan': 'cygne'}\n",
      "{'cat': 'minou', 'dog': 'chien', 'horse': 'cheval', 'swan': 'cygne', 'duck': 'canard'}\n",
      "\n",
      "{'cat': 'minou', 'horse': 'cheval', 'swan': 'cygne', 'duck': 'canard'}\n",
      "\n",
      "{'cat': 'minou', 'horse': 'cheval', 'swan': 'cygne'}\n",
      "{'cat': 'minou', 'horse': 'cheval'}\n"
     ]
    }
   ],
   "source": [
    "dict = {\"cat\" : \"chat\", \"dog\" : \"chien\", \"horse\" : \"cheval\"}\n",
    "\n",
    "dict[\"cat\"] = \"minou\"\n",
    "print(dict)\n",
    "dict[\"swan\"] = \"cygne\"\n",
    "print(dict)\n",
    "dict.update({\"duck\" : \"canard\"})\n",
    "print(dict)\n",
    "\n",
    "print()\n",
    "\n",
    "del dict[\"dog\"]\n",
    "print(dict)\n",
    "\n",
    "print()\n",
    "\n",
    "dict.popitem() # popitem untuk me-remove random item from dictionary\n",
    "print(dict)\n",
    "dict.popitem()\n",
    "print(dict)"
   ]
  },
  {
   "cell_type": "code",
   "execution_count": 2,
   "metadata": {},
   "outputs": [
    {
     "name": "stdout",
     "output_type": "stream",
     "text": [
      "Type your name or type exit to stop: atia\n",
      "Enter the student's score (0-10): 9\n",
      "Type your name or type exit to stop: atia\n",
      "Enter the student's score (0-10): 8\n",
      "Type your name or type exit to stop: atia\n",
      "Enter the student's score (0-10): 7\n",
      "Type your name or type exit to stop: atia\n",
      "Enter the student's score (0-10): 9\n",
      "Type your name or type exit to stop: atia\n",
      "Enter the student's score (0-10): 9\n",
      "Type your name or type exit to stop: atia\n",
      "Enter the student's score (0-10): 10\n",
      "Type your name or type exit to stop: gandung\n",
      "Enter the student's score (0-10): 9\n",
      "Type your name or type exit to stop: gandung\n",
      "Enter the student's score (0-10): 8\n",
      "Type your name or type exit to stop: gandung\n",
      "Enter the student's score (0-10): 7\n",
      "Type your name or type exit to stop: gandung\n",
      "Enter the student's score (0-10): 7\n",
      "Type your name or type exit to stop: gandung\n",
      "Enter the student's score (0-10): 9\n",
      "Type your name or type exit to stop: gandung\n",
      "Enter the student's score (0-10): 9\n",
      "Type your name or type exit to stop: exit\n",
      "atia : 8.666666666666666\n",
      "gandung : 8.166666666666666\n"
     ]
    }
   ],
   "source": [
    "schoolClass = {}\n",
    "\n",
    "while True:\n",
    "    name = input(\"Type your name or type exit to stop: \")\n",
    "    if name == \"exit\":\n",
    "        break\n",
    "    \n",
    "    score = int(input(\"Enter the student's score (0-10): \"))\n",
    "    \n",
    "    if name in schoolClass:\n",
    "        schoolClass[name] += (score, )\n",
    "    else:\n",
    "        schoolClass[name] = (score, )\n",
    "        \n",
    "for name in sorted(schoolClass.keys()):\n",
    "    sum = 0\n",
    "    counter = 0\n",
    "    for score in schoolClass[name]:\n",
    "        sum += score\n",
    "        counter += 1\n",
    "    \n",
    "    print(name, \":\", sum/counter)"
   ]
  },
  {
   "cell_type": "code",
   "execution_count": 7,
   "metadata": {},
   "outputs": [
    {
     "name": "stdout",
     "output_type": "stream",
     "text": [
      "Do you want to input score? yes\n",
      "Enter the student name: atia\n",
      "How many score do you want to input? 4\n",
      "The score:  9\n",
      "8\n",
      "8\n",
      "7\n",
      "{'atia': (32, 8.0)}\n",
      "Average score for atia = 8.0\n",
      "\n",
      "Do you want to input another student score? yes\n",
      "Enter the student name: atia\n",
      "How many score do you want to input? 3\n",
      "9\n",
      "8\n",
      "7\n",
      "{'atia': (False, 18.666666666666668)}\n",
      "Average score for atia = 18.666666666666668\n",
      "\n",
      "Do you want to input another student score? no\n",
      "Thank you\n",
      "Have a nice day :)\n"
     ]
    }
   ],
   "source": [
    "studentData = {}\n",
    "repeat = input(\"Do you want to input score? \")\n",
    "\n",
    "while repeat != \"no\":\n",
    "    if repeat == \"yes\":\n",
    "        name = input(\"Enter the student name: \")\n",
    "        n = int(input(\"How many score do you want to input? \"))\n",
    "        \n",
    "        if name not in studentData:\n",
    "            score = 0\n",
    "            print(\"The score: \", end=\" \")\n",
    "            for i in range(n):\n",
    "                score += int(input())\n",
    "                avg = score / n\n",
    "                studentData[name] = (score, avg)\n",
    "        \n",
    "            print(studentData)\n",
    "            print(\"Average score for\", name, \"=\", avg)\n",
    "            print()\n",
    "            \n",
    "        else:\n",
    "            score \n",
    "            for i in range(n):\n",
    "                score += int(input())\n",
    "                avg = score / n\n",
    "                studentData[name] = (score in studentData[name], avg)\n",
    "        \n",
    "            print(studentData)\n",
    "            print(\"Average score for\", name, \"=\", avg)\n",
    "            print()\n",
    "            \n",
    "        repeat = input(\"Do you want to input another student score? \")\n",
    "        \n",
    "#         if name in studentData:\n",
    "#             studentData[name] += (score, )\n",
    "#         else:\n",
    "#             studentData[name] = (score, )\n",
    "        \n",
    "    else:\n",
    "        print(\"Just type yes or no.\")\n",
    "        repeat = input(\"Try again? \")\n",
    "        \n",
    "if repeat == \"no\":\n",
    "    print(\"Thank you\")\n",
    "    print(\"Have a nice day :)\")"
   ]
  },
  {
   "cell_type": "markdown",
   "metadata": {},
   "source": [
    "4.1.6.10 SUMMARY"
   ]
  },
  {
   "cell_type": "code",
   "execution_count": 3,
   "metadata": {},
   "outputs": [
    {
     "name": "stdout",
     "output_type": "stream",
     "text": [
      "(1, 2, 'a string', True, (3, 4), [5, 6], None)\n",
      "[1, 2, 'a string', True, (3, 4), [5, 6], None]\n"
     ]
    }
   ],
   "source": [
    "myTuples = (1, 2, \"a string\", True, (3, 4), [5, 6], None)\n",
    "print(myTuples)\n",
    "\n",
    "myList = [1, 2, \"a string\", True, (3, 4), [5, 6], None]\n",
    "print(myList)"
   ]
  },
  {
   "cell_type": "code",
   "execution_count": 15,
   "metadata": {},
   "outputs": [
    {
     "name": "stdout",
     "output_type": "stream",
     "text": [
      "<class 'tuple'>\n",
      "\n",
      "elemTup1 = ('one',) --> type elemTup1 = <class 'tuple'>\n",
      "elemTup2 = ('one',) --> type elemTup2 = <class 'tuple'>\n",
      "elemTup3 = one --> type elemTup3 = <class 'str'>\n",
      "\n",
      "elemTup4 = (1,) --> type elemTup4 = <class 'tuple'>\n",
      "elemTup5 = 1 --> type elemTup5 = <class 'int'>\n"
     ]
    }
   ],
   "source": [
    "emptyTuple = ()\n",
    "print(type(emptyTuple))\n",
    "\n",
    "print()\n",
    "\n",
    "elemTup1 = (\"one\", )\n",
    "elemTup2 = \"one\",\n",
    "elemTup3 = \"one\"\n",
    "elemTup4 = 1,\n",
    "elemTup5 = 1\n",
    "\n",
    "print(\"elemTup1 =\", elemTup1, end=\" --> \"); print(\"type elemTup1 =\", type(elemTup1))\n",
    "print(\"elemTup2 =\", elemTup2, end=\" --> \"); print(\"type elemTup2 =\", type(elemTup2))\n",
    "print(\"elemTup3 =\", elemTup3, end=\" --> \"); print(\"type elemTup3 =\", type(elemTup3)); print()\n",
    "print(\"elemTup4 =\", elemTup4, end=\" --> \"); print(\"type elemTup4 =\", type(elemTup4))\n",
    "print(\"elemTup5 =\", elemTup5, end=\" --> \"); print(\"type elemTup5 =\", type(elemTup5))"
   ]
  },
  {
   "cell_type": "code",
   "execution_count": 23,
   "metadata": {},
   "outputs": [
    {
     "name": "stdout",
     "output_type": "stream",
     "text": [
      "myTup = (1, 2, 'string')\n",
      "lst   = [2, 4, 6] --> type lst = <class 'list'>\n",
      "tup   = (2, 4, 6) --> type tup = <class 'tuple'>\n",
      "lst2  = [1, 2, 3] --> type lst2 = <class 'list'>\n"
     ]
    }
   ],
   "source": [
    "myTup = tuple((1, 2, \"string\"))\n",
    "print(\"myTup =\", myTup)\n",
    "\n",
    "lst = [2, 4, 6]\n",
    "print(\"lst   =\", lst, end=\" --> \"); print(\"type lst =\", type(lst))\n",
    "\n",
    "tup = tuple(lst)\n",
    "print(\"tup   =\", tup, end=\" --> \"); print(\"type tup =\", type(tup))\n",
    "\n",
    "tup2 = 1, 2, 3,\n",
    "lst2 = list(tup2)\n",
    "print(\"lst2  =\", lst2, end=\" --> \"); print(\"type lst2 =\", type(lst2))"
   ]
  },
  {
   "cell_type": "markdown",
   "metadata": {},
   "source": [
    "4.1.6.11 SUMMARY"
   ]
  },
  {
   "cell_type": "code",
   "execution_count": 29,
   "metadata": {},
   "outputs": [
    {
     "name": "stdout",
     "output_type": "stream",
     "text": [
      "polEngDict[\"kwiat\"] = flower\n",
      "polEngDict.get(\"woda\") = water\n",
      "polEngDict[\"zamek\"] = lock\n"
     ]
    }
   ],
   "source": [
    "polEngDict = {\n",
    "    \"zamek\" : \"castle\",\n",
    "    \"kwiat\" : \"flower\",\n",
    "    \"woda\" : \"water\",\n",
    "    \"gleba\" : \"soil\"\n",
    "}\n",
    "\n",
    "item = polEngDict[\"kwiat\"]; print(\"polEngDict[\\\"kwiat\\\"] =\", item)\n",
    "print(\"polEngDict.get(\\\"woda\\\") =\", polEngDict.get(\"woda\"))\n",
    "\n",
    "polEngDict[\"zamek\"] = \"lock\"\n",
    "print(\"polEngDict[\\\"zamek\\\"] =\", polEngDict[\"zamek\"])"
   ]
  },
  {
   "cell_type": "code",
   "execution_count": 34,
   "metadata": {},
   "outputs": [
    {
     "name": "stdout",
     "output_type": "stream",
     "text": [
      "phoneBook = {'Atia': 82286678796, 'Gandung': 82287910938}\n",
      "phoneBook = {'Atia': 82286678796}\n",
      "phoneBook = {}\n"
     ]
    },
    {
     "ename": "NameError",
     "evalue": "name 'phoneBook' is not defined",
     "output_type": "error",
     "traceback": [
      "\u001b[1;31m---------------------------------------------------------------------------\u001b[0m",
      "\u001b[1;31mNameError\u001b[0m                                 Traceback (most recent call last)",
      "\u001b[1;32m<ipython-input-34-bfee43c136a1>\u001b[0m in \u001b[0;36m<module>\u001b[1;34m\u001b[0m\n\u001b[0;32m     13\u001b[0m \u001b[1;33m\u001b[0m\u001b[0m\n\u001b[0;32m     14\u001b[0m \u001b[1;32mdel\u001b[0m \u001b[0mphoneBook\u001b[0m\u001b[1;33m\u001b[0m\u001b[1;33m\u001b[0m\u001b[0m\n\u001b[1;32m---> 15\u001b[1;33m \u001b[0mprint\u001b[0m\u001b[1;33m(\u001b[0m\u001b[0mphoneBook\u001b[0m\u001b[1;33m)\u001b[0m\u001b[1;33m\u001b[0m\u001b[1;33m\u001b[0m\u001b[0m\n\u001b[0m",
      "\u001b[1;31mNameError\u001b[0m: name 'phoneBook' is not defined"
     ]
    }
   ],
   "source": [
    "phoneBook = {}\n",
    "\n",
    "phoneBook[\"Atia\"] = 82286678796\n",
    "phoneBook[\"Gandung\"] = 82287910938\n",
    "\n",
    "print(\"phoneBook =\", phoneBook)\n",
    "\n",
    "del phoneBook[\"Gandung\"]\n",
    "print(\"phoneBook =\", phoneBook)\n",
    "\n",
    "del phoneBook[\"Atia\"]\n",
    "print(\"phoneBook =\", phoneBook)\n",
    "\n",
    "del phoneBook\n",
    "print(phoneBook)"
   ]
  },
  {
   "cell_type": "code",
   "execution_count": 60,
   "metadata": {},
   "outputs": [
    {
     "name": "stdout",
     "output_type": "stream",
     "text": [
      "polEngDict = {'zamek': 'castle', 'kwiat': 'flower'}\n",
      "\n",
      "zamek\n",
      "kwiat\n",
      "\n",
      "polEngDict = {'zamek': 'castle'}\n",
      "\n",
      "polEngDict3 = ({'zamek': 'castle'}, {'kwiat': 'flower', 'woda': 'water', 'gleba': 'soil'})\n",
      "type polEngDict3 = <class 'tuple'>\n",
      "\n",
      "polEngDict4 = {'pol1': {'zamek': 'castle'}, 'pol2': {'kwiat': 'flower', 'woda': 'water', 'gleba': 'soil'}}\n",
      "type polEngDict4 = <class 'dict'>\n",
      "type pol2 = <class 'dict'>\n",
      "\n",
      "pol1\n",
      "pol2\n"
     ]
    }
   ],
   "source": [
    "polEngDict = {\"zamek\" : \"castle\"}\n",
    "\n",
    "polEngDict.update({\"kwiat\" : \"flower\"})\n",
    "print(\"polEngDict =\", polEngDict); print()\n",
    "\n",
    "for item in polEngDict:\n",
    "    print(item)\n",
    "\n",
    "print()\n",
    "polEngDict.popitem()\n",
    "print(\"polEngDict =\", polEngDict)\n",
    "print()\n",
    "\n",
    "polEngDict2 = {\n",
    "    \"kwiat\" : \"flower\",\n",
    "    \"woda\" : \"water\",\n",
    "    \"gleba\" : \"soil\"\n",
    "}\n",
    "\n",
    "polEngDict3 = polEngDict, polEngDict2\n",
    "print(\"polEngDict3 =\", polEngDict3)\n",
    "print(\"type polEngDict3 =\", type(polEngDict3)); print()\n",
    "\n",
    "polEngDict4 = {\"pol1\" : polEngDict, \"pol2\" : polEngDict2}\n",
    "print(\"polEngDict4 =\", polEngDict4)\n",
    "print(\"type polEngDict4 =\", type(polEngDict4))\n",
    "print(\"type pol2 =\", type(polEngDict4[\"pol2\"]))\n",
    "print()\n",
    "\n",
    "for item in polEngDict4:\n",
    "    print(item)"
   ]
  },
  {
   "cell_type": "code",
   "execution_count": 71,
   "metadata": {},
   "outputs": [
    {
     "name": "stdout",
     "output_type": "stream",
     "text": [
      "('zamek', 'castle')\n",
      "('kwiat', 'flower')\n",
      "('woda', 'water')\n",
      "('gleba', 'soil')\n",
      "\n",
      "zamek\n",
      "kwiat\n",
      "woda\n",
      "gleba\n",
      "\n",
      "castle\n",
      "flower\n",
      "water\n",
      "soil\n",
      "\n",
      "Pol/Eng --> zamek : castle\n",
      "Pol/Eng --> kwiat : flower\n",
      "Pol/Eng --> woda : water\n",
      "Pol/Eng --> gleba : soil\n"
     ]
    }
   ],
   "source": [
    "polEngDict = {\n",
    "    \"zamek\" : \"castle\",\n",
    "    \"kwiat\" : \"flower\",\n",
    "    \"woda\" : \"water\",\n",
    "    \"gleba\" : \"soil\"\n",
    "}\n",
    "\n",
    "for i in polEngDict.items():\n",
    "    print(i)\n",
    "    \n",
    "print()\n",
    "\n",
    "for item in polEngDict:               # item hanya variable bisa diganti i\n",
    "    print(item)\n",
    "    \n",
    "print()\n",
    "\n",
    "for key, value in polEngDict.items(): # value dan key hanya variable bisa diganti i dan j\n",
    "    print(value)\n",
    "    \n",
    "print()\n",
    "\n",
    "for key, value in polEngDict.items():\n",
    "    print(\"Pol/Eng -->\", key, \":\", value)"
   ]
  },
  {
   "cell_type": "code",
   "execution_count": 90,
   "metadata": {},
   "outputs": [
    {
     "name": "stdout",
     "output_type": "stream",
     "text": [
      "Yes\n",
      "\n",
      "len(polEngDict) = 4\n",
      "len(polEngDict) = 3\n",
      "len(polEngDict) = 0\n"
     ]
    },
    {
     "ename": "NameError",
     "evalue": "name 'polEngDict' is not defined",
     "output_type": "error",
     "traceback": [
      "\u001b[1;31m---------------------------------------------------------------------------\u001b[0m",
      "\u001b[1;31mNameError\u001b[0m                                 Traceback (most recent call last)",
      "\u001b[1;32m<ipython-input-90-5497d08de610>\u001b[0m in \u001b[0;36m<module>\u001b[1;34m\u001b[0m\n\u001b[0;32m     21\u001b[0m \u001b[1;33m\u001b[0m\u001b[0m\n\u001b[0;32m     22\u001b[0m \u001b[1;32mdel\u001b[0m \u001b[0mpolEngDict\u001b[0m\u001b[1;33m\u001b[0m\u001b[1;33m\u001b[0m\u001b[0m\n\u001b[1;32m---> 23\u001b[1;33m \u001b[0mprint\u001b[0m\u001b[1;33m(\u001b[0m\u001b[1;34m\"len(polEngDict) =\"\u001b[0m\u001b[1;33m,\u001b[0m \u001b[0mlen\u001b[0m\u001b[1;33m(\u001b[0m\u001b[0mpolEngDict\u001b[0m\u001b[1;33m)\u001b[0m\u001b[1;33m)\u001b[0m\u001b[1;33m\u001b[0m\u001b[1;33m\u001b[0m\u001b[0m\n\u001b[0m",
      "\u001b[1;31mNameError\u001b[0m: name 'polEngDict' is not defined"
     ]
    }
   ],
   "source": [
    "polEngDict = {\n",
    "    \"zamek\" : \"castle\",\n",
    "    \"kwiat\" : \"flower\",\n",
    "    \"woda\" : \"water\",\n",
    "    \"gleba\" : \"soil\"\n",
    "}\n",
    "\n",
    "if \"zamek\" in polEngDict:\n",
    "    print(\"Yes\")\n",
    "else:\n",
    "    print(\"No\")\n",
    "    \n",
    "print()\n",
    "print(\"len(polEngDict) =\", len(polEngDict))\n",
    "\n",
    "del polEngDict[\"zamek\"]\n",
    "print(\"len(polEngDict) =\", len(polEngDict))\n",
    "\n",
    "polEngDict.clear()\n",
    "print(\"len(polEngDict) =\", len(polEngDict))\n",
    "\n",
    "del polEngDict\n",
    "print(\"len(polEngDict) =\", len(polEngDict))"
   ]
  },
  {
   "cell_type": "code",
   "execution_count": 91,
   "metadata": {},
   "outputs": [
    {
     "name": "stdout",
     "output_type": "stream",
     "text": [
      "copyDict = {'zamek': 'castle', 'kwiat': 'flower', 'woda': 'water', 'gleba': 'soil'}\n"
     ]
    }
   ],
   "source": [
    "polEngDict = {\n",
    "    \"zamek\" : \"castle\",\n",
    "    \"kwiat\" : \"flower\",\n",
    "    \"woda\" : \"water\",\n",
    "    \"gleba\" : \"soil\"\n",
    "}\n",
    "\n",
    "copyDict = polEngDict.copy()\n",
    "print(\"copyDict =\", copyDict)"
   ]
  },
  {
   "cell_type": "markdown",
   "metadata": {},
   "source": [
    "4.1.6.12 EXERCISE"
   ]
  },
  {
   "cell_type": "code",
   "execution_count": 95,
   "metadata": {},
   "outputs": [
    {
     "name": "stdout",
     "output_type": "stream",
     "text": [
      "6\n",
      "6\n"
     ]
    }
   ],
   "source": [
    "tup = 1, 2, 3\n",
    "a, b, c = tup\n",
    "print(a * b * c)\n",
    "\n",
    "tup2 = {1, 2, 3}\n",
    "d, e, f = tup2\n",
    "print(d * e * f)"
   ]
  },
  {
   "cell_type": "code",
   "execution_count": 96,
   "metadata": {},
   "outputs": [
    {
     "name": "stdout",
     "output_type": "stream",
     "text": [
      "4\n"
     ]
    }
   ],
   "source": [
    "tup = 1, 2, 3, 2, 4, 5, 6, 2, 7, 2, 8, 9\n",
    "duplicates = tup.count(2)\n",
    "print(duplicates)"
   ]
  },
  {
   "cell_type": "code",
   "execution_count": 97,
   "metadata": {},
   "outputs": [
    {
     "name": "stdout",
     "output_type": "stream",
     "text": [
      "{'Adam Smith': 'A', 'Judy Paxton': 'B+', 'Mary Louis': 'A', 'Patrick White': 'C'}\n"
     ]
    }
   ],
   "source": [
    "d1 = {\"Adam Smith\" : \"A\", \"Judy Paxton\" : \"B+\"}\n",
    "d2 = {\"Mary Louis\" : \"A\", \"Patrick White\" : \"C\"}\n",
    "d3 = {}\n",
    "\n",
    "for item in (d1, d2):\n",
    "    d3.update(item)\n",
    "    \n",
    "print(d3)"
   ]
  },
  {
   "cell_type": "code",
   "execution_count": 101,
   "metadata": {},
   "outputs": [
    {
     "name": "stdout",
     "output_type": "stream",
     "text": [
      "('car', 'ford', 'flower', 'tulip')\n"
     ]
    },
    {
     "ename": "ValueError",
     "evalue": "dictionary update sequence element #0 has length 3; 2 is required",
     "output_type": "error",
     "traceback": [
      "\u001b[1;31m---------------------------------------------------------------------------\u001b[0m",
      "\u001b[1;31mValueError\u001b[0m                                Traceback (most recent call last)",
      "\u001b[1;32m<ipython-input-101-42d764b737eb>\u001b[0m in \u001b[0;36m<module>\u001b[1;34m\u001b[0m\n\u001b[0;32m      3\u001b[0m \u001b[0mprint\u001b[0m\u001b[1;33m(\u001b[0m\u001b[0mt\u001b[0m\u001b[1;33m)\u001b[0m\u001b[1;33m\u001b[0m\u001b[1;33m\u001b[0m\u001b[0m\n\u001b[0;32m      4\u001b[0m \u001b[1;33m\u001b[0m\u001b[0m\n\u001b[1;32m----> 5\u001b[1;33m \u001b[0md\u001b[0m \u001b[1;33m=\u001b[0m \u001b[0mdict\u001b[0m\u001b[1;33m(\u001b[0m\u001b[0mlst\u001b[0m\u001b[1;33m)\u001b[0m\u001b[1;33m\u001b[0m\u001b[1;33m\u001b[0m\u001b[0m\n\u001b[0m\u001b[0;32m      6\u001b[0m \u001b[0mprint\u001b[0m\u001b[1;33m(\u001b[0m\u001b[0md\u001b[0m\u001b[1;33m)\u001b[0m\u001b[1;33m\u001b[0m\u001b[1;33m\u001b[0m\u001b[0m\n",
      "\u001b[1;31mValueError\u001b[0m: dictionary update sequence element #0 has length 3; 2 is required"
     ]
    }
   ],
   "source": [
    "lst = [\"car\", \"ford\", \"flower\", \"tulip\"]\n",
    "t = tuple(lst)\n",
    "print(t)\n",
    "\n",
    "d = dict(lst)\n",
    "print(d)"
   ]
  },
  {
   "cell_type": "code",
   "execution_count": 104,
   "metadata": {},
   "outputs": [
    {
     "name": "stdout",
     "output_type": "stream",
     "text": [
      "{'car': 'ford', 'flower': 'tulip'}\n",
      "\n",
      "{'green': '#008000', 'blue': '#0000ff'}\n"
     ]
    }
   ],
   "source": [
    "lst = [(\"car\", \"ford\"), (\"flower\", \"tulip\")]\n",
    "\n",
    "d = dict(lst)\n",
    "print(d)\n",
    "\n",
    "print()\n",
    "\n",
    "colors = ((\"green\", \"#008000\"), (\"blue\", \"#0000ff\"))\n",
    "\n",
    "colDict = dict(colors)\n",
    "print(colDict)"
   ]
  },
  {
   "cell_type": "code",
   "execution_count": 112,
   "metadata": {},
   "outputs": [
    {
     "name": "stdout",
     "output_type": "stream",
     "text": [
      "copyMyDict = {'A': 1, 'B': 2}\n",
      "myDict     = {'A': 1, 'B': 2}\n"
     ]
    }
   ],
   "source": [
    "myDict = {\"A\" : 1, \"B\" : 2}\n",
    "\n",
    "copyMyDict = myDict.copy()\n",
    "print(\"copyMyDict =\", copyMyDict)\n",
    "print(\"myDict     =\", myDict)"
   ]
  },
  {
   "cell_type": "code",
   "execution_count": 113,
   "metadata": {},
   "outputs": [
    {
     "name": "stdout",
     "output_type": "stream",
     "text": [
      "copyMyDict = {}\n",
      "myDict     = {}\n"
     ]
    }
   ],
   "source": [
    "myDict = {\"A\" : 1, \"B\" : 2}\n",
    "\n",
    "myDict.clear()\n",
    "copyMyDict = myDict.copy()\n",
    "print(\"copyMyDict =\", copyMyDict)\n",
    "print(\"myDict     =\", myDict)"
   ]
  },
  {
   "cell_type": "code",
   "execution_count": 114,
   "metadata": {},
   "outputs": [
    {
     "name": "stdout",
     "output_type": "stream",
     "text": [
      "copyMyDict = {'A': 1, 'B': 2}\n",
      "myDict     = {}\n"
     ]
    }
   ],
   "source": [
    "myDict = {\"A\" : 1, \"B\" : 2}\n",
    "\n",
    "copyMyDict = myDict.copy()\n",
    "myDict.clear()\n",
    "print(\"copyMyDict =\", copyMyDict)\n",
    "print(\"myDict     =\", myDict)"
   ]
  },
  {
   "cell_type": "code",
   "execution_count": 117,
   "metadata": {},
   "outputs": [
    {
     "name": "stdout",
     "output_type": "stream",
     "text": [
      "green : (0, 128, 0)\n",
      "grey : (128, 128, 128)\n",
      "red : (255, 0, 0)\n",
      "white : (255, 255, 255)\n"
     ]
    }
   ],
   "source": [
    "colors = {\n",
    "    \"white\" : (255, 255, 255),\n",
    "    \"grey\" : (128, 128, 128),\n",
    "    \"red\" : (255, 0, 0),\n",
    "    \"green\" : (0, 128, 0)\n",
    "}\n",
    "\n",
    "for color, rgb in sorted(colors.items()):\n",
    "    print(color, \":\", rgb)"
   ]
  },
  {
   "cell_type": "markdown",
   "metadata": {},
   "source": [
    "4.1.6.13 PROJECT: Tic Tac Toe"
   ]
  },
  {
   "cell_type": "code",
   "execution_count": 37,
   "metadata": {},
   "outputs": [
    {
     "name": "stdout",
     "output_type": "stream",
     "text": [
      " Play the GAME! and klik start.start\n",
      "\n",
      "------- Let's start the GAME! -------\n",
      "\n",
      "+-----------+-----------+-----------+\n",
      "|           |           |           |\n",
      "|           |           |           |\n",
      "|     1     |     2     |     3     |\n",
      "|           |           |           |\n",
      "|           |           |           |\n",
      "+-----------+-----------+-----------+\n",
      "|           |           |           |\n",
      "|           |           |           |\n",
      "|     4     |     X     |     6     |\n",
      "|           |           |           |\n",
      "|           |           |           |\n",
      "+-----------+-----------+-----------+\n",
      "|           |           |           |\n",
      "|           |           |           |\n",
      "|     7     |     8     |     9     |\n",
      "|           |           |           |\n",
      "|           |           |           |\n",
      "+-----------+-----------+-----------+\n",
      "\n",
      "Type numbers in the box to choose your path: 3\n",
      "\n",
      "+-----------+-----------+-----------+\n",
      "|           |           |           |\n",
      "|           |           |           |\n",
      "|     1     |     2     |     3     |\n",
      "|           |           |           |\n",
      "|           |           |           |\n",
      "+-----------+-----------+-----------+\n",
      "|           |           |           |\n",
      "|           |           |           |\n",
      "|     4     |     X     |     6     |\n",
      "|           |           |           |\n",
      "|           |           |           |\n",
      "+-----------+-----------+-----------+\n",
      "|           |           |           |\n",
      "|           |           |           |\n",
      "|     7     |     8     |     9     |\n",
      "|           |           |           |\n",
      "|           |           |           |\n",
      "+-----------+-----------+-----------+\n",
      "\n"
     ]
    }
   ],
   "source": [
    "def displayBoard(board):\n",
    "    if board == \"start\":\n",
    "        i = 0\n",
    "        print(\"+-----------+-----------+-----------+\")\n",
    "        while i < 3:\n",
    "            for j in range(1, 5):\n",
    "                if j == 3:\n",
    "                    if i == 1:\n",
    "                        a = \"|     \" + str(j+(i*3)-2) + \"     |     \" + \"X\" + \"     |     \" + str(j+(i*3)) + \"     |\"\n",
    "                        print(a)\n",
    "                    else:   \n",
    "                        a = \"|     \" + str(j+(i*3)-2) + \"     |     \" + str(j+(i*3)-1) + \"     |     \" + str(j+(i*3)) + \"     |\"\n",
    "                        print(a)\n",
    "\n",
    "                print(\"|           |           |           |\")\n",
    "\n",
    "            print(\"+-----------+-----------+-----------+\")\n",
    "            i += 1\n",
    "\n",
    "        print()\n",
    "\n",
    "        \n",
    "def enterMove(board):\n",
    "    if board == \"start\":\n",
    "        displayBoard(board)\n",
    "        \n",
    "        move = input(\"Type numbers in the box to choose your path: \")\n",
    "        print()\n",
    "        i = 0\n",
    "        while i < 3:\n",
    "            for i in range(1, 5):\n",
    "                if move == j+(i*3)-2:\n",
    "                    a = \"|     \" + \"O\" + \"     |     \" + str(j+(i*3)-1) + \"     |     \" + str(j+(i*3)) + \"     |\"\n",
    "                    print(a)\n",
    "                    return a\n",
    "                if move == j+(i*3)-1:\n",
    "                    a = \"|     \" + str(j+(i*3)-2) + \"     |     \" + \"O\" + \"     |     \" + str(j+(i*3)) + \"     |\"\n",
    "                    print(a)\n",
    "                    return a\n",
    "                if move == j+(i*3):\n",
    "                    a = \"|     \" + str(j+(i*3)-2) + \"     |     \" + str(j+(i*3)-1) + \"     |     \" + \"O\" + \"     |\"\n",
    "                    print(a)\n",
    "                    return a\n",
    "\n",
    "            i += 1\n",
    "        displayBoard(board)\n",
    "        \n",
    "\n",
    "# def makeListOfFreeFields(board)\n",
    "\n",
    "# def victoryFor(board, sign)\n",
    "\n",
    "# def drawMove(board)\n",
    "\n",
    "\n",
    "board = input(\" Play the GAME! and klik start.\"); print()\n",
    "print(\"------- Let's start the GAME! -------\")\n",
    "print()\n",
    "enterMove(board)\n"
   ]
  },
  {
   "cell_type": "code",
   "execution_count": 53,
   "metadata": {},
   "outputs": [
    {
     "name": "stdout",
     "output_type": "stream",
     "text": [
      "+-------+-------+-------+\n",
      "|       |       |       |\n",
      "|   1   |   2   |   3   |\n",
      "|       |       |       |\n",
      "+-------+-------+-------+\n",
      "|       |       |       |\n",
      "|   4   |   5   |   6   |\n",
      "|       |       |       |\n",
      "+-------+-------+-------+\n",
      "|       |       |       |\n",
      "|   7   |   8   |   9   |\n",
      "|       |       |       |\n",
      "+-------+-------+-------+\n"
     ]
    },
    {
     "ename": "NameError",
     "evalue": "name 'makeListOfFreeFields' is not defined",
     "output_type": "error",
     "traceback": [
      "\u001b[1;31m---------------------------------------------------------------------------\u001b[0m",
      "\u001b[1;31mNameError\u001b[0m                                 Traceback (most recent call last)",
      "\u001b[1;32m<ipython-input-53-f3fba8db1a94>\u001b[0m in \u001b[0;36m<module>\u001b[1;34m\u001b[0m\n\u001b[0;32m     47\u001b[0m \u001b[1;33m\u001b[0m\u001b[0m\n\u001b[0;32m     48\u001b[0m \u001b[1;32mwhile\u001b[0m \u001b[1;32mTrue\u001b[0m\u001b[1;33m:\u001b[0m\u001b[1;33m\u001b[0m\u001b[1;33m\u001b[0m\u001b[0m\n\u001b[1;32m---> 49\u001b[1;33m     \u001b[1;32mif\u001b[0m \u001b[0mlen\u001b[0m\u001b[1;33m(\u001b[0m\u001b[0mmakeListOfFreeFields\u001b[0m\u001b[1;33m(\u001b[0m\u001b[0mboard\u001b[0m\u001b[1;33m)\u001b[0m\u001b[1;33m)\u001b[0m \u001b[1;33m>\u001b[0m \u001b[1;36m0\u001b[0m\u001b[1;33m:\u001b[0m\u001b[1;33m\u001b[0m\u001b[1;33m\u001b[0m\u001b[0m\n\u001b[0m\u001b[0;32m     50\u001b[0m         \u001b[0menterMove\u001b[0m\u001b[1;33m(\u001b[0m\u001b[0mboard\u001b[0m\u001b[1;33m)\u001b[0m\u001b[1;33m\u001b[0m\u001b[1;33m\u001b[0m\u001b[0m\n\u001b[0;32m     51\u001b[0m         \u001b[1;32mif\u001b[0m \u001b[0mvictoryFor\u001b[0m\u001b[1;33m(\u001b[0m\u001b[0mboard\u001b[0m\u001b[1;33m,\u001b[0m \u001b[1;34m\"O\"\u001b[0m\u001b[1;33m)\u001b[0m\u001b[1;33m:\u001b[0m\u001b[1;33m\u001b[0m\u001b[1;33m\u001b[0m\u001b[0m\n",
      "\u001b[1;31mNameError\u001b[0m: name 'makeListOfFreeFields' is not defined"
     ]
    }
   ],
   "source": [
    "def displayBoard(board):\n",
    "    print(\"+-------+-------+-------+\")\n",
    "    for r in board:\n",
    "        print(\"|       |       |       |\")\n",
    "        for c in r:\n",
    "            if c[\"owner\"] != \"\":\n",
    "                print(\"|  \", c[\"owner\"], end=\"   \")\n",
    "            else:\n",
    "                print(\"|  \", c[\"no\"], end=\"   \")\n",
    "        print(\"|\")\n",
    "        print(\"|       |       |       |\")\n",
    "        print(\"+-------+-------+-------+\")\n",
    "        \n",
    "        \n",
    "def enterMove(board):\n",
    "    a = True\n",
    "    while a:\n",
    "        hi = input(\"Your turn :\")\n",
    "        for i in range(3):\n",
    "            for j in range(3):\n",
    "                if hi in board[i][j] and hi != \"\":\n",
    "                    a = False\n",
    "                    \n",
    "            if a == False:\n",
    "                break\n",
    "                \n",
    "    board[i][j] = \"O\"\n",
    "\n",
    "    \n",
    "    \n",
    "    \n",
    "    \n",
    "    \n",
    "    \n",
    "    \n",
    "    \n",
    "    \n",
    "\n",
    "        \n",
    "board = [\n",
    "            [{\"no\" : 1, \"owner\" : \"\"}, {\"no\" : 2, \"owner\" : \"\"}, {\"no\" : 3, \"owner\" : \"\"}],\n",
    "            [{\"no\" : 4, \"owner\" : \"\"}, {\"no\" : 5, \"owner\" : \"\"}, {\"no\" : 6, \"owner\" : \"\"}],\n",
    "            [{\"no\" : 7, \"owner\" : \"\"}, {\"no\" : 8, \"owner\" : \"\"}, {\"no\" : 9, \"owner\" : \"\"}]\n",
    "        ]\n",
    "\n",
    "displayBoard(board)\n",
    "\n",
    "while True:\n",
    "    if len(makeListOfFreeFields(board)) > 0:\n",
    "        enterMove(board)\n",
    "        if victoryFor(board, \"O\"):\n",
    "            print(\"You won!\")\n",
    "            break\n",
    "        else:\n",
    "            drawMove(board)\n",
    "            if victoryFor(board, \"X\"):\n",
    "                print(\"Computer won!\")\n",
    "                break\n",
    "    else:\n",
    "        print(\"Tie!\")\n",
    "        break\n",
    "        \n",
    "input(\"\")"
   ]
  },
  {
   "cell_type": "code",
   "execution_count": 28,
   "metadata": {},
   "outputs": [
    {
     "name": "stdout",
     "output_type": "stream",
     "text": [
      "+-------+-------+-------+\n",
      "|       |       |       |\n",
      "|   1   |   2   |   3   |\n",
      "|       |       |       |\n",
      "+-------+-------+-------+\n",
      "|       |       |       |\n",
      "|   4   |   5   |   6   |\n",
      "|       |       |       |\n",
      "+-------+-------+-------+\n",
      "|       |       |       |\n",
      "|   7   |   8   |   9   |\n",
      "|       |       |       |\n",
      "+-------+-------+-------+\n"
     ]
    }
   ],
   "source": [
    "def displayBoard(board):\n",
    "    print(\"+-------+-------+-------+\")\n",
    "    print(\"|       |       |       |\")\n",
    "    print(\"|   \" + board[0] + \"   \" + \"|   \" + board[1] + \"   \" + \"|   \" + board[2] + \"   |\")\n",
    "    print(\"|       |       |       |\")\n",
    "    print(\"+-------+-------+-------+\")\n",
    "    print(\"|       |       |       |\")\n",
    "    print(\"|   \" + board[3] + \"   \" + \"|   \" + board[4] + \"   \" + \"|   \" + board[5] + \"   |\")\n",
    "    print(\"|       |       |       |\")\n",
    "    print(\"+-------+-------+-------+\")\n",
    "    print(\"|       |       |       |\")\n",
    "    print(\"|   \" + board[6] + \"   \" + \"|   \" + board[7] + \"   \" + \"|   \" + board[8] + \"   |\")\n",
    "    print(\"|       |       |       |\")\n",
    "    print(\"+-------+-------+-------+\")\n",
    "\n",
    "\n",
    "def enterMove(board):\n",
    "    \n",
    "    \n",
    "theBoard = {\n",
    "    \"1\" : \"\", \"2\" : \"\", \"3\" : \"\",\n",
    "    \"4\" : \"\", \"5\" : \"\", \"6\" : \"\",\n",
    "    \"7\" : \"\", \"8\" : \"\", \"9\" : \"\"\n",
    "}\n",
    "\n",
    "board = []\n",
    "for key in theBoard:\n",
    "    board.append(key)\n",
    "    \n",
    "displayBoard(board)"
   ]
  },
  {
   "cell_type": "code",
   "execution_count": 8,
   "metadata": {},
   "outputs": [
    {
     "name": "stdout",
     "output_type": "stream",
     "text": [
      "Type start to play! start\n",
      "\n",
      "--Let's start the GAME!--\n",
      "\n",
      "+-------+-------+-------+\n",
      "|       |       |       |\n",
      "|   1   |   2   |   3   |\n",
      "|       |       |       |\n",
      "+-------+-------+-------+\n",
      "|       |       |       |\n",
      "|   4   |   X   |   6   |\n",
      "|       |       |       |\n",
      "+-------+-------+-------+\n",
      "|       |       |       |\n",
      "|   7   |   8   |   9   |\n",
      "|       |       |       |\n",
      "+-------+-------+-------+\n",
      "\n",
      "Your turn, choose number? 4\n",
      "\n",
      "+-------+-------+-------+\n",
      "|       |       |       |\n",
      "|   X   |   2   |   X   |\n",
      "|       |       |       |\n",
      "+-------+-------+-------+\n",
      "|       |       |       |\n",
      "|   O   |   X   |   6   |\n",
      "|       |       |       |\n",
      "+-------+-------+-------+\n",
      "|       |       |       |\n",
      "|   7   |   8   |   9   |\n",
      "|       |       |       |\n",
      "+-------+-------+-------+\n",
      "Your turn, choose number? 7\n",
      "\n",
      "+-------+-------+-------+\n",
      "|       |       |       |\n",
      "|   X   |   2   |   X   |\n",
      "|       |       |       |\n",
      "+-------+-------+-------+\n",
      "|       |       |       |\n",
      "|   O   |   X   |   6   |\n",
      "|       |       |       |\n",
      "+-------+-------+-------+\n",
      "|       |       |       |\n",
      "|   O   |   8   |   X   |\n",
      "|       |       |       |\n",
      "+-------+-------+-------+\n"
     ]
    }
   ],
   "source": [
    "import random\n",
    "\n",
    "def displayBoard(board):\n",
    "    print(\"+-------+-------+-------+\")\n",
    "    for r in board:\n",
    "        print(\"|       |       |       |\")\n",
    "        for c in r:\n",
    "            if c[\"owner\"] != \"\":\n",
    "                print(\"|  \", c[\"owner\"], end=\"   \")\n",
    "            else:\n",
    "                print(\"|  \", c[\"no\"], end=\"   \")\n",
    "        print(\"|\")\n",
    "        print(\"|       |       |       |\")\n",
    "        print(\"+-------+-------+-------+\")\n",
    "        \n",
    "\n",
    "def enterMove(board):\n",
    "    start = input(\"Type start to play! \"); print()\n",
    "    print(\"--Let's start the GAME!--\"); print()\n",
    "    if start == \"start\":\n",
    "        board[1][1][\"no\"] = \"X\"\n",
    "    displayBoard(board); print()\n",
    "    \n",
    "    count = 1\n",
    "    while count < 3:\n",
    "        count += 1\n",
    "        human = int(input(\"Your turn, choose number? \")); print()\n",
    "        for i in range(3):\n",
    "            for j in range(3):\n",
    "                if board[i][j][\"owner\"] == \"\":\n",
    "                    if board[i][j][\"no\"] == human:\n",
    "                        board[i][j][\"owner\"] = \"O\"\n",
    "\n",
    "                    comp = random.randint(1, 9)\n",
    "                    while board[i][j][\"no\"] == comp:\n",
    "                        if board[i][j][\"owner\"] == \"\":\n",
    "                            board[i][j][\"owner\"] = \"X\"\n",
    "                        else:\n",
    "                            comp = random.randint(1, 9)\n",
    "        \n",
    "        displayBoard(board)\n",
    "    \n",
    "# def makeListOfFreeFields(board):\n",
    "#     enterMove(board)\n",
    "        \n",
    "board = [\n",
    "            [{\"no\" : 1, \"owner\" : \"\"}, {\"no\" : 2, \"owner\" : \"\"}, {\"no\" : 3, \"owner\" : \"\"}],\n",
    "            [{\"no\" : 4, \"owner\" : \"\"}, {\"no\" : 5, \"owner\" : \"\"}, {\"no\" : 6, \"owner\" : \"\"}],\n",
    "            [{\"no\" : 7, \"owner\" : \"\"}, {\"no\" : 8, \"owner\" : \"\"}, {\"no\" : 9, \"owner\" : \"\"}]\n",
    "        ]\n",
    "\n",
    "enterMove(board)"
   ]
  },
  {
   "cell_type": "code",
   "execution_count": 17,
   "metadata": {},
   "outputs": [
    {
     "name": "stdout",
     "output_type": "stream",
     "text": [
      "9\n"
     ]
    }
   ],
   "source": [
    "import random\n",
    "\n",
    "comp = random.randint(1, 9)\n",
    "print(comp)"
   ]
  },
  {
   "cell_type": "code",
   "execution_count": null,
   "metadata": {},
   "outputs": [],
   "source": []
  },
  {
   "cell_type": "code",
   "execution_count": null,
   "metadata": {},
   "outputs": [],
   "source": []
  }
 ],
 "metadata": {
  "kernelspec": {
   "display_name": "Python 3",
   "language": "python",
   "name": "python3"
  },
  "language_info": {
   "codemirror_mode": {
    "name": "ipython",
    "version": 3
   },
   "file_extension": ".py",
   "mimetype": "text/x-python",
   "name": "python",
   "nbconvert_exporter": "python",
   "pygments_lexer": "ipython3",
   "version": "3.7.6"
  }
 },
 "nbformat": 4,
 "nbformat_minor": 4
}
