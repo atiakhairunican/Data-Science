{
 "cells": [
  {
   "cell_type": "code",
   "execution_count": 7,
   "metadata": {},
   "outputs": [
    {
     "name": "stdout",
     "output_type": "stream",
     "text": [
      "stack = [3, 2, 1]\n",
      "1\n",
      "2\n",
      "3\n"
     ]
    }
   ],
   "source": [
    "stack = []\n",
    "\n",
    "def push(val):\n",
    "    stack.append(val)\n",
    "    \n",
    "def pop():\n",
    "    val = stack[-1]\n",
    "    del stack[-1]\n",
    "    return val # ngereturn nothing\n",
    "\n",
    "push(3)\n",
    "push(2)\n",
    "push(1)\n",
    "\n",
    "print(\"stack =\", stack)\n",
    "print(pop())\n",
    "print(pop())\n",
    "print(pop())"
   ]
  },
  {
   "cell_type": "code",
   "execution_count": 8,
   "metadata": {},
   "outputs": [
    {
     "name": "stdout",
     "output_type": "stream",
     "text": [
      "Hi!\n"
     ]
    }
   ],
   "source": [
    "class Stack:\n",
    "    def __init__(self):\n",
    "        print(\"Hi!\")\n",
    "        \n",
    "obj = Stack()"
   ]
  },
  {
   "cell_type": "code",
   "execution_count": 11,
   "metadata": {},
   "outputs": [
    {
     "name": "stdout",
     "output_type": "stream",
     "text": [
      "[]\n",
      "0\n"
     ]
    }
   ],
   "source": [
    "class Stack1:\n",
    "    def __init__(self):\n",
    "        self.list = []\n",
    "        \n",
    "obj1 = Stack1()\n",
    "print(obj1.list)\n",
    "print(len(obj1.list))"
   ]
  },
  {
   "cell_type": "code",
   "execution_count": 14,
   "metadata": {},
   "outputs": [
    {
     "ename": "AttributeError",
     "evalue": "'Stack2' object has no attribute '__list'",
     "output_type": "error",
     "traceback": [
      "\u001b[1;31m---------------------------------------------------------------------------\u001b[0m",
      "\u001b[1;31mAttributeError\u001b[0m                            Traceback (most recent call last)",
      "\u001b[1;32m<ipython-input-14-a542537a5751>\u001b[0m in \u001b[0;36m<module>\u001b[1;34m\u001b[0m\n\u001b[0;32m      4\u001b[0m \u001b[1;33m\u001b[0m\u001b[0m\n\u001b[0;32m      5\u001b[0m \u001b[0mobj2\u001b[0m \u001b[1;33m=\u001b[0m \u001b[0mStack2\u001b[0m\u001b[1;33m(\u001b[0m\u001b[1;33m)\u001b[0m\u001b[1;33m\u001b[0m\u001b[1;33m\u001b[0m\u001b[0m\n\u001b[1;32m----> 6\u001b[1;33m \u001b[0mprint\u001b[0m\u001b[1;33m(\u001b[0m\u001b[0mlen\u001b[0m\u001b[1;33m(\u001b[0m\u001b[0mobj2\u001b[0m\u001b[1;33m.\u001b[0m\u001b[0m__list\u001b[0m\u001b[1;33m)\u001b[0m\u001b[1;33m)\u001b[0m \u001b[1;31m# __list bersifat privat jadi tidak bisa diakses diluar class\u001b[0m\u001b[1;33m\u001b[0m\u001b[1;33m\u001b[0m\u001b[0m\n\u001b[0m",
      "\u001b[1;31mAttributeError\u001b[0m: 'Stack2' object has no attribute '__list'"
     ]
    }
   ],
   "source": [
    "class Stack2:\n",
    "    def __init__(self):\n",
    "        self.__list = []\n",
    "        \n",
    "obj2 = Stack2()\n",
    "print(len(obj2.__list)) # __list bersifat privat jadi tidak bisa diakses diluar class"
   ]
  },
  {
   "cell_type": "code",
   "execution_count": 15,
   "metadata": {},
   "outputs": [
    {
     "name": "stdout",
     "output_type": "stream",
     "text": [
      "1\n",
      "2\n",
      "3\n"
     ]
    }
   ],
   "source": [
    "class Stack3:\n",
    "    def __init__(self):\n",
    "        self.__list = []\n",
    "        \n",
    "    def push(self, val):\n",
    "        self.__list.append(val)\n",
    "        \n",
    "    def pop(self):\n",
    "        val = self.__list[-1]\n",
    "        del self.__list[-1]\n",
    "        return val\n",
    "        \n",
    "obj3 = Stack3()\n",
    "obj3.push(3)\n",
    "obj3.push(2)\n",
    "obj3.push(1)\n",
    "\n",
    "print(obj3.pop())\n",
    "print(obj3.pop())\n",
    "print(obj3.pop())"
   ]
  },
  {
   "cell_type": "code",
   "execution_count": 24,
   "metadata": {},
   "outputs": [
    {
     "name": "stdout",
     "output_type": "stream",
     "text": [
      "3\n"
     ]
    }
   ],
   "source": [
    "class Stack4:\n",
    "    def __init__(self):\n",
    "        self.__list = []\n",
    "        \n",
    "    def push(self, val):\n",
    "        self.__list.append(val)\n",
    "        \n",
    "    def pop(self):\n",
    "        val = self.__list[-1]\n",
    "        del self.__list[-1]\n",
    "        return val\n",
    "        \n",
    "obj4 = Stack4()\n",
    "obj4a = Stack4()\n",
    "obj4.push(3)\n",
    "obj4a.push(obj4.pop())\n",
    "\n",
    "print(obj4a.pop())"
   ]
  },
  {
   "cell_type": "code",
   "execution_count": 5,
   "metadata": {},
   "outputs": [
    {
     "name": "stdout",
     "output_type": "stream",
     "text": [
      "0\n"
     ]
    }
   ],
   "source": [
    "class Stack:\n",
    "    def __init__(self):\n",
    "        self.__list = []\n",
    "    def push(self,val):\n",
    "        self.__list.append(val)\n",
    "    def pop(self):\n",
    "        val = self.__list[-1]\n",
    "        del self.__list[-1]\n",
    "        return val\n",
    "    \n",
    "littleStack = Stack()\n",
    "anotherStack = Stack()\n",
    "funnyStack = Stack()\n",
    "\n",
    "littleStack.push(1)\n",
    "anotherStack.push(littleStack.pop() + 1)\n",
    "funnyStack.push(anotherStack.pop() - 2)\n",
    "\n",
    "print(funnyStack.pop())"
   ]
  },
  {
   "cell_type": "code",
   "execution_count": 12,
   "metadata": {},
   "outputs": [
    {
     "name": "stdout",
     "output_type": "stream",
     "text": [
      "15\n",
      "5 4 3 2 1 "
     ]
    }
   ],
   "source": [
    "class Stack:\n",
    "    def __init__(self):\n",
    "        self.__list = []\n",
    "    def push(self,val):\n",
    "        self.__list.append(val)\n",
    "    def pop(self):\n",
    "        val = self.__list[-1]\n",
    "        del self.__list[-1]\n",
    "        return val\n",
    "    \n",
    "class AddingStack(Stack):\n",
    "    def __init__(self):\n",
    "        Stack.__init__(self)\n",
    "        self.__sum = 0\n",
    "    def getSum(self):\n",
    "        return self.__sum\n",
    "    def push(self,val):\n",
    "        self.__sum += val\n",
    "        Stack.push(self,val)\n",
    "    def pop(self):\n",
    "        val = Stack.pop(self)\n",
    "        self.__sum -= val\n",
    "        return val\n",
    "    \n",
    "obj = AddingStack()\n",
    "for i in range(1,6):\n",
    "    obj.push(i)\n",
    "print(obj.getSum())\n",
    "\n",
    "for i in range(1,6):\n",
    "    print(obj.pop(), end=\" \")"
   ]
  },
  {
   "cell_type": "markdown",
   "metadata": {},
   "source": [
    "6.1.3.1 OOP | Properties"
   ]
  },
  {
   "cell_type": "code",
   "execution_count": 29,
   "metadata": {},
   "outputs": [
    {
     "name": "stdout",
     "output_type": "stream",
     "text": [
      "exobj1.first  = 1\n",
      "exobj1.second = 2\n",
      "\n",
      "exobj2.first  = 2\n",
      "exobj2.second = 3\n",
      "\n",
      "exobj3.first  = 4\n",
      "exobj3.second = 7\n",
      "exobj3.third  = 5\n",
      "\n",
      "{'first': 1, 'second': 2}\n",
      "{'first': 2, 'second': 3}\n",
      "{'first': 4, 'third': 5, 'second': 7}\n"
     ]
    }
   ],
   "source": [
    "class Example:\n",
    "    def __init__(self, val=1):\n",
    "        self.first = val\n",
    "    def setSecond(self, val):\n",
    "        self.second = val\n",
    "        \n",
    "exobj1 = Example()\n",
    "print(\"exobj1.first  =\", exobj1.first)\n",
    "exobj1.setSecond(2)\n",
    "print(\"exobj1.second =\", exobj1.second)\n",
    "print()\n",
    "\n",
    "exobj2 = Example(2)\n",
    "print(\"exobj2.first  =\", exobj2.first)\n",
    "exobj2.setSecond(3)\n",
    "print(\"exobj2.second =\", exobj2.second)\n",
    "print()\n",
    "\n",
    "exobj3 = Example(4)\n",
    "exobj3.third = 5\n",
    "print(\"exobj3.first  =\", exobj3.first)\n",
    "exobj3.setSecond(7)\n",
    "print(\"exobj3.second =\", exobj3.second)\n",
    "print(\"exobj3.third  =\", exobj3.third)\n",
    "print()\n",
    "\n",
    "print(exobj1.__dict__)\n",
    "print(exobj2.__dict__)\n",
    "print(exobj3.__dict__)"
   ]
  },
  {
   "cell_type": "code",
   "execution_count": 30,
   "metadata": {},
   "outputs": [
    {
     "name": "stdout",
     "output_type": "stream",
     "text": [
      "{'first': 1}\n",
      "{'first': 2, 'second': 3}\n",
      "{'first': 4, 'third': 5}\n"
     ]
    }
   ],
   "source": [
    "class Example:\n",
    "    def __init__(self, val=1):\n",
    "        self.first = val\n",
    "    def setSecond(self, val):\n",
    "        self.second = val\n",
    "        \n",
    "exobj1 = Example()\n",
    "exobj2 = Example(2)\n",
    "exobj2.setSecond(3)\n",
    "exobj3 = Example(4)\n",
    "exobj3.third = 5\n",
    "\n",
    "print(exobj1.__dict__)\n",
    "print(exobj2.__dict__)\n",
    "print(exobj3.__dict__)"
   ]
  },
  {
   "cell_type": "code",
   "execution_count": 10,
   "metadata": {},
   "outputs": [
    {
     "name": "stdout",
     "output_type": "stream",
     "text": [
      "{'_Example__first': 1}\n",
      "{'_Example__first': 2, '_Example__second': 3}\n",
      "{'_Example__first': 4, '__third': 5}\n"
     ]
    }
   ],
   "source": [
    "class Example:\n",
    "    def __init__(self, val=1):\n",
    "        self.__first = val\n",
    "    def setSecond(self, val):\n",
    "        self.__second = val\n",
    "        \n",
    "exobj1 = Example()\n",
    "exobj2 = Example(2)\n",
    "exobj2.setSecond(3)\n",
    "exobj3 = Example(4)\n",
    "exobj3.__third = 5\n",
    "\n",
    "print(exobj1.__dict__)\n",
    "print(exobj2.__dict__)\n",
    "print(exobj3.__dict__)"
   ]
  },
  {
   "cell_type": "code",
   "execution_count": 9,
   "metadata": {},
   "outputs": [
    {
     "name": "stdout",
     "output_type": "stream",
     "text": [
      "{'first': 1} 3\n",
      "{'first': 2} 3\n",
      "{'first': 4} 3\n"
     ]
    }
   ],
   "source": [
    "class ExampleCounter:\n",
    "    counter = 0\n",
    "    def __init__(self, val=1):\n",
    "        self.first = val\n",
    "        ExampleCounter.counter += 1\n",
    "        \n",
    "exobj = ExampleCounter()\n",
    "exobj2 = ExampleCounter(2)\n",
    "exobj3 = ExampleCounter(4)\n",
    "\n",
    "print(exobj.__dict__, exobj.counter)\n",
    "print(exobj2.__dict__, exobj2.counter)\n",
    "print(exobj3.__dict__, exobj3.counter)"
   ]
  },
  {
   "cell_type": "code",
   "execution_count": 14,
   "metadata": {},
   "outputs": [
    {
     "name": "stdout",
     "output_type": "stream",
     "text": [
      "{'_ExampleCounter__first': 1} 3\n",
      "{'_ExampleCounter__first': 2} 3\n",
      "{'_ExampleCounter__first': 4} 3\n"
     ]
    }
   ],
   "source": [
    "class ExampleCounter:\n",
    "    __counter = 0\n",
    "    def __init__(self, val=1):\n",
    "        self.__first = val\n",
    "        ExampleCounter.__counter += 1\n",
    "        \n",
    "exobj = ExampleCounter()\n",
    "exobj2 = ExampleCounter(2)\n",
    "exobj3 = ExampleCounter(4)\n",
    "\n",
    "print(exobj.__dict__, exobj._ExampleCounter__counter)\n",
    "print(exobj2.__dict__, exobj2._ExampleCounter__counter)\n",
    "print(exobj3.__dict__, exobj3._ExampleCounter__counter)"
   ]
  },
  {
   "cell_type": "code",
   "execution_count": 18,
   "metadata": {},
   "outputs": [
    {
     "name": "stdout",
     "output_type": "stream",
     "text": [
      "{'__module__': '__main__', 'varia': 1, '__init__': <function Example.__init__ at 0x000001D4EFD05DC8>, '__dict__': <attribute '__dict__' of 'Example' objects>, '__weakref__': <attribute '__weakref__' of 'Example' objects>, '__doc__': None}\n",
      "\n",
      "{'__module__': '__main__', 'varia': 2, '__init__': <function Example.__init__ at 0x000001D4EFD05DC8>, '__dict__': <attribute '__dict__' of 'Example' objects>, '__weakref__': <attribute '__weakref__' of 'Example' objects>, '__doc__': None}\n",
      "\n",
      "{}\n"
     ]
    }
   ],
   "source": [
    "class Example:\n",
    "    varia = 1\n",
    "    def __init__(self, var):\n",
    "        Example.varia = var\n",
    "        \n",
    "print(Example.__dict__)\n",
    "obj = Example(2)\n",
    "print()\n",
    "print(Example.__dict__)\n",
    "print()\n",
    "print(obj.__dict__)"
   ]
  },
  {
   "cell_type": "code",
   "execution_count": 19,
   "metadata": {},
   "outputs": [
    {
     "name": "stdout",
     "output_type": "stream",
     "text": [
      "{'__module__': '__main__', 'varia': 1, '__init__': <function Example.__init__ at 0x000001D4EFD05288>, '__dict__': <attribute '__dict__' of 'Example' objects>, '__weakref__': <attribute '__weakref__' of 'Example' objects>, '__doc__': None}\n",
      "\n",
      "{'__module__': '__main__', 'varia': 1, '__init__': <function Example.__init__ at 0x000001D4EFD05288>, '__dict__': <attribute '__dict__' of 'Example' objects>, '__weakref__': <attribute '__weakref__' of 'Example' objects>, '__doc__': None}\n",
      "\n",
      "{'varia': 2}\n"
     ]
    }
   ],
   "source": [
    "class Example:\n",
    "    varia = 1\n",
    "    def __init__(self, var):\n",
    "        self.varia = var\n",
    "        \n",
    "print(Example.__dict__)\n",
    "obj = Example(2)\n",
    "print()\n",
    "print(Example.__dict__)\n",
    "print()\n",
    "print(obj.__dict__)"
   ]
  },
  {
   "cell_type": "markdown",
   "metadata": {},
   "source": [
    "Checking the attribute's axistence"
   ]
  },
  {
   "cell_type": "code",
   "execution_count": 22,
   "metadata": {},
   "outputs": [
    {
     "name": "stdout",
     "output_type": "stream",
     "text": [
      "1\n"
     ]
    },
    {
     "ename": "AttributeError",
     "evalue": "'Example' object has no attribute 'b'",
     "output_type": "error",
     "traceback": [
      "\u001b[1;31m---------------------------------------------------------------------------\u001b[0m",
      "\u001b[1;31mAttributeError\u001b[0m                            Traceback (most recent call last)",
      "\u001b[1;32m<ipython-input-22-cb24946ea4be>\u001b[0m in \u001b[0;36m<module>\u001b[1;34m\u001b[0m\n\u001b[0;32m      8\u001b[0m \u001b[0mobj\u001b[0m \u001b[1;33m=\u001b[0m \u001b[0mExample\u001b[0m\u001b[1;33m(\u001b[0m\u001b[1;36m3\u001b[0m\u001b[1;33m)\u001b[0m\u001b[1;33m\u001b[0m\u001b[1;33m\u001b[0m\u001b[0m\n\u001b[0;32m      9\u001b[0m \u001b[0mprint\u001b[0m\u001b[1;33m(\u001b[0m\u001b[0mobj\u001b[0m\u001b[1;33m.\u001b[0m\u001b[0ma\u001b[0m\u001b[1;33m)\u001b[0m\u001b[1;33m\u001b[0m\u001b[1;33m\u001b[0m\u001b[0m\n\u001b[1;32m---> 10\u001b[1;33m \u001b[0mprint\u001b[0m\u001b[1;33m(\u001b[0m\u001b[0mobj\u001b[0m\u001b[1;33m.\u001b[0m\u001b[0mb\u001b[0m\u001b[1;33m)\u001b[0m\u001b[1;33m\u001b[0m\u001b[1;33m\u001b[0m\u001b[0m\n\u001b[0m",
      "\u001b[1;31mAttributeError\u001b[0m: 'Example' object has no attribute 'b'"
     ]
    }
   ],
   "source": [
    "class Example:\n",
    "    def __init__(self,val):\n",
    "        if val % 2 != 0:\n",
    "            self.a = 1\n",
    "        else:\n",
    "            self.b = 1\n",
    "            \n",
    "obj = Example(3)\n",
    "print(obj.a)\n",
    "print(obj.b)"
   ]
  },
  {
   "cell_type": "code",
   "execution_count": 23,
   "metadata": {},
   "outputs": [
    {
     "name": "stdout",
     "output_type": "stream",
     "text": [
      "1\n"
     ]
    }
   ],
   "source": [
    "class Example:\n",
    "    def __init__(self,val):\n",
    "        if val % 2 != 0:\n",
    "            self.a = 1\n",
    "        else:\n",
    "            self.b = 1\n",
    "            \n",
    "obj = Example(3)\n",
    "print(obj.a)\n",
    "\n",
    "try:\n",
    "    print(obj.b)\n",
    "except AttributeError:\n",
    "    pass"
   ]
  },
  {
   "cell_type": "code",
   "execution_count": 24,
   "metadata": {},
   "outputs": [
    {
     "name": "stdout",
     "output_type": "stream",
     "text": [
      "1\n"
     ]
    }
   ],
   "source": [
    "class Example:\n",
    "    def __init__(self,val):\n",
    "        if val % 2 != 0:\n",
    "            self.a = 1\n",
    "        else:\n",
    "            self.b = 1\n",
    "            \n",
    "obj = Example(3)\n",
    "print(obj.a)\n",
    "\n",
    "if hasattr(obj, 'b'):\n",
    "    print(obj.b)"
   ]
  },
  {
   "cell_type": "code",
   "execution_count": 31,
   "metadata": {},
   "outputs": [
    {
     "name": "stdout",
     "output_type": "stream",
     "text": [
      "True\n",
      "True\n",
      "True\n",
      "False\n"
     ]
    }
   ],
   "source": [
    "class Example:\n",
    "    a = 1\n",
    "    def __init__(self):\n",
    "        self.b = 2\n",
    "        \n",
    "obj = Example()\n",
    "print(hasattr(obj,'a'))\n",
    "print(hasattr(obj,'b'))\n",
    "print(hasattr(Example,'a'))\n",
    "print(hasattr(Example,'b'))"
   ]
  },
  {
   "cell_type": "markdown",
   "metadata": {},
   "source": [
    "Method"
   ]
  },
  {
   "cell_type": "code",
   "execution_count": 38,
   "metadata": {},
   "outputs": [
    {
     "name": "stdout",
     "output_type": "stream",
     "text": [
      "method: 1\n",
      "method: 2\n",
      "method: 3\n"
     ]
    }
   ],
   "source": [
    "class Classy:\n",
    "    def method(self,par):\n",
    "        print(\"method:\", par)\n",
    "        \n",
    "cls = Classy()\n",
    "cls.method(1)\n",
    "cls.method(2)\n",
    "cls.method(3)"
   ]
  },
  {
   "cell_type": "code",
   "execution_count": 46,
   "metadata": {},
   "outputs": [
    {
     "name": "stdout",
     "output_type": "stream",
     "text": [
      "2\n",
      "3\n",
      "2 3\n"
     ]
    }
   ],
   "source": [
    "class Classy:\n",
    "    varia = 2\n",
    "    def method(self):\n",
    "        print(self.varia, self.par)\n",
    "        \n",
    "cls = Classy()\n",
    "print(cls.varia)\n",
    "\n",
    "cls.par = 3\n",
    "print(cls.par)\n",
    "cls.method()"
   ]
  },
  {
   "cell_type": "code",
   "execution_count": 54,
   "metadata": {},
   "outputs": [
    {
     "name": "stdout",
     "output_type": "stream",
     "text": [
      "other\n",
      "\n",
      "method\n",
      "other\n"
     ]
    }
   ],
   "source": [
    "class Classy:\n",
    "    def other(self):\n",
    "        print(\"other\")\n",
    "    def method(self):\n",
    "        print(\"method\")\n",
    "        self.other()\n",
    "        \n",
    "cls = Classy()\n",
    "cls.other()\n",
    "print()\n",
    "cls.method()"
   ]
  },
  {
   "cell_type": "code",
   "execution_count": 61,
   "metadata": {},
   "outputs": [
    {
     "name": "stdout",
     "output_type": "stream",
     "text": [
      "objeck\n"
     ]
    }
   ],
   "source": [
    "class Classy:\n",
    "    def __init__(self, value):\n",
    "        self.var = value\n",
    "        \n",
    "cls = Classy(\"objeck\")\n",
    "print(cls.var)"
   ]
  },
  {
   "cell_type": "code",
   "execution_count": 62,
   "metadata": {},
   "outputs": [
    {
     "name": "stdout",
     "output_type": "stream",
     "text": [
      "objeck\n",
      "None\n"
     ]
    }
   ],
   "source": [
    "class Classy:\n",
    "    def __init__(self, value=None):\n",
    "        self.var = value\n",
    "        \n",
    "cls = Classy(\"objeck\")\n",
    "cls2 = Classy()\n",
    "print(cls.var)\n",
    "print(cls2.var)"
   ]
  },
  {
   "cell_type": "code",
   "execution_count": 66,
   "metadata": {},
   "outputs": [
    {
     "name": "stdout",
     "output_type": "stream",
     "text": [
      "visible\n",
      "failed\n",
      "hidden\n"
     ]
    }
   ],
   "source": [
    "class Classy:\n",
    "    def visible(self):\n",
    "        print(\"visible\")\n",
    "    def __hidden(self):\n",
    "        print(\"hidden\")\n",
    "\n",
    "cls = Classy()\n",
    "cls.visible()\n",
    "try:\n",
    "    cls.__hidden()\n",
    "except:\n",
    "    print(\"failed\")\n",
    "    \n",
    "cls._Classy__hidden()"
   ]
  },
  {
   "cell_type": "code",
   "execution_count": 69,
   "metadata": {},
   "outputs": [
    {
     "name": "stdout",
     "output_type": "stream",
     "text": [
      "{'var': 2}\n",
      "\n",
      "{'__module__': '__main__', 'varia': 1, '__init__': <function Classy.__init__ at 0x000001D4EFE7FC18>, 'visible': <function Classy.visible at 0x000001D4EFE7FCA8>, '_Classy__hidden': <function Classy.__hidden at 0x000001D4EFE7F828>, '__dict__': <attribute '__dict__' of 'Classy' objects>, '__weakref__': <attribute '__weakref__' of 'Classy' objects>, '__doc__': None}\n"
     ]
    }
   ],
   "source": [
    "class Classy:\n",
    "    varia = 1\n",
    "    def __init__(self):\n",
    "        self.var = 2\n",
    "    def visible(self):\n",
    "        pass\n",
    "    def __hidden(self):\n",
    "        pass\n",
    "\n",
    "cls = Classy()\n",
    "print(cls.__dict__)\n",
    "print()\n",
    "print(Classy.__dict__)"
   ]
  },
  {
   "cell_type": "code",
   "execution_count": 76,
   "metadata": {},
   "outputs": [
    {
     "name": "stdout",
     "output_type": "stream",
     "text": [
      "Classy\n",
      "Classy\n"
     ]
    },
    {
     "ename": "AttributeError",
     "evalue": "'Classy' object has no attribute '__name__'",
     "output_type": "error",
     "traceback": [
      "\u001b[1;31m---------------------------------------------------------------------------\u001b[0m",
      "\u001b[1;31mAttributeError\u001b[0m                            Traceback (most recent call last)",
      "\u001b[1;32m<ipython-input-76-2eeb777a1298>\u001b[0m in \u001b[0;36m<module>\u001b[1;34m\u001b[0m\n\u001b[0;32m      6\u001b[0m \u001b[0mcls\u001b[0m \u001b[1;33m=\u001b[0m \u001b[0mClassy\u001b[0m\u001b[1;33m(\u001b[0m\u001b[1;33m)\u001b[0m\u001b[1;33m\u001b[0m\u001b[1;33m\u001b[0m\u001b[0m\n\u001b[0;32m      7\u001b[0m \u001b[0mprint\u001b[0m\u001b[1;33m(\u001b[0m\u001b[0mtype\u001b[0m\u001b[1;33m(\u001b[0m\u001b[0mcls\u001b[0m\u001b[1;33m)\u001b[0m\u001b[1;33m.\u001b[0m\u001b[0m__name__\u001b[0m\u001b[1;33m)\u001b[0m\u001b[1;33m\u001b[0m\u001b[1;33m\u001b[0m\u001b[0m\n\u001b[1;32m----> 8\u001b[1;33m \u001b[0mprint\u001b[0m\u001b[1;33m(\u001b[0m\u001b[0mcls\u001b[0m\u001b[1;33m.\u001b[0m\u001b[0m__name__\u001b[0m\u001b[1;33m)\u001b[0m\u001b[1;33m\u001b[0m\u001b[1;33m\u001b[0m\u001b[0m\n\u001b[0m",
      "\u001b[1;31mAttributeError\u001b[0m: 'Classy' object has no attribute '__name__'"
     ]
    }
   ],
   "source": [
    "class Classy:\n",
    "    pass\n",
    "\n",
    "print(Classy.__name__)\n",
    "\n",
    "cls = Classy()\n",
    "print(type(cls).__name__)\n",
    "print(cls.__name__)"
   ]
  },
  {
   "cell_type": "code",
   "execution_count": 77,
   "metadata": {},
   "outputs": [
    {
     "name": "stdout",
     "output_type": "stream",
     "text": [
      "__main__\n",
      "__main__\n"
     ]
    }
   ],
   "source": [
    "class Classy:\n",
    "    pass\n",
    "\n",
    "print(Classy.__module__)\n",
    "\n",
    "cls = Classy()\n",
    "print(cls.__module__)"
   ]
  },
  {
   "cell_type": "code",
   "execution_count": 78,
   "metadata": {},
   "outputs": [
    {
     "name": "stdout",
     "output_type": "stream",
     "text": [
      "(  object  )\n",
      "(  object  )\n",
      "(  One Two  )\n"
     ]
    }
   ],
   "source": [
    "class One:\n",
    "    pass\n",
    "class Two:\n",
    "    pass\n",
    "class Sub(One, Two):\n",
    "    pass\n",
    "\n",
    "def printBases(cls):\n",
    "    print(\"( \", end=\" \")\n",
    "    for x in cls.__bases__:\n",
    "        print(x.__name__, end=\" \")\n",
    "    print(\" )\")\n",
    "    \n",
    "printBases(One)\n",
    "printBases(Two)\n",
    "printBases(Sub)"
   ]
  },
  {
   "cell_type": "code",
   "execution_count": 81,
   "metadata": {},
   "outputs": [
    {
     "name": "stdout",
     "output_type": "stream",
     "text": [
      "{'a': 1, 'b': 2, 'i': 3, 'ireal': 3.5, 'integer': 4, 'z': 5}\n",
      "{'a': 1, 'b': 2, 'i': 4, 'ireal': 3.5, 'integer': 5, 'z': 5}\n"
     ]
    }
   ],
   "source": [
    "class MyClass:\n",
    "    pass\n",
    "\n",
    "cls = MyClass()\n",
    "cls.a = 1\n",
    "cls.b = 2\n",
    "cls.i = 3\n",
    "cls.ireal = 3.5\n",
    "cls.integer = 4\n",
    "cls.z = 5\n",
    "\n",
    "def incIntsI(cls):\n",
    "    for name in cls.__dict__.keys():\n",
    "        if name.startswith('i'):\n",
    "            val = getattr(cls, name)\n",
    "            if isinstance(val, int):\n",
    "                setattr(cls, name, val+1)\n",
    "                \n",
    "print(cls.__dict__)\n",
    "incIntsI(cls)\n",
    "print(cls.__dict__)"
   ]
  },
  {
   "cell_type": "markdown",
   "metadata": {},
   "source": [
    "6.1.5.1 OOP Fundamentals: Inheritance"
   ]
  },
  {
   "cell_type": "code",
   "execution_count": 1,
   "metadata": {},
   "outputs": [
    {
     "name": "stdout",
     "output_type": "stream",
     "text": [
      "<__main__.Star object at 0x0000025A1A04B688>\n"
     ]
    }
   ],
   "source": [
    "class Star:\n",
    "    def __init__(self, name, galaxy):\n",
    "        self.name = name\n",
    "        self.galaxy = galaxy\n",
    "        \n",
    "sun = Star(\"Sun\", \"Milky Way\")\n",
    "print(sun)"
   ]
  },
  {
   "cell_type": "markdown",
   "metadata": {},
   "source": [
    "Catatan:\n",
    "    0x00000... adalah internal identifier yang dimasing2 komputer berbeda"
   ]
  },
  {
   "cell_type": "code",
   "execution_count": 2,
   "metadata": {},
   "outputs": [
    {
     "name": "stdout",
     "output_type": "stream",
     "text": [
      "Sun in Milky Way\n"
     ]
    }
   ],
   "source": [
    "class Star:\n",
    "    def __init__(self, name, galaxy):\n",
    "        self.name = name\n",
    "        self.galaxy = galaxy\n",
    "    def __str__(self):\n",
    "        return self.name + ' in ' + self.galaxy\n",
    "        \n",
    "sun = Star(\"Sun\", \"Milky Way\")\n",
    "print(sun)"
   ]
  },
  {
   "cell_type": "code",
   "execution_count": 7,
   "metadata": {},
   "outputs": [
    {
     "name": "stdout",
     "output_type": "stream",
     "text": [
      "True\tFalse\tFalse\t\n",
      "True\tTrue\tFalse\t\n",
      "True\tTrue\tTrue\t\n"
     ]
    }
   ],
   "source": [
    "class Vehicle:\n",
    "    pass\n",
    "class LandVehicle(Vehicle):\n",
    "    pass\n",
    "class TrackedVehicle(LandVehicle):\n",
    "    pass\n",
    "\n",
    "for cls1 in [Vehicle, LandVehicle, TrackedVehicle]:\n",
    "    for cls2 in [Vehicle, LandVehicle, TrackedVehicle]:\n",
    "        print(issubclass(cls1, cls2), end='\\t')\n",
    "    print()"
   ]
  },
  {
   "cell_type": "code",
   "execution_count": 9,
   "metadata": {},
   "outputs": [
    {
     "name": "stdout",
     "output_type": "stream",
     "text": [
      "True\tFalse\tFalse\t\n",
      "True\tTrue\tFalse\t\n",
      "True\tTrue\tTrue\t\n"
     ]
    }
   ],
   "source": [
    "class Vehicle:\n",
    "    pass\n",
    "class LandVehicle(Vehicle):\n",
    "    pass\n",
    "class TrackedVehicle(LandVehicle):\n",
    "    pass\n",
    "\n",
    "myVehicle = Vehicle()\n",
    "myLandVehicle = LandVehicle()\n",
    "myTrackedVehicle = TrackedVehicle()\n",
    "\n",
    "for obj in [myVehicle, myLandVehicle, myTrackedVehicle]:\n",
    "    for cls in [Vehicle, LandVehicle, TrackedVehicle]:\n",
    "        print(isinstance(obj, cls), end='\\t') # isinstance() True if the objeck is an instance of the class\n",
    "    print()"
   ]
  },
  {
   "cell_type": "code",
   "execution_count": 12,
   "metadata": {},
   "outputs": [
    {
     "name": "stdout",
     "output_type": "stream",
     "text": [
      "False\n",
      "False\n",
      "True\n",
      "1 2 1\n",
      "True False\n"
     ]
    }
   ],
   "source": [
    "class Sample:\n",
    "    def __init__(self,val):\n",
    "        self.val = val\n",
    "        \n",
    "obj1 = Sample(0)\n",
    "obj2 = Sample(2)\n",
    "obj3 = obj1\n",
    "obj3.val += 1\n",
    "\n",
    "print(obj1 is obj2)\n",
    "print(obj2 is obj3)\n",
    "print(obj1 is obj3)\n",
    "print(obj1.val, obj2.val, obj3.val)\n",
    "\n",
    "str1 = \"Mary had a little \"\n",
    "str2 = \"Mary had a little lamb\"\n",
    "str1 += \"lamb\"\n",
    "\n",
    "print(str1 == str2, str1 is str2)"
   ]
  },
  {
   "cell_type": "code",
   "execution_count": 14,
   "metadata": {},
   "outputs": [
    {
     "name": "stdout",
     "output_type": "stream",
     "text": [
      "My name is Andy.\n"
     ]
    }
   ],
   "source": [
    "class Super:\n",
    "    def __init__(self,name):\n",
    "        self.name = name\n",
    "    def __str__(self):\n",
    "        return \"My name is \" + self.name + \".\"\n",
    "    \n",
    "class Sub(Super):\n",
    "    def __init__(self,name):\n",
    "        Super.__init__(self,name)\n",
    "        \n",
    "obj = Sub(\"Andy\")\n",
    "print(obj)"
   ]
  },
  {
   "cell_type": "code",
   "execution_count": 18,
   "metadata": {},
   "outputs": [
    {
     "name": "stdout",
     "output_type": "stream",
     "text": [
      "2\n",
      "1\n"
     ]
    }
   ],
   "source": [
    "class Super:\n",
    "    supVar = 1\n",
    "    \n",
    "class Sub(Super):\n",
    "    subVar = 2\n",
    "    \n",
    "obj = Sub()\n",
    "print(obj.subVar)\n",
    "print(obj.supVar)"
   ]
  },
  {
   "cell_type": "code",
   "execution_count": 19,
   "metadata": {},
   "outputs": [
    {
     "name": "stdout",
     "output_type": "stream",
     "text": [
      "12\n",
      "11\n"
     ]
    }
   ],
   "source": [
    "class Super:\n",
    "    def __init__(self):\n",
    "        self.supVar = 11\n",
    "    \n",
    "class Sub(Super):\n",
    "    def __init__(self):\n",
    "        Super.__init__(self)\n",
    "        self.subVar = 12\n",
    "    \n",
    "obj = Sub()\n",
    "print(obj.subVar)\n",
    "print(obj.supVar)"
   ]
  },
  {
   "cell_type": "code",
   "execution_count": 20,
   "metadata": {},
   "outputs": [
    {
     "name": "stdout",
     "output_type": "stream",
     "text": [
      "100 101 102\n",
      "200 201 202\n",
      "300 301 302\n"
     ]
    }
   ],
   "source": [
    "class Level1:\n",
    "    varia1 = 100\n",
    "    def __init__(self):\n",
    "        self.var1 = 101\n",
    "    def fun1(self):\n",
    "        return 102\n",
    "    \n",
    "class Level2(Level1):\n",
    "    varia2 = 200\n",
    "    def __init__(self):\n",
    "        super().__init__()\n",
    "        self.var2 = 201\n",
    "    def fun2(self):\n",
    "        return 202\n",
    "    \n",
    "class Level3(Level2):\n",
    "    varia3 = 300\n",
    "    def __init__(self):\n",
    "        super().__init__()\n",
    "        self.var3 = 301\n",
    "    def fun3(self):\n",
    "        return 302\n",
    "    \n",
    "obj = Level3()\n",
    "print(obj.varia1, obj.var1, obj.fun1())\n",
    "print(obj.varia2, obj.var2, obj.fun2())\n",
    "print(obj.varia3, obj.var3, obj.fun3())"
   ]
  },
  {
   "cell_type": "code",
   "execution_count": 21,
   "metadata": {},
   "outputs": [
    {
     "name": "stdout",
     "output_type": "stream",
     "text": [
      "10 11\n",
      "20 21\n"
     ]
    }
   ],
   "source": [
    "class SuperA:\n",
    "    varA = 10\n",
    "    def funA(self):\n",
    "        return 11\n",
    "class SuperB:\n",
    "    varB = 20\n",
    "    def funB(self):\n",
    "        return 21\n",
    "class Sub(SuperA, SuperB):\n",
    "    pass\n",
    "\n",
    "obj = Sub()\n",
    "print(obj.varA, obj.funA())\n",
    "print(obj.varB, obj.funB())"
   ]
  },
  {
   "cell_type": "code",
   "execution_count": 22,
   "metadata": {},
   "outputs": [
    {
     "name": "stdout",
     "output_type": "stream",
     "text": [
      "200 202\n"
     ]
    }
   ],
   "source": [
    "class Level1:\n",
    "    varia = 100\n",
    "    def fun(self):\n",
    "        return 102\n",
    "    \n",
    "class Level2(Level1):\n",
    "    varia = 200\n",
    "    def fun(self):\n",
    "        return 202\n",
    "    \n",
    "class Level3(Level2):\n",
    "    pass\n",
    "\n",
    "obj = Level3()\n",
    "print(obj.varia, obj.fun())"
   ]
  },
  {
   "cell_type": "code",
   "execution_count": 23,
   "metadata": {},
   "outputs": [
    {
     "name": "stdout",
     "output_type": "stream",
     "text": [
      "L LL RR Left\n"
     ]
    }
   ],
   "source": [
    "class Left:\n",
    "    var = \"L\"\n",
    "    varLeft = \"LL\"\n",
    "    def fun(self):\n",
    "        return \"Left\"\n",
    "    \n",
    "class Right(Level1):\n",
    "    var = \"R\"\n",
    "    varRight = \"RR\"\n",
    "    def fun(self):\n",
    "        return \"Right\"\n",
    "    \n",
    "class Sub(Left,Right):\n",
    "    pass\n",
    "\n",
    "obj = Sub()\n",
    "print(obj.var, obj.varLeft, obj.varRight, obj.fun())"
   ]
  },
  {
   "cell_type": "code",
   "execution_count": 24,
   "metadata": {},
   "outputs": [
    {
     "name": "stdout",
     "output_type": "stream",
     "text": [
      "R LL RR Right\n"
     ]
    }
   ],
   "source": [
    "class Left:\n",
    "    var = \"L\"\n",
    "    varLeft = \"LL\"\n",
    "    def fun(self):\n",
    "        return \"Left\"\n",
    "    \n",
    "class Right(Level1):\n",
    "    var = \"R\"\n",
    "    varRight = \"RR\"\n",
    "    def fun(self):\n",
    "        return \"Right\"\n",
    "    \n",
    "class Sub(Right,Left):\n",
    "    pass\n",
    "\n",
    "obj = Sub()\n",
    "print(obj.var, obj.varLeft, obj.varRight, obj.fun())"
   ]
  },
  {
   "cell_type": "code",
   "execution_count": 25,
   "metadata": {},
   "outputs": [
    {
     "name": "stdout",
     "output_type": "stream",
     "text": [
      "doit from One\n",
      "doit from Two\n"
     ]
    }
   ],
   "source": [
    "class One:\n",
    "    def doit(self):\n",
    "        print(\"doit from One\")\n",
    "    def doanything(self):\n",
    "        self.doit()\n",
    "        \n",
    "class Two(One):\n",
    "    def doit(self):\n",
    "        print(\"doit from Two\")\n",
    "        \n",
    "one = One()\n",
    "two = Two()\n",
    "one.doanything()\n",
    "two.doanything()"
   ]
  },
  {
   "cell_type": "code",
   "execution_count": 26,
   "metadata": {},
   "outputs": [],
   "source": [
    "import time\n",
    "\n",
    "class TrackedVehicle:\n",
    "    def controltrack(left, stop):\n",
    "        pass\n",
    "    def turn(left):\n",
    "        controltrack(left, True)\n",
    "        time.sleep(0.25)\n",
    "        controltrack(left, False)\n",
    "        \n",
    "class WheeledVehicle:\n",
    "    def turnfrontwheels(left, on):\n",
    "        pass\n",
    "    def turn(left):\n",
    "        turnfrontwheels(left, True)\n",
    "        time.sleep(0.25)\n",
    "        turnfrontwheels(left, False)"
   ]
  },
  {
   "cell_type": "code",
   "execution_count": 27,
   "metadata": {},
   "outputs": [],
   "source": [
    "class Vehicle:\n",
    "    def changedirection(left, on):\n",
    "        pass\n",
    "    def turn(left):\n",
    "        changedirection(left, True)\n",
    "        time.sleep(0.25)\n",
    "        changedirection(left, False)\n",
    "\n",
    "class TrackedVehicle:\n",
    "    def controltrack(left, stop):\n",
    "        pass\n",
    "    def changedirection(left, on):\n",
    "        controltrack(left, on)\n",
    "        \n",
    "class WheeledVehicle:\n",
    "    def turnfrontwheels(left, on):\n",
    "        pass\n",
    "    def changedirection(left, on):\n",
    "        turnfrontwheels(left, on)"
   ]
  },
  {
   "cell_type": "code",
   "execution_count": 33,
   "metadata": {},
   "outputs": [
    {
     "name": "stdout",
     "output_type": "stream",
     "text": [
      "wheels: True True\n",
      "wheels: True False\n",
      "tracks: False True\n",
      "tracks: False False\n"
     ]
    }
   ],
   "source": [
    "class Tracks:\n",
    "    def changedirection(self, left, on):\n",
    "        print(\"tracks:\", left, on)\n",
    "        \n",
    "class Wheels:\n",
    "    def changedirection(self, left, on):\n",
    "        print(\"wheels:\", left, on)\n",
    "        \n",
    "class Vehicle:\n",
    "    def __init__(self, controller):\n",
    "        self.controller = controller\n",
    "    def turn(self, left):\n",
    "        self.controller.changedirection(left, True)\n",
    "        time.sleep(0.25)\n",
    "        self.controller.changedirection(left, False)\n",
    "        \n",
    "wheeled = Vehicle(Wheels())\n",
    "tracked = Vehicle(Tracks())\n",
    "\n",
    "wheeled.turn(True)\n",
    "tracked.turn(False)"
   ]
  },
  {
   "cell_type": "markdown",
   "metadata": {},
   "source": [
    "6.1.6.1 Exceptions Once Again"
   ]
  },
  {
   "cell_type": "code",
   "execution_count": 38,
   "metadata": {},
   "outputs": [
    {
     "name": "stdout",
     "output_type": "stream",
     "text": [
      "Everything went fine.\n",
      "It's tome to say good bye.\n",
      "0.5\n",
      "Division failed.\n",
      "It's tome to say good bye.\n",
      "0\n"
     ]
    }
   ],
   "source": [
    "def reciprocal(n):\n",
    "    try:\n",
    "        n = 1/n\n",
    "    except ZeroDivisionError:\n",
    "        print(\"Division failed.\")\n",
    "        return None\n",
    "    else:\n",
    "        print(\"Everything went fine.\")\n",
    "    finally:\n",
    "        print(\"It's tome to say good bye.\")\n",
    "        return n\n",
    "    \n",
    "print(reciprocal(2))\n",
    "print(reciprocal(0))"
   ]
  },
  {
   "cell_type": "code",
   "execution_count": 40,
   "metadata": {},
   "outputs": [
    {
     "name": "stdout",
     "output_type": "stream",
     "text": [
      "invalid literal for int() with base 10: 'Hello!'\n",
      "invalid literal for int() with base 10: 'Hello!'\n"
     ]
    }
   ],
   "source": [
    "try:\n",
    "    i = int(\"Hello!\")\n",
    "except Exception as e:\n",
    "    print(e)\n",
    "    print(e.__str__())"
   ]
  },
  {
   "cell_type": "code",
   "execution_count": 41,
   "metadata": {},
   "outputs": [
    {
     "name": "stdout",
     "output_type": "stream",
     "text": [
      "BaseException\n",
      "   +---Exception\n",
      "   |   +---TypeError\n",
      "   |   |   +---MultipartConversionError\n",
      "   |   |   +---FloatOperation\n",
      "   |   +---StopAsyncIteration\n",
      "   |   +---StopIteration\n",
      "   |   +---ImportError\n",
      "   |   |   +---ModuleNotFoundError\n",
      "   |   |   +---ZipImportError\n",
      "   |   +---OSError\n",
      "   |   |   +---ConnectionError\n",
      "   |   |   |   +---BrokenPipeError\n",
      "   |   |   |   +---ConnectionAbortedError\n",
      "   |   |   |   +---ConnectionRefusedError\n",
      "   |   |   |   +---ConnectionResetError\n",
      "   |   |   |   |   +---RemoteDisconnected\n",
      "   |   |   +---BlockingIOError\n",
      "   |   |   +---ChildProcessError\n",
      "   |   |   +---FileExistsError\n",
      "   |   |   +---FileNotFoundError\n",
      "   |   |   +---IsADirectoryError\n",
      "   |   |   +---NotADirectoryError\n",
      "   |   |   +---InterruptedError\n",
      "   |   |   |   +---InterruptedSystemCall\n",
      "   |   |   +---PermissionError\n",
      "   |   |   +---ProcessLookupError\n",
      "   |   |   +---TimeoutError\n",
      "   |   |   +---UnsupportedOperation\n",
      "   |   |   +---Error\n",
      "   |   |   |   +---SameFileError\n",
      "   |   |   +---SpecialFileError\n",
      "   |   |   +---ExecError\n",
      "   |   |   +---ReadError\n",
      "   |   |   +---herror\n",
      "   |   |   +---gaierror\n",
      "   |   |   +---timeout\n",
      "   |   |   +---SSLError\n",
      "   |   |   |   +---SSLCertVerificationError\n",
      "   |   |   |   +---SSLZeroReturnError\n",
      "   |   |   |   +---SSLWantReadError\n",
      "   |   |   |   +---SSLWantWriteError\n",
      "   |   |   |   +---SSLSyscallError\n",
      "   |   |   |   +---SSLEOFError\n",
      "   |   |   +---URLError\n",
      "   |   |   |   +---HTTPError\n",
      "   |   |   |   +---ContentTooShortError\n",
      "   |   +---EOFError\n",
      "   |   |   +---IncompleteReadError\n",
      "   |   +---RuntimeError\n",
      "   |   |   +---RecursionError\n",
      "   |   |   +---NotImplementedError\n",
      "   |   |   |   +---StdinNotImplementedError\n",
      "   |   |   |   +---ZMQVersionError\n",
      "   |   |   +---_DeadlockError\n",
      "   |   |   +---BrokenBarrierError\n",
      "   |   |   +---BrokenExecutor\n",
      "   |   |   +---SendfileNotAvailableError\n",
      "   |   +---NameError\n",
      "   |   |   +---UnboundLocalError\n",
      "   |   +---AttributeError\n",
      "   |   +---SyntaxError\n",
      "   |   |   +---IndentationError\n",
      "   |   |   |   +---TabError\n",
      "   |   +---LookupError\n",
      "   |   |   +---IndexError\n",
      "   |   |   +---KeyError\n",
      "   |   |   |   +---UnknownBackend\n",
      "   |   |   |   +---NoSuchKernel\n",
      "   |   |   +---CodecRegistryError\n",
      "   |   +---ValueError\n",
      "   |   |   +---UnicodeError\n",
      "   |   |   |   +---UnicodeEncodeError\n",
      "   |   |   |   +---UnicodeDecodeError\n",
      "   |   |   |   +---UnicodeTranslateError\n",
      "   |   |   +---UnsupportedOperation\n",
      "   |   |   +---JSONDecodeError\n",
      "   |   |   +---ClassNotFound\n",
      "   |   |   +---Error\n",
      "   |   |   +---SSLCertVerificationError\n",
      "   |   |   +---ClipboardEmpty\n",
      "   |   |   +---MessageDefect\n",
      "   |   |   |   +---NoBoundaryInMultipartDefect\n",
      "   |   |   |   +---StartBoundaryNotFoundDefect\n",
      "   |   |   |   +---CloseBoundaryNotFoundDefect\n",
      "   |   |   |   +---FirstHeaderLineIsContinuationDefect\n",
      "   |   |   |   +---MisplacedEnvelopeHeaderDefect\n",
      "   |   |   |   +---MissingHeaderBodySeparatorDefect\n",
      "   |   |   |   +---MultipartInvariantViolationDefect\n",
      "   |   |   |   +---InvalidMultipartContentTransferEncodingDefect\n",
      "   |   |   |   +---UndecodableBytesDefect\n",
      "   |   |   |   +---InvalidBase64PaddingDefect\n",
      "   |   |   |   +---InvalidBase64CharactersDefect\n",
      "   |   |   |   +---InvalidBase64LengthDefect\n",
      "   |   |   |   +---HeaderDefect\n",
      "   |   |   |   |   +---InvalidHeaderDefect\n",
      "   |   |   |   |   +---HeaderMissingRequiredValue\n",
      "   |   |   |   |   +---NonPrintableDefect\n",
      "   |   |   |   |   +---ObsoleteHeaderDefect\n",
      "   |   |   |   |   +---NonASCIILocalPartDefect\n",
      "   |   |   +---IllegalMonthError\n",
      "   |   |   +---IllegalWeekdayError\n",
      "   |   |   +---MacroToEdit\n",
      "   |   |   +---ParserError\n",
      "   |   +---AssertionError\n",
      "   |   +---ArithmeticError\n",
      "   |   |   +---FloatingPointError\n",
      "   |   |   +---OverflowError\n",
      "   |   |   +---ZeroDivisionError\n",
      "   |   |   |   +---DivisionByZero\n",
      "   |   |   |   +---DivisionUndefined\n",
      "   |   |   +---DecimalException\n",
      "   |   |   |   +---Clamped\n",
      "   |   |   |   +---Rounded\n",
      "   |   |   |   |   +---Underflow\n",
      "   |   |   |   |   +---Overflow\n",
      "   |   |   |   +---Inexact\n",
      "   |   |   |   |   +---Underflow\n",
      "   |   |   |   |   +---Overflow\n",
      "   |   |   |   +---Subnormal\n",
      "   |   |   |   |   +---Underflow\n",
      "   |   |   |   +---DivisionByZero\n",
      "   |   |   |   +---FloatOperation\n",
      "   |   |   |   +---InvalidOperation\n",
      "   |   |   |   |   +---ConversionSyntax\n",
      "   |   |   |   |   +---DivisionImpossible\n",
      "   |   |   |   |   +---DivisionUndefined\n",
      "   |   |   |   |   +---InvalidContext\n",
      "   |   +---SystemError\n",
      "   |   |   +---CodecRegistryError\n",
      "   |   +---ReferenceError\n",
      "   |   +---MemoryError\n",
      "   |   +---BufferError\n",
      "   |   +---Warning\n",
      "   |   |   +---UserWarning\n",
      "   |   |   |   +---GetPassWarning\n",
      "   |   |   |   +---FormatterWarning\n",
      "   |   |   +---DeprecationWarning\n",
      "   |   |   |   +---ProvisionalWarning\n",
      "   |   |   +---PendingDeprecationWarning\n",
      "   |   |   +---SyntaxWarning\n",
      "   |   |   +---RuntimeWarning\n",
      "   |   |   |   +---UnknownTimezoneWarning\n",
      "   |   |   +---FutureWarning\n",
      "   |   |   |   +---ProvisionalCompleterWarning\n",
      "   |   |   +---ImportWarning\n",
      "   |   |   +---UnicodeWarning\n",
      "   |   |   +---BytesWarning\n",
      "   |   |   +---ResourceWarning\n",
      "   |   |   +---DeprecatedTzFormatWarning\n",
      "   |   +---Error\n",
      "   |   +---_OptionError\n",
      "   |   +---_Error\n",
      "   |   +---error\n",
      "   |   +---Verbose\n",
      "   |   +---SubprocessError\n",
      "   |   |   +---CalledProcessError\n",
      "   |   |   +---TimeoutExpired\n",
      "   |   +---TokenError\n",
      "   |   +---StopTokenizing\n",
      "   |   +---Error\n",
      "   |   +---error\n",
      "   |   +---LZMAError\n",
      "   |   +---RegistryError\n",
      "   |   +---EndOfBlock\n",
      "   |   +---error\n",
      "   |   +---TraitError\n",
      "   |   +---ArgumentError\n",
      "   |   +---ArgumentTypeError\n",
      "   |   +---ConfigError\n",
      "   |   |   +---ConfigLoaderError\n",
      "   |   |   |   +---ArgumentError\n",
      "   |   |   +---ConfigFileNotFound\n",
      "   |   +---ConfigurableError\n",
      "   |   |   +---MultipleInstanceError\n",
      "   |   +---ApplicationError\n",
      "   |   +---ErrorDuringImport\n",
      "   |   +---BdbQuit\n",
      "   |   +---OptionError\n",
      "   |   +---Restart\n",
      "   |   +---COMError\n",
      "   |   +---ArgumentError\n",
      "   |   +---FindCmdError\n",
      "   |   +---HomeDirError\n",
      "   |   +---ProfileDirError\n",
      "   |   +---IPythonCoreError\n",
      "   |   |   +---TryNext\n",
      "   |   |   +---UsageError\n",
      "   |   |   +---StdinNotImplementedError\n",
      "   |   +---InputRejected\n",
      "   |   +---GetoptError\n",
      "   |   +---Incomplete\n",
      "   |   +---ErrorToken\n",
      "   |   +---_Stop\n",
      "   |   +---PickleError\n",
      "   |   |   +---PicklingError\n",
      "   |   |   +---UnpicklingError\n",
      "   |   +---PrefilterError\n",
      "   |   +---AliasError\n",
      "   |   |   +---InvalidAliasError\n",
      "   |   +---Error\n",
      "   |   |   +---InterfaceError\n",
      "   |   |   +---DatabaseError\n",
      "   |   |   |   +---InternalError\n",
      "   |   |   |   +---OperationalError\n",
      "   |   |   |   +---ProgrammingError\n",
      "   |   |   |   +---IntegrityError\n",
      "   |   |   |   +---DataError\n",
      "   |   |   |   +---NotSupportedError\n",
      "   |   +---Warning\n",
      "   |   +---SpaceInInput\n",
      "   |   +---Error\n",
      "   |   |   +---CancelledError\n",
      "   |   |   +---TimeoutError\n",
      "   |   |   +---InvalidStateError\n",
      "   |   +---_GiveupOnSendfile\n",
      "   |   +---QueueEmpty\n",
      "   |   +---QueueFull\n",
      "   |   +---LimitOverrunError\n",
      "   |   +---DOMException\n",
      "   |   |   +---IndexSizeErr\n",
      "   |   |   +---DomstringSizeErr\n",
      "   |   |   +---HierarchyRequestErr\n",
      "   |   |   +---WrongDocumentErr\n",
      "   |   |   +---InvalidCharacterErr\n",
      "   |   |   +---NoDataAllowedErr\n",
      "   |   |   +---NoModificationAllowedErr\n",
      "   |   |   +---NotFoundErr\n",
      "   |   |   +---NotSupportedErr\n",
      "   |   |   +---InuseAttributeErr\n",
      "   |   |   +---InvalidStateErr\n",
      "   |   |   +---SyntaxErr\n",
      "   |   |   +---InvalidModificationErr\n",
      "   |   |   +---NamespaceErr\n",
      "   |   |   +---InvalidAccessErr\n",
      "   |   |   +---ValidationErr\n",
      "   |   +---ValidationError\n",
      "   |   +---EditReadOnlyBuffer\n",
      "   |   +---_Retry\n",
      "   |   +---InvalidLayoutError\n",
      "   |   +---HeightIsUnknownError\n",
      "   |   +---ParserSyntaxError\n",
      "   |   +---InternalParseError\n",
      "   |   +---_PositionUpdatingFinished\n",
      "   |   +---Empty\n",
      "   |   +---Full\n",
      "   |   +---UncaughtAttributeError\n",
      "   |   +---SimpleGetItemNotFound\n",
      "   |   +---ParamIssue\n",
      "   |   +---OnErrorLeaf\n",
      "   |   +---_JediError\n",
      "   |   |   +---InternalError\n",
      "   |   |   +---WrongVersion\n",
      "   |   +---InvalidPythonEnvironment\n",
      "   |   +---MessageError\n",
      "   |   |   +---MessageParseError\n",
      "   |   |   |   +---HeaderParseError\n",
      "   |   |   |   +---BoundaryError\n",
      "   |   |   +---MultipartConversionError\n",
      "   |   |   +---CharsetError\n",
      "   |   +---Error\n",
      "   |   +---HTTPException\n",
      "   |   |   +---NotConnected\n",
      "   |   |   +---InvalidURL\n",
      "   |   |   +---UnknownProtocol\n",
      "   |   |   +---UnknownTransferEncoding\n",
      "   |   |   +---UnimplementedFileMode\n",
      "   |   |   +---IncompleteRead\n",
      "   |   |   +---ImproperConnectionState\n",
      "   |   |   |   +---CannotSendRequest\n",
      "   |   |   |   +---CannotSendHeader\n",
      "   |   |   |   +---ResponseNotReady\n",
      "   |   |   +---BadStatusLine\n",
      "   |   |   |   +---RemoteDisconnected\n",
      "   |   |   +---LineTooLong\n",
      "   |   +---InteractivelyDefined\n",
      "   |   +---KillEmbedded\n",
      "   |   +---ZMQBaseError\n",
      "   |   |   +---ZMQError\n",
      "   |   |   |   +---ContextTerminated\n",
      "   |   |   |   +---Again\n",
      "   |   |   |   +---InterruptedSystemCall\n",
      "   |   |   +---ZMQBindError\n",
      "   |   |   +---NotDone\n",
      "   |   +---NoIPAddresses\n",
      "   |   +---InvalidPortNumber\n",
      "   |   +---DuplicateKernelError\n",
      "   |   +---TimeoutError\n",
      "   |   +---ReturnValueIgnoredError\n",
      "   |   +---KeyReuseError\n",
      "   |   +---UnknownKeyError\n",
      "   |   +---LeakedCallbackError\n",
      "   |   +---BadYieldError\n",
      "   |   +---ReturnValueIgnoredError\n",
      "   |   +---Return\n",
      "   |   +---QueueEmpty\n",
      "   |   +---QueueFull\n",
      "   |   +---error\n",
      "   |   +---com_error\n",
      "   +---GeneratorExit\n",
      "   +---SystemExit\n",
      "   +---KeyboardInterrupt\n"
     ]
    }
   ],
   "source": [
    "def printExcTree(thisclass, nest=0):\n",
    "    if nest > 1:\n",
    "        print(\"   |\" * (nest-1), end=\"\")\n",
    "    if nest > 0:\n",
    "        print(\"   +---\", end=\"\")\n",
    "    \n",
    "    print(thisclass.__name__)\n",
    "    \n",
    "    for subclass in thisclass.__subclasses__():\n",
    "        printExcTree(subclass, nest+1)\n",
    "        \n",
    "printExcTree(BaseException)"
   ]
  },
  {
   "cell_type": "code",
   "execution_count": 42,
   "metadata": {},
   "outputs": [
    {
     "name": "stdout",
     "output_type": "stream",
     "text": [
      " :  : \n",
      "My Exception : My Exception : My Exception\n",
      "('My', 'Exception') : ('My', 'Exception') : ('My', 'Exception')\n"
     ]
    }
   ],
   "source": [
    "def printargs(args):\n",
    "    lng = len(args)\n",
    "    if lng == 0:\n",
    "        print(\"\")\n",
    "    elif lng == 1:\n",
    "        print(args[0])\n",
    "    else:\n",
    "        print(str(args))\n",
    "        \n",
    "try:\n",
    "    raise Exception\n",
    "except Exception as e:\n",
    "    print(e, e.__str__(), sep=\" : \", end=\" : \")\n",
    "    printargs(e.args)\n",
    "    \n",
    "try:\n",
    "    raise Exception(\"My Exception\")\n",
    "except Exception as e:\n",
    "    print(e, e.__str__(), sep=\" : \", end=\" : \")\n",
    "    printargs(e.args)\n",
    "    \n",
    "try:\n",
    "    raise Exception(\"My\", \"Exception\")\n",
    "except Exception as e:\n",
    "    print(e, e.__str__(), sep=\" : \", end=\" : \")\n",
    "    printargs(e.args)"
   ]
  },
  {
   "cell_type": "code",
   "execution_count": 44,
   "metadata": {},
   "outputs": [
    {
     "name": "stdout",
     "output_type": "stream",
     "text": [
      "Division by zero.\n",
      "Division by zero.\n",
      "Original division by zero.\n",
      "My division by zero.\n"
     ]
    }
   ],
   "source": [
    "class MyZeroDivisionError(ZeroDivisionError):\n",
    "    pass\n",
    "\n",
    "def doTheDivision(mine):\n",
    "    if mine:\n",
    "        raise MyZeroDivisionError(\"some worse news\")\n",
    "    else:\n",
    "        raise ZeroDivisionError(\"some bad news\")\n",
    "        \n",
    "for mode in [False, True]:\n",
    "    try:\n",
    "        doTheDivision(mode)\n",
    "    except ZeroDivisionError:\n",
    "        print(\"Division by zero.\")\n",
    "            \n",
    "for mode in [False, True]:\n",
    "    try:\n",
    "        doTheDivision(mode)\n",
    "    except MyZeroDivisionError:\n",
    "        print(\"My division by zero.\")\n",
    "    except ZeroDivisionError:\n",
    "        print(\"Original division by zero.\")"
   ]
  },
  {
   "cell_type": "code",
   "execution_count": 48,
   "metadata": {},
   "outputs": [
    {
     "name": "stdout",
     "output_type": "stream",
     "text": [
      "Pizza ready!\n",
      "too much cheese : 110\n",
      "no such pizza on the menu : mafia\n"
     ]
    }
   ],
   "source": [
    "class PizzaError(Exception):\n",
    "    def __init__(self, pizza, message):\n",
    "        Exception.__init__(self, message)\n",
    "        self.pizza = pizza\n",
    "        \n",
    "class TooMuchCheeseError(PizzaError):\n",
    "    def __init__(self, pizza, cheese, message):\n",
    "        PizzaError.__init__(self, pizza, message)\n",
    "        self.cheese = cheese\n",
    "        \n",
    "def makePizza(pizza, cheese):\n",
    "    if pizza not in ['margherita', 'capricciosa', 'calzone']:\n",
    "        raise PizzaError(pizza, \"no such pizza on the menu\")\n",
    "    if cheese > 100:\n",
    "        raise TooMuchCheeseError(pizza, cheese, \"too much cheese\")\n",
    "    print(\"Pizza ready!\")\n",
    "    \n",
    "for (pz,ch) in [('calzone', 0), ('margherita', 110), ('mafia', 20)]:\n",
    "    try:\n",
    "        makePizza(pz,ch)\n",
    "    except TooMuchCheeseError as tmce:\n",
    "        print(tmce, ':', tmce.cheese)\n",
    "    except PizzaError as pe:\n",
    "        print(pe, ':', pe.pizza)"
   ]
  },
  {
   "cell_type": "markdown",
   "metadata": {},
   "source": [
    "6.1.7.1 Generators and Closures"
   ]
  },
  {
   "cell_type": "code",
   "execution_count": 51,
   "metadata": {},
   "outputs": [
    {
     "name": "stdout",
     "output_type": "stream",
     "text": [
      "__init__\n",
      "__iter__\n",
      "__next__\n",
      "1\n",
      "__next__\n",
      "1\n",
      "__next__\n",
      "2\n",
      "__next__\n",
      "3\n",
      "__next__\n",
      "5\n",
      "__next__\n",
      "8\n",
      "__next__\n",
      "13\n",
      "__next__\n",
      "21\n",
      "__next__\n",
      "34\n",
      "__next__\n",
      "55\n",
      "__next__\n"
     ]
    }
   ],
   "source": [
    "class Fib:\n",
    "    def __init__(self, nn):\n",
    "        print(\"__init__\")\n",
    "        self.__n = nn\n",
    "        self.__i = 0\n",
    "        self.__p1 = self.__p2 = 1\n",
    "        \n",
    "    def __iter__(self):\n",
    "        print(\"__iter__\")\n",
    "        return self\n",
    "    \n",
    "    def __next__(self):\n",
    "        print(\"__next__\")\n",
    "        self.__i += 1\n",
    "        if self.__i > self.__n:\n",
    "            raise StopIteration\n",
    "        if self.__i in [1,2]:\n",
    "            return 1\n",
    "        \n",
    "        ret = self.__p1 + self.__p2\n",
    "        self.__p1, self.__p2 = self.__p2, ret\n",
    "        return ret\n",
    "    \n",
    "for i in Fib(10):\n",
    "    print(i)"
   ]
  },
  {
   "cell_type": "code",
   "execution_count": 58,
   "metadata": {},
   "outputs": [
    {
     "name": "stdout",
     "output_type": "stream",
     "text": [
      "Class iter\n",
      "1 1 2 3 5 8 13 21 "
     ]
    }
   ],
   "source": [
    "class Fib:\n",
    "    def __init__(self, nn):\n",
    "        self.__n = nn\n",
    "        self.__i = 0\n",
    "        self.__p1 = self.__p2 = 1\n",
    "        \n",
    "    def __iter__(self):\n",
    "        print(\"Fib iter\")\n",
    "        return self\n",
    "    \n",
    "    def __next__(self):\n",
    "        self.__i += 1\n",
    "        if self.__i > self.__n:\n",
    "            raise StopIteration\n",
    "        if self.__i in [1,2]:\n",
    "            return 1\n",
    "        ret = self.__p1 + self.__p2\n",
    "        self.__p1, self.__p2 = self.__p2, ret\n",
    "        return ret\n",
    "    \n",
    "class Class:\n",
    "    def __init__(self, n):\n",
    "        self.__iter = Fib(n)\n",
    "        \n",
    "    def __iter__(self):\n",
    "        print(\"Class iter\")\n",
    "        return self.__iter\n",
    "        \n",
    "obj = Class(8)\n",
    "    \n",
    "for i in obj:\n",
    "    print(i, end=\" \")"
   ]
  },
  {
   "cell_type": "code",
   "execution_count": 63,
   "metadata": {},
   "outputs": [
    {
     "name": "stdout",
     "output_type": "stream",
     "text": [
      "0 1 2 3 4 "
     ]
    }
   ],
   "source": [
    "def fun(n):\n",
    "    for i in range(n):\n",
    "        yield i\n",
    "        \n",
    "for v in fun(5):\n",
    "    print(v, end=\" \")"
   ]
  },
  {
   "cell_type": "code",
   "execution_count": 64,
   "metadata": {},
   "outputs": [
    {
     "name": "stdout",
     "output_type": "stream",
     "text": [
      "1 2 4 8 16 32 64 128 "
     ]
    }
   ],
   "source": [
    "def powersOf2(n):\n",
    "    pow = 1\n",
    "    for i in range(n):\n",
    "        yield pow\n",
    "        pow *= 2\n",
    "        \n",
    "for v in powersOf2(8):\n",
    "    print(v, end=\" \")"
   ]
  },
  {
   "cell_type": "code",
   "execution_count": 66,
   "metadata": {},
   "outputs": [
    {
     "name": "stdout",
     "output_type": "stream",
     "text": [
      "[1, 2, 4, 8, 16] "
     ]
    }
   ],
   "source": [
    "def powersOf2(n):\n",
    "    pow = 1\n",
    "    for i in range(n):\n",
    "        yield pow\n",
    "        pow *= 2\n",
    "        \n",
    "t = [v for v in powersOf2(5)]\n",
    "print(t,end=\" \")"
   ]
  },
  {
   "cell_type": "code",
   "execution_count": 69,
   "metadata": {},
   "outputs": [
    {
     "name": "stdout",
     "output_type": "stream",
     "text": [
      "1 2 4 8 16 "
     ]
    }
   ],
   "source": [
    "def powersOf2(n):\n",
    "    pow = 1\n",
    "    for i in range(n):\n",
    "        yield pow\n",
    "        pow *= 2\n",
    "\n",
    "for i in range(20):\n",
    "    if i in powersOf2(8):\n",
    "        print(i, end=\" \")"
   ]
  },
  {
   "cell_type": "code",
   "execution_count": 70,
   "metadata": {},
   "outputs": [
    {
     "name": "stdout",
     "output_type": "stream",
     "text": [
      "[1, 1, 2, 3, 5, 8, 13, 21, 34, 55]\n"
     ]
    }
   ],
   "source": [
    "def Fib(n):\n",
    "    p = pp = 1\n",
    "    for i in range(n):\n",
    "        if i in [0,1]:\n",
    "            yield 1\n",
    "        else:\n",
    "            n = p + pp\n",
    "            pp, p = p, n\n",
    "            yield n\n",
    "            \n",
    "fibs = list(Fib(10))\n",
    "print(fibs)"
   ]
  },
  {
   "cell_type": "code",
   "execution_count": 72,
   "metadata": {},
   "outputs": [
    {
     "name": "stdout",
     "output_type": "stream",
     "text": [
      "[1, 10, 100, 1000, 10000, 100000]\n",
      "[1, 10, 100, 1000, 10000, 100000]\n"
     ]
    }
   ],
   "source": [
    "listone = []\n",
    "for i in range(6):\n",
    "    listone.append(10 ** i)\n",
    "    \n",
    "listtwo = [10 ** i for i in range(6)]\n",
    "\n",
    "print(listone)\n",
    "print(listtwo)"
   ]
  },
  {
   "cell_type": "code",
   "execution_count": 74,
   "metadata": {},
   "outputs": [
    {
     "name": "stdout",
     "output_type": "stream",
     "text": [
      "[1, 0, 1, 0, 1, 0, 1, 0, 1, 0]\n",
      "[1, 0, 1, 0, 1, 0, 1, 0, 1, 0]\n"
     ]
    }
   ],
   "source": [
    "lst = []\n",
    "for i in range(10):\n",
    "    lst.append(1 if i % 2 == 0 else 0)\n",
    "\n",
    "lst2 = [1 if i % 2 == 0 else 0 for i in range(10)]\n",
    "    \n",
    "print(lst)\n",
    "print(lst2)"
   ]
  },
  {
   "cell_type": "code",
   "execution_count": 77,
   "metadata": {},
   "outputs": [
    {
     "name": "stdout",
     "output_type": "stream",
     "text": [
      "1 0 1 0 1 0 1 0 1 0 \n",
      "1 0 1 0 1 0 1 0 1 0 \n",
      "10\n"
     ]
    },
    {
     "ename": "TypeError",
     "evalue": "object of type 'generator' has no len()",
     "output_type": "error",
     "traceback": [
      "\u001b[1;31m---------------------------------------------------------------------------\u001b[0m",
      "\u001b[1;31mTypeError\u001b[0m                                 Traceback (most recent call last)",
      "\u001b[1;32m<ipython-input-77-384148ee34e1>\u001b[0m in \u001b[0;36m<module>\u001b[1;34m\u001b[0m\n\u001b[0;32m     11\u001b[0m \u001b[1;33m\u001b[0m\u001b[0m\n\u001b[0;32m     12\u001b[0m \u001b[0mprint\u001b[0m\u001b[1;33m(\u001b[0m\u001b[0mlen\u001b[0m\u001b[1;33m(\u001b[0m\u001b[0mlst\u001b[0m\u001b[1;33m)\u001b[0m\u001b[1;33m)\u001b[0m\u001b[1;33m\u001b[0m\u001b[1;33m\u001b[0m\u001b[0m\n\u001b[1;32m---> 13\u001b[1;33m \u001b[0mprint\u001b[0m\u001b[1;33m(\u001b[0m\u001b[0mlen\u001b[0m\u001b[1;33m(\u001b[0m\u001b[0mgenr\u001b[0m\u001b[1;33m)\u001b[0m\u001b[1;33m)\u001b[0m\u001b[1;33m\u001b[0m\u001b[1;33m\u001b[0m\u001b[0m\n\u001b[0m",
      "\u001b[1;31mTypeError\u001b[0m: object of type 'generator' has no len()"
     ]
    }
   ],
   "source": [
    "lst = [1 if i % 2 == 0 else 0 for i in range(10)]\n",
    "genr = (1 if i % 2 == 0 else 0 for i in range(10))\n",
    "\n",
    "for v in lst:\n",
    "    print(v, end=\" \")\n",
    "print()    \n",
    "\n",
    "for v in genr:\n",
    "    print(v, end=\" \")\n",
    "print()\n",
    "\n",
    "print(len(lst))\n",
    "print(len(genr))"
   ]
  },
  {
   "cell_type": "code",
   "execution_count": 78,
   "metadata": {},
   "outputs": [
    {
     "name": "stdout",
     "output_type": "stream",
     "text": [
      "1 0 1 0 1 0 1 0 1 0 \n",
      "1 0 1 0 1 0 1 0 1 0 "
     ]
    }
   ],
   "source": [
    "for v in [1 if i % 2 == 0 else 0 for i in range(10)]:\n",
    "    print(v, end=\" \")   \n",
    "print()\n",
    "\n",
    "for v in (1 if i % 2 == 0 else 0 for i in range(10)):\n",
    "    print(v, end=\" \")"
   ]
  },
  {
   "cell_type": "code",
   "execution_count": 79,
   "metadata": {},
   "outputs": [
    {
     "name": "stdout",
     "output_type": "stream",
     "text": [
      "4 4\n",
      "1 1\n",
      "0 0\n",
      "1 1\n",
      "4 4\n"
     ]
    }
   ],
   "source": [
    "two = lambda : 2\n",
    "sqr = lambda x : x * x\n",
    "pwr = lambda x, y : x ** y\n",
    "\n",
    "for a in range(-2,3):\n",
    "    print(sqr(a), end=\" \")\n",
    "    print(pwr(a, two()))"
   ]
  },
  {
   "cell_type": "code",
   "execution_count": 80,
   "metadata": {},
   "outputs": [
    {
     "name": "stdout",
     "output_type": "stream",
     "text": [
      "f(-2)=18\n",
      "f(-1)=8\n",
      "f(0)=2\n",
      "f(1)=0\n",
      "f(2)=2\n"
     ]
    }
   ],
   "source": [
    "def printFunction(args,fun):\n",
    "    for x in args:\n",
    "        print(\"f(\", x, \")=\", fun(x), sep='')\n",
    "        \n",
    "def poly(x):\n",
    "    return 2*(x**2) - 4*x + 2\n",
    "\n",
    "printFunction([x for x in range(-2,3)], poly)"
   ]
  },
  {
   "cell_type": "code",
   "execution_count": 81,
   "metadata": {},
   "outputs": [
    {
     "name": "stdout",
     "output_type": "stream",
     "text": [
      "f(-2)=18\n",
      "f(-1)=8\n",
      "f(0)=2\n",
      "f(1)=0\n",
      "f(2)=2\n"
     ]
    }
   ],
   "source": [
    "def printFunction(args,fun):\n",
    "    for x in args:\n",
    "        print(\"f(\", x, \")=\", fun(x), sep='')\n",
    "\n",
    "printFunction([x for x in range(-2,3)], lambda x : 2*(x**2) - 4*x + 2)"
   ]
  },
  {
   "cell_type": "markdown",
   "metadata": {},
   "source": [
    "6.1.7.11 Lambdas and the map() Function"
   ]
  },
  {
   "cell_type": "code",
   "execution_count": 84,
   "metadata": {},
   "outputs": [
    {
     "name": "stdout",
     "output_type": "stream",
     "text": [
      "[1, 2, 4, 8, 16]\n",
      "1 4 16 64 256 "
     ]
    }
   ],
   "source": [
    "list1 = [x for x in range(5)]\n",
    "list2 = list(map(lambda x : 2**x, list1))\n",
    "print(list2)\n",
    "\n",
    "for x in map(lambda x : x*x, list2):\n",
    "    print(x, end=\" \")"
   ]
  },
  {
   "cell_type": "markdown",
   "metadata": {},
   "source": [
    "6.1.7.12 Lambdas and the filter() Function"
   ]
  },
  {
   "cell_type": "code",
   "execution_count": 95,
   "metadata": {},
   "outputs": [
    {
     "name": "stdout",
     "output_type": "stream",
     "text": [
      "[2, -1, -2, 9, -10]\n",
      "[2]\n"
     ]
    }
   ],
   "source": [
    "from random import seed, randint\n",
    "\n",
    "seed()\n",
    "data = [randint(-10,10) for x in range(5)]\n",
    "filtered = list(filter(lambda x : x > 0 and x % 2 == 0, data))\n",
    "print(data)\n",
    "print(filtered)"
   ]
  },
  {
   "cell_type": "code",
   "execution_count": 100,
   "metadata": {},
   "outputs": [
    {
     "name": "stdout",
     "output_type": "stream",
     "text": [
      "1\n"
     ]
    }
   ],
   "source": [
    "def outer(par):\n",
    "    loc = par\n",
    "    def inner():\n",
    "        return loc\n",
    "    return inner\n",
    "\n",
    "var = 1\n",
    "fun = outer(var)\n",
    "print(fun())"
   ]
  },
  {
   "cell_type": "code",
   "execution_count": 101,
   "metadata": {},
   "outputs": [
    {
     "name": "stdout",
     "output_type": "stream",
     "text": [
      "1\n"
     ]
    },
    {
     "ename": "NameError",
     "evalue": "name 'loc' is not defined",
     "output_type": "error",
     "traceback": [
      "\u001b[1;31m---------------------------------------------------------------------------\u001b[0m",
      "\u001b[1;31mNameError\u001b[0m                                 Traceback (most recent call last)",
      "\u001b[1;32m<ipython-input-101-cf32a9c84b1b>\u001b[0m in \u001b[0;36m<module>\u001b[1;34m\u001b[0m\n\u001b[0;32m      5\u001b[0m \u001b[0mouter\u001b[0m\u001b[1;33m(\u001b[0m\u001b[0mvar\u001b[0m\u001b[1;33m)\u001b[0m\u001b[1;33m\u001b[0m\u001b[1;33m\u001b[0m\u001b[0m\n\u001b[0;32m      6\u001b[0m \u001b[0mprint\u001b[0m\u001b[1;33m(\u001b[0m\u001b[0mvar\u001b[0m\u001b[1;33m)\u001b[0m\u001b[1;33m\u001b[0m\u001b[1;33m\u001b[0m\u001b[0m\n\u001b[1;32m----> 7\u001b[1;33m \u001b[0mprint\u001b[0m\u001b[1;33m(\u001b[0m\u001b[0mloc\u001b[0m\u001b[1;33m)\u001b[0m\u001b[1;33m\u001b[0m\u001b[1;33m\u001b[0m\u001b[0m\n\u001b[0m",
      "\u001b[1;31mNameError\u001b[0m: name 'loc' is not defined"
     ]
    }
   ],
   "source": [
    "def outer(par):\n",
    "    loc = par\n",
    "\n",
    "var = 1\n",
    "outer(var)\n",
    "print(var)\n",
    "print(loc)"
   ]
  },
  {
   "cell_type": "code",
   "execution_count": 103,
   "metadata": {},
   "outputs": [
    {
     "name": "stdout",
     "output_type": "stream",
     "text": [
      "0 0 0\n",
      "1 1 1\n",
      "2 4 8\n",
      "3 9 27\n",
      "4 16 64\n"
     ]
    }
   ],
   "source": [
    "def makeClosure(par):\n",
    "    loc = par\n",
    "    def power(p):\n",
    "        return p ** loc\n",
    "    return power\n",
    "\n",
    "fsqr = makeClosure(2)\n",
    "fcub = makeClosure(3)\n",
    "\n",
    "for i in range(5):\n",
    "    print(i, fsqr(i), fcub(i))"
   ]
  },
  {
   "cell_type": "markdown",
   "metadata": {},
   "source": [
    "6.1.8.11 Processing Files"
   ]
  },
  {
   "cell_type": "code",
   "execution_count": 107,
   "metadata": {},
   "outputs": [
    {
     "name": "stdout",
     "output_type": "stream",
     "text": [
      "The file doesn't exist.\n"
     ]
    }
   ],
   "source": [
    "import errno\n",
    "\n",
    "try:\n",
    "    s = open(\"D:\\Belajar\\python\\Digitalent Cisco\\Modul\\Modul_7.1.8.docx\", \"rt\")\n",
    "    s.close()\n",
    "except Exception as exc:\n",
    "    if exc.errno == errno.ENOENT:\n",
    "        print(\"The file doesn't exist.\")\n",
    "    elif exc.errno == errno.EMFILE:\n",
    "        print(\"You've open too many files.\")\n",
    "    else:\n",
    "        printf(\"The error number is:\", exc.errno)"
   ]
  },
  {
   "cell_type": "code",
   "execution_count": 115,
   "metadata": {},
   "outputs": [
    {
     "name": "stdout",
     "output_type": "stream",
     "text": [
      "The file could not be opened: No such file or directory\n"
     ]
    }
   ],
   "source": [
    "from os import strerror\n",
    "\n",
    "try:\n",
    "    s = open(\"D:\\Belajar\\python\\Digitalent Cisco\\Modul\\Modul_7.1.8.docx\", \"rt\")\n",
    "    s.close()\n",
    "except Exception as exc:\n",
    "    print(\"The file could not be opened:\", strerror(exc.errno))"
   ]
  },
  {
   "cell_type": "markdown",
   "metadata": {},
   "source": [
    "6.1.9.1 Working with real files"
   ]
  },
  {
   "cell_type": "code",
   "execution_count": 143,
   "metadata": {},
   "outputs": [
    {
     "ename": "UnicodeDecodeError",
     "evalue": "'utf-8' codec can't decode byte 0x87 in position 10: invalid start byte",
     "output_type": "error",
     "traceback": [
      "\u001b[1;31m---------------------------------------------------------------------------\u001b[0m",
      "\u001b[1;31mUnicodeDecodeError\u001b[0m                        Traceback (most recent call last)",
      "\u001b[1;32m<ipython-input-143-c96d7f816400>\u001b[0m in \u001b[0;36m<module>\u001b[1;34m\u001b[0m\n\u001b[0;32m      1\u001b[0m \u001b[0mstream\u001b[0m \u001b[1;33m=\u001b[0m \u001b[0mopen\u001b[0m\u001b[1;33m(\u001b[0m\u001b[1;34m\"D:\\\\Belajar\\\\python\\\\Digitalent Cisco\\\\File tambahan\\\\tzop.docx\"\u001b[0m\u001b[1;33m,\u001b[0m \u001b[1;34m\"rt\"\u001b[0m\u001b[1;33m,\u001b[0m \u001b[0mencoding\u001b[0m \u001b[1;33m=\u001b[0m \u001b[1;34m\"utf-8\"\u001b[0m\u001b[1;33m)\u001b[0m\u001b[1;33m\u001b[0m\u001b[1;33m\u001b[0m\u001b[0m\n\u001b[1;32m----> 2\u001b[1;33m \u001b[0mprint\u001b[0m\u001b[1;33m(\u001b[0m\u001b[0mstream\u001b[0m\u001b[1;33m.\u001b[0m\u001b[0mread\u001b[0m\u001b[1;33m(\u001b[0m\u001b[1;33m)\u001b[0m\u001b[1;33m)\u001b[0m\u001b[1;33m\u001b[0m\u001b[1;33m\u001b[0m\u001b[0m\n\u001b[0m\u001b[0;32m      3\u001b[0m \u001b[1;33m\u001b[0m\u001b[0m\n\u001b[0;32m      4\u001b[0m \u001b[1;31m# with open(\"D:\\\\Belajar\\\\python\\\\Digitalent Cisco\\\\File tambahan\\\\tzop.docx\", \"rt\") as f:\u001b[0m\u001b[1;33m\u001b[0m\u001b[1;33m\u001b[0m\u001b[1;33m\u001b[0m\u001b[0m\n\u001b[0;32m      5\u001b[0m \u001b[1;31m#     stream = f.read()\u001b[0m\u001b[1;33m\u001b[0m\u001b[1;33m\u001b[0m\u001b[1;33m\u001b[0m\u001b[0m\n",
      "\u001b[1;32mE:\\aplikasi\\python\\anaconda3\\lib\\codecs.py\u001b[0m in \u001b[0;36mdecode\u001b[1;34m(self, input, final)\u001b[0m\n\u001b[0;32m    320\u001b[0m         \u001b[1;31m# decode input (taking the buffer into account)\u001b[0m\u001b[1;33m\u001b[0m\u001b[1;33m\u001b[0m\u001b[1;33m\u001b[0m\u001b[0m\n\u001b[0;32m    321\u001b[0m         \u001b[0mdata\u001b[0m \u001b[1;33m=\u001b[0m \u001b[0mself\u001b[0m\u001b[1;33m.\u001b[0m\u001b[0mbuffer\u001b[0m \u001b[1;33m+\u001b[0m \u001b[0minput\u001b[0m\u001b[1;33m\u001b[0m\u001b[1;33m\u001b[0m\u001b[0m\n\u001b[1;32m--> 322\u001b[1;33m         \u001b[1;33m(\u001b[0m\u001b[0mresult\u001b[0m\u001b[1;33m,\u001b[0m \u001b[0mconsumed\u001b[0m\u001b[1;33m)\u001b[0m \u001b[1;33m=\u001b[0m \u001b[0mself\u001b[0m\u001b[1;33m.\u001b[0m\u001b[0m_buffer_decode\u001b[0m\u001b[1;33m(\u001b[0m\u001b[0mdata\u001b[0m\u001b[1;33m,\u001b[0m \u001b[0mself\u001b[0m\u001b[1;33m.\u001b[0m\u001b[0merrors\u001b[0m\u001b[1;33m,\u001b[0m \u001b[0mfinal\u001b[0m\u001b[1;33m)\u001b[0m\u001b[1;33m\u001b[0m\u001b[1;33m\u001b[0m\u001b[0m\n\u001b[0m\u001b[0;32m    323\u001b[0m         \u001b[1;31m# keep undecoded input until the next call\u001b[0m\u001b[1;33m\u001b[0m\u001b[1;33m\u001b[0m\u001b[1;33m\u001b[0m\u001b[0m\n\u001b[0;32m    324\u001b[0m         \u001b[0mself\u001b[0m\u001b[1;33m.\u001b[0m\u001b[0mbuffer\u001b[0m \u001b[1;33m=\u001b[0m \u001b[0mdata\u001b[0m\u001b[1;33m[\u001b[0m\u001b[0mconsumed\u001b[0m\u001b[1;33m:\u001b[0m\u001b[1;33m]\u001b[0m\u001b[1;33m\u001b[0m\u001b[1;33m\u001b[0m\u001b[0m\n",
      "\u001b[1;31mUnicodeDecodeError\u001b[0m: 'utf-8' codec can't decode byte 0x87 in position 10: invalid start byte"
     ]
    }
   ],
   "source": [
    "stream = open(\"D:\\\\Belajar\\\\python\\\\Digitalent Cisco\\\\File tambahan\\\\tzop.docx\", \"rt\", encoding = \"utf-8\")\n",
    "print(stream.read())\n",
    "\n",
    "# with open(\"D:\\\\Belajar\\\\python\\\\Digitalent Cisco\\\\File tambahan\\\\tzop.docx\", \"rt\") as f:\n",
    "#     stream = f.read()"
   ]
  },
  {
   "cell_type": "code",
   "execution_count": 144,
   "metadata": {},
   "outputs": [
    {
     "name": "stdout",
     "output_type": "stream",
     "text": [
      "b\n"
     ]
    }
   ],
   "source": [
    "class A:\n",
    "    def __str__(self):\n",
    "        return 'a'\n",
    "    \n",
    "class B(A):\n",
    "    def __str__(self):\n",
    "        return 'b'\n",
    "    \n",
    "class C(B):\n",
    "    pass\n",
    "\n",
    "o = C()\n",
    "print(o)"
   ]
  },
  {
   "cell_type": "code",
   "execution_count": 173,
   "metadata": {},
   "outputs": [
    {
     "name": "stdout",
     "output_type": "stream",
     "text": [
      "b\n"
     ]
    }
   ],
   "source": [
    "class A:\n",
    "    def a(self):\n",
    "        print('a')\n",
    "    \n",
    "class B:\n",
    "    def a(self):\n",
    "        print('b')\n",
    "    \n",
    "class C(B,A):\n",
    "    def c(self):\n",
    "        self.a()\n",
    "\n",
    "o = C()\n",
    "o.c()"
   ]
  },
  {
   "cell_type": "code",
   "execution_count": 147,
   "metadata": {},
   "outputs": [
    {
     "name": "stdout",
     "output_type": "stream",
     "text": [
      "++++++"
     ]
    }
   ],
   "source": [
    "def fun(n):\n",
    "    s = '+'\n",
    "    for i in range(n):\n",
    "        s += s\n",
    "        yield s\n",
    "        \n",
    "for x in fun(2):\n",
    "    print(x, end=\"\")"
   ]
  },
  {
   "cell_type": "code",
   "execution_count": 148,
   "metadata": {},
   "outputs": [
    {
     "name": "stdout",
     "output_type": "stream",
     "text": [
      "True\n"
     ]
    }
   ],
   "source": [
    "class A:\n",
    "    pass\n",
    "class B(A):\n",
    "    pass\n",
    "class C(B):\n",
    "    pass\n",
    "\n",
    "print(issubclass(C,A))"
   ]
  },
  {
   "cell_type": "code",
   "execution_count": 165,
   "metadata": {},
   "outputs": [
    {
     "name": "stdout",
     "output_type": "stream",
     "text": [
      "ex\n"
     ]
    }
   ],
   "source": [
    "class Ex(Exception):\n",
    "    def __init__(self, msg):\n",
    "        Exception.__init__(self, msg + msg)\n",
    "        self.args = (msg,)\n",
    "        \n",
    "try:\n",
    "    raise Ex('ex')\n",
    "except Ex as e:\n",
    "    print(e)\n",
    "except Exception as e:\n",
    "    print(e)"
   ]
  },
  {
   "cell_type": "code",
   "execution_count": 170,
   "metadata": {},
   "outputs": [
    {
     "name": "stdout",
     "output_type": "stream",
     "text": [
      "3\n"
     ]
    }
   ],
   "source": [
    "class A:\n",
    "    X = 0\n",
    "    def __init__(self, v=0):\n",
    "        self.Y = v\n",
    "        A.X += v\n",
    "        \n",
    "a = A()\n",
    "b = A(1)\n",
    "c = A(2)\n",
    "print(c.X)"
   ]
  },
  {
   "cell_type": "code",
   "execution_count": 153,
   "metadata": {},
   "outputs": [
    {
     "name": "stdout",
     "output_type": "stream",
     "text": [
      "ace"
     ]
    }
   ],
   "source": [
    "def I():\n",
    "    s = 'abcdef'\n",
    "    for c in s[::2]:\n",
    "        yield c\n",
    "        \n",
    "for x in I():\n",
    "    print(x, end=\"\")"
   ]
  },
  {
   "cell_type": "code",
   "execution_count": 154,
   "metadata": {},
   "outputs": [
    {
     "name": "stdout",
     "output_type": "stream",
     "text": [
      "bcac"
     ]
    }
   ],
   "source": [
    "def f(x):\n",
    "    try:\n",
    "        x = x/x\n",
    "    except:\n",
    "        print('a', end=\"\")\n",
    "    else:\n",
    "        print('b', end=\"\")\n",
    "    finally:\n",
    "        print('c', end=\"\")\n",
    "        \n",
    "f(1)\n",
    "f(0)"
   ]
  },
  {
   "cell_type": "code",
   "execution_count": 171,
   "metadata": {},
   "outputs": [
    {
     "name": "stdout",
     "output_type": "stream",
     "text": [
      "False\n"
     ]
    }
   ],
   "source": [
    "class A:\n",
    "    def __init__(self):\n",
    "        pass\n",
    "    \n",
    "a = A()\n",
    "print(hasattr(a, 'A'))"
   ]
  },
  {
   "cell_type": "code",
   "execution_count": 156,
   "metadata": {},
   "outputs": [
    {
     "name": "stdout",
     "output_type": "stream",
     "text": [
      "1\n"
     ]
    }
   ],
   "source": [
    "class A:\n",
    "    v = 2\n",
    "    \n",
    "class B(A):\n",
    "    v = 1\n",
    "    \n",
    "class C(B):\n",
    "    pass\n",
    "\n",
    "o = C()\n",
    "print(o.v)"
   ]
  },
  {
   "cell_type": "code",
   "execution_count": 157,
   "metadata": {},
   "outputs": [
    {
     "name": "stdout",
     "output_type": "stream",
     "text": [
      "2\n"
     ]
    }
   ],
   "source": [
    "class A:\n",
    "    def __init__(self, v=1):\n",
    "        self.v = v\n",
    "    def set(self, v):\n",
    "        self.v = v\n",
    "        return v\n",
    "    \n",
    "a = A()\n",
    "print(a.set(a.v + 1))"
   ]
  },
  {
   "cell_type": "code",
   "execution_count": 158,
   "metadata": {},
   "outputs": [
    {
     "name": "stdout",
     "output_type": "stream",
     "text": [
      "True\n"
     ]
    }
   ],
   "source": [
    "class A:\n",
    "    A = 1\n",
    "    \n",
    "print(hasattr(A, 'A'))"
   ]
  },
  {
   "cell_type": "code",
   "execution_count": 159,
   "metadata": {},
   "outputs": [
    {
     "name": "stdout",
     "output_type": "stream",
     "text": [
      "3\n"
     ]
    }
   ],
   "source": [
    "try:\n",
    "    raise Exception(1,2,3)\n",
    "except Exception as e:\n",
    "    print(len(e.args))"
   ]
  },
  {
   "cell_type": "code",
   "execution_count": 160,
   "metadata": {},
   "outputs": [
    {
     "name": "stdout",
     "output_type": "stream",
     "text": [
      "***\n"
     ]
    }
   ],
   "source": [
    "def o(p):\n",
    "    def q():\n",
    "        return '*' * p\n",
    "    return q\n",
    "\n",
    "r = o(1)\n",
    "s = o(2)\n",
    "print(r()+s())"
   ]
  },
  {
   "cell_type": "code",
   "execution_count": 161,
   "metadata": {},
   "outputs": [
    {
     "ename": "AttributeError",
     "evalue": "'A' object has no attribute '__a'",
     "output_type": "error",
     "traceback": [
      "\u001b[1;31m---------------------------------------------------------------------------\u001b[0m",
      "\u001b[1;31mAttributeError\u001b[0m                            Traceback (most recent call last)",
      "\u001b[1;32m<ipython-input-161-672bce157271>\u001b[0m in \u001b[0;36m<module>\u001b[1;34m\u001b[0m\n\u001b[0;32m      4\u001b[0m \u001b[1;33m\u001b[0m\u001b[0m\n\u001b[0;32m      5\u001b[0m \u001b[0ma\u001b[0m \u001b[1;33m=\u001b[0m \u001b[0mA\u001b[0m\u001b[1;33m(\u001b[0m\u001b[1;36m0\u001b[0m\u001b[1;33m)\u001b[0m\u001b[1;33m\u001b[0m\u001b[1;33m\u001b[0m\u001b[0m\n\u001b[1;32m----> 6\u001b[1;33m \u001b[0mprint\u001b[0m\u001b[1;33m(\u001b[0m\u001b[0ma\u001b[0m\u001b[1;33m.\u001b[0m\u001b[0m__a\u001b[0m\u001b[1;33m)\u001b[0m\u001b[1;33m\u001b[0m\u001b[1;33m\u001b[0m\u001b[0m\n\u001b[0m",
      "\u001b[1;31mAttributeError\u001b[0m: 'A' object has no attribute '__a'"
     ]
    }
   ],
   "source": [
    "class A:\n",
    "    def __init__(self,v):\n",
    "        self.__a = v + 1\n",
    "        \n",
    "a = A(0)\n",
    "print(a.__a)"
   ]
  },
  {
   "cell_type": "code",
   "execution_count": 172,
   "metadata": {},
   "outputs": [
    {
     "name": "stdout",
     "output_type": "stream",
     "text": [
      "1\n"
     ]
    }
   ],
   "source": [
    "class A:\n",
    "    def __init__(self):\n",
    "        self.a = 1\n",
    "        \n",
    "class B(A):\n",
    "    def __init__(self):\n",
    "        A.__init__()\n",
    "        self.b = 2\n",
    "        \n",
    "a = A()\n",
    "print(a.a)"
   ]
  },
  {
   "cell_type": "code",
   "execution_count": 166,
   "metadata": {},
   "outputs": [
    {
     "name": "stdout",
     "output_type": "stream",
     "text": [
      "abc"
     ]
    }
   ],
   "source": [
    "class I:\n",
    "    def __init__(self):\n",
    "        self.s = 'abc'\n",
    "        self.i = 0\n",
    "    def __iter__(self):\n",
    "        return self\n",
    "    def __next__(self):\n",
    "        if self.i == len(self.s):\n",
    "            raise StopIteration\n",
    "        v = self.s[self.i]\n",
    "        self.i += 1\n",
    "        return v\n",
    "\n",
    "for x in I():\n",
    "    print(x, end=\"\")"
   ]
  },
  {
   "cell_type": "code",
   "execution_count": 174,
   "metadata": {},
   "outputs": [
    {
     "ename": "SyntaxError",
     "evalue": "default 'except:' must be last (<ipython-input-174-1819aa442c4a>, line 5)",
     "output_type": "error",
     "traceback": [
      "\u001b[1;36m  File \u001b[1;32m\"<ipython-input-174-1819aa442c4a>\"\u001b[1;36m, line \u001b[1;32m5\u001b[0m\n\u001b[1;33m    except BaseException:\u001b[0m\n\u001b[1;37m                     ^\u001b[0m\n\u001b[1;31mSyntaxError\u001b[0m\u001b[1;31m:\u001b[0m default 'except:' must be last\n"
     ]
    }
   ],
   "source": [
    "try:\n",
    "    raise Exception\n",
    "except:\n",
    "    print(\"c\")\n",
    "except BaseException:\n",
    "    print(\"a\")\n",
    "except Exception:\n",
    "    print(\"b\")"
   ]
  },
  {
   "cell_type": "code",
   "execution_count": 175,
   "metadata": {},
   "outputs": [
    {
     "name": "stdout",
     "output_type": "stream",
     "text": [
      "1.3\n"
     ]
    }
   ],
   "source": [
    "print(float(\"1.3\"))"
   ]
  },
  {
   "cell_type": "code",
   "execution_count": 176,
   "metadata": {},
   "outputs": [
    {
     "name": "stdout",
     "output_type": "stream",
     "text": [
      "3\n"
     ]
    }
   ],
   "source": [
    "class A:\n",
    "    def __init__(self, v=2):\n",
    "        self.v = v\n",
    "    def set(self, v=1):\n",
    "        self.v += v\n",
    "        return self.v\n",
    "    \n",
    "a = A()\n",
    "b = a\n",
    "b.set()\n",
    "print(a.v)"
   ]
  },
  {
   "cell_type": "code",
   "execution_count": 177,
   "metadata": {},
   "outputs": [
    {
     "name": "stdout",
     "output_type": "stream",
     "text": [
      "False\n"
     ]
    }
   ],
   "source": [
    "class A:\n",
    "    A = 1\n",
    "    def __init__(self):\n",
    "        self.a = 0\n",
    "        \n",
    "print(hasattr(A, 'a'))"
   ]
  },
  {
   "cell_type": "code",
   "execution_count": 178,
   "metadata": {},
   "outputs": [
    {
     "name": "stdout",
     "output_type": "stream",
     "text": [
      "++++++"
     ]
    }
   ],
   "source": [
    "def I(n):\n",
    "    s = '+'\n",
    "    for i in range(n):\n",
    "        s += s\n",
    "        yield s\n",
    "        \n",
    "for x in I(2):\n",
    "    print(x, end=\"\")"
   ]
  },
  {
   "cell_type": "code",
   "execution_count": 180,
   "metadata": {},
   "outputs": [
    {
     "name": "stdout",
     "output_type": "stream",
     "text": [
      "2\n"
     ]
    }
   ],
   "source": [
    "x = \"\\\\\\\\\"\n",
    "print(len(x))"
   ]
  },
  {
   "cell_type": "code",
   "execution_count": null,
   "metadata": {},
   "outputs": [],
   "source": []
  }
 ],
 "metadata": {
  "kernelspec": {
   "display_name": "Python 3",
   "language": "python",
   "name": "python3"
  },
  "language_info": {
   "codemirror_mode": {
    "name": "ipython",
    "version": 3
   },
   "file_extension": ".py",
   "mimetype": "text/x-python",
   "name": "python",
   "nbconvert_exporter": "python",
   "pygments_lexer": "ipython3",
   "version": "3.7.6"
  }
 },
 "nbformat": 4,
 "nbformat_minor": 4
}
