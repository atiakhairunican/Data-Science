{
 "cells": [
  {
   "cell_type": "markdown",
   "metadata": {},
   "source": [
    "LAB: 3.1.1.5\n",
    "Write a simple program that takes a parameter n as input, which is an integer. Print False if n < 100 and True if n>=100."
   ]
  },
  {
   "cell_type": "code",
   "execution_count": 2,
   "metadata": {},
   "outputs": [
    {
     "name": "stdout",
     "output_type": "stream",
     "text": [
      "How many sample that you want to input? 6\n",
      "Enter an integer number: 55\n",
      "False atau bisa gunakan yang ini:  False\n",
      "Enter an integer number: 99\n",
      "False atau bisa gunakan yang ini:  False\n",
      "Enter an integer number: 100\n",
      "False atau bisa gunakan yang ini:  True\n",
      "Enter an integer number: 101\n",
      "True atau bisa gunakan yang ini:  True\n",
      "Enter an integer number: -5\n",
      "False atau bisa gunakan yang ini:  False\n",
      "Enter an integer number: +123\n",
      "True atau bisa gunakan yang ini:  True\n"
     ]
    }
   ],
   "source": [
    "sample = int(input(\"How many sample that you want to input? \"))\n",
    "\n",
    "i = 0\n",
    "while i < sample:\n",
    "    n = int(input(\"Enter an integer number: \"))\n",
    "    print(n > 100, \"atau bisa gunakan yang ini: \", not n < 100)\n",
    "    i += 1"
   ]
  },
  {
   "cell_type": "markdown",
   "metadata": {},
   "source": [
    "LAB: 3.1.1.11\n",
    "Correct the word Spathipyllum and make correction about that."
   ]
  },
  {
   "cell_type": "code",
   "execution_count": 1,
   "metadata": {},
   "outputs": [
    {
     "name": "stdout",
     "output_type": "stream",
     "text": [
      "Please says Spathipyllum as your password: spathipyllum\n",
      "No, I want a big Spathipyllum!\n",
      "Please says Spathipyllum as your password: pelagornium\n",
      "Spathipyllum! Not  pelagornium !\n",
      "Please says Spathipyllum as your password: Spathipyllum\n",
      "Yes - Spathipyllum is the best plant ever!\n"
     ]
    }
   ],
   "source": [
    "while True:\n",
    "    word = input(\"Please says Spathipyllum as your password: \")\n",
    "    if word == \"spathipyllum\":\n",
    "        print(\"No, I want a big Spathipyllum!\")\n",
    "    elif word == \"Spathipyllum\":\n",
    "        print(\"Yes - Spathipyllum is the best plant ever!\")\n",
    "        break\n",
    "    else:\n",
    "        print(\"Spathipyllum! Not \", word, \"!\")"
   ]
  },
  {
   "cell_type": "markdown",
   "metadata": {},
   "source": [
    "LAB: 3.1.1.12\n",
    "Calculate Personal Income Tax"
   ]
  },
  {
   "cell_type": "code",
   "execution_count": 7,
   "metadata": {},
   "outputs": [
    {
     "name": "stdout",
     "output_type": "stream",
     "text": [
      "Do you want to calculate your tax? y\n",
      "Enter your income a year: 10000\n",
      "The tax is  1244.0 Thalers\n",
      "Again? Type no to stop.y\n",
      "Enter your income a year: 100000\n",
      "The tax is  19470.0 Thalers\n",
      "Again? Type no to stop.y\n",
      "Enter your income a year: 1000\n",
      "The tax is  0.0 Thalers\n",
      "Again? Type no to stop.y\n",
      "Enter your income a year: -100\n",
      "The tax is  0.0 Thalers\n",
      "Again? Type no to stop.no\n"
     ]
    }
   ],
   "source": [
    "repeat = input(\"Do you want to calculate your tax? \")\n",
    "notAgain = \"no\"\n",
    "\n",
    "while repeat != notAgain:\n",
    "    income = int(input(\"Enter your income a year: \"))\n",
    "\n",
    "    if income <= 85528:\n",
    "        tax = 0.18 * income - 556 + 0.02\n",
    "        if tax < 0:\n",
    "            tax = 0.0\n",
    "    else:\n",
    "        tax = 14839 + 0.02 + (0.32 * (income - 85528))\n",
    "\n",
    "    print(\"The tax is \", round(tax, 0), \"Thalers\")\n",
    "    repeat = input(\"Again? Type no to stop.\")\n",
    "    "
   ]
  },
  {
   "cell_type": "markdown",
   "metadata": {},
   "source": [
    "LAB: 3.1.1.13 Determine the Leap Year or Not"
   ]
  },
  {
   "cell_type": "code",
   "execution_count": 18,
   "metadata": {},
   "outputs": [
    {
     "name": "stdout",
     "output_type": "stream",
     "text": [
      "Enter the year that you want to know Leap Year or Not: 2000\n",
      "2000  is the Leap Year.\n",
      "Enter the year that you want to know Leap Year or Not: 2015\n",
      "2015  is the Common Year.\n",
      "Enter the year that you want to know Leap Year or Not: 1999\n",
      "1999  is the Common Year.\n",
      "Enter the year that you want to know Leap Year or Not: 1996\n",
      "1996  is the Leap Year.\n",
      "Enter the year that you want to know Leap Year or Not: 1580\n",
      "Not within the Gregorian Calender period.\n"
     ]
    }
   ],
   "source": [
    "i = 0\n",
    "while i < 5:\n",
    "    year = int(input(\"Enter the year that you want to know Leap Year or Not: \"))\n",
    "\n",
    "    if year <= 1600:\n",
    "        print(\"Not within the Gregorian Calender period.\")\n",
    "    elif year % 400 != 0:\n",
    "        if year % 100 != 0:\n",
    "            if year % 4 == 0:\n",
    "                print(year, \" is the Leap Year.\")\n",
    "            else:\n",
    "                print(year, \" is the Common Year.\")\n",
    "        else:\n",
    "            print(year, \" is the Common Year.\")\n",
    "    else:\n",
    "        print(year, \" is the Leap Year.\")\n",
    "        \n",
    "    i += 1"
   ]
  },
  {
   "cell_type": "markdown",
   "metadata": {},
   "source": [
    "3.1.1.15 EXERCISE"
   ]
  },
  {
   "cell_type": "code",
   "execution_count": 19,
   "metadata": {},
   "outputs": [
    {
     "name": "stdout",
     "output_type": "stream",
     "text": [
      "False\n",
      "True\n"
     ]
    }
   ],
   "source": [
    "x = 5\n",
    "y = 10\n",
    "z = 8\n",
    "\n",
    "print(x > y)\n",
    "print(y > z)"
   ]
  },
  {
   "cell_type": "code",
   "execution_count": 20,
   "metadata": {},
   "outputs": [
    {
     "name": "stdout",
     "output_type": "stream",
     "text": [
      "False\n",
      "True\n"
     ]
    }
   ],
   "source": [
    "x, y, z = 5, 10, 8\n",
    "\n",
    "print(x > y)\n",
    "print((y - 5) == x)"
   ]
  },
  {
   "cell_type": "code",
   "execution_count": 21,
   "metadata": {},
   "outputs": [
    {
     "name": "stdout",
     "output_type": "stream",
     "text": [
      "False\n",
      "False\n"
     ]
    }
   ],
   "source": [
    "x, y, z = 5, 10, 8\n",
    "x, y, z = z, y, x\n",
    "\n",
    "print(x > y)\n",
    "print((y - 5) == x)"
   ]
  },
  {
   "cell_type": "code",
   "execution_count": 23,
   "metadata": {},
   "outputs": [
    {
     "name": "stdout",
     "output_type": "stream",
     "text": [
      "True\n",
      "True\n",
      "Else\n"
     ]
    }
   ],
   "source": [
    "x = 10\n",
    "\n",
    "if x == 10:\n",
    "    print(x == 10)\n",
    "if x > 5:\n",
    "    print(x > 5)\n",
    "if x < 10:\n",
    "    print(x < 10)\n",
    "else:\n",
    "    print(\"Else\")"
   ]
  },
  {
   "cell_type": "code",
   "execution_count": 27,
   "metadata": {},
   "outputs": [
    {
     "name": "stdout",
     "output_type": "stream",
     "text": [
      "Four\n",
      "Five\n",
      "\n",
      "Four\n"
     ]
    }
   ],
   "source": [
    "x = \"1\"\n",
    "\n",
    "if x == 1:\n",
    "    print(\"One\")\n",
    "elif x == \"1\":\n",
    "    if int(x) > 1:\n",
    "        print(\"Two\")\n",
    "    elif int(x) < 1:\n",
    "        print(\"Three\")\n",
    "    else:\n",
    "        print(\"Four\")\n",
    "if int(x) == 1:               # disini make if\n",
    "    print(\"Five\")\n",
    "else:\n",
    "    print(\"Six\")\n",
    "    \n",
    "print()\n",
    "\n",
    "if x == 1:\n",
    "    print(\"One\")\n",
    "elif x == \"1\":\n",
    "    if int(x) > 1:\n",
    "        print(\"Two\")\n",
    "    elif int(x) < 1:\n",
    "        print(\"Three\")\n",
    "    else:\n",
    "        print(\"Four\")\n",
    "elif int(x) == 1:               # disini make elif\n",
    "    print(\"Five\")\n",
    "else:\n",
    "    print(\"Six\")"
   ]
  },
  {
   "cell_type": "code",
   "execution_count": 31,
   "metadata": {},
   "outputs": [
    {
     "name": "stdout",
     "output_type": "stream",
     "text": [
      "One\n",
      "Two\n",
      "\n",
      "One\n",
      "Two\n",
      "Three\n",
      "\n",
      "One\n"
     ]
    }
   ],
   "source": [
    "x = 1\n",
    "y = 1.0\n",
    "z = \"1\"\n",
    "\n",
    "if x == y:\n",
    "    print(\"One\")\n",
    "if y == int(z):                 # disini make if\n",
    "    print(\"Two\")\n",
    "elif x == y:                    # disini make elif\n",
    "    print(\"Three\")\n",
    "else:\n",
    "    print(\"Four\")\n",
    "    \n",
    "print()\n",
    "\n",
    "if x == y:\n",
    "    print(\"One\")\n",
    "if y == int(z):                 # disini make if\n",
    "    print(\"Two\")\n",
    "if x == y:                      # disini make if\n",
    "    print(\"Three\")\n",
    "else:\n",
    "    print(\"Four\")\n",
    "    \n",
    "print()\n",
    "\n",
    "if x == y:\n",
    "    print(\"One\")\n",
    "elif y == int(z):               # disini make elif\n",
    "    print(\"Two\")\n",
    "elif x == y:                    # disini make elif\n",
    "    print(\"Three\")\n",
    "else:\n",
    "    print(\"Four\")"
   ]
  },
  {
   "cell_type": "markdown",
   "metadata": {},
   "source": [
    "3.1.2.2 Example: Count Old Number and Even Number."
   ]
  },
  {
   "cell_type": "code",
   "execution_count": 33,
   "metadata": {},
   "outputs": [
    {
     "name": "stdout",
     "output_type": "stream",
     "text": [
      "Enter a number or type 0 to stop: 11\n",
      "Enter a number or type 0 to stop: 15\n",
      "Enter a number or type 0 to stop: 67\n",
      "Enter a number or type 0 to stop: 91\n",
      "Enter a number or type 0 to stop: 23\n",
      "Enter a number or type 0 to stop: 90\n",
      "Enter a number or type 0 to stop: 92\n",
      "Enter a number or type 0 to stop: 37\n",
      "Enter a number or type 0 to stop: 55\n",
      "Enter a number or type 0 to stop: 0\n",
      "\n",
      "Odd numbers count  is  7\n",
      "Even numbers count is  2\n"
     ]
    }
   ],
   "source": [
    "number = int(input(\"Enter a number or type 0 to stop: \"))\n",
    "oddNumber = 0\n",
    "evenNumber = 0\n",
    "\n",
    "while number != 0:\n",
    "    if number % 2 == 0:\n",
    "        evenNumber += 1\n",
    "    else:\n",
    "        oddNumber +=1\n",
    "    number = int(input(\"Enter a number or type 0 to stop: \"))\n",
    "    \n",
    "print()\n",
    "print(\"Odd numbers count  is \", oddNumber)\n",
    "print(\"Even numbers count is \", evenNumber)"
   ]
  },
  {
   "cell_type": "markdown",
   "metadata": {},
   "source": [
    "3.1.2.2 Example: Using the counter variable to exit a loop"
   ]
  },
  {
   "cell_type": "code",
   "execution_count": 34,
   "metadata": {},
   "outputs": [
    {
     "name": "stdout",
     "output_type": "stream",
     "text": [
      "Inside the Loop.\n",
      "Inside the Loop.\n",
      "Inside the Loop.\n",
      "Inside the Loop.\n",
      "Inside the Loop.\n",
      "Outside the Loop.\n"
     ]
    }
   ],
   "source": [
    "conter = 5\n",
    "\n",
    "while conter != 0:\n",
    "    print(\"Inside the Loop.\")\n",
    "    conter -= 1\n",
    "    \n",
    "print(\"Outside the Loop.\")"
   ]
  },
  {
   "cell_type": "markdown",
   "metadata": {},
   "source": [
    "LAB: 3.1.2.6 Using time.sleep()"
   ]
  },
  {
   "cell_type": "code",
   "execution_count": 37,
   "metadata": {},
   "outputs": [
    {
     "name": "stdout",
     "output_type": "stream",
     "text": [
      "1 Mississippi\n",
      "2 Mississippi\n",
      "3 Mississippi\n",
      "4 Mississippi\n",
      "5 Mississippi\n",
      "Ready or not, here i come!\n"
     ]
    }
   ],
   "source": [
    "import time\n",
    "\n",
    "for i in range(5):\n",
    "    print(i + 1, \"Mississippi\")\n",
    "    time.sleep(1)\n",
    "\n",
    "print(\"Ready or not, here i come!\")"
   ]
  },
  {
   "cell_type": "markdown",
   "metadata": {},
   "source": [
    "3.1.2.7 Example: Using Break and Continue Statements"
   ]
  },
  {
   "cell_type": "code",
   "execution_count": 42,
   "metadata": {},
   "outputs": [
    {
     "name": "stdout",
     "output_type": "stream",
     "text": [
      "The Break Statement\n",
      "Inside the Loop 1\n",
      "Inside the Loop 2\n",
      "Inside the Loop 3\n",
      "\n",
      "The Continue Statement\n",
      "Inside the Loop 1\n",
      "Inside the Loop 2\n",
      "Inside the Loop 3\n",
      "Inside the Loop 4\n",
      "Inside the Loop 5\n",
      "\n",
      "The Break Statement\n",
      "Inside the Loop 1\n",
      "Inside the Loop 2\n",
      "\n",
      "The Continue Statement\n",
      "Inside the Loop 1\n",
      "Inside the Loop 2\n",
      "Inside the Loop 4\n",
      "Inside the Loop 5\n"
     ]
    }
   ],
   "source": [
    "print(\"The Break Statement\")\n",
    "\n",
    "for i in range(1, 6):\n",
    "    print(\"Inside the Loop\", i)\n",
    "    if i == 3:\n",
    "        break\n",
    "        \n",
    "print()        \n",
    "print(\"The Continue Statement\")\n",
    "\n",
    "for i in range(1, 6):\n",
    "    print(\"Inside the Loop\", i)\n",
    "    if i == 3:\n",
    "        continue\n",
    "        \n",
    "print()\n",
    "\n",
    "print(\"The Break Statement\")\n",
    "\n",
    "for i in range(1, 6):\n",
    "    if i == 3:\n",
    "        break\n",
    "    print(\"Inside the Loop\", i)\n",
    "        \n",
    "print()        \n",
    "print(\"The Continue Statement\")\n",
    "\n",
    "for i in range(1, 6):\n",
    "    if i == 3:\n",
    "        continue\n",
    "    print(\"Inside the Loop\", i)"
   ]
  },
  {
   "cell_type": "markdown",
   "metadata": {},
   "source": [
    "LAB: 3.1.2.9 Guess the Secret Mantra."
   ]
  },
  {
   "cell_type": "code",
   "execution_count": 5,
   "metadata": {},
   "outputs": [
    {
     "name": "stdout",
     "output_type": "stream",
     "text": [
      "Guess the secret mantra: abracadabra\n",
      "You are trapped in my magic!\n",
      "Guess it again! expelliarmus\n",
      "You are trapped in my magic!\n",
      "Guess it again! imperio\n",
      "Do you want a clue? yes\n",
      "The clue is the word begin with: C\n",
      "Guess it again! Crusio\n",
      "You are trapped in my magic!\n",
      "Guess it again! Confundo\n",
      "Do you want a clue? yes\n",
      "The clue is: Chupa\n",
      "Guess it again! Chupabra\n",
      "You LOSE! The answer is Chupacabra\n"
     ]
    }
   ],
   "source": [
    "secretMantra = \"Chupacabra\"\n",
    "\n",
    "guess = input(\"Guess the secret mantra: \")\n",
    "\n",
    "counter = 0\n",
    "while guess != secretMantra:\n",
    "    print(\"You are trapped in my magic!\")\n",
    "    guess = input(\"Guess it again! \")\n",
    "    counter += 1\n",
    "    \n",
    "    if counter == 2:\n",
    "        guess = input(\"Do you want a clue? \")\n",
    "        if guess == \"yes\":\n",
    "            print(\"The clue is the word begin with: C\")\n",
    "            guess = input(\"Guess it again! \")\n",
    "            counter += 1\n",
    "        else:\n",
    "            guess = input(\"Guess it again! \")\n",
    "            counter += 1\n",
    "            \n",
    "    if counter == 4:\n",
    "        guess = input(\"Do you want a clue? \")\n",
    "        if guess == \"yes\":\n",
    "            print(\"The clue is: Chupa\")\n",
    "            guess = input(\"Guess it again! \")\n",
    "            counter += 1\n",
    "        else:\n",
    "            guess = input(\"Guess it again! \")\n",
    "            counter += 1\n",
    "            \n",
    "    if counter == 5:\n",
    "        if guess == secretMantra:\n",
    "            print(\"You've successfully left the magic\")\n",
    "            break\n",
    "        else:\n",
    "            print(\"You LOSE! The answer is Chupacabra\")\n",
    "            break"
   ]
  },
  {
   "cell_type": "code",
   "execution_count": 6,
   "metadata": {},
   "outputs": [
    {
     "name": "stdout",
     "output_type": "stream",
     "text": [
      "Guess the secret mantra: abracadabra\n",
      "You are trapped in my magic!\n",
      "Guess it again! expelliarmus\n",
      "You are trapped in my magic!\n",
      "Guess it again! imperio\n",
      "Do you want a clue? yes\n",
      "The clue is the word begin with: C\n",
      "Guess it again! Crusio\n",
      "You are trapped in my magic!\n",
      "Guess it again! Confundo\n",
      "Do you want a clue? n\n",
      "Just answer yes or no!\n",
      "Wanna clue? no\n",
      "You are trapped in my magic!\n",
      "Guess it again! Chupacabra\n",
      "You've successfully left the magic\n"
     ]
    }
   ],
   "source": [
    "secretMantra = \"Chupacabra\"\n",
    "\n",
    "guess = input(\"Guess the secret mantra: \")\n",
    "\n",
    "counter = 0\n",
    "while guess != secretMantra:\n",
    "    print(\"You are trapped in my magic!\")\n",
    "    guess = input(\"Guess it again! \")\n",
    "    counter += 1\n",
    "    \n",
    "    if counter == 2:\n",
    "        guess = input(\"Do you want a clue? \")\n",
    "        if guess == \"yes\":\n",
    "            print(\"The clue is the word begin with: C\")\n",
    "            guess = input(\"Guess it again! \")\n",
    "            counter += 1\n",
    "        elif guess == \"no\":\n",
    "            guess = input(\"Guess it again! \")\n",
    "            counter += 1\n",
    "        else:\n",
    "            print(\"Just answer yes or no!\")\n",
    "            guess = input(\"Wanna clue? \")\n",
    "            \n",
    "    if counter == 4:\n",
    "        guess = input(\"Do you want a clue? \")\n",
    "        if guess == \"yes\":\n",
    "            print(\"The clue is: Chupa\")\n",
    "            guess = input(\"Guess it again! \")\n",
    "            counter += 1\n",
    "        elif guess == \"no\":\n",
    "            guess = input(\"Guess it again! \")\n",
    "            counter += 1\n",
    "        else:\n",
    "            print(\"Just answer yes or no!\")\n",
    "            guess = input(\"Wanna clue? \")\n",
    "            \n",
    "    if counter == 5:\n",
    "        if guess == secretMantra:\n",
    "            print(\"You've successfully left the magic\")\n",
    "            break\n",
    "        else:\n",
    "            print(\"You LOSE\")\n",
    "            break"
   ]
  },
  {
   "cell_type": "markdown",
   "metadata": {},
   "source": [
    "LAB: 3.1.2.10 The Ugly Vowel Eater."
   ]
  },
  {
   "cell_type": "code",
   "execution_count": 9,
   "metadata": {},
   "outputs": [
    {
     "name": "stdout",
     "output_type": "stream",
     "text": [
      "Do you want to lose the vowel? y\n",
      "Just type yes or no!\n",
      "Type yes to continue or no to stop. yes\n",
      "Enter a word please! Gregory\n",
      "G\n",
      "R\n",
      "G\n",
      "R\n",
      "Y\n",
      "Type yes to continue or no to stop. y\n",
      "Just type yes or no!\n",
      "Type yes to continue or no to stop. yes\n",
      "Enter a word please! abstemious\n",
      "B\n",
      "S\n",
      "T\n",
      "M\n",
      "S\n",
      "Type yes to continue or no to stop. yes\n",
      "Enter a word please! IOUEA\n",
      "Type yes to continue or no to stop. n\n",
      "Just type yes or no!\n",
      "Type yes to continue or no to stop. no\n"
     ]
    }
   ],
   "source": [
    "repeat = input(\"Do you want to lose the vowel? \")\n",
    "\n",
    "while repeat != \"no\":\n",
    "    if repeat == \"yes\":\n",
    "        word = input(\"Enter a word please! \")\n",
    "        word = word.upper()\n",
    "        vowel = \"AIUEO\"\n",
    "\n",
    "        for letter in word:\n",
    "            if letter in vowel:\n",
    "                continue\n",
    "            else:\n",
    "                print(letter)\n",
    "\n",
    "        repeat = input(\"Type yes to continue or no to stop. \")\n",
    "        \n",
    "    else:\n",
    "        print(\"Just type yes or no!\")\n",
    "        repeat = input(\"Type yes to continue or no to stop. \")"
   ]
  },
  {
   "cell_type": "markdown",
   "metadata": {},
   "source": [
    "LAB: 3.1.2.11 The Pretty Vowel Eater"
   ]
  },
  {
   "cell_type": "code",
   "execution_count": 8,
   "metadata": {},
   "outputs": [
    {
     "name": "stdout",
     "output_type": "stream",
     "text": [
      "This program to lose vowel from your word!, wanna try? y\n",
      "Just answer yes or no!\n",
      "Wanna try again? yes\n",
      "Enter your word please! Gregory\n",
      "Word without vowel is  GRGRY\n",
      "\n",
      "Wanna try again? yes\n",
      "Enter your word please! abstemious\n",
      "Word without vowel is  BSTMS\n",
      "\n",
      "Wanna try again? yes\n",
      "Enter your word please! IOUEA\n",
      "Word without vowel is None\n",
      "Wanna try again? no\n"
     ]
    }
   ],
   "source": [
    "repeat = input(\"This program to lose vowel from your word!, wanna try? \")\n",
    "\n",
    "while repeat != \"no\":\n",
    "    if repeat == \"yes\":\n",
    "        word = input(\"Enter your word please! \")\n",
    "        word = word.upper()\n",
    "        vowel = \"AIUEO\"\n",
    "        wordWithoutVowel = \"\"\n",
    "\n",
    "        for letter in word:\n",
    "            if letter in vowel:\n",
    "                continue\n",
    "            else:\n",
    "                wordWithoutVowel += letter\n",
    "                \n",
    "        if wordWithoutVowel == \"\":\n",
    "            print(\"Word without vowel is None\")\n",
    "        else:\n",
    "            print(\"Word without vowel is \", wordWithoutVowel)\n",
    "            print()\n",
    "        repeat = input(\"Wanna try again? \")\n",
    "    \n",
    "    else:\n",
    "        print(\"Just answer yes or no!\")\n",
    "        repeat = input(\"Wanna try again? \")"
   ]
  },
  {
   "cell_type": "code",
   "execution_count": 8,
   "metadata": {},
   "outputs": [
    {
     "name": "stdout",
     "output_type": "stream",
     "text": [
      "This program to lose vowel from your word!, wanna try? y\n",
      "Just answer yes or no!\n",
      "Wanna try again? yes\n",
      "Enter your word please! Gregory\n",
      "Word without vowel is GRGRY\n",
      "Wanna try again? yes\n",
      "\n",
      "Enter your word please! absteminous\n",
      "Word without vowel is BSTMNS\n",
      "Wanna try again? yes\n",
      "\n",
      "Enter your word please! IOUEA\n",
      "Word without vowel is \n",
      "Wanna try again? no\n",
      "\n"
     ]
    }
   ],
   "source": [
    "repeat = input(\"This program to lose vowel from your word!, wanna try? \")\n",
    "\n",
    "while repeat != \"no\":\n",
    "    if repeat == \"yes\":\n",
    "        word = input(\"Enter your word please! \")\n",
    "        word = word.upper()\n",
    "        vowel = \"AIUEO\"\n",
    "        \n",
    "        print(\"Word without vowel is \", end=\"\")\n",
    "        for letter in word:\n",
    "            if letter in vowel:\n",
    "                continue\n",
    "            print(letter, end=\"\")\n",
    "                \n",
    "        print()    \n",
    "        repeat = input(\"Wanna try again? \")\n",
    "        print()\n",
    "    \n",
    "    else:\n",
    "        print(\"Just answer yes or no!\")\n",
    "        repeat = input(\"Wanna try again? \")"
   ]
  },
  {
   "cell_type": "markdown",
   "metadata": {},
   "source": [
    "LAB: 3.1.2.14 Essentials of The While Loop"
   ]
  },
  {
   "cell_type": "code",
   "execution_count": 17,
   "metadata": {},
   "outputs": [
    {
     "name": "stdout",
     "output_type": "stream",
     "text": [
      "Calculate the height of Pyramid from block that you have, Wanna try? y\n",
      "Just type yes or no\n",
      "Wanna try? yes\n",
      "Type the Total Block that you have: 6\n",
      "The height of the Pyramid is  3\n",
      "\n",
      "Wanna try again? y\n",
      "Just type yes or no\n",
      "Wanna try? yes\n",
      "Type the Total Block that you have: 20\n",
      "The height of the Pyramid is  5\n",
      "\n",
      "Wanna try again? yes\n",
      "Type the Total Block that you have: 1000\n",
      "The height of the Pyramid is  44\n",
      "\n",
      "Wanna try again? yes\n",
      "Type the Total Block that you have: 2\n",
      "The height of the Pyramid is  1\n",
      "\n",
      "Wanna try again? no\n"
     ]
    }
   ],
   "source": [
    "repeat = input(\"Calculate the height of Pyramid from block that you have, Wanna try? \")\n",
    "\n",
    "while repeat !=\"no\":\n",
    "    if repeat == \"yes\":\n",
    "        totalBlock = int(input(\"Type the Total Block that you have: \"))\n",
    "        total = 0\n",
    "        layer = 0\n",
    "\n",
    "        while total < totalBlock:\n",
    "            layer += 1\n",
    "            total += layer\n",
    "            if total > totalBlock:\n",
    "                layer -= 1\n",
    "\n",
    "        print(\"The height of the Pyramid is \", layer)\n",
    "        print()\n",
    "        repeat = input(\"Wanna try again? \")\n",
    "        \n",
    "    else:\n",
    "        print(\"Just type yes or no\")\n",
    "        repeat = input(\"Wanna try? \")"
   ]
  },
  {
   "cell_type": "markdown",
   "metadata": {},
   "source": [
    "LAB: 3.1.2.15 Collatz's Hypothesis"
   ]
  },
  {
   "cell_type": "code",
   "execution_count": 38,
   "metadata": {},
   "outputs": [
    {
     "name": "stdout",
     "output_type": "stream",
     "text": [
      "Wanna test to DISPROVE the Collatz's Hypothesis? y\n",
      "Just type yes or no!\n",
      "Try again? yes\n",
      "Type any non-negative and non-zero integer number: 0\n",
      "Read before typing, non-negative and non-zero integer number\n",
      "Type any non-negative and non-zero integer number: -10\n",
      "Type any non-negative and non-zero integer number: +10\n",
      "5\n",
      "16\n",
      "8\n",
      "4\n",
      "2\n",
      "1\n",
      "Count of the step is  6 \"PROVE\"\n",
      "\n",
      " Wanna try again? yes\n",
      "Type any non-negative and non-zero integer number: 15\n",
      "46\n",
      "23\n",
      "70\n",
      "35\n",
      "106\n",
      "53\n",
      "160\n",
      "80\n",
      "40\n",
      "20\n",
      "10\n",
      "5\n",
      "16\n",
      "8\n",
      "4\n",
      "2\n",
      "1\n",
      "Count of the step is  17 \"PROVE\"\n",
      "\n",
      " Wanna try again? yes\n",
      "Type any non-negative and non-zero integer number: 16\n",
      "8\n",
      "4\n",
      "2\n",
      "1\n",
      "Count of the step is  4 \"PROVE\"\n",
      "\n",
      " Wanna try again? yes\n",
      "Type any non-negative and non-zero integer number: 1023\n",
      "3070\n",
      "1535\n",
      "4606\n",
      "2303\n",
      "6910\n",
      "3455\n",
      "10366\n",
      "5183\n",
      "15550\n",
      "7775\n",
      "23326\n",
      "11663\n",
      "34990\n",
      "17495\n",
      "52486\n",
      "26243\n",
      "78730\n",
      "39365\n",
      "118096\n",
      "59048\n",
      "29524\n",
      "14762\n",
      "7381\n",
      "22144\n",
      "11072\n",
      "5536\n",
      "2768\n",
      "1384\n",
      "692\n",
      "346\n",
      "173\n",
      "520\n",
      "260\n",
      "130\n",
      "65\n",
      "196\n",
      "98\n",
      "49\n",
      "148\n",
      "74\n",
      "37\n",
      "112\n",
      "56\n",
      "28\n",
      "14\n",
      "7\n",
      "22\n",
      "11\n",
      "34\n",
      "17\n",
      "52\n",
      "26\n",
      "13\n",
      "40\n",
      "20\n",
      "10\n",
      "5\n",
      "16\n",
      "8\n",
      "4\n",
      "2\n",
      "1\n",
      "Count of the step is  62 \"PROVE\"\n",
      "\n",
      " Wanna try again? no\n"
     ]
    }
   ],
   "source": [
    "repeat = input(\"Wanna test to DISPROVE the Collatz's Hypothesis? \")\n",
    "\n",
    "while repeat != \"no\":\n",
    "    if repeat == \"yes\":\n",
    "        number = int(input(\"Type any non-negative and non-zero integer number: \"))\n",
    "        count = 0\n",
    "\n",
    "        if number > 0:\n",
    "            while number != 1:\n",
    "                if number % 2 == 0:\n",
    "                    number /= 2\n",
    "                    print(int(number))\n",
    "                else:\n",
    "                    number = 3 * number + 1\n",
    "                    print(int(number))\n",
    "                count += 1\n",
    "\n",
    "            print(\"Count of the step is \", count, \"\\\"PROVE\\\"\")\n",
    "            print()\n",
    "            repeat = input(\" Wanna try again? \")\n",
    "                \n",
    "        else:\n",
    "            print(\"Read before typing, non-negative and non-zero integer number\")\n",
    "            number = int(input(\"Type any non-negative and non-zero integer number: \"))\n",
    "        \n",
    "    else:\n",
    "        print(\"Just type yes or no!\")\n",
    "        repeat = input(\"Try again? \")"
   ]
  },
  {
   "cell_type": "markdown",
   "metadata": {},
   "source": [
    "3.1.2.17 EXERCISE"
   ]
  },
  {
   "cell_type": "code",
   "execution_count": 42,
   "metadata": {},
   "outputs": [
    {
     "name": "stdout",
     "output_type": "stream",
     "text": [
      "Eliminate the even number from the range. Type the number: 10\n",
      "The odd number is  1\n",
      "The odd number is  3\n",
      "The odd number is  5\n",
      "The odd number is  7\n",
      "The odd number is  9\n"
     ]
    }
   ],
   "source": [
    "n = int(input(\"Eliminate the even number from the range. Type the number: \"))\n",
    "\n",
    "for i in range(n):\n",
    "    if i % 2 == 1:\n",
    "        print(\"The odd number is \", i)\n",
    "    i += 1"
   ]
  },
  {
   "cell_type": "code",
   "execution_count": 44,
   "metadata": {},
   "outputs": [
    {
     "name": "stdout",
     "output_type": "stream",
     "text": [
      "Eliminate the even number from the range. Type the number: 10\n",
      "The odd number is  1\n",
      "The odd number is  3\n",
      "The odd number is  5\n",
      "The odd number is  7\n",
      "The odd number is  9\n"
     ]
    }
   ],
   "source": [
    "n = int(input(\"Eliminate the even number from the range. Type the number: \"))\n",
    "i = 0\n",
    "\n",
    "while i < n:\n",
    "    if i % 2 == 1:\n",
    "        print(\"The odd number is \", i)\n",
    "    i += 1"
   ]
  },
  {
   "cell_type": "code",
   "execution_count": 48,
   "metadata": {},
   "outputs": [
    {
     "name": "stdout",
     "output_type": "stream",
     "text": [
      "Type your email address please! gandungcatur12@gmail.com\n",
      "gandungcatur12\n"
     ]
    }
   ],
   "source": [
    "email = input(\"Type your email address please! \")\n",
    "firstEmail = \"\"\n",
    "\n",
    "for letter in email:\n",
    "    if letter == \"@\":\n",
    "        break\n",
    "    firstEmail += letter\n",
    "\n",
    "print(firstEmail)"
   ]
  },
  {
   "cell_type": "code",
   "execution_count": 60,
   "metadata": {},
   "outputs": [
    {
     "name": "stdout",
     "output_type": "stream",
     "text": [
      "Type some digit of number: 1371114201970008\n",
      "13711142x197xxx8"
     ]
    }
   ],
   "source": [
    "digit = input(\"Type some digit of number: \")\n",
    "\n",
    "for num in digit:\n",
    "    if num == \"0\":\n",
    "        print(\"x\", end=\"\")\n",
    "        continue\n",
    "    print(num, end=\"\")"
   ]
  },
  {
   "cell_type": "code",
   "execution_count": 9,
   "metadata": {},
   "outputs": [
    {
     "name": "stdout",
     "output_type": "stream",
     "text": [
      "4\n",
      "3\n",
      "2\n",
      "0\n"
     ]
    }
   ],
   "source": [
    "n = 3\n",
    "\n",
    "while n > 0:\n",
    "    print(n + 1)\n",
    "    n -= 1\n",
    "else:\n",
    "    print(n)"
   ]
  },
  {
   "cell_type": "code",
   "execution_count": 14,
   "metadata": {},
   "outputs": [
    {
     "name": "stdout",
     "output_type": "stream",
     "text": [
      "-1\n",
      "0\n",
      "1\n",
      "2\n",
      "3\n"
     ]
    }
   ],
   "source": [
    "n = range(4)\n",
    "\n",
    "for num in n:\n",
    "    print(num - 1)\n",
    "else:\n",
    "    print(num)"
   ]
  },
  {
   "cell_type": "code",
   "execution_count": 15,
   "metadata": {},
   "outputs": [
    {
     "name": "stdout",
     "output_type": "stream",
     "text": [
      "0\n",
      "3\n"
     ]
    }
   ],
   "source": [
    "for i in range(0, 6, 3):\n",
    "    print(i)"
   ]
  },
  {
   "cell_type": "markdown",
   "metadata": {},
   "source": [
    "3.1.3.6 EXERCISE"
   ]
  },
  {
   "cell_type": "code",
   "execution_count": 17,
   "metadata": {},
   "outputs": [
    {
     "name": "stdout",
     "output_type": "stream",
     "text": [
      "False\n"
     ]
    }
   ],
   "source": [
    "x = 1\n",
    "y = 0\n",
    "\n",
    "z = ((x == y) and (x == y)) or not(x == y)\n",
    "print(not z)"
   ]
  },
  {
   "cell_type": "code",
   "execution_count": 22,
   "metadata": {},
   "outputs": [
    {
     "name": "stdout",
     "output_type": "stream",
     "text": [
      "0 5 -5 1 1 16\n"
     ]
    }
   ],
   "source": [
    "x = 4\n",
    "y = 1\n",
    "\n",
    "a = x & y          # 0b100 & 0b001 = 0b000 = 0\n",
    "b = x | y          # 0b100 | 0b001 = 0b101 = 5\n",
    "c = ~x             # ~(0b100) = x ^ 1 = 0b100 ^ (1 = 0b001) = -(0b101) = -5\n",
    "d = x ^ 5          # 0b100 ^ (5 = 0b101) = 0b001 = 1\n",
    "e = x >> 2         # 0b100 >> 2 = 0b001 = 1\n",
    "f = x << 2         # 0b100 << 2 = 0b10000 = 16\n",
    "\n",
    "print(a, b, c, d, e, f)"
   ]
  },
  {
   "cell_type": "markdown",
   "metadata": {},
   "source": [
    "LAB: 3.1.3.14 The Basics of List. The Beatles"
   ]
  },
  {
   "cell_type": "code",
   "execution_count": 25,
   "metadata": {},
   "outputs": [
    {
     "name": "stdout",
     "output_type": "stream",
     "text": [
      "Step 1:  []\n",
      "Step 2:  ['John Lennon', 'Paul McCartney', 'George Harrison']\n",
      "Add name of the member: Stu Sutcliffe\n",
      "Add name of the member: Pete Best\n",
      "Step 3:  ['John Lennon', 'Paul McCartney', 'George Harrison', 'Stu Sutcliffe', 'Pete Best']\n",
      "Step 4:  ['John Lennon', 'Paul McCartney', 'George Harrison']\n",
      "Step 5:  ['Ringo Stars', 'John Lennon', 'Paul McCartney', 'George Harrison']\n",
      "The fab  4\n"
     ]
    }
   ],
   "source": [
    "beatles = []\n",
    "print(\"Step 1: \", beatles)\n",
    "\n",
    "beatles.append(\"John Lennon\")\n",
    "beatles.append(\"Paul McCartney\")\n",
    "beatles.append(\"George Harrison\")\n",
    "print(\"Step 2: \", beatles)\n",
    "\n",
    "for i in range(2):\n",
    "    i = input(\"Add name of the member: \")\n",
    "    beatles.append(i)\n",
    "    \n",
    "print(\"Step 3: \", beatles)\n",
    "\n",
    "del beatles[4]\n",
    "del beatles[3]\n",
    "print(\"Step 4: \", beatles)\n",
    "\n",
    "beatles.insert(0, \"Ringo Stars\")\n",
    "print(\"Step 5: \", beatles)\n",
    "\n",
    "print(\"The fab \", len(beatles))"
   ]
  },
  {
   "cell_type": "markdown",
   "metadata": {},
   "source": [
    "3.1.4.14 EXERCISE"
   ]
  },
  {
   "cell_type": "code",
   "execution_count": 27,
   "metadata": {},
   "outputs": [
    {
     "name": "stdout",
     "output_type": "stream",
     "text": [
      "step 1 =  [1, 2, 3, 4, 5]\n",
      "step 2 =  [1, 6, 2, 3, 4, 5]\n",
      "step 3 =  [6, 2, 3, 4, 5]\n",
      "step 4 =  [6, 2, 3, 4, 5, 1]\n"
     ]
    }
   ],
   "source": [
    "lst = [1, 2, 3, 4, 5]\n",
    "print(\"step 1 = \", lst)\n",
    "\n",
    "lst.insert(1, 6)\n",
    "print(\"step 2 = \", lst)\n",
    "\n",
    "del lst[0]\n",
    "print(\"step 3 = \", lst)\n",
    "\n",
    "lst.append(1)\n",
    "print(\"step 4 = \", lst)"
   ]
  },
  {
   "cell_type": "code",
   "execution_count": 31,
   "metadata": {},
   "outputs": [
    {
     "name": "stdout",
     "output_type": "stream",
     "text": [
      "Step 1 --> [1]\n",
      "Step 2 --> [1, 2]\n",
      "Step 3 --> [1, 2, 3]\n",
      "Step 4 --> [1, 2, 3, 4]\n",
      "Step 5 --> [1, 2, 3, 4, 5]\n",
      "\n",
      "lst2 =  [1, 2, 3, 4, 5]\n"
     ]
    }
   ],
   "source": [
    "lst = [1, 2, 3, 4, 5]\n",
    "lst2 = []\n",
    "add = 0\n",
    "\n",
    "for i in lst:\n",
    "    add += i\n",
    "    lst2.append(i)\n",
    "    print(\"Step\", i, \"-->\", lst2)\n",
    "    \n",
    "print()    \n",
    "print(\"lst2 = \", lst2)"
   ]
  },
  {
   "cell_type": "code",
   "execution_count": 32,
   "metadata": {},
   "outputs": [
    {
     "ename": "NameError",
     "evalue": "name 'lst' is not defined",
     "output_type": "error",
     "traceback": [
      "\u001b[1;31m---------------------------------------------------------------------------\u001b[0m",
      "\u001b[1;31mNameError\u001b[0m                                 Traceback (most recent call last)",
      "\u001b[1;32m<ipython-input-32-23e27814c7e8>\u001b[0m in \u001b[0;36m<module>\u001b[1;34m\u001b[0m\n\u001b[0;32m      1\u001b[0m \u001b[0mlst\u001b[0m \u001b[1;33m=\u001b[0m \u001b[1;33m[\u001b[0m\u001b[1;33m]\u001b[0m\u001b[1;33m\u001b[0m\u001b[1;33m\u001b[0m\u001b[0m\n\u001b[0;32m      2\u001b[0m \u001b[1;32mdel\u001b[0m \u001b[0mlst\u001b[0m\u001b[1;33m\u001b[0m\u001b[1;33m\u001b[0m\u001b[0m\n\u001b[1;32m----> 3\u001b[1;33m \u001b[0mprint\u001b[0m\u001b[1;33m(\u001b[0m\u001b[0mlst\u001b[0m\u001b[1;33m)\u001b[0m\u001b[1;33m\u001b[0m\u001b[1;33m\u001b[0m\u001b[0m\n\u001b[0m",
      "\u001b[1;31mNameError\u001b[0m: name 'lst' is not defined"
     ]
    }
   ],
   "source": [
    "lst = []\n",
    "del lst\n",
    "print(lst)"
   ]
  },
  {
   "cell_type": "code",
   "execution_count": 33,
   "metadata": {},
   "outputs": [
    {
     "name": "stdout",
     "output_type": "stream",
     "text": [
      "[2, 3]\n",
      "3\n"
     ]
    }
   ],
   "source": [
    "lst = [1, [2, 3], 4]\n",
    "\n",
    "print(lst[1])\n",
    "print(len(lst))"
   ]
  },
  {
   "cell_type": "markdown",
   "metadata": {},
   "source": [
    "3.1.5.2 Sorting Simple List. The Bubble Sort Algorithm"
   ]
  },
  {
   "cell_type": "code",
   "execution_count": 9,
   "metadata": {},
   "outputs": [
    {
     "name": "stdout",
     "output_type": "stream",
     "text": [
      "Sorted:  [1, 2, 3, 4, 5]\n",
      "Reverse:  [4, 2, 1, 3, 5]\n"
     ]
    }
   ],
   "source": [
    "lst = [5, 3, 1, 2, 4]\n",
    "lst.sort()\n",
    "print(\"Sorted: \", lst)\n",
    "\n",
    "lst2 = [5, 3, 1, 2, 4]\n",
    "lst2.reverse()\n",
    "print(\"Reverse: \", lst2)"
   ]
  },
  {
   "cell_type": "code",
   "execution_count": 36,
   "metadata": {},
   "outputs": [
    {
     "name": "stdout",
     "output_type": "stream",
     "text": [
      "[8, 6, 2, 4, 10]\n"
     ]
    }
   ],
   "source": [
    "myList = [8, 10, 6, 2, 4]\n",
    "\n",
    "for i in range(len(myList) - 1):\n",
    "    if myList[i] > myList[i + 1]:\n",
    "        myList[i], myList[i + 1] = myList[i + 1], myList[i]\n",
    "\n",
    "print(myList)"
   ]
  },
  {
   "cell_type": "code",
   "execution_count": 2,
   "metadata": {},
   "outputs": [
    {
     "name": "stdout",
     "output_type": "stream",
     "text": [
      "[2, 4, 6, 8, 10]\n"
     ]
    }
   ],
   "source": [
    "myList = [8, 10, 6, 2, 4]\n",
    "swapped = True\n",
    "\n",
    "while swapped:\n",
    "    swapped = False\n",
    "    for i in range(len(myList) - 1):\n",
    "        if myList[i] > myList[i + 1]:\n",
    "            swapped = True\n",
    "            myList[i], myList[i + 1] = myList[i + 1], myList[i]\n",
    "\n",
    "print(myList)"
   ]
  },
  {
   "cell_type": "code",
   "execution_count": 3,
   "metadata": {},
   "outputs": [
    {
     "name": "stdout",
     "output_type": "stream",
     "text": [
      "[8, 6, 2, 4, 10]\n"
     ]
    }
   ],
   "source": [
    "myList = [8, 10, 6, 2, 4]\n",
    "swapped = True\n",
    "\n",
    "while swapped:\n",
    "    swapped = False\n",
    "    for i in range(len(myList) - 1):\n",
    "        if myList[i] > myList[i + 1]:\n",
    "            \n",
    "            myList[i], myList[i + 1] = myList[i + 1], myList[i]\n",
    "\n",
    "print(myList)"
   ]
  },
  {
   "cell_type": "markdown",
   "metadata": {},
   "source": [
    "3.1.5.3 Sorting Some Input Number."
   ]
  },
  {
   "cell_type": "code",
   "execution_count": 6,
   "metadata": {},
   "outputs": [
    {
     "name": "stdout",
     "output_type": "stream",
     "text": [
      "How many number do you want to input? 5\n",
      "Input your number: 8\n",
      "Input your number: 10\n",
      "Input your number: 6\n",
      "Input your number: 2\n",
      "Input your number: 4\n",
      "\n",
      "\n",
      "Sorted: [2, 4, 6, 8, 10]\n"
     ]
    }
   ],
   "source": [
    "myList = []\n",
    "n = int(input(\"How many number do you want to input? \"))\n",
    "swapped = True\n",
    "\n",
    "for i in range(n):\n",
    "    number = int(input(\"Input your number: \"))\n",
    "    myList.append(number)\n",
    "\n",
    "print()\n",
    "\n",
    "while swapped:\n",
    "    swapped = False\n",
    "    for i in range(len(myList) - 1):\n",
    "        if myList[i] > myList[i + 1]:\n",
    "            swapped = True\n",
    "            myList[i], myList[i + 1] = myList[i + 1], myList[i]\n",
    "\n",
    "print(\"\\nSorted: \", end=\"\")\n",
    "print(myList)"
   ]
  },
  {
   "cell_type": "markdown",
   "metadata": {},
   "source": [
    "3.1.5.4 EXERCISE"
   ]
  },
  {
   "cell_type": "code",
   "execution_count": 10,
   "metadata": {},
   "outputs": [
    {
     "name": "stdout",
     "output_type": "stream",
     "text": [
      "Sorted : ['A', 'D', 'F', 'Z']\n"
     ]
    }
   ],
   "source": [
    "lst = [\"D\", \"F\", \"A\", \"Z\"]\n",
    "\n",
    "lst.sort()\n",
    "print(\"Sorted :\", lst)"
   ]
  },
  {
   "cell_type": "code",
   "execution_count": 11,
   "metadata": {},
   "outputs": [
    {
     "name": "stdout",
     "output_type": "stream",
     "text": [
      "Sorted:  [1, 2, 3]\n"
     ]
    }
   ],
   "source": [
    "a = 3\n",
    "b = 1\n",
    "c = 2\n",
    "\n",
    "lst = [a, b, c]\n",
    "lst.sort()\n",
    "print(\"Sorted: \", lst)"
   ]
  },
  {
   "cell_type": "code",
   "execution_count": 18,
   "metadata": {},
   "outputs": [
    {
     "ename": "TypeError",
     "evalue": "'<' not supported between instances of 'NoneType' and 'int'",
     "output_type": "error",
     "traceback": [
      "\u001b[1;31m---------------------------------------------------------------------------\u001b[0m",
      "\u001b[1;31mTypeError\u001b[0m                                 Traceback (most recent call last)",
      "\u001b[1;32m<ipython-input-18-5b595ad0be49>\u001b[0m in \u001b[0;36m<module>\u001b[1;34m\u001b[0m\n\u001b[0;32m      5\u001b[0m \u001b[1;33m\u001b[0m\u001b[0m\n\u001b[0;32m      6\u001b[0m \u001b[0mlst\u001b[0m \u001b[1;33m=\u001b[0m \u001b[1;33m[\u001b[0m\u001b[0ma\u001b[0m\u001b[1;33m,\u001b[0m \u001b[0mb\u001b[0m\u001b[1;33m,\u001b[0m \u001b[0mc\u001b[0m\u001b[1;33m,\u001b[0m \u001b[0md\u001b[0m\u001b[1;33m]\u001b[0m\u001b[1;33m\u001b[0m\u001b[1;33m\u001b[0m\u001b[0m\n\u001b[1;32m----> 7\u001b[1;33m \u001b[0mlst\u001b[0m\u001b[1;33m.\u001b[0m\u001b[0msort\u001b[0m\u001b[1;33m(\u001b[0m\u001b[1;33m)\u001b[0m\u001b[1;33m\u001b[0m\u001b[1;33m\u001b[0m\u001b[0m\n\u001b[0m\u001b[0;32m      8\u001b[0m \u001b[0mprint\u001b[0m\u001b[1;33m(\u001b[0m\u001b[1;34m\"Sorted: \"\u001b[0m\u001b[1;33m,\u001b[0m \u001b[0mlst\u001b[0m\u001b[1;33m)\u001b[0m\u001b[1;33m\u001b[0m\u001b[1;33m\u001b[0m\u001b[0m\n",
      "\u001b[1;31mTypeError\u001b[0m: '<' not supported between instances of 'NoneType' and 'int'"
     ]
    }
   ],
   "source": [
    "a = 3\n",
    "b = 1\n",
    "c = 2\n",
    "d = None\n",
    "\n",
    "lst = [a, b, c, d]\n",
    "lst.sort()\n",
    "print(\"Sorted: \", lst)"
   ]
  },
  {
   "cell_type": "code",
   "execution_count": 12,
   "metadata": {},
   "outputs": [
    {
     "name": "stdout",
     "output_type": "stream",
     "text": [
      "Reverse:  ['', 'C', 'B', 'A']\n"
     ]
    }
   ],
   "source": [
    "a = \"A\"\n",
    "b = \"B\"\n",
    "c = \"C\"\n",
    "d = \"\"\n",
    "\n",
    "lst = [a, b, c, d]\n",
    "lst.reverse()\n",
    "print(\"Reverse: \", lst)"
   ]
  },
  {
   "cell_type": "code",
   "execution_count": 16,
   "metadata": {},
   "outputs": [
    {
     "name": "stdout",
     "output_type": "stream",
     "text": [
      "Sorted:  ['', 'A', 'B', 'C']\n"
     ]
    }
   ],
   "source": [
    "a = \"A\"\n",
    "b = \"B\"\n",
    "c = \"C\"\n",
    "d = \"\"\n",
    "\n",
    "lst = [a, b, c, d]\n",
    "lst.sort()\n",
    "print(\"Sorted: \", lst)"
   ]
  },
  {
   "cell_type": "markdown",
   "metadata": {},
   "source": [
    "LAB: 3.1.6.9 Operating With List - Basics "
   ]
  },
  {
   "cell_type": "code",
   "execution_count": 7,
   "metadata": {},
   "outputs": [
    {
     "name": "stdout",
     "output_type": "stream",
     "text": [
      "[1, 2, 4, 6, 9]\n"
     ]
    }
   ],
   "source": [
    "myList = [1, 2, 4, 4, 1, 4, 2, 1, 6, 9]\n",
    "new = []\n",
    "\n",
    "for i in myList:\n",
    "    if i not in new:\n",
    "        new.append(i)\n",
    "    \n",
    "print(new)"
   ]
  },
  {
   "cell_type": "markdown",
   "metadata": {},
   "source": [
    "3.1.6.10 EXCERCISE"
   ]
  },
  {
   "cell_type": "code",
   "execution_count": 12,
   "metadata": {},
   "outputs": [
    {
     "name": "stdout",
     "output_type": "stream",
     "text": [
      "['C'] ['C'] ['C']\n"
     ]
    }
   ],
   "source": [
    "a = [\"A\", \"B\", \"C\"]\n",
    "b = a\n",
    "c = b\n",
    "\n",
    "del a[0]\n",
    "del b[0]\n",
    "\n",
    "print(a, b, c)"
   ]
  },
  {
   "cell_type": "code",
   "execution_count": 11,
   "metadata": {},
   "outputs": [
    {
     "name": "stdout",
     "output_type": "stream",
     "text": [
      "['B', 'C'] ['B', 'C'] ['A', 'B', 'C']\n"
     ]
    }
   ],
   "source": [
    "a = [\"A\", \"B\", \"C\"]\n",
    "b = a[:]\n",
    "c = b[:]\n",
    "\n",
    "del a[0]\n",
    "del b[0]\n",
    "\n",
    "print(a, b, c)"
   ]
  },
  {
   "cell_type": "code",
   "execution_count": 13,
   "metadata": {},
   "outputs": [
    {
     "name": "stdout",
     "output_type": "stream",
     "text": [
      "['C'] ['C'] ['A', 'B', 'C']\n"
     ]
    }
   ],
   "source": [
    "a = [\"A\", \"B\", \"C\"]\n",
    "b = a\n",
    "c = b[:]\n",
    "\n",
    "del a[0]\n",
    "del b[0]\n",
    "\n",
    "print(a, b, c)"
   ]
  },
  {
   "cell_type": "code",
   "execution_count": 14,
   "metadata": {},
   "outputs": [
    {
     "name": "stdout",
     "output_type": "stream",
     "text": [
      "['B', 'C'] ['B', 'C'] ['B', 'C']\n"
     ]
    }
   ],
   "source": [
    "a = [\"A\", \"B\", \"C\"]\n",
    "b = a[:]\n",
    "c = b\n",
    "\n",
    "del a[0]\n",
    "del b[0]\n",
    "\n",
    "print(a, b, c)"
   ]
  },
  {
   "cell_type": "code",
   "execution_count": 17,
   "metadata": {},
   "outputs": [
    {
     "name": "stdout",
     "output_type": "stream",
     "text": [
      "['B', 'C'] ['B', 'C']\n"
     ]
    },
    {
     "ename": "NameError",
     "evalue": "name 'b' is not defined",
     "output_type": "error",
     "traceback": [
      "\u001b[1;31m---------------------------------------------------------------------------\u001b[0m",
      "\u001b[1;31mNameError\u001b[0m                                 Traceback (most recent call last)",
      "\u001b[1;32m<ipython-input-17-60d00d2d8827>\u001b[0m in \u001b[0;36m<module>\u001b[1;34m\u001b[0m\n\u001b[0;32m      7\u001b[0m \u001b[1;33m\u001b[0m\u001b[0m\n\u001b[0;32m      8\u001b[0m \u001b[0mprint\u001b[0m\u001b[1;33m(\u001b[0m\u001b[0ma\u001b[0m\u001b[1;33m,\u001b[0m \u001b[0mc\u001b[0m\u001b[1;33m)\u001b[0m\u001b[1;33m\u001b[0m\u001b[1;33m\u001b[0m\u001b[0m\n\u001b[1;32m----> 9\u001b[1;33m \u001b[0mprint\u001b[0m\u001b[1;33m(\u001b[0m\u001b[0mb\u001b[0m\u001b[1;33m)\u001b[0m\u001b[1;33m\u001b[0m\u001b[1;33m\u001b[0m\u001b[0m\n\u001b[0m",
      "\u001b[1;31mNameError\u001b[0m: name 'b' is not defined"
     ]
    }
   ],
   "source": [
    "a = [\"A\", \"B\", \"C\"]\n",
    "b = a\n",
    "c = b\n",
    "\n",
    "del a[0]\n",
    "del b\n",
    "\n",
    "print(a, c)\n",
    "print(b)"
   ]
  },
  {
   "cell_type": "code",
   "execution_count": 18,
   "metadata": {},
   "outputs": [
    {
     "name": "stdout",
     "output_type": "stream",
     "text": [
      "[] [] []\n"
     ]
    }
   ],
   "source": [
    "a = [\"A\", \"B\", \"C\"]\n",
    "b = a\n",
    "c = b\n",
    "\n",
    "del a[0]\n",
    "del b[:]\n",
    "\n",
    "print(a, b, c)"
   ]
  },
  {
   "cell_type": "code",
   "execution_count": 19,
   "metadata": {},
   "outputs": [
    {
     "name": "stdout",
     "output_type": "stream",
     "text": [
      "True\n",
      "True\n",
      "True\n",
      "False\n"
     ]
    }
   ],
   "source": [
    "myList = [1, 2, \"in\", True, \"ABC\"]\n",
    "\n",
    "print(1 in myList)\n",
    "print(\"A\" not in myList)\n",
    "print(3 not in myList)\n",
    "print(False in myList)"
   ]
  },
  {
   "cell_type": "markdown",
   "metadata": {},
   "source": [
    "3.1.7.6 EXCERCISE"
   ]
  },
  {
   "cell_type": "code",
   "execution_count": 43,
   "metadata": {},
   "outputs": [
    {
     "name": "stdout",
     "output_type": "stream",
     "text": [
      "[0, 1, 8, 27, 64]\n",
      "\n",
      "[[':(', ':)', ':(', ':)'], [':)', ':(', ':)', ':('], [':(', ':)', ':(', ':)'], [':)', ':(', ':)', ':(']]\n",
      ":(\n",
      ":)\n",
      "[':(', 'x', 'x']\n",
      "x\n"
     ]
    }
   ],
   "source": [
    "cube = [num ** 3 for num in range(5)]\n",
    "print(cube)\n",
    "print()\n",
    "\n",
    "table = [[\":(\", \":)\", \":(\", \":)\"],\n",
    "         [\":)\", \":(\", \":)\", \":(\"],\n",
    "         [\":(\", \":)\", \":(\", \":)\"],\n",
    "         [\":)\", \":(\", \":)\", \":(\"]]\n",
    "\n",
    "print(table)\n",
    "print(table[0][0])\n",
    "print(table[0][3])\n",
    "\n",
    "cubes = [[[\":(\", \"x\", \"x\"],\n",
    "          [\":)\", \"x\", \"x\"],\n",
    "          [\":(\", \"x\", \"x\"],\n",
    "          [\":)\", \"x\", \"x\"]],\n",
    "\n",
    "         [[\":(\", \"x\", \"x\"],\n",
    "          [\":)\", \"x\", \"x\"],\n",
    "          [\":(\", \"x\", \"x\"],\n",
    "          [\":)\", \"x\", \"x\"]],\n",
    "         \n",
    "         [[\":(\", \"x\", \"x\"],\n",
    "          [\":)\", \"x\", \"x\"],\n",
    "          [\":(\", \"x\", \"x\"],\n",
    "          [\":)\", \"x\", \"x\"]]]\n",
    "\n",
    "print(cubes[0][0])\n",
    "print(cubes[0][3][2])"
   ]
  },
  {
   "cell_type": "code",
   "execution_count": 71,
   "metadata": {},
   "outputs": [
    {
     "name": "stdout",
     "output_type": "stream",
     "text": [
      "[[['(0,0,0)', '(0,0,1)', '(0,0,2)', '(0,0,3)', '(0,0,4)', '(0,0,5)', '(0,0,6)', '(0,0,7)', '(0,0,8)', '(0,0,9)', '(0,0,10)'], ['  (0,1,0)', '(0,1,1)', '(0,1,2)', '(0,1,3)', '(0,1,4)', '(0,1,5)', '(0,1,6)', '(0,1,7)', '(0,1,8)', '(0,1,9)', '(0,1,10)'], ['  (0,2,0)', '(0,2,1)', '(0,2,2)', '(0,2,3)', '(0,2,4)', '(0,1,5)', '(0,1,6)', '(0,1,7)', '(0,1,8)', '(0,1,9)', '(0,1,10)']], ['.........................................................................................................................'], [[' (1,0,0)', '(1,0,1)', '(1,0,2)', '(1,0,3)', '(1,0,4)', '(1,0,5)', '(1,0,6)', '(1,0,7)', '(1,0,8)', '(1,0,9)', '(1,0,10)'], ['  (1,1,0)', '(1,1,1)', '(1,1,2)', '(1,1,3)', '(1,1,4)', '(1,1,5)', '(1,1,6)', '(1,1,7)', '(1,1,8)', '(1,1,9)', '(1,1,10)'], ['  (1,2,0)', '(1,2,1)', '(1,2,2)', '(1,2,3)', '(1,2,4)', '(1,2,5)', '(1,2,6)', '(1,2,7)', '(1,2,8)', '(1,2,9)', '(1,2,10)']], ['.........................................................................................................................'], [[' (2,0,0)', '(2,0,1)', '(2,0,2)', '(2,0,3)', '(2,0,4)', '(2,0,5)', '(2,0,6)', '(2,0,7)', '(2,0,8)', '(2,0,9)', '(2,0,10)'], ['  (2,1,0)', '(2,1,1)', '(2,1,2)', '(2,1,3)', '(2,1,4)', '(2,1,5)', '(2,1,6)', '(2,1,7)', '(2,1,8)', '(2,1,9)', '(2,1,10)'], ['  (2,2,0)', '(2,2,1)', '(2,2,2)', '(2,2,3)', '(2,2,4)', '(2,2,5)', '(2,2,6)', '(2,2,7)', '(2,2,8)', '(2,2,9)', '(2,2,10)']]]\n",
      "\n",
      "['(0,0,0)', '(0,0,1)', '(0,0,2)', '(0,0,3)', '(0,0,4)', '(0,0,5)', '(0,0,6)', '(0,0,7)', '(0,0,8)', '(0,0,9)', '(0,0,10)']\n",
      "\n",
      "(0,2,2)\n"
     ]
    }
   ],
   "source": [
    "cubes = [[[\"(0,0,0)\", \"(0,0,1)\", \"(0,0,2)\", \"(0,0,3)\", \"(0,0,4)\", \"(0,0,5)\", \"(0,0,6)\", \"(0,0,7)\", \"(0,0,8)\", \"(0,0,9)\",\n",
    "           \"(0,0,10)\"],\n",
    "[\"  (0,1,0)\", \"(0,1,1)\", \"(0,1,2)\", \"(0,1,3)\", \"(0,1,4)\", \"(0,1,5)\", \"(0,1,6)\", \"(0,1,7)\", \"(0,1,8)\", \"(0,1,9)\", \"(0,1,10)\"],\n",
    "[\"  (0,2,0)\", \"(0,2,1)\", \"(0,2,2)\", \"(0,2,3)\", \"(0,2,4)\", \"(0,1,5)\", \"(0,1,6)\", \"(0,1,7)\", \"(0,1,8)\", \"(0,1,9)\", \"(0,1,10)\"]],\n",
    "[\".........................................................................................................................\"],\n",
    "[[\" (1,0,0)\", \"(1,0,1)\", \"(1,0,2)\", \"(1,0,3)\", \"(1,0,4)\", \"(1,0,5)\", \"(1,0,6)\", \"(1,0,7)\", \"(1,0,8)\", \"(1,0,9)\", \"(1,0,10)\"],\n",
    "[\"  (1,1,0)\", \"(1,1,1)\", \"(1,1,2)\", \"(1,1,3)\", \"(1,1,4)\", \"(1,1,5)\", \"(1,1,6)\", \"(1,1,7)\", \"(1,1,8)\", \"(1,1,9)\", \"(1,1,10)\"],\n",
    "[\"  (1,2,0)\", \"(1,2,1)\", \"(1,2,2)\", \"(1,2,3)\", \"(1,2,4)\", \"(1,2,5)\", \"(1,2,6)\", \"(1,2,7)\", \"(1,2,8)\", \"(1,2,9)\", \"(1,2,10)\"]],\n",
    "[\".........................................................................................................................\"],\n",
    "[[\" (2,0,0)\", \"(2,0,1)\", \"(2,0,2)\", \"(2,0,3)\", \"(2,0,4)\", \"(2,0,5)\", \"(2,0,6)\", \"(2,0,7)\", \"(2,0,8)\", \"(2,0,9)\", \"(2,0,10)\"],\n",
    "[\"  (2,1,0)\", \"(2,1,1)\", \"(2,1,2)\", \"(2,1,3)\", \"(2,1,4)\", \"(2,1,5)\", \"(2,1,6)\", \"(2,1,7)\", \"(2,1,8)\", \"(2,1,9)\", \"(2,1,10)\"],\n",
    "[\"  (2,2,0)\", \"(2,2,1)\", \"(2,2,2)\", \"(2,2,3)\", \"(2,2,4)\", \"(2,2,5)\", \"(2,2,6)\", \"(2,2,7)\", \"(2,2,8)\", \"(2,2,9)\", \"(2,2,10)\"]]]\n",
    "\n",
    "print(cubes); print()\n",
    "print(cubes[0][0]); print()\n",
    "print(cubes[0][2][2])"
   ]
  },
  {
   "cell_type": "code",
   "execution_count": 134,
   "metadata": {},
   "outputs": [
    {
     "name": "stdout",
     "output_type": "stream",
     "text": [
      "[[['Day-01 ...............', 27.0, 27.0, 27.0, 25.0, 25.0, 25.0, 27.0, 28.0, 29.0, 30.0, 31.0, 31.0, '......................', '.........................', 32.0, 32.0, 31.0, 30.0, 30.0, 29.0, 29.0, 28.0, 28.0, 28.0, 28.0, 27.0, '.....................'], ['                                                                                                                         '], ['Day-02 ................', 27.0, 27.0, 26.0, 26.0, 25.0, 26.0, 27.0, 28.0, 29.0, 30.0, 31.0, 32.0, '......................', '........................', 31.0, 31.0, 30.0, 30.0, 30.0, 29.0, 28.0, 28.0, 28.0, 28.0, 28.0, 27.0, '......................'], ['                                                                                                                         '], ['Day-03 ................', 27.0, 26.0, 27.0, 26.0, 25.0, 26.0, 27.0, 28.0, 29.0, 31.0, 31.0, 32.0, '......................', '........................', 31.0, 31.0, 31.0, 30.0, 30.0, 29.0, 28.0, 28.0, 28.0, 28.0, 27.0, 35.0, '......................'], ['                                                                                                                         '], ['Day-04 ................', 25.0, 26.0, 27.0, 27.0, 28.0, 28.0, 29.0, 30.0, 30.0, 31.0, 31.0, 32.0, '......................', '........................', 32.0, 31.0, 31.0, 30.0, 30.0, 29.0, 29.0, 28.0, 28.0, 27.0, 26.0, 25.0, '......................'], ['                                                                                                                         '], ['Day-05 ................', 24.0, 24.0, 25.0, 26.0, 27.0, 27.0, 28.0, 29.0, 30.0, 30.0, 31.0, 32.0, '......................', '........................', 32.0, 31.0, 31.0, 30.0, 30.0, 29.0, 29.0, 28.0, 27.0, 26.0, 25.0, 24.0, '......................'], ['                                                                                                                         '], ['Day-06 ................', 24.0, 25.0, 26.0, 27.0, 27.0, 28.0, 28.0, 29.0, 29.0, 30.0, 30.0, 31.0, '......................', '........................', 31.0, 30.0, 30.0, 29.0, 29.0, 29.0, 28.0, 28.0, 27.0, 26.0, 25.0, 24.0, '......................'], ['                                                                                                                         '], ['Day-07 ................', 24.0, 24.0, 25.0, 25.0, 26.0, 25.0, 26.0, 26.0, 27.0, 28.0, 29.0, 30.0, '......................', '........................', 30.0, 30.0, 30.0, 29.0, 29.0, 28.0, 27.0, 27.0, 27.0, 26.0, 25.0, 24.0, '......................'], ['                                                                                                                         '], ['                                                                                                                         '], ['                                                                                                                         ']], [['Day-08 ................', 23.0, 23.0, 24.0, 23.0, 24.0, 25.0, 26.0, 26.0, 27.0, 28.0, 29.0, 30.0, '......................', '........................', 30.0, 30.0, 29.0, 29.0, 28.0, 28.0, 27.0, 26.0, 25.0, 25.0, 24.0, 23.0, '......................'], ['                                                                                                                         '], ['Day-09 ................', 24.0, 24.0, 25.0, 25.0, 25.0, 26.0, 27.0, 27.0, 28.0, 29.0, 30.0, 31.0, '......................', '........................', 31.0, 30.0, 30.0, 30.0, 29.0, 29.0, 28.0, 27.0, 27.0, 26.0, 25.0, 24.0, '......................'], ['                                                                                                                         '], ['Day-10 ................', 24.0, 25.0, 25.0, 26.0, 27.0, 27.0, 28.0, 29.0, 30.0, 30.0, 30.0, 30.0, '......................', '........................', 31.0, 30.0, 30.0, 29.0, 29.0, 28.0, 27.0, 27.0, 26.0, 25.0, 25.0, 24.0, '......................'], ['                                                                                                                         '], ['Day-11 ................', 23.0, 24.0, 25.0, 26.0, 27.0, 28.0, 29.0, 29.0, 30.0, 30.0, 31.0, 31.0, '......................', '........................', 31.0, 30.0, 30.0, 29.0, 28.0, 27.0, 26.0, 26.0, 25.0, 25.0, 24.0, 23.0, '......................'], ['                                                                                                                         '], ['Day-12 ................', 23.0, 24.0, 25.0, 24.0, 25.0, 26.0, 27.0, 28.0, 29.0, 29.0, 30.0, 31.0, '......................', '........................', 31.0, 30.0, 30.0, 29.0, 29.0, 28.0, 27.0, 26.0, 26.0, 25.0, 25.0, 24.0, '......................'], ['                                                                                                                         '], ['Day-13 ................', 24.0, 25.0, 26.0, 25.0, 26.0, 27.0, 27.0, 28.0, 29.0, 30.0, 31.0, 31.0, '......................', '........................', 32.0, 31.0, 31.0, 30.0, 30.0, 29.0, 28.0, 27.0, 26.0, 26.0, 25.0, 24.0, '......................'], ['                                                                                                                         '], ['Day-14 ................', 24.0, 25.0, 25.0, 26.0, 27.0, 27.0, 28.0, 28.0, 28.0, 29.0, 30.0, 31.0, '......................', '........................', 31.0, 30.0, 30.0, 29.0, 29.0, 29.0, 28.0, 28.0, 27.0, 26.0, 25.0, 24.0, '......................'], ['                                                                                                                         '], ['                                                                                                                         '], ['                                                                                                                         ']], [['Day-15 ................', 35.0, 35.0, 35.0, 35.0, 35.0, 35.0, 35.0, 35.0, 35.0, 35.0, 35.0, 32.0, '......................', '........................', 35.0, 35.0, 35.0, 35.0, 35.0, 35.0, 35.0, 35.0, 35.0, 35.0, 35.0, 23.0, '......................'], ['                                                                                                                         '], ['Day-16 ................', 35.0, 35.0, 35.0, 35.0, 35.0, 35.0, 35.0, 35.0, 35.0, 35.0, 35.0, 31.0, '......................', '........................', 35.0, 35.0, 35.0, 35.0, 35.0, 35.0, 35.0, 35.0, 35.0, 35.0, 35.0, 23.0, '......................'], ['                                                                                                                         '], ['Day-17 ................', 35.0, 35.0, 35.0, 35.0, 35.0, 35.0, 35.0, 35.0, 35.0, 35.0, 35.0, 30.0, '......................', '........................', 35.0, 35.0, 35.0, 35.0, 35.0, 35.0, 35.0, 35.0, 35.0, 35.0, 35.0, 23.0, '......................'], ['                                                                                                                         '], ['Day-18 ................', 35.0, 35.0, 35.0, 35.0, 35.0, 35.0, 35.0, 35.0, 35.0, 35.0, 35.0, 30.0, '......................', '........................', 35.0, 35.0, 35.0, 35.0, 35.0, 35.0, 35.0, 35.0, 35.0, 35.0, 35.0, 24.0, '......................'], ['                                                                                                                         '], ['Day-19 ................', 35.0, 35.0, 35.0, 35.0, 35.0, 35.0, 35.0, 35.0, 35.0, 35.0, 35.0, 31.0, '......................', '........................', 35.0, 35.0, 35.0, 35.0, 35.0, 35.0, 35.0, 35.0, 35.0, 35.0, 35.0, 23.0, '......................'], ['                                                                                                                         '], ['Day-20 ................', 35.0, 35.0, 35.0, 35.0, 35.0, 35.0, 35.0, 35.0, 35.0, 35.0, 35.0, 30.0, '......................', '........................', 35.0, 35.0, 35.0, 35.0, 35.0, 35.0, 35.0, 35.0, 35.0, 35.0, 35.0, 23.0, '......................'], ['                                                                                                                         '], ['Day-21 ................', 35.0, 35.0, 35.0, 35.0, 35.0, 35.0, 35.0, 35.0, 35.0, 35.0, 35.0, 31.0, '......................', '........................', 35.0, 35.0, 35.0, 35.0, 35.0, 35.0, 35.0, 35.0, 35.0, 35.0, 35.0, 23.0, '......................'], ['                                                                                                                         '], ['                                                                                                                         '], ['                                                                                                                         ']], [['Day-22 ................', 35.0, 35.0, 35.0, 35.0, 35.0, 35.0, 35.0, 35.0, 35.0, 35.0, 35.0, 31.0, '......................', '........................', 35.0, 35.0, 35.0, 35.0, 35.0, 35.0, 35.0, 35.0, 35.0, 35.0, 35.0, 24.0, '......................'], ['                                                                                                                         '], ['Day-23 ................', 35.0, 35.0, 35.0, 35.0, 35.0, 35.0, 35.0, 35.0, 35.0, 35.0, 35.0, 32.0, '......................', '........................', 35.0, 35.0, 35.0, 35.0, 35.0, 35.0, 35.0, 35.0, 35.0, 35.0, 35.0, 24.0, '......................'], ['                                                                                                                         '], ['Day-24 ................', 35.0, 35.0, 35.0, 35.0, 35.0, 35.0, 35.0, 35.0, 35.0, 35.0, 35.0, 32.0, '......................', '........................', 35.0, 35.0, 35.0, 35.0, 35.0, 35.0, 35.0, 35.0, 35.0, 35.0, 35.0, 23.0, '......................'], ['                                                                                                                         '], ['Day-25 ................', 35.0, 35.0, 35.0, 35.0, 35.0, 35.0, 35.0, 35.0, 35.0, 35.0, 35.0, 31.0, '......................', '........................', 35.0, 35.0, 35.0, 35.0, 35.0, 35.0, 35.0, 35.0, 35.0, 35.0, 35.0, 23.0, '......................'], ['                                                                                                                         '], ['Day-26 ................', 35.0, 35.0, 35.0, 35.0, 35.0, 35.0, 35.0, 35.0, 35.0, 35.0, 35.0, 31.0, '......................', '........................', 35.0, 35.0, 35.0, 35.0, 35.0, 35.0, 35.0, 35.0, 35.0, 35.0, 35.0, 24.0, '......................'], ['                                                                                                                         '], ['Day-27 ................', 35.0, 35.0, 35.0, 35.0, 35.0, 35.0, 35.0, 35.0, 35.0, 35.0, 35.0, 30.0, '......................', '........................', 35.0, 35.0, 35.0, 35.0, 35.0, 35.0, 35.0, 35.0, 35.0, 35.0, 35.0, 23.0, '......................'], ['                                                                                                                         '], ['Day-28 ................', 35.0, 35.0, 35.0, 35.0, 35.0, 35.0, 35.0, 35.0, 35.0, 35.0, 35.0, 30.0, '......................', '........................', 35.0, 35.0, 35.0, 35.0, 35.0, 35.0, 35.0, 35.0, 35.0, 35.0, 35.0, 23.0, '......................'], ['                                                                                                                         '], ['                                                                                                                         '], ['                                                                                                                         ']], [['Day-29 ................', 35.0, 35.0, 35.0, 35.0, 35.0, 35.0, 35.0, 35.0, 35.0, 35.0, 35.0, 30.0, '......................', '........................', 35.0, 35.0, 35.0, 35.0, 35.0, 35.0, 35.0, 35.0, 35.0, 35.0, 35.0, 22.0, '......................'], ['                                                                                                                         '], ['Day-30 ................', 35.0, 35.0, 35.0, 35.0, 35.0, 35.0, 35.0, 35.0, 35.0, 35.0, 35.0, 29.0, '......................', '........................', 35.0, 35.0, 35.0, 35.0, 35.0, 35.0, 35.0, 35.0, 35.0, 35.0, 35.0, 22.0, '......................'], ['                                                                                                                         '], ['Day-31 ................', 35.0, 35.0, 35.0, 35.0, 35.0, 35.0, 35.0, 35.0, 35.0, 35.0, 35.0, 30.0, '......................', '........................', 35.0, 35.0, 35.0, 35.0, 35.0, 35.0, 35.0, 35.0, 35.0, 35.0, 35.0, 23.0, '......................']]]\n"
     ]
    }
   ],
   "source": [
    "cubes = [[[\"Day-01 ...............\", 27.0, 27.0, 27.0, 25.0, 25.0, 25.0, 27.0, 28.0, 29.0, 30.0, 31.0, 31.0,\n",
    "           \"......................\",\n",
    " \".........................\", 32.0, 32.0, 31.0, 30.0, 30.0, 29.0, 29.0, 28.0, 28.0, 28.0, 28.0, 27.0, \".....................\"],\n",
    " [\"                                                                                                                         \"],\n",
    " [\"Day-02 ................\", 27.0, 27.0, 26.0, 26.0, 25.0, 26.0, 27.0, 28.0, 29.0, 30.0, 31.0, 32.0, \"......................\",\n",
    " \"........................\", 31.0, 31.0, 30.0, 30.0, 30.0, 29.0, 28.0, 28.0, 28.0, 28.0, 28.0, 27.0, \"......................\"],\n",
    " [\"                                                                                                                         \"],\n",
    " [\"Day-03 ................\", 27.0, 26.0, 27.0, 26.0, 25.0, 26.0, 27.0, 28.0, 29.0, 31.0, 31.0, 32.0, \"......................\",\n",
    " \"........................\", 31.0, 31.0, 31.0, 30.0, 30.0, 29.0, 28.0, 28.0, 28.0, 28.0, 27.0, 35.0, \"......................\"],\n",
    " [\"                                                                                                                         \"],\n",
    " [\"Day-04 ................\", 25.0, 26.0, 27.0, 27.0, 28.0, 28.0, 29.0, 30.0, 30.0, 31.0, 31.0, 32.0, \"......................\",\n",
    " \"........................\", 32.0, 31.0, 31.0, 30.0, 30.0, 29.0, 29.0, 28.0, 28.0, 27.0, 26.0, 25.0, \"......................\"],\n",
    " [\"                                                                                                                         \"],\n",
    " [\"Day-05 ................\", 24.0, 24.0, 25.0, 26.0, 27.0, 27.0, 28.0, 29.0, 30.0, 30.0, 31.0, 32.0, \"......................\",\n",
    " \"........................\", 32.0, 31.0, 31.0, 30.0, 30.0, 29.0, 29.0, 28.0, 27.0, 26.0, 25.0, 24.0, \"......................\"],\n",
    " [\"                                                                                                                         \"],\n",
    " [\"Day-06 ................\", 24.0, 25.0, 26.0, 27.0, 27.0, 28.0, 28.0, 29.0, 29.0, 30.0, 30.0, 31.0, \"......................\",\n",
    " \"........................\", 31.0, 30.0, 30.0, 29.0, 29.0, 29.0, 28.0, 28.0, 27.0, 26.0, 25.0, 24.0, \"......................\"],\n",
    " [\"                                                                                                                         \"],\n",
    " [\"Day-07 ................\", 24.0, 24.0, 25.0, 25.0, 26.0, 25.0, 26.0, 26.0, 27.0, 28.0, 29.0, 30.0, \"......................\",\n",
    " \"........................\", 30.0, 30.0, 30.0, 29.0, 29.0, 28.0, 27.0, 27.0, 27.0, 26.0, 25.0, 24.0, \"......................\"],\n",
    " [\"                                                                                                                         \"],\n",
    " [\"                                                                                                                         \"],\n",
    " [\"                                                                                                                         \"]],\n",
    "[[\"Day-08 ................\", 23.0, 23.0, 24.0, 23.0, 24.0, 25.0, 26.0, 26.0, 27.0, 28.0, 29.0, 30.0, \"......................\",\n",
    " \"........................\", 30.0, 30.0, 29.0, 29.0, 28.0, 28.0, 27.0, 26.0, 25.0, 25.0, 24.0, 23.0, \"......................\"],\n",
    " [\"                                                                                                                         \"],\n",
    " [\"Day-09 ................\", 24.0, 24.0, 25.0, 25.0, 25.0, 26.0, 27.0, 27.0, 28.0, 29.0, 30.0, 31.0, \"......................\",\n",
    " \"........................\", 31.0, 30.0, 30.0, 30.0, 29.0, 29.0, 28.0, 27.0, 27.0, 26.0, 25.0, 24.0, \"......................\"],\n",
    " [\"                                                                                                                         \"],\n",
    " [\"Day-10 ................\", 24.0, 25.0, 25.0, 26.0, 27.0, 27.0, 28.0, 29.0, 30.0, 30.0, 30.0, 30.0, \"......................\",\n",
    " \"........................\", 31.0, 30.0, 30.0, 29.0, 29.0, 28.0, 27.0, 27.0, 26.0, 25.0, 25.0, 24.0, \"......................\"],\n",
    " [\"                                                                                                                         \"],\n",
    " [\"Day-11 ................\", 23.0, 24.0, 25.0, 26.0, 27.0, 28.0, 29.0, 29.0, 30.0, 30.0, 31.0, 31.0, \"......................\",\n",
    " \"........................\", 31.0, 30.0, 30.0, 29.0, 28.0, 27.0, 26.0, 26.0, 25.0, 25.0, 24.0, 23.0, \"......................\"],\n",
    " [\"                                                                                                                         \"],\n",
    " [\"Day-12 ................\", 23.0, 24.0, 25.0, 24.0, 25.0, 26.0, 27.0, 28.0, 29.0, 29.0, 30.0, 31.0, \"......................\",\n",
    " \"........................\", 31.0, 30.0, 30.0, 29.0, 29.0, 28.0, 27.0, 26.0, 26.0, 25.0, 25.0, 24.0, \"......................\"],\n",
    " [\"                                                                                                                         \"],\n",
    " [\"Day-13 ................\", 24.0, 25.0, 26.0, 25.0, 26.0, 27.0, 27.0, 28.0, 29.0, 30.0, 31.0, 31.0, \"......................\",\n",
    " \"........................\", 32.0, 31.0, 31.0, 30.0, 30.0, 29.0, 28.0, 27.0, 26.0, 26.0, 25.0, 24.0, \"......................\"],\n",
    " [\"                                                                                                                         \"],\n",
    " [\"Day-14 ................\", 24.0, 25.0, 25.0, 26.0, 27.0, 27.0, 28.0, 28.0, 28.0, 29.0, 30.0, 31.0, \"......................\",\n",
    " \"........................\", 31.0, 30.0, 30.0, 29.0, 29.0, 29.0, 28.0, 28.0, 27.0, 26.0, 25.0, 24.0, \"......................\"],\n",
    " [\"                                                                                                                         \"],\n",
    " [\"                                                                                                                         \"],\n",
    " [\"                                                                                                                         \"]],\n",
    "[[\"Day-15 ................\", 35.0, 35.0, 35.0, 35.0, 35.0, 35.0, 35.0, 35.0, 35.0, 35.0, 35.0, 32.0, \"......................\",\n",
    " \"........................\", 35.0, 35.0, 35.0, 35.0, 35.0, 35.0, 35.0, 35.0, 35.0, 35.0, 35.0, 23.0, \"......................\"],\n",
    " [\"                                                                                                                         \"],\n",
    " [\"Day-16 ................\", 35.0, 35.0, 35.0, 35.0, 35.0, 35.0, 35.0, 35.0, 35.0, 35.0, 35.0, 31.0, \"......................\",\n",
    " \"........................\", 35.0, 35.0, 35.0, 35.0, 35.0, 35.0, 35.0, 35.0, 35.0, 35.0, 35.0, 23.0, \"......................\"],\n",
    " [\"                                                                                                                         \"],\n",
    " [\"Day-17 ................\", 35.0, 35.0, 35.0, 35.0, 35.0, 35.0, 35.0, 35.0, 35.0, 35.0, 35.0, 30.0, \"......................\",\n",
    " \"........................\", 35.0, 35.0, 35.0, 35.0, 35.0, 35.0, 35.0, 35.0, 35.0, 35.0, 35.0, 23.0, \"......................\"],\n",
    " [\"                                                                                                                         \"],\n",
    " [\"Day-18 ................\", 35.0, 35.0, 35.0, 35.0, 35.0, 35.0, 35.0, 35.0, 35.0, 35.0, 35.0, 30.0, \"......................\",\n",
    " \"........................\", 35.0, 35.0, 35.0, 35.0, 35.0, 35.0, 35.0, 35.0, 35.0, 35.0, 35.0, 24.0, \"......................\"],\n",
    " [\"                                                                                                                         \"],\n",
    " [\"Day-19 ................\", 35.0, 35.0, 35.0, 35.0, 35.0, 35.0, 35.0, 35.0, 35.0, 35.0, 35.0, 31.0, \"......................\",\n",
    " \"........................\", 35.0, 35.0, 35.0, 35.0, 35.0, 35.0, 35.0, 35.0, 35.0, 35.0, 35.0, 23.0, \"......................\"],\n",
    " [\"                                                                                                                         \"],\n",
    " [\"Day-20 ................\", 35.0, 35.0, 35.0, 35.0, 35.0, 35.0, 35.0, 35.0, 35.0, 35.0, 35.0, 30.0, \"......................\",\n",
    " \"........................\", 35.0, 35.0, 35.0, 35.0, 35.0, 35.0, 35.0, 35.0, 35.0, 35.0, 35.0, 23.0, \"......................\"],\n",
    " [\"                                                                                                                         \"],\n",
    " [\"Day-21 ................\", 35.0, 35.0, 35.0, 35.0, 35.0, 35.0, 35.0, 35.0, 35.0, 35.0, 35.0, 31.0, \"......................\",\n",
    " \"........................\", 35.0, 35.0, 35.0, 35.0, 35.0, 35.0, 35.0, 35.0, 35.0, 35.0, 35.0, 23.0, \"......................\"],\n",
    " [\"                                                                                                                         \"],\n",
    " [\"                                                                                                                         \"],\n",
    " [\"                                                                                                                         \"]],\n",
    "[[\"Day-22 ................\", 35.0, 35.0, 35.0, 35.0, 35.0, 35.0, 35.0, 35.0, 35.0, 35.0, 35.0, 31.0, \"......................\",\n",
    " \"........................\", 35.0, 35.0, 35.0, 35.0, 35.0, 35.0, 35.0, 35.0, 35.0, 35.0, 35.0, 24.0, \"......................\"],\n",
    " [\"                                                                                                                         \"],\n",
    " [\"Day-23 ................\", 35.0, 35.0, 35.0, 35.0, 35.0, 35.0, 35.0, 35.0, 35.0, 35.0, 35.0, 32.0, \"......................\",\n",
    " \"........................\", 35.0, 35.0, 35.0, 35.0, 35.0, 35.0, 35.0, 35.0, 35.0, 35.0, 35.0, 24.0, \"......................\"],\n",
    " [\"                                                                                                                         \"],\n",
    " [\"Day-24 ................\", 35.0, 35.0, 35.0, 35.0, 35.0, 35.0, 35.0, 35.0, 35.0, 35.0, 35.0, 32.0, \"......................\",\n",
    " \"........................\", 35.0, 35.0, 35.0, 35.0, 35.0, 35.0, 35.0, 35.0, 35.0, 35.0, 35.0, 23.0, \"......................\"],\n",
    " [\"                                                                                                                         \"],\n",
    " [\"Day-25 ................\", 35.0, 35.0, 35.0, 35.0, 35.0, 35.0, 35.0, 35.0, 35.0, 35.0, 35.0, 31.0, \"......................\",\n",
    " \"........................\", 35.0, 35.0, 35.0, 35.0, 35.0, 35.0, 35.0, 35.0, 35.0, 35.0, 35.0, 23.0, \"......................\"],\n",
    " [\"                                                                                                                         \"],\n",
    " [\"Day-26 ................\", 35.0, 35.0, 35.0, 35.0, 35.0, 35.0, 35.0, 35.0, 35.0, 35.0, 35.0, 31.0, \"......................\",\n",
    " \"........................\", 35.0, 35.0, 35.0, 35.0, 35.0, 35.0, 35.0, 35.0, 35.0, 35.0, 35.0, 24.0, \"......................\"],\n",
    " [\"                                                                                                                         \"],\n",
    " [\"Day-27 ................\", 35.0, 35.0, 35.0, 35.0, 35.0, 35.0, 35.0, 35.0, 35.0, 35.0, 35.0, 30.0, \"......................\",\n",
    " \"........................\", 35.0, 35.0, 35.0, 35.0, 35.0, 35.0, 35.0, 35.0, 35.0, 35.0, 35.0, 23.0, \"......................\"],\n",
    " [\"                                                                                                                         \"],\n",
    " [\"Day-28 ................\", 35.0, 35.0, 35.0, 35.0, 35.0, 35.0, 35.0, 35.0, 35.0, 35.0, 35.0, 30.0, \"......................\",\n",
    " \"........................\", 35.0, 35.0, 35.0, 35.0, 35.0, 35.0, 35.0, 35.0, 35.0, 35.0, 35.0, 23.0, \"......................\"],\n",
    " [\"                                                                                                                         \"],\n",
    " [\"                                                                                                                         \"],\n",
    " [\"                                                                                                                         \"]],\n",
    "[[\"Day-29 ................\", 35.0, 35.0, 35.0, 35.0, 35.0, 35.0, 35.0, 35.0, 35.0, 35.0, 35.0, 30.0, \"......................\",\n",
    " \"........................\", 35.0, 35.0, 35.0, 35.0, 35.0, 35.0, 35.0, 35.0, 35.0, 35.0, 35.0, 22.0, \"......................\"],\n",
    " [\"                                                                                                                         \"],\n",
    " [\"Day-30 ................\", 35.0, 35.0, 35.0, 35.0, 35.0, 35.0, 35.0, 35.0, 35.0, 35.0, 35.0, 29.0, \"......................\",\n",
    " \"........................\", 35.0, 35.0, 35.0, 35.0, 35.0, 35.0, 35.0, 35.0, 35.0, 35.0, 35.0, 22.0, \"......................\"],\n",
    " [\"                                                                                                                         \"],\n",
    " [\"Day-31 ................\", 35.0, 35.0, 35.0, 35.0, 35.0, 35.0, 35.0, 35.0, 35.0, 35.0, 35.0, 30.0, \"......................\",\n",
    " \"........................\", 35.0, 35.0, 35.0, 35.0, 35.0, 35.0, 35.0, 35.0, 35.0, 35.0, 35.0, 23.0, \"......................\"]]]\n",
    "\n",
    "print(cubes)"
   ]
  },
  {
   "cell_type": "code",
   "execution_count": null,
   "metadata": {},
   "outputs": [],
   "source": []
  }
 ],
 "metadata": {
  "kernelspec": {
   "display_name": "Python 3",
   "language": "python",
   "name": "python3"
  },
  "language_info": {
   "codemirror_mode": {
    "name": "ipython",
    "version": 3
   },
   "file_extension": ".py",
   "mimetype": "text/x-python",
   "name": "python",
   "nbconvert_exporter": "python",
   "pygments_lexer": "ipython3",
   "version": "3.7.6"
  }
 },
 "nbformat": 4,
 "nbformat_minor": 4
}
