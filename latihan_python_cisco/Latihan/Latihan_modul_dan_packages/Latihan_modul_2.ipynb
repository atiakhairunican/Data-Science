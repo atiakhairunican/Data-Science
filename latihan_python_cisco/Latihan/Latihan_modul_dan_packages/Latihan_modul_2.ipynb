{
 "cells": [
  {
   "cell_type": "code",
   "execution_count": 1,
   "metadata": {},
   "outputs": [
    {
     "name": "stdout",
     "output_type": "stream",
     "text": [
      "Hello, python!\n"
     ]
    }
   ],
   "source": [
    "print(\"Hello, python!\")"
   ]
  },
  {
   "cell_type": "code",
   "execution_count": 2,
   "metadata": {},
   "outputs": [
    {
     "name": "stdout",
     "output_type": "stream",
     "text": [
      "Atia\n"
     ]
    }
   ],
   "source": [
    "print(\"Atia\")"
   ]
  },
  {
   "cell_type": "code",
   "execution_count": 3,
   "metadata": {},
   "outputs": [
    {
     "ename": "NameError",
     "evalue": "name 'Atia' is not defined",
     "output_type": "error",
     "traceback": [
      "\u001b[1;31m---------------------------------------------------------------------------\u001b[0m",
      "\u001b[1;31mNameError\u001b[0m                                 Traceback (most recent call last)",
      "\u001b[1;32m<ipython-input-3-7b8938f24049>\u001b[0m in \u001b[0;36m<module>\u001b[1;34m\u001b[0m\n\u001b[1;32m----> 1\u001b[1;33m \u001b[0mprint\u001b[0m\u001b[1;33m(\u001b[0m\u001b[0mAtia\u001b[0m\u001b[1;33m)\u001b[0m\u001b[1;33m\u001b[0m\u001b[1;33m\u001b[0m\u001b[0m\n\u001b[0m",
      "\u001b[1;31mNameError\u001b[0m: name 'Atia' is not defined"
     ]
    }
   ],
   "source": [
    "print(Atia)"
   ]
  },
  {
   "cell_type": "code",
   "execution_count": 4,
   "metadata": {},
   "outputs": [
    {
     "ename": "SyntaxError",
     "evalue": "invalid syntax (<ipython-input-4-04b7fce674a3>, line 1)",
     "output_type": "error",
     "traceback": [
      "\u001b[1;36m  File \u001b[1;32m\"<ipython-input-4-04b7fce674a3>\"\u001b[1;36m, line \u001b[1;32m1\u001b[0m\n\u001b[1;33m    print\"Atia\"\u001b[0m\n\u001b[1;37m              ^\u001b[0m\n\u001b[1;31mSyntaxError\u001b[0m\u001b[1;31m:\u001b[0m invalid syntax\n"
     ]
    }
   ],
   "source": [
    "print\"Atia\""
   ]
  },
  {
   "cell_type": "code",
   "execution_count": 5,
   "metadata": {},
   "outputs": [
    {
     "name": "stdout",
     "output_type": "stream",
     "text": [
      "Atia\n"
     ]
    }
   ],
   "source": [
    "print('Atia')"
   ]
  },
  {
   "cell_type": "code",
   "execution_count": 6,
   "metadata": {},
   "outputs": [
    {
     "name": "stdout",
     "output_type": "stream",
     "text": [
      "Hello,\n",
      "Atia\n"
     ]
    }
   ],
   "source": [
    "print(\"Hello,\");print(\"Atia\")"
   ]
  },
  {
   "cell_type": "code",
   "execution_count": 7,
   "metadata": {},
   "outputs": [
    {
     "ename": "SyntaxError",
     "evalue": "invalid syntax (<ipython-input-7-93b0bfcd35a7>, line 1)",
     "output_type": "error",
     "traceback": [
      "\u001b[1;36m  File \u001b[1;32m\"<ipython-input-7-93b0bfcd35a7>\"\u001b[1;36m, line \u001b[1;32m1\u001b[0m\n\u001b[1;33m    print(\"Hello,\")print(\"Atia\")\u001b[0m\n\u001b[1;37m                       ^\u001b[0m\n\u001b[1;31mSyntaxError\u001b[0m\u001b[1;31m:\u001b[0m invalid syntax\n"
     ]
    }
   ],
   "source": [
    "print(\"Hello,\")print(\"Atia\")"
   ]
  },
  {
   "cell_type": "code",
   "execution_count": 8,
   "metadata": {},
   "outputs": [
    {
     "name": "stdout",
     "output_type": "stream",
     "text": [
      "Programming***Essentials***in...Python\n"
     ]
    }
   ],
   "source": [
    "print(\"Programming\", \"Essentials\", \"in\", sep=\"***\", end=\"...\")\n",
    "print(\"Python\")"
   ]
  },
  {
   "cell_type": "code",
   "execution_count": 10,
   "metadata": {},
   "outputs": [
    {
     "name": "stdout",
     "output_type": "stream",
     "text": [
      "    *   \n",
      "   * *   \n",
      "  *   *  \n",
      " *     * \n",
      "***   ***\n",
      "  *   *  \n",
      "  *   *  \n",
      "  *****  \n"
     ]
    }
   ],
   "source": [
    "print(\"    *   \")\n",
    "print(\"   * *   \")\n",
    "print(\"  *   *  \")\n",
    "print(\" *     * \")\n",
    "print(\"***   ***\")\n",
    "print(\"  *   *  \")\n",
    "print(\"  *   *  \")\n",
    "print(\"  *****  \")"
   ]
  },
  {
   "cell_type": "code",
   "execution_count": 11,
   "metadata": {},
   "outputs": [
    {
     "name": "stdout",
     "output_type": "stream",
     "text": [
      "\"I'm\"\n",
      "\"\"Learning\"\"\n",
      "\"\"\"Python\"\"\"\n"
     ]
    }
   ],
   "source": [
    "print('\"I\\'m\"')\n",
    "print(\"\\\"\\\"Learning\\\"\\\"\")\n",
    "print('\"\"\"Python\"\"\"')"
   ]
  },
  {
   "cell_type": "code",
   "execution_count": 12,
   "metadata": {},
   "outputs": [
    {
     "data": {
      "text/plain": [
       "'0b1100'"
      ]
     },
     "execution_count": 12,
     "metadata": {},
     "output_type": "execute_result"
    }
   ],
   "source": [
    "bin(12)"
   ]
  },
  {
   "cell_type": "code",
   "execution_count": 13,
   "metadata": {},
   "outputs": [
    {
     "data": {
      "text/plain": [
       "11"
      ]
     },
     "execution_count": 13,
     "metadata": {},
     "output_type": "execute_result"
    }
   ],
   "source": [
    "0b1011"
   ]
  },
  {
   "cell_type": "code",
   "execution_count": 15,
   "metadata": {},
   "outputs": [
    {
     "name": "stdout",
     "output_type": "stream",
     "text": [
      "16 8.0 8\n",
      "-0.5 0.5 -1 0\n",
      "-2 2 512\n"
     ]
    }
   ],
   "source": [
    "print((2 ** 4), (2 * 4.), (2 * 4))\n",
    "print((-2 / 4), (2 / 4), (-2 // 4), (2 // 4))\n",
    "print((2 % -4), (2 % 4), (2 ** 3 ** 2))"
   ]
  },
  {
   "cell_type": "code",
   "execution_count": 33,
   "metadata": {},
   "outputs": [
    {
     "name": "stdout",
     "output_type": "stream",
     "text": [
      "John's Apples =  3 ,  Mary's Apples =  5 ,  Adam's Apples =  6\n",
      "Total Apples is  14\n",
      "\n",
      "john * mary * adam =  90\n",
      "\n",
      "\n",
      "Total Apples / john =  4.67 \n",
      "Total Apples / mary =  2.8 \n",
      "Total Apples / adam =  2.33\n",
      "\n",
      "Total Apples // john =  4 \n",
      "Total Apples // mary =  2 \n",
      "Total Apples // adam =  2\n",
      "\n",
      "Total Apples % john =  2 \n",
      "Total Apples % mary =  4 \n",
      "Total Apples % adam =  2\n"
     ]
    }
   ],
   "source": [
    "john = 3\n",
    "mary = 5\n",
    "adam = 6\n",
    "print(\"John's Apples = \", john, \", \", \"Mary's Apples = \", mary, \", \", \"Adam's Apples = \", adam)\n",
    "totalApples = john + mary + adam\n",
    "print(\"Total Apples is \", totalApples)\n",
    "print()\n",
    "print(\"john * mary * adam = \", john * mary * adam)\n",
    "print(\"\\n\")\n",
    "print(\"Total Apples / john = \", round(totalApples / john, 2), \"\\nTotal Apples / mary = \", round(totalApples / mary, 2),\n",
    "      \"\\nTotal Apples / adam = \", round(totalApples / adam, 2))\n",
    "print()\n",
    "print(\"Total Apples // john = \", totalApples // john, \"\\nTotal Apples // mary = \", totalApples // mary,\n",
    "      \"\\nTotal Apples // adam = \", totalApples // adam)\n",
    "print()\n",
    "print(\"Total Apples % john = \", totalApples % john, \"\\nTotal Apples % mary = \", totalApples % mary,\n",
    "      \"\\nTotal Apples % adam = \", totalApples % adam)"
   ]
  },
  {
   "cell_type": "code",
   "execution_count": 36,
   "metadata": {},
   "outputs": [
    {
     "name": "stdout",
     "output_type": "stream",
     "text": [
      "7.38 miles is 11.88 kilometers\n",
      "12.25 kilometers is 7.61 miles\n"
     ]
    }
   ],
   "source": [
    "kilometers = 12.25\n",
    "miles = 7.38\n",
    "\n",
    "miles_to_kilometers = 1.609344 * miles\n",
    "kilometers_to_miles = 0.6213711922 * kilometers\n",
    "\n",
    "print(miles, \"miles is\", round(miles_to_kilometers, 2), \"kilometers\")\n",
    "print(kilometers, \"kilometers is\", round(kilometers_to_miles, 2), \"miles\")"
   ]
  },
  {
   "cell_type": "code",
   "execution_count": 39,
   "metadata": {},
   "outputs": [
    {
     "name": "stdout",
     "output_type": "stream",
     "text": [
      "y =  -1.0\n"
     ]
    }
   ],
   "source": [
    "x = 0\n",
    "y = 3 * (x ** 3) - 2 * (x ** 2) + 3 * x - 1\n",
    "print(\"y = \", float(y))"
   ]
  },
  {
   "cell_type": "code",
   "execution_count": 40,
   "metadata": {},
   "outputs": [
    {
     "name": "stdout",
     "output_type": "stream",
     "text": [
      "y =  3.0\n"
     ]
    }
   ],
   "source": [
    "x = 1\n",
    "y = 3 * (x ** 3) - 2 * (x ** 2) + 3 * x - 1\n",
    "print(\"y = \", float(y))"
   ]
  },
  {
   "cell_type": "code",
   "execution_count": 41,
   "metadata": {},
   "outputs": [
    {
     "name": "stdout",
     "output_type": "stream",
     "text": [
      "y =  -9.0\n"
     ]
    }
   ],
   "source": [
    "x = -1\n",
    "y = 3 * (x ** 3) - 2 * (x ** 2) + 3 * x - 1\n",
    "print(\"y = \", float(y))"
   ]
  },
  {
   "cell_type": "code",
   "execution_count": 43,
   "metadata": {},
   "outputs": [
    {
     "name": "stdout",
     "output_type": "stream",
     "text": [
      "Starting time (hour): 12\n",
      "Starting time (minutes): 17\n",
      "Even durations (minutes): 59\n",
      "It will be end at  13 :  16\n"
     ]
    }
   ],
   "source": [
    "hour = int(input(\"Starting time (hour): \"))\n",
    "mins = int(input(\"Starting time (minutes): \"))\n",
    "dura = int(input(\"Even durations (minutes): \"))\n",
    "\n",
    "h = hour + ((mins + dura) // 60)\n",
    "hours = h - (24 * (h // 24)) \n",
    "minutes = (mins + dura) % 60\n",
    "\n",
    "print(\"It will be end at \", str(hours), \": \", str(minutes))"
   ]
  },
  {
   "cell_type": "code",
   "execution_count": 44,
   "metadata": {},
   "outputs": [
    {
     "name": "stdout",
     "output_type": "stream",
     "text": [
      "Starting time (hour): 23\n",
      "Starting time (minutes): 58\n",
      "Even durations (minutes): 642\n",
      "It will be end at  10 :  40\n"
     ]
    }
   ],
   "source": [
    "hour = int(input(\"Starting time (hour): \"))\n",
    "mins = int(input(\"Starting time (minutes): \"))\n",
    "dura = int(input(\"Even durations (minutes): \"))\n",
    "\n",
    "h = hour + ((mins + dura) // 60)\n",
    "hours = h - (24 * (h // 24)) \n",
    "minutes = (mins + dura) % 60\n",
    "\n",
    "print(\"It will be end at \", str(hours), \": \", str(minutes))"
   ]
  },
  {
   "cell_type": "code",
   "execution_count": 45,
   "metadata": {},
   "outputs": [
    {
     "name": "stdout",
     "output_type": "stream",
     "text": [
      "Starting time (hour): 0\n",
      "Starting time (minutes): 1\n",
      "Even durations (minutes): 2939\n",
      "It will be end at  1 :  0\n"
     ]
    }
   ],
   "source": [
    "hour = int(input(\"Starting time (hour): \"))\n",
    "mins = int(input(\"Starting time (minutes): \"))\n",
    "dura = int(input(\"Even durations (minutes): \"))\n",
    "\n",
    "h = hour + ((mins + dura) // 60)\n",
    "hours = h - (24 * (h // 24)) \n",
    "minutes = (mins + dura) % 60\n",
    "\n",
    "print(\"It will be end at \", str(hours), \": \", str(minutes))"
   ]
  },
  {
   "cell_type": "code",
   "execution_count": 46,
   "metadata": {},
   "outputs": [],
   "source": [
    "# Tes Modul 2"
   ]
  },
  {
   "cell_type": "code",
   "execution_count": 47,
   "metadata": {},
   "outputs": [
    {
     "name": "stdout",
     "output_type": "stream",
     "text": [
      "Masukkan nilai x: 2\n",
      "Masukkan nilai y: 3\n",
      "Nilai x+y adalah  23\n"
     ]
    }
   ],
   "source": [
    "x = input(\"Masukkan nilai x: \")\n",
    "y = input(\"Masukkan nilai y: \")\n",
    "print(\"Nilai x+y adalah \", (x+y))"
   ]
  },
  {
   "cell_type": "code",
   "execution_count": 48,
   "metadata": {},
   "outputs": [
    {
     "name": "stdout",
     "output_type": "stream",
     "text": [
      "2 1\n"
     ]
    }
   ],
   "source": [
    "x = 1\n",
    "y = 2\n",
    "z = x\n",
    "x = y\n",
    "y = z\n",
    "print(x, y)"
   ]
  },
  {
   "cell_type": "code",
   "execution_count": 49,
   "metadata": {},
   "outputs": [
    {
     "name": "stdout",
     "output_type": "stream",
     "text": [
      "Masukkan nilai x: 3\n",
      "Masukkan nilai y: 6\n",
      "Nilai x*y adalah  333333\n"
     ]
    }
   ],
   "source": [
    "x = input(\"Masukkan nilai x: \")\n",
    "y = int(input(\"Masukkan nilai y: \"))\n",
    "print(\"Nilai x*y adalah \", (x*y))"
   ]
  },
  {
   "cell_type": "code",
   "execution_count": 50,
   "metadata": {},
   "outputs": [
    {
     "name": "stdout",
     "output_type": "stream",
     "text": [
      "1*1*1\n"
     ]
    }
   ],
   "source": [
    "x=y=z=1\n",
    "print(x,y,z, sep=\"*\")"
   ]
  },
  {
   "cell_type": "code",
   "execution_count": 55,
   "metadata": {},
   "outputs": [
    {
     "data": {
      "text/plain": [
       "0"
      ]
     },
     "execution_count": 55,
     "metadata": {},
     "output_type": "execute_result"
    }
   ],
   "source": [
    "1 // 2 * 3 # Menghasilkan bilangan integer"
   ]
  },
  {
   "cell_type": "code",
   "execution_count": 52,
   "metadata": {},
   "outputs": [
    {
     "name": "stdout",
     "output_type": "stream",
     "text": [
      "Masukkan nilai x: 2\n",
      "Masukkan nilai y: 4\n",
      "Nilai x*y adalah  8\n"
     ]
    }
   ],
   "source": [
    "x = int(input(\"Masukkan nilai x: \"))\n",
    "y = int(input(\"Masukkan nilai y: \"))\n",
    "print(\"Nilai x*y adalah \", (x*y))"
   ]
  },
  {
   "cell_type": "code",
   "execution_count": 54,
   "metadata": {},
   "outputs": [
    {
     "name": "stdout",
     "output_type": "stream",
     "text": [
      "17.0\n"
     ]
    }
   ],
   "source": [
    "y = 2 + 3 * 5. # Menghasilkan float\n",
    "print(y)"
   ]
  },
  {
   "cell_type": "code",
   "execution_count": 56,
   "metadata": {},
   "outputs": [
    {
     "name": "stdout",
     "output_type": "stream",
     "text": [
      "Masukkan nilai x: 2\n",
      "Masukkan nilai y: 4\n",
      "Nilai y adalah  8.0\n"
     ]
    }
   ],
   "source": [
    "x = int(input(\"Masukkan nilai x: \"))\n",
    "y = int(input(\"Masukkan nilai y: \"))\n",
    "x = x / y\n",
    "y = y / x\n",
    "print(\"Nilai y adalah \", y)"
   ]
  },
  {
   "cell_type": "code",
   "execution_count": 57,
   "metadata": {},
   "outputs": [
    {
     "name": "stdout",
     "output_type": "stream",
     "text": [
      "Masukkan nilai x: 2\n",
      "Masukkan nilai y: 4\n"
     ]
    },
    {
     "ename": "ZeroDivisionError",
     "evalue": "integer division or modulo by zero",
     "output_type": "error",
     "traceback": [
      "\u001b[1;31m---------------------------------------------------------------------------\u001b[0m",
      "\u001b[1;31mZeroDivisionError\u001b[0m                         Traceback (most recent call last)",
      "\u001b[1;32m<ipython-input-57-28f84a5ddde4>\u001b[0m in \u001b[0;36m<module>\u001b[1;34m\u001b[0m\n\u001b[0;32m      2\u001b[0m \u001b[0my\u001b[0m \u001b[1;33m=\u001b[0m \u001b[0mint\u001b[0m\u001b[1;33m(\u001b[0m\u001b[0minput\u001b[0m\u001b[1;33m(\u001b[0m\u001b[1;34m\"Masukkan nilai y: \"\u001b[0m\u001b[1;33m)\u001b[0m\u001b[1;33m)\u001b[0m\u001b[1;33m\u001b[0m\u001b[1;33m\u001b[0m\u001b[0m\n\u001b[0;32m      3\u001b[0m \u001b[0mx\u001b[0m \u001b[1;33m=\u001b[0m \u001b[0mx\u001b[0m \u001b[1;33m//\u001b[0m \u001b[0my\u001b[0m\u001b[1;33m\u001b[0m\u001b[1;33m\u001b[0m\u001b[0m\n\u001b[1;32m----> 4\u001b[1;33m \u001b[0my\u001b[0m \u001b[1;33m=\u001b[0m \u001b[0my\u001b[0m \u001b[1;33m//\u001b[0m \u001b[0mx\u001b[0m\u001b[1;33m\u001b[0m\u001b[1;33m\u001b[0m\u001b[0m\n\u001b[0m\u001b[0;32m      5\u001b[0m \u001b[0mprint\u001b[0m\u001b[1;33m(\u001b[0m\u001b[1;34m\"Nilai y adalah \"\u001b[0m\u001b[1;33m,\u001b[0m \u001b[0my\u001b[0m\u001b[1;33m)\u001b[0m\u001b[1;33m\u001b[0m\u001b[1;33m\u001b[0m\u001b[0m\n",
      "\u001b[1;31mZeroDivisionError\u001b[0m: integer division or modulo by zero"
     ]
    }
   ],
   "source": [
    "x = int(input(\"Masukkan nilai x: \"))\n",
    "y = int(input(\"Masukkan nilai y: \"))\n",
    "x = x // y\n",
    "y = y // x\n",
    "print(\"Nilai y adalah \", y)"
   ]
  },
  {
   "cell_type": "code",
   "execution_count": 58,
   "metadata": {},
   "outputs": [
    {
     "name": "stdout",
     "output_type": "stream",
     "text": [
      "Masukkan nilai x: 11\n",
      "Masukkan nilai y: 4\n",
      "Nilai y adalah  1\n"
     ]
    }
   ],
   "source": [
    "x = int(input(\"Masukkan nilai x: \"))\n",
    "y = int(input(\"Masukkan nilai y: \"))\n",
    "x = x % y\n",
    "y = y % x\n",
    "print(\"Nilai y adalah \", y)"
   ]
  },
  {
   "cell_type": "code",
   "execution_count": 59,
   "metadata": {},
   "outputs": [
    {
     "name": "stdout",
     "output_type": "stream",
     "text": [
      "17.5\n"
     ]
    }
   ],
   "source": [
    "x = 1 / 2 + 3 // 3 + 4 ** 2\n",
    "print(x)"
   ]
  },
  {
   "cell_type": "code",
   "execution_count": null,
   "metadata": {},
   "outputs": [],
   "source": []
  }
 ],
 "metadata": {
  "kernelspec": {
   "display_name": "Python 3",
   "language": "python",
   "name": "python3"
  },
  "language_info": {
   "codemirror_mode": {
    "name": "ipython",
    "version": 3
   },
   "file_extension": ".py",
   "mimetype": "text/x-python",
   "name": "python",
   "nbconvert_exporter": "python",
   "pygments_lexer": "ipython3",
   "version": "3.7.6"
  }
 },
 "nbformat": 4,
 "nbformat_minor": 4
}
