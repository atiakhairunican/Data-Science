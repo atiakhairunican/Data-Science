{
 "cells": [
  {
   "cell_type": "markdown",
   "metadata": {},
   "source": [
    "JAWABAN PROJECK-1"
   ]
  },
  {
   "cell_type": "code",
   "execution_count": 35,
   "metadata": {},
   "outputs": [],
   "source": [
    "def letter_catalog(items,letter='A'):\n",
    "    pass\n",
    "    # MULAI KODEMU DI SINI\n",
    "    item = []\n",
    "    for i in items:\n",
    "        if i[0] == letter:\n",
    "            item.append(i)\n",
    "    return item"
   ]
  },
  {
   "cell_type": "code",
   "execution_count": 36,
   "metadata": {},
   "outputs": [
    {
     "data": {
      "text/plain": [
       "['Apple', 'Avocado']"
      ]
     },
     "execution_count": 36,
     "metadata": {},
     "output_type": "execute_result"
    }
   ],
   "source": [
    "# Cek output kode anda\n",
    "letter_catalog(['Apple','Avocado','Banana','Blackberries','Blueberries','Cherries'],letter='A')"
   ]
  },
  {
   "cell_type": "code",
   "execution_count": 3,
   "metadata": {},
   "outputs": [
    {
     "data": {
      "text/plain": [
       "['Banana', 'Blackberries', 'Blueberries']"
      ]
     },
     "execution_count": 3,
     "metadata": {},
     "output_type": "execute_result"
    }
   ],
   "source": [
    "letter_catalog(['Apple','Avocado','Banana','Blackberries','Blueberries','Cherries'],letter='B')"
   ]
  },
  {
   "cell_type": "code",
   "execution_count": 4,
   "metadata": {},
   "outputs": [
    {
     "data": {
      "text/plain": [
       "['Cherries']"
      ]
     },
     "execution_count": 4,
     "metadata": {},
     "output_type": "execute_result"
    }
   ],
   "source": [
    "letter_catalog(['Apple','Avocado','Banana','Blackberries','Blueberries','Cherries'],letter='C')"
   ]
  },
  {
   "cell_type": "code",
   "execution_count": 5,
   "metadata": {},
   "outputs": [],
   "source": [
    "def counter_item(items):\n",
    "    pass\n",
    "    # MULAI KODEMU DI SINI\n",
    "    key = []; value = []; lst = []\n",
    "    for i in items:\n",
    "        if i not in key and i not in value:\n",
    "            counter = items.count(i)\n",
    "            key.append(i)\n",
    "            value.append(counter)\n",
    "            \n",
    "    for j in range(len(key)):\n",
    "        a = (key[j], value[j])\n",
    "        lst.append(a)\n",
    "        \n",
    "    lst = dict(sorted(lst))\n",
    "    return lst"
   ]
  },
  {
   "cell_type": "code",
   "execution_count": 6,
   "metadata": {},
   "outputs": [
    {
     "data": {
      "text/plain": [
       "{'Apple': 3, 'Blueberries': 3}"
      ]
     },
     "execution_count": 6,
     "metadata": {},
     "output_type": "execute_result"
    }
   ],
   "source": [
    "# Cek output kode anda\n",
    "counter_item(['Apple','Apple','Apple','Blueberries','Blueberries','Blueberries'])"
   ]
  },
  {
   "cell_type": "code",
   "execution_count": 7,
   "metadata": {},
   "outputs": [
    {
     "data": {
      "text/plain": [
       "{'Avocado': 2, 'Banana': 3, 'Blackberries': 2, 'Blueberries': 2, 'Cherries': 1}"
      ]
     },
     "execution_count": 7,
     "metadata": {},
     "output_type": "execute_result"
    }
   ],
   "source": [
    "counter_item(['Cherries', 'Blueberries', 'Banana', 'Avocado', 'Blackberries', 'Banana', 'Blueberries', 'Avocado', 'Banana', 'Blackberries'])"
   ]
  },
  {
   "cell_type": "code",
   "execution_count": 8,
   "metadata": {},
   "outputs": [
    {
     "data": {
      "text/plain": [
       "{'Avocado': 2, 'Blackberries': 2, 'Blueberries': 2, 'Cherries': 4}"
      ]
     },
     "execution_count": 8,
     "metadata": {},
     "output_type": "execute_result"
    }
   ],
   "source": [
    "counter_item(['Cherries', 'Blackberries', 'Avocado', 'Blueberries', 'Blackberries', 'Avocado', 'Cherries', 'Cherries', 'Blueberries', 'Cherries'])"
   ]
  },
  {
   "cell_type": "code",
   "execution_count": 9,
   "metadata": {},
   "outputs": [
    {
     "data": {
      "text/plain": [
       "{'Apple': 1,\n",
       " 'Avocado': 1,\n",
       " 'Banana': 2,\n",
       " 'Blackberries': 1,\n",
       " 'Blueberries': 2,\n",
       " 'Cherries': 3}"
      ]
     },
     "execution_count": 9,
     "metadata": {},
     "output_type": "execute_result"
    }
   ],
   "source": [
    "counter_item(['Avocado', 'Blueberries', 'Cherries', 'Blueberries', 'Banana', 'Apple', 'Banana', 'Blackberries', 'Cherries', 'Cherries'])"
   ]
  },
  {
   "cell_type": "code",
   "execution_count": 10,
   "metadata": {},
   "outputs": [],
   "source": [
    "def total_price(dcounter,fprice):\n",
    "    pass\n",
    "    # MULAI KODEMU DI SINI\n",
    "    count = 0\n",
    "    for key1 in fruit_price.keys():\n",
    "        count1 = fruit_price[key1]\n",
    "        for key2 in dcounter.keys():\n",
    "            count2 = dcounter[key2]\n",
    "            if key1 == key2:\n",
    "                count += count1*count2\n",
    "    return count\n",
    "\n",
    "    \n",
    "# dua variable berikut jangan diubah\n",
    "fruits = ['Apple','Avocado','Banana','Blackberries','Blueberries','Cherries','Date Fruit','Grapes','Guava','Jackfruit','Kiwifruit']\n",
    "prices = [6,5,3,10,12,7,14,15,8,7,9]\n",
    "\n",
    "# list buah\n",
    "chart = ['Blueberries','Blueberries','Grapes','Apple','Apple','Apple','Blueberries','Guava','Jackfruit','Blueberries','Jackfruit']\n",
    "\n",
    "# MULAI KODEMU DI SINI\n",
    "# fruit_price = None\n",
    "fruit_price = []\n",
    "for f in range(len(fruits)):\n",
    "    fp = (fruits[f], prices[f])\n",
    "    fruit_price.append(fp)\n",
    "        \n",
    "fruit_price = dict(fruit_price)"
   ]
  },
  {
   "cell_type": "code",
   "execution_count": 11,
   "metadata": {},
   "outputs": [
    {
     "data": {
      "text/plain": [
       "103"
      ]
     },
     "execution_count": 11,
     "metadata": {},
     "output_type": "execute_result"
    }
   ],
   "source": [
    "# Cek output kode anda\n",
    "total_price(counter_item(chart),fruit_price)"
   ]
  },
  {
   "cell_type": "code",
   "execution_count": 12,
   "metadata": {},
   "outputs": [
    {
     "data": {
      "text/plain": [
       "70"
      ]
     },
     "execution_count": 12,
     "metadata": {},
     "output_type": "execute_result"
    }
   ],
   "source": [
    "total_price({'Cherries': 1, 'Blueberries': 2, 'Banana': 3, 'Avocado': 2, 'Blackberries': 2}, {'Apple': 6, 'Avocado': 5, 'Banana': 3, 'Blackberries': 10, 'Blueberries': 12, 'Cherries': 7, 'Date Fruit': 14, 'Grapes': 15, 'Guava': 8, 'Jackfruit': 7, 'Kiwifruit': 9})"
   ]
  },
  {
   "cell_type": "code",
   "execution_count": 13,
   "metadata": {},
   "outputs": [
    {
     "data": {
      "text/plain": [
       "82"
      ]
     },
     "execution_count": 13,
     "metadata": {},
     "output_type": "execute_result"
    }
   ],
   "source": [
    "total_price({'Cherries': 4, 'Blackberries': 2, 'Avocado': 2, 'Blueberries': 2}, {'Apple': 6, 'Avocado': 5, 'Banana': 3, 'Blackberries': 10, 'Blueberries': 12, 'Cherries': 7, 'Date Fruit': 14, 'Grapes': 15, 'Guava': 8, 'Jackfruit': 7, 'Kiwifruit': 9})"
   ]
  },
  {
   "cell_type": "code",
   "execution_count": 14,
   "metadata": {},
   "outputs": [
    {
     "data": {
      "text/plain": [
       "72"
      ]
     },
     "execution_count": 14,
     "metadata": {},
     "output_type": "execute_result"
    }
   ],
   "source": [
    "total_price({'Avocado': 1, 'Blueberries': 2, 'Cherries': 3, 'Banana': 2, 'Apple': 1, 'Blackberries': 1}, {'Apple': 6, 'Avocado': 5, 'Banana': 3, 'Blackberries': 10, 'Blueberries': 12, 'Cherries': 7, 'Date Fruit': 14, 'Grapes': 15, 'Guava': 8, 'Jackfruit': 7, 'Kiwifruit': 9})"
   ]
  },
  {
   "cell_type": "code",
   "execution_count": 15,
   "metadata": {},
   "outputs": [],
   "source": [
    "def discounted_price(total,discount,minprice=100):\n",
    "    pass\n",
    "    # MULAI KODEMU DI SINI\n",
    "    if discount > 0:\n",
    "        if discount <= 100:\n",
    "            if total >= minprice:\n",
    "                priceDiscount = ((100 - discount) / 100) * total\n",
    "            else:\n",
    "                priceDiscount = total\n",
    "        else:\n",
    "            return 0\n",
    "    else:\n",
    "        return total\n",
    "\n",
    "    return round(priceDiscount, 1)"
   ]
  },
  {
   "cell_type": "code",
   "execution_count": 16,
   "metadata": {},
   "outputs": [
    {
     "data": {
      "text/plain": [
       "92.7"
      ]
     },
     "execution_count": 16,
     "metadata": {},
     "output_type": "execute_result"
    }
   ],
   "source": [
    "# Cek output kode anda\n",
    "discounted_price(total_price(counter_item(chart),fruit_price),10,minprice=100)"
   ]
  },
  {
   "cell_type": "code",
   "execution_count": 17,
   "metadata": {},
   "outputs": [
    {
     "data": {
      "text/plain": [
       "90.0"
      ]
     },
     "execution_count": 17,
     "metadata": {},
     "output_type": "execute_result"
    }
   ],
   "source": [
    "discounted_price(100, 10, 100)"
   ]
  },
  {
   "cell_type": "code",
   "execution_count": 18,
   "metadata": {},
   "outputs": [
    {
     "data": {
      "text/plain": [
       "99.0"
      ]
     },
     "execution_count": 18,
     "metadata": {},
     "output_type": "execute_result"
    }
   ],
   "source": [
    "discounted_price(110, 10, 80)"
   ]
  },
  {
   "cell_type": "code",
   "execution_count": 19,
   "metadata": {},
   "outputs": [
    {
     "data": {
      "text/plain": [
       "100"
      ]
     },
     "execution_count": 19,
     "metadata": {},
     "output_type": "execute_result"
    }
   ],
   "source": [
    "discounted_price(100, 15, 120)"
   ]
  },
  {
   "cell_type": "code",
   "execution_count": 20,
   "metadata": {},
   "outputs": [
    {
     "data": {
      "text/plain": [
       "176.0"
      ]
     },
     "execution_count": 20,
     "metadata": {},
     "output_type": "execute_result"
    }
   ],
   "source": [
    "discounted_price(200, 12, 100)"
   ]
  },
  {
   "cell_type": "code",
   "execution_count": 21,
   "metadata": {},
   "outputs": [
    {
     "data": {
      "text/plain": [
       "154.1"
      ]
     },
     "execution_count": 21,
     "metadata": {},
     "output_type": "execute_result"
    }
   ],
   "source": [
    "discounted_price(230, 33, 100)"
   ]
  },
  {
   "cell_type": "code",
   "execution_count": 7,
   "metadata": {},
   "outputs": [],
   "source": [
    "def counter_item(items):\n",
    "    pass\n",
    "    # MULAI KODEMU DI SINI\n",
    "    key = []; value = []; lst = []\n",
    "    for i in items:\n",
    "        if i not in key and i not in value:\n",
    "            counter = items.count(i)\n",
    "            key.append(i)\n",
    "            value.append(counter)\n",
    "            \n",
    "    for j in range(len(key)):\n",
    "        a = (key[j], value[j])\n",
    "        lst.append(a)\n",
    "        \n",
    "    lst = dict(sorted(lst))\n",
    "    return lst\n",
    "\n",
    "def total_price(dcounter,fprice):\n",
    "    pass\n",
    "    # MULAI KODEMU DI SINI\n",
    "    count = 0\n",
    "    for key1 in fruit_price.keys():\n",
    "        count1 = fruit_price[key1]\n",
    "        for key2 in dcounter.keys():\n",
    "            count2 = dcounter[key2]\n",
    "            if key1 == key2:\n",
    "                count += count1*count2\n",
    "    return count\n",
    "\n",
    "    \n",
    "# dua variable berikut jangan diubah\n",
    "fruits = ['Apple','Avocado','Banana','Blackberries','Blueberries','Cherries','Date Fruit','Grapes','Guava','Jackfruit','Kiwifruit']\n",
    "prices = [6,5,3,10,12,7,14,15,8,7,9]\n",
    "\n",
    "# list buah\n",
    "chart = ['Blueberries','Blueberries','Grapes','Apple','Apple','Apple','Blueberries','Guava','Jackfruit','Blueberries','Jackfruit']\n",
    "\n",
    "# MULAI KODEMU DI SINI\n",
    "# fruit_price = None\n",
    "fruit_price = []\n",
    "for f in range(len(fruits)):\n",
    "    fp = (fruits[f], prices[f])\n",
    "    fruit_price.append(fp)\n",
    "        \n",
    "fruit_price = dict(fruit_price)\n",
    "\n",
    "def discounted_price(total,discount,minprice=100):\n",
    "    pass\n",
    "    # MULAI KODEMU DI SINI\n",
    "    if discount > 0:\n",
    "        if discount <= 100:\n",
    "            if total >= minprice:\n",
    "                priceDiscount = ((100 - discount) / 100) * total\n",
    "            else:\n",
    "                priceDiscount = total\n",
    "        else:\n",
    "            return 0\n",
    "    else:\n",
    "        return total\n",
    "\n",
    "    return round(priceDiscount, 1)\n",
    "\n",
    "def print_summary(items,fprice):\n",
    "    pass\n",
    "    # MULAI KODEMU DI SINI\n",
    "    countS = 0\n",
    "    for key1, value1 in counter_item(items).items():\n",
    "        for key2, value2 in fprice.items():\n",
    "            if key1 == key2:\n",
    "                count = value1 * value2\n",
    "                countS += count\n",
    "                print(value1, key1, \":\", count)\n",
    "    \n",
    "    print(\"total :\", countS)\n",
    "    \n",
    "    print(\"discount price :\", discounted_price(countS,10,minprice=100))"
   ]
  },
  {
   "cell_type": "code",
   "execution_count": 8,
   "metadata": {},
   "outputs": [
    {
     "name": "stdout",
     "output_type": "stream",
     "text": [
      "3 Apple : 18\n",
      "4 Blueberries : 48\n",
      "1 Grapes : 15\n",
      "1 Guava : 8\n",
      "2 Jackfruit : 14\n",
      "total : 103\n",
      "discount price : 92.7\n"
     ]
    }
   ],
   "source": [
    "# Cek output kode anda\n",
    "print_summary(chart,fruit_price)"
   ]
  },
  {
   "cell_type": "code",
   "execution_count": 9,
   "metadata": {},
   "outputs": [
    {
     "name": "stdout",
     "output_type": "stream",
     "text": [
      "1 Apple : 6\n",
      "1 Avocado : 5\n",
      "2 Banana : 6\n",
      "1 Blackberries : 10\n",
      "4 Blueberries : 48\n",
      "1 Cherries : 7\n",
      "total : 82\n",
      "discount price : 82\n"
     ]
    }
   ],
   "source": [
    "# Cek output kode anda\n",
    "print_summary(['Banana', 'Cherries', 'Avocado', 'Blueberries', 'Blackberries', 'Apple', 'Blueberries', 'Banana', 'Blueberries', 'Blueberries'], {'Apple': 6, 'Avocado': 5, 'Banana': 3, 'Blackberries': 10, 'Blueberries': 12, 'Cherries': 7, 'Date Fruit': 14, 'Grapes': 15, 'Guava': 8, 'Jackfruit': 7, 'Kiwifruit': 9})"
   ]
  },
  {
   "cell_type": "code",
   "execution_count": 10,
   "metadata": {},
   "outputs": [
    {
     "name": "stdout",
     "output_type": "stream",
     "text": [
      "1 Apple : 6\n",
      "4 Avocado : 20\n",
      "1 Banana : 3\n",
      "1 Blackberries : 10\n",
      "3 Cherries : 21\n",
      "total : 60\n",
      "discount price : 60\n"
     ]
    }
   ],
   "source": [
    "print_summary(['Apple', 'Banana', 'Cherries', 'Avocado', 'Avocado', 'Cherries', 'Avocado', 'Blackberries', 'Avocado', 'Cherries'], {'Apple': 6, 'Avocado': 5, 'Banana': 3, 'Blackberries': 10, 'Blueberries': 12, 'Cherries': 7, 'Date Fruit': 14, 'Grapes': 15, 'Guava': 8, 'Jackfruit': 7, 'Kiwifruit': 9})"
   ]
  },
  {
   "cell_type": "code",
   "execution_count": 11,
   "metadata": {},
   "outputs": [
    {
     "name": "stdout",
     "output_type": "stream",
     "text": [
      "2 Apple : 12\n",
      "1 Avocado : 5\n",
      "1 Banana : 3\n",
      "3 Blackberries : 30\n",
      "2 Blueberries : 24\n",
      "1 Cherries : 7\n",
      "total : 81\n",
      "discount price : 81\n"
     ]
    }
   ],
   "source": [
    "print_summary(['Blueberries', 'Banana', 'Apple', 'Avocado', 'Blackberries', 'Cherries', 'Apple', 'Blackberries', 'Blueberries', 'Blackberries'], {'Apple': 6, 'Avocado': 5, 'Banana': 3, 'Blackberries': 10, 'Blueberries': 12, 'Cherries': 7, 'Date Fruit': 14, 'Grapes': 15, 'Guava': 8, 'Jackfruit': 7, 'Kiwifruit': 9})"
   ]
  },
  {
   "cell_type": "code",
   "execution_count": 12,
   "metadata": {},
   "outputs": [
    {
     "name": "stdout",
     "output_type": "stream",
     "text": [
      "1 Avocado : 5\n",
      "2 Banana : 6\n",
      "5 Blackberries : 50\n",
      "1 Blueberries : 12\n",
      "1 Cherries : 7\n",
      "total : 80\n",
      "discount price : 80\n"
     ]
    }
   ],
   "source": [
    "print_summary(['Blueberries', 'Blackberries', 'Cherries', 'Blackberries', 'Blackberries', 'Banana', 'Blackberries', 'Banana', 'Blackberries', 'Avocado'], {'Apple': 6, 'Avocado': 5, 'Banana': 3, 'Blackberries': 10, 'Blueberries': 12, 'Cherries': 7, 'Date Fruit': 14, 'Grapes': 15, 'Guava': 8, 'Jackfruit': 7, 'Kiwifruit': 9})"
   ]
  },
  {
   "cell_type": "code",
   "execution_count": 13,
   "metadata": {},
   "outputs": [
    {
     "name": "stdout",
     "output_type": "stream",
     "text": [
      "1 Apple : 6\n",
      "2 Avocado : 10\n",
      "1 Banana : 3\n",
      "2 Blackberries : 20\n",
      "1 Blueberries : 12\n",
      "3 Cherries : 21\n",
      "total : 72\n",
      "discount price : 72\n"
     ]
    }
   ],
   "source": [
    "print_summary(['Avocado', 'Avocado', 'Blackberries', 'Blackberries', 'Banana', 'Apple', 'Blueberries', 'Cherries', 'Cherries', 'Cherries'], {'Apple': 6, 'Avocado': 5, 'Banana': 3, 'Blackberries': 10, 'Blueberries': 12, 'Cherries': 7, 'Date Fruit': 14, 'Grapes': 15, 'Guava': 8, 'Jackfruit': 7, 'Kiwifruit': 9})"
   ]
  },
  {
   "cell_type": "code",
   "execution_count": null,
   "metadata": {},
   "outputs": [],
   "source": []
  }
 ],
 "metadata": {
  "kernelspec": {
   "display_name": "Python 3",
   "language": "python",
   "name": "python3"
  },
  "language_info": {
   "codemirror_mode": {
    "name": "ipython",
    "version": 3
   },
   "file_extension": ".py",
   "mimetype": "text/x-python",
   "name": "python",
   "nbconvert_exporter": "python",
   "pygments_lexer": "ipython3",
   "version": "3.7.6"
  }
 },
 "nbformat": 4,
 "nbformat_minor": 4
}
