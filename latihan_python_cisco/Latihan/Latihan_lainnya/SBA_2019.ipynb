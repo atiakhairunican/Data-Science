{
 "cells": [
  {
   "cell_type": "markdown",
   "metadata": {},
   "source": [
    "1. Buatlah sebuah class dengan nama titik2d. dengan detail sebagai berikut:\n",
    "\n",
    "    a. Terdiri dari dua atribut yaitu x dan y, yang dapat diinisiasikan pada saat pembuatan instance/obyek dari kelas tersebut (method constructor-nya poisional argumen x dan y.\n",
    "\n",
    "    b. Memiliki method dengan nama ambiltitik yang mengembalikan sebuah tuple dengan nilai (x,y).\n",
    "\n",
    "    c. Dan, memiliki method tambahkan dengan satu nilai masukan/argumen titik (type: class titik2d). Method ini mengupdate atribute (x,y) dengan menambahkan elemen x dan y dari kelas tersebut dengan element x dan y dari masukan/argumen titik. sedemikian hingga x = x_lama+x_baru, dan y = y_lama+y_baru.\n",
    "\n",
    "    note: anda bisa mengubah nama variable titik tersebut dengan nama yang lain jika berkenan"
   ]
  },
  {
   "cell_type": "code",
   "execution_count": 1,
   "metadata": {},
   "outputs": [
    {
     "name": "stdout",
     "output_type": "stream",
     "text": [
      "(8, 9)\n"
     ]
    }
   ],
   "source": [
    "class titik2d:\n",
    "    def __init__(self,x,y):\n",
    "        self.x = x\n",
    "        self.y = y\n",
    "    def ambiltitik(self):\n",
    "        return (self.x, self.y)\n",
    "    def tambahkan(self,titik):\n",
    "        self.x = self.x + titik.x\n",
    "        self.y = self.y + titik.y\n",
    "        \n",
    "obj = titik2d(3,4)\n",
    "obj2 = titik2d(5,5)\n",
    "obj.tambahkan(obj2)\n",
    "print(obj.ambiltitik())"
   ]
  },
  {
   "cell_type": "markdown",
   "metadata": {},
   "source": [
    "2. Buatlah fungsi dengan nama run dimana fungsi ini tidak memiliki masukan/argument apapun. Di dalam fungsi ini, anda diminta untuk membuat script yang meminta inputan dari user berupa dua buah nilai yang dipisahkan dengan space. Kemudian buatlah sebuah obyek/instance titik2d dari nilai masukan tersebut. Obyek tersebut merupakan kembalian (return value) dari fungsi run.\n",
    "\n",
    "    Note: Gunakan hanya satu kali perintah input()."
   ]
  },
  {
   "cell_type": "code",
   "execution_count": 4,
   "metadata": {},
   "outputs": [
    {
     "name": "stdout",
     "output_type": "stream",
     "text": [
      "5 4\n",
      "1 3\n",
      "(6.0, 7.0)\n"
     ]
    }
   ],
   "source": [
    "def run():\n",
    "    x, y = input().split()\n",
    "    x = float(x)\n",
    "    y = float(y)\n",
    "    return titik2d(x, y)\n",
    "\n",
    "obj = run()\n",
    "obj2 = run()\n",
    "obj.tambahkan(obj2)\n",
    "print(obj.ambiltitik())"
   ]
  },
  {
   "cell_type": "markdown",
   "metadata": {},
   "source": [
    "Kalkulator Sederhana"
   ]
  },
  {
   "cell_type": "code",
   "execution_count": 4,
   "metadata": {},
   "outputs": [
    {
     "name": "stdout",
     "output_type": "stream",
     "text": [
      "Masukkan nilai pertama : 2\n",
      "Masukkan operator : ^\n",
      "Masukkan nilai kedua : 10\n",
      "2 ^ 10 = 1024\n"
     ]
    }
   ],
   "source": [
    "nilai1 = int(input(\"Masukkan nilai pertama : \"))\n",
    "op = input(\"Masukkan operator : \")\n",
    "nilai2 = int(input(\"Masukkan nilai kedua : \"))\n",
    "\n",
    "def tambah(a,b):\n",
    "    return a+b\n",
    "\n",
    "def kurang(a,b):\n",
    "    return a-b\n",
    "\n",
    "def kali(a,b):\n",
    "    return a*b\n",
    "\n",
    "def bagi(a,b):\n",
    "    return a/b\n",
    "\n",
    "def modulo(a,b):\n",
    "    return a%b\n",
    "\n",
    "def pangkat(a,b):\n",
    "    return a**b\n",
    "\n",
    "if op == '+':\n",
    "    print(nilai1, op, nilai2, '=', tambah(nilai1,nilai2))\n",
    "elif op == '-':\n",
    "    print(nilai1, op, nilai2, '=', kurang(nilai1,nilai2))\n",
    "elif op == '*':\n",
    "    print(nilai1, op, nilai2, '=', kali(nilai1,nilai2))\n",
    "elif op == '/':\n",
    "    print(nilai1, op, nilai2, '=', bagi(nilai1,nilai2))\n",
    "elif op == '%':\n",
    "    print(nilai1, op, nilai2, '=', modulo(nilai1,nilai2))\n",
    "elif op == '^':\n",
    "    print(nilai1, op, nilai2, '=', pangkat(nilai1,nilai2))\n",
    "else:\n",
    "    print(\"Operator tidak ditemukan.\")"
   ]
  },
  {
   "cell_type": "markdown",
   "metadata": {},
   "source": [
    "Membuat Dictionary Mata Pelajaran"
   ]
  },
  {
   "cell_type": "code",
   "execution_count": 9,
   "metadata": {},
   "outputs": [
    {
     "name": "stdout",
     "output_type": "stream",
     "text": [
      "Menu: a. Memasukkan Mata Pelajaran Baru / b. Mengedit Mata Pelajaran.a\n",
      "Masukkan jumlah mata pelajaran yang akan dimasukkan: 2\n",
      "Masukkan kode mata pelajaran baru: 006\n",
      "Masukkan nama mata pelajaran baru: Ekonomi\n",
      "Masukkan kode mata pelajaran baru: 007\n",
      "Masukkan nama mata pelajaran baru: Geografi\n",
      "List baru: {'001': 'Bahasa Indonesia', '002': 'Bahasa Inggris', '003': 'Matematika', '004': 'Biologi', '005': 'Fisika', '006': 'Ekonomi', '007': 'Geografi'}\n"
     ]
    }
   ],
   "source": [
    "dictMapel = {\n",
    "    '001' : 'Bahasa Indonesia',\n",
    "    '002' : 'Bahasa Inggris',\n",
    "    '003' : 'Matematika',\n",
    "    '004' : 'Biologi',\n",
    "    '005' : 'Fisika'\n",
    "}\n",
    "\n",
    "# print(dictMapel)\n",
    "\n",
    "pilihMenu = input(\"Menu: a. Memasukkan Mata Pelajaran Baru / b. Mengedit Mata Pelajaran.\")\n",
    "\n",
    "if pilihMenu == 'a':\n",
    "    jmlhMapel = int(input(\"Masukkan jumlah mata pelajaran yang akan dimasukkan: \"))\n",
    "    for i in range(jmlhMapel):\n",
    "        kodeBaru = input(\"Masukkan kode mata pelajaran baru: \")\n",
    "        mapelBaru = input(\"Masukkan nama mata pelajaran baru: \")\n",
    "        dictMapel[kodeBaru] = mapelBaru\n",
    "        \n",
    "elif pilihMenu == 'b':\n",
    "    kodeGanti = input(\"Masukkan kode mata pelajaran yang akan diganti: \")\n",
    "    mapelGanti = input(\"Masukkan nama mata pelajaran baru: \")\n",
    "    dictMapel[kodeGanti] = mapelGanti\n",
    "    \n",
    "else:\n",
    "    print(\"Tidak ada didalam menu.\")\n",
    "    \n",
    "print(\"List baru:\", dictMapel)"
   ]
  },
  {
   "cell_type": "markdown",
   "metadata": {},
   "source": [
    "Kelas Kardus"
   ]
  },
  {
   "cell_type": "code",
   "execution_count": 13,
   "metadata": {},
   "outputs": [
    {
     "name": "stdout",
     "output_type": "stream",
     "text": [
      "Volume Kotak Biru = 320\n",
      "Luas Permukaan Kotak Biru = 304\n",
      "Massa Jenis Kotak Biru = 0.03125\n",
      "Volume Kotak Merah = 75\n",
      "Luas Permukaan Kotak Merah = 190\n",
      "Massa Jenis Kotak Merah = 0.16\n"
     ]
    }
   ],
   "source": [
    "class Kardus:\n",
    "    def __init__(self, p, l, t):\n",
    "        self.p = p\n",
    "        self.l = l\n",
    "        self.t = t\n",
    "        \n",
    "    def volume(self):\n",
    "        return self.p * self.l * self.t\n",
    "    \n",
    "    def luasPermukaan(self):\n",
    "        return 2*((self.p*self.l) + (self.p*self.t) + (self.l*self.t))\n",
    "    \n",
    "    def massaJenis(self, massa):\n",
    "        return massa/self.volume()\n",
    "\n",
    "kotakBiru = Kardus(10,8,4)\n",
    "print(\"Volume Kotak Biru =\", kotakBiru.volume())\n",
    "print(\"Luas Permukaan Kotak Biru =\", kotakBiru.luasPermukaan())\n",
    "print(\"Massa Jenis Kotak Biru =\", kotakBiru.massaJenis(10))\n",
    "\n",
    "kotakMerah = Kardus(15,5,1)\n",
    "print(\"Volume Kotak Merah =\", kotakMerah.volume())\n",
    "print(\"Luas Permukaan Kotak Merah =\", kotakMerah.luasPermukaan())\n",
    "print(\"Massa Jenis Kotak Merah =\", kotakMerah.massaJenis(12))"
   ]
  },
  {
   "cell_type": "code",
   "execution_count": null,
   "metadata": {},
   "outputs": [],
   "source": []
  }
 ],
 "metadata": {
  "kernelspec": {
   "display_name": "Python 3",
   "language": "python",
   "name": "python3"
  },
  "language_info": {
   "codemirror_mode": {
    "name": "ipython",
    "version": 3
   },
   "file_extension": ".py",
   "mimetype": "text/x-python",
   "name": "python",
   "nbconvert_exporter": "python",
   "pygments_lexer": "ipython3",
   "version": "3.7.6"
  }
 },
 "nbformat": 4,
 "nbformat_minor": 4
}
