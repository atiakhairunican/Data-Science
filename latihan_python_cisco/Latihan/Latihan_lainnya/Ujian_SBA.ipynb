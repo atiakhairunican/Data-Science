{
 "cells": [
  {
   "cell_type": "code",
   "execution_count": 4,
   "metadata": {},
   "outputs": [
    {
     "name": "stdout",
     "output_type": "stream",
     "text": [
      "7 4 5 3 2 1\n",
      "*\n",
      "**\n",
      "***\n",
      "****\n",
      "*****\n",
      "*******\n"
     ]
    }
   ],
   "source": [
    "def fungsiIO():\n",
    "    data = list(map(int, input().split()))\n",
    "    for i in sorted(data):\n",
    "        print('*' * i)\n",
    "        \n",
    "fungsiIO()"
   ]
  },
  {
   "cell_type": "code",
   "execution_count": 8,
   "metadata": {},
   "outputs": [
    {
     "name": "stdout",
     "output_type": "stream",
     "text": [
      "THxgTHlmN\n"
     ]
    }
   ],
   "source": [
    "def caseShopia(txt):\n",
    "    newTxt = ''\n",
    "    for char in txt:\n",
    "        if char.isalpha():\n",
    "            if char.islower():\n",
    "                char = char.upper() \n",
    "            else:\n",
    "                char = char.lower()\n",
    "                \n",
    "            newTxt += char\n",
    "        else:\n",
    "            continue\n",
    "            \n",
    "    return newTxt\n",
    "            \n",
    "print(caseShopia('thXGth876%^$LMn.'))"
   ]
  },
  {
   "cell_type": "code",
   "execution_count": 70,
   "metadata": {},
   "outputs": [
    {
     "name": "stdout",
     "output_type": "stream",
     "text": [
      "88.9060092449923\n",
      "<class 'float'>\n"
     ]
    }
   ],
   "source": [
    "dcur2idr = {'USD': 14425, 'EUR': 16225, 'AUD': 9925, 'CAD': 10500, \n",
    "             'GBP': 17800, 'CHF': 15200, 'SGD': 10375, 'HKD': 1775, \n",
    "             'JPY': 132500, 'MYR': 3250, 'SAR': 3500, 'WON': 10750, \n",
    "             'IDR': 1}\n",
    "\n",
    "def usd2eur(usd):\n",
    "    if usd > 0:\n",
    "        return usd * (dcur2idr['USD'] / dcur2idr['EUR'])\n",
    "\n",
    "print(usd2eur(100)) # konversi $100 USD ke nilai EUR\n",
    "print(type(usd2eur(100)))"
   ]
  },
  {
   "cell_type": "code",
   "execution_count": 71,
   "metadata": {},
   "outputs": [
    {
     "name": "stdout",
     "output_type": "stream",
     "text": [
      "base EUR\n",
      "90.68412942989215\n",
      "87.12788906009246\n",
      "base IDR\n",
      "1471350.0\n",
      "1413650.0\n"
     ]
    }
   ],
   "source": [
    "class MoneyChanger:\n",
    "    def __init__(self,dcurrency,base='IDR',percent=2):\n",
    "        self.dcurrency = {}\n",
    "        self.base = base\n",
    "        self.percent = percent\n",
    "        self\n",
    " \n",
    "    def selling_price(self,nominal,curr):\n",
    "        self.nominal = nominal\n",
    "        self.curr = curr\n",
    "        self.konversi = self.nominal * (dcur2idr[self.curr] / dcur2idr[self.base])\n",
    "        return ((100+self.percent) / 100) * self.konversi\n",
    " \n",
    "    def buying_price(self,nominal,curr):\n",
    "        return ((100-self.percent) / 100) * self.konversi\n",
    " \n",
    "    def change_base(self,new_base):\n",
    "        for key, value in dcur2idr.items():\n",
    "            if new_base == key:\n",
    "                self.base = new_base\n",
    "                \n",
    "        return MoneyChanger(self,dcur2idr,new_base)\n",
    "    \n",
    "    \n",
    "mc = MoneyChanger(dcur2idr,base='EUR') # object mc dengan base EUR\n",
    "print('base', mc.base)\n",
    "print(mc.selling_price(100,'USD')) # nilai jual 100 USD ke EUR (Base)\n",
    "print(mc.buying_price(100,'USD')) # nilai beli 100 USD ke EUR (Base)\n",
    "\n",
    "mc.change_base('IDR') # Ganti Base object mc ke IDR\n",
    "print('base', mc.base)\n",
    "print(mc.selling_price(100,'USD')) # nilai jual 100 USD ke IDR (Base)\n",
    "print(mc.buying_price(100,'USD'))  # nilai beli 100 USD ke IDR (Base)"
   ]
  },
  {
   "cell_type": "code",
   "execution_count": 65,
   "metadata": {},
   "outputs": [
    {
     "name": "stdout",
     "output_type": "stream",
     "text": [
      "USD 1.0\n",
      "EUR 1.124783362218371\n",
      "AUD 0.6880415944540728\n",
      "CAD 0.7279029462738301\n",
      "GBP 1.2339688041594454\n",
      "CHF 1.0537261698440208\n",
      "SGD 0.7192374350086655\n",
      "HKD 0.12305025996533796\n",
      "JPY 9.185441941074524\n",
      "MYR 0.22530329289428075\n",
      "SAR 0.24263431542461006\n",
      "WON 0.7452339688041595\n",
      "IDR 6.932409012131716e-05\n"
     ]
    }
   ],
   "source": [
    "dcur2idr = {'USD': 14425, 'EUR': 16225, 'AUD': 9925, 'CAD': 10500, \n",
    "             'GBP': 17800, 'CHF': 15200, 'SGD': 10375, 'HKD': 1775, \n",
    "             'JPY': 132500, 'MYR': 3250, 'SAR': 3500, 'WON': 10750, \n",
    "             'IDR': 1}\n",
    "\n",
    "base = 'USD'\n",
    "if base in dcur2idr.keys():\n",
    "    for key, value in dcur2idr.items():\n",
    "        value = value / dcur2idr[base]\n",
    "        print(key, value)"
   ]
  },
  {
   "cell_type": "code",
   "execution_count": null,
   "metadata": {},
   "outputs": [],
   "source": []
  }
 ],
 "metadata": {
  "kernelspec": {
   "display_name": "Python 3",
   "language": "python",
   "name": "python3"
  },
  "language_info": {
   "codemirror_mode": {
    "name": "ipython",
    "version": 3
   },
   "file_extension": ".py",
   "mimetype": "text/x-python",
   "name": "python",
   "nbconvert_exporter": "python",
   "pygments_lexer": "ipython3",
   "version": "3.7.6"
  }
 },
 "nbformat": 4,
 "nbformat_minor": 4
}
