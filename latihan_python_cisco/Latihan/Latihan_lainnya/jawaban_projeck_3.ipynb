{
 "cells": [
  {
   "cell_type": "code",
   "execution_count": 26,
   "metadata": {},
   "outputs": [],
   "source": [
    "# Graded\n",
    "\n",
    "def caesar_encript(txt,shift):\n",
    "#     txt = input(\"Enter the text to encript: \")\n",
    "    chiper = \"\"\n",
    "    \n",
    "    for char in txt:\n",
    "        if char.isalpha():\n",
    "            if char.islower():\n",
    "                code = ord(char) + (shift%26)\n",
    "                if code > ord(\"z\"):\n",
    "                    code -= 26\n",
    "                if code < ord(\"a\"):\n",
    "                    code += 26\n",
    "                chiper += chr(code)\n",
    "            else:\n",
    "                code = ord(char) + (shift%26)\n",
    "                if code > ord(\"Z\"):\n",
    "                    code -= 26\n",
    "                if code < ord(\"A\"):\n",
    "                    code += 26\n",
    "                chiper += chr(code)\n",
    "        else:\n",
    "            chiper += char\n",
    "            \n",
    "    return chiper\n",
    "            \n",
    "# caesar_encript(txt,-1)\n",
    "    \n",
    "    \n",
    "# Fungsi Decript caesar\n",
    "\n",
    "def caesar_decript(chiper,shift):\n",
    "    return caesar_encript(chiper,-shift)"
   ]
  },
  {
   "cell_type": "code",
   "execution_count": 27,
   "metadata": {},
   "outputs": [
    {
     "name": "stdout",
     "output_type": "stream",
     "text": [
      "plain text: Haloz DTS mania, MANTAPSZZZ!\n",
      "chiper text: Lepsd HXW qerme, QERXETWDDD!\n"
     ]
    }
   ],
   "source": [
    "# Sanity check!!!\n",
    "\n",
    "msg = 'Haloz DTS mania, MANTAPSZZZ!'\n",
    "cpr = caesar_encript(msg,4)\n",
    "txt = caesar_decript(cpr,4)\n",
    "\n",
    "print('plain text:',txt)\n",
    "print('chiper text:',cpr)"
   ]
  },
  {
   "cell_type": "code",
   "execution_count": 29,
   "metadata": {},
   "outputs": [
    {
     "name": "stdout",
     "output_type": "stream",
     "text": [
      "plain text: #MakinJagoDigital\n",
      "chiper text: #PdnlqMdjrGljlwdo\n"
     ]
    }
   ],
   "source": [
    "# Sanity check!!!\n",
    "\n",
    "ms = '#MakinJagoDigital'\n",
    "cp = caesar_encript(ms,55)\n",
    "tx = caesar_decript(cp,55)\n",
    "\n",
    "print('plain text:',tx)\n",
    "print('chiper text:',cp)"
   ]
  },
  {
   "cell_type": "code",
   "execution_count": 30,
   "metadata": {},
   "outputs": [],
   "source": [
    "# Graded\n",
    " \n",
    "# Fungsi mengacak urutan\n",
    "def shuffle_order(txt,order):\n",
    "    return ''.join([txt[i] for i in order])\n",
    " \n",
    "# Fungsi untuk mengurutkan kembali sesuai order\n",
    "def deshuffle_order(sftxt,order):\n",
    "    txt = ''\n",
    "    for i in sorted(order):\n",
    "        txt += sftxt[order.index(i)]\n",
    "    return txt"
   ]
  },
  {
   "cell_type": "code",
   "execution_count": 31,
   "metadata": {},
   "outputs": [
    {
     "name": "stdout",
     "output_type": "stream",
     "text": [
      "cbda\n",
      "abcd\n"
     ]
    }
   ],
   "source": [
    "# Sanity check!!!\n",
    " \n",
    "print(shuffle_order('abcd',[2,1,3,0]))\n",
    "print(deshuffle_order('cbda',[2,1,3,0]))"
   ]
  },
  {
   "cell_type": "code",
   "execution_count": 32,
   "metadata": {},
   "outputs": [],
   "source": [
    "# Graded\n",
    " \n",
    "# import math\n",
    " \n",
    "# convert txt ke dalam bentuk list teks yang lebih pendek\n",
    "# dan terenkrispi dengan urutan acak setiap batchnya\n",
    "def send_batch(txt,batch_order,shift=3):\n",
    "    txt = caesar_encript(txt,shift)\n",
    "    sftxt = []\n",
    "    \n",
    "    if len(txt) % len(batch_order) == 0:\n",
    "        for j in range(len(txt) // len(batch_order)):\n",
    "            batch_txt = ''\n",
    "            for i in range(len(txt)):\n",
    "                if i // len(batch_order) == j:\n",
    "                    batch_txt += txt[i]\n",
    "\n",
    "            sf = shuffle_order(batch_txt,batch_order)\n",
    "            sftxt.append(sf)\n",
    "        \n",
    "    else:\n",
    "        txt += \"_\" * ((((len(txt) // len(batch_order))+1) * len(batch_order)) - len(txt))\n",
    "        for j in range(len(txt) // len(batch_order)):\n",
    "            batch_txt = ''\n",
    "            for i in range(len(txt)):\n",
    "                if i // len(batch_order) == j:\n",
    "                    batch_txt += txt[i]\n",
    "\n",
    "            sf = shuffle_order(batch_txt,batch_order)\n",
    "            sftxt.append(sf)\n",
    "            \n",
    "    return sftxt\n",
    "\n",
    "    \n",
    "# batch_cpr: list keluaran send_batch\n",
    "# fungsi ini akan mengembalikan lagi ke txt semula\n",
    "def receive_batch(batch_cpr,batch_order,shift=3):\n",
    "    batch_txt = [caesar_decript(deshuffle_order(i,batch_order),shift) for i in batch_cpr]\n",
    "    return ''.join(batch_txt).strip('_')"
   ]
  },
  {
   "cell_type": "code",
   "execution_count": 33,
   "metadata": {},
   "outputs": [
    {
     "name": "stdout",
     "output_type": "stream",
     "text": [
      "halo DTS mania, mantaaap!!!\n",
      "['pesl', 'XHW ', 'eqr ', ',e m', 'rexq', 'eete', '!!_!']\n"
     ]
    }
   ],
   "source": [
    "# Sanity check!!!\n",
    " \n",
    "msg_cpr = send_batch('halo DTS mania, mantaaap!!!',[2,1,3,0],4)\n",
    "msg_txt = receive_batch(msg_cpr,[2,1,3,0],4)\n",
    "print(msg_txt,msg_cpr,sep='\\n')"
   ]
  },
  {
   "cell_type": "code",
   "execution_count": 34,
   "metadata": {},
   "outputs": [
    {
     "name": "stdout",
     "output_type": "stream",
     "text": [
      "Hai, my name is Atia, today we are learn about Cryptography.\n",
      "[' ,ldK', 'dq bp', 'vl hp', 'dlwD ', 'grw ,', 'hz bd', ' hud ', 'qudho', 'xred ', 'buF w', 'ujrws', '.bksd']\n"
     ]
    }
   ],
   "source": [
    "# Sanity check!!!\n",
    " \n",
    "msg_cpr = send_batch('Hai, my name is Atia, today we are learn about Cryptography.',[4,3,2,1,0])\n",
    "msg_txt = receive_batch(msg_cpr,[4,3,2,1,0])\n",
    "print(msg_txt,msg_cpr,sep='\\n')"
   ]
  },
  {
   "cell_type": "code",
   "execution_count": 36,
   "metadata": {},
   "outputs": [
    {
     "name": "stdout",
     "output_type": "stream",
     "text": [
      "#MakinJagoDigital\n",
      "['n#qPld', 'rMldGj', 'dj_low']\n"
     ]
    }
   ],
   "source": [
    "# Sanity check!!!\n",
    " \n",
    "msg_cpr = send_batch('#MakinJagoDigital', [3, 0, 5, 1, 4, 2], 55)\n",
    "msg_txt = receive_batch(msg_cpr,[3, 0, 5, 1, 4, 2], 55)\n",
    "print(msg_txt,msg_cpr,sep='\\n')"
   ]
  },
  {
   "cell_type": "code",
   "execution_count": null,
   "metadata": {},
   "outputs": [],
   "source": []
  }
 ],
 "metadata": {
  "kernelspec": {
   "display_name": "Python 3",
   "language": "python",
   "name": "python3"
  },
  "language_info": {
   "codemirror_mode": {
    "name": "ipython",
    "version": 3
   },
   "file_extension": ".py",
   "mimetype": "text/x-python",
   "name": "python",
   "nbconvert_exporter": "python",
   "pygments_lexer": "ipython3",
   "version": "3.7.6"
  }
 },
 "nbformat": 4,
 "nbformat_minor": 4
}
