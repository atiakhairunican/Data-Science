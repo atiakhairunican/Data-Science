{
 "cells": [
  {
   "cell_type": "markdown",
   "metadata": {},
   "source": [
    "## Soal 1\n",
    "\n",
    "Buatlah sebuah program untuk melakukan <b>konversi mata uang</b>. Input adalah angka dalam rupiah, dan keluaran adalah angka dalam dolar, jika diketahui 1 dolar adalah 14.591 rupiah."
   ]
  },
  {
   "cell_type": "code",
   "execution_count": 13,
   "metadata": {},
   "outputs": [
    {
     "name": "stdout",
     "output_type": "stream",
     "text": [
      "How many rupiah do you want to convert: 4320000\n",
      "Your converted money is 296 dolars 300 sen.\n"
     ]
    }
   ],
   "source": [
    "# 1 sen = 0,000243 dolar\n",
    "# 1 dolar = 4119,46 sen\n",
    "while True:\n",
    "    try:\n",
    "        convert = int(input(\"How many rupiah do you want to convert: \"))\n",
    "        convertedDolar = convert // 14591\n",
    "        convertedSen = (convert % 14591) / 14591 * 4119.46\n",
    "        print(\"Your converted money is\", convertedDolar, \"dolars\", int(convertedSen), \"sen.\" )\n",
    "        break\n",
    "    except:\n",
    "        print(\"Your input was wrong!\")"
   ]
  },
  {
   "cell_type": "markdown",
   "metadata": {},
   "source": [
    "## Soal 2\n",
    "\n",
    "Buatlah sebuah program untuk menentukan <b>berat badan ideal</b> melalui fourmula BMI = berat(kg) / tinggi(m) * tinggi(m). Jika BMI yang dihasilkan antara 18.5 sampai 22.9 maka berat badan dinyatakan ideal. Jika lebih dari 22.9 maka overweight dan jika kurang dari 18.5 maka underweight. Input program berupa berat_badan dan tinggi_badan, dan output berupa normal atau underweight atau overweight."
   ]
  },
  {
   "cell_type": "code",
   "execution_count": 18,
   "metadata": {},
   "outputs": [
    {
     "name": "stdout",
     "output_type": "stream",
     "text": [
      "Enter your weight(in kilograms): 45\n",
      "Enter your height(in meters): 1.55\n",
      "18.73 is normal\n"
     ]
    }
   ],
   "source": [
    "while True:\n",
    "    try:\n",
    "        weight = float(input(\"Enter your weight(in kilograms): \"))\n",
    "        height = float(input(\"Enter your height(in meters): \"))\n",
    "\n",
    "        BMI = round(weight / (height * height), 2)\n",
    "\n",
    "        if BMI < 18.5:\n",
    "            print(BMI, \"is underweight\")\n",
    "        elif BMI > 22.9:\n",
    "            print(BMI, \"is overweight\")\n",
    "        else:\n",
    "            print(BMI, \"is normal\")\n",
    "        break\n",
    "    except:\n",
    "        print(\"Something wrong!\")"
   ]
  },
  {
   "cell_type": "markdown",
   "metadata": {},
   "source": [
    "## Soal 3\n",
    "Buatlah sebuah <b>list</b> kosong bernama sheila. Kemudian buatlah kode untuk:\n",
    "- Memasukkan Eros dan Duta kedalam list dengan sintaks append\n",
    "- Meminta user untuk memasukkan Adam, Anton dan Sakti(dengan sintaks input) kedalam list dengan sintaks perulangan for\n",
    "- Menghapus Sakti dan Anton dari list\n",
    "- Menambahkan Brian dengan sintaks insert pada posisi terakhir di list\n",
    "- Menampilkan seluruh elemen list dengan perulangan while"
   ]
  },
  {
   "cell_type": "code",
   "execution_count": 2,
   "metadata": {},
   "outputs": [
    {
     "name": "stdout",
     "output_type": "stream",
     "text": [
      "Add Adam, Anton and Sakti: Adam\n",
      "Add Adam, Anton and Sakti: Anton\n",
      "Add Adam, Anton and Sakti: Sakti\n",
      "Eros\n",
      "Duta\n",
      "Adam\n",
      "Brian\n"
     ]
    }
   ],
   "source": [
    "sheila = []\n",
    "sheila.append(\"Eros\")\n",
    "sheila.append(\"Duta\")\n",
    "\n",
    "for i in range(3):\n",
    "    add = input(\"Add Adam, Anton and Sakti: \")\n",
    "    sheila.append(add)\n",
    "    \n",
    "del sheila[4]\n",
    "del sheila[3]    \n",
    "\n",
    "sheila.insert(len(sheila), \"Brian\")\n",
    "\n",
    "item = 0\n",
    "while item < len(sheila):\n",
    "    print(sheila[item])\n",
    "    item += 1"
   ]
  },
  {
   "cell_type": "markdown",
   "metadata": {},
   "source": [
    "## Soal 4\n",
    "Buatlah sebuah fungsi bernama hapusVokal(kalimat). Fungsi tersebut menerima sebuah variabel bernama kalimat yang bertipe string, dan akan mengembalikan kalimat yang sudah hilang huruf vokal nya (A,I,U,E,O)."
   ]
  },
  {
   "cell_type": "code",
   "execution_count": 10,
   "metadata": {},
   "outputs": [
    {
     "name": "stdout",
     "output_type": "stream",
     "text": [
      "t Khrn Cn\n"
     ]
    }
   ],
   "source": [
    "def hapusVokal(kalimat):\n",
    "    vokal = [\"A\",\"I\",\"U\",\"E\",\"O\",\"a\",\"i\",\"u\",\"e\",\"o\"]\n",
    "    noVokal = ''\n",
    "    for i in kalimat:\n",
    "        if i not in vokal:\n",
    "            noVokal += i\n",
    "    return noVokal\n",
    "        \n",
    "print(hapusVokal(\"Atia Khairuni Can\"))"
   ]
  },
  {
   "cell_type": "markdown",
   "metadata": {},
   "source": [
    "## Soal 5\n",
    "Rancanglah sebuah <b>dictionary</b> untuk menampung biodata seorang peserta coding teacher academy, kemudian lakukan hal berikut:\n",
    "- Buatlah kode untuk menampilkan key dari dictionary tersebut\n",
    "- Buatlah kode untuk menambahkan key berupa nilai_kuis\n",
    "- Isi nilai_kuis tersebut dengan 5 buah nilai yang tersimpan dalam list\n",
    "- Buatlah kode untuk menghitung rata-rata nilai_kuis"
   ]
  },
  {
   "cell_type": "code",
   "execution_count": 47,
   "metadata": {},
   "outputs": [
    {
     "name": "stdout",
     "output_type": "stream",
     "text": [
      "NIK Name Age Sex Country \n",
      "\n",
      "NIK     : 1371114201970008\n",
      "Name    : Atia Khairuni Can\n",
      "Age     : 23\n",
      "Sex     : Female\n",
      "Country : Padang\n",
      "Exam    : [90, 97, 95, 80, 97]\n",
      "Mean    : 91.8\n"
     ]
    }
   ],
   "source": [
    "bio = {\n",
    "    'NIK    ': '1371114201970008',\n",
    "    'Name   ': 'Atia Khairuni Can',\n",
    "    'Age    ': 23,\n",
    "    'Sex    ': 'Female',\n",
    "    'Country': 'Padang'\n",
    "}\n",
    "\n",
    "for key in bio.keys():\n",
    "    print(key.strip(), end=\" \")\n",
    "\n",
    "print()\n",
    "\n",
    "listNilai = [90, 97, 95, 80, 97]\n",
    "bio[\"Exam   \"] = listNilai\n",
    "\n",
    "print()\n",
    "\n",
    "for key, value in bio.items():\n",
    "    print(key, \":\", value)\n",
    "    \n",
    "print(\"Mean    : {}\".format(sum(listNilai)/len(listNilai)))"
   ]
  },
  {
   "cell_type": "markdown",
   "metadata": {},
   "source": [
    "## Soal 6\n",
    "Buatlah sebuah <b>kelas</b> bernama rekening yang mempunyai atribut berupa saldo dan limit. Saldo bersifat private dan limit bersifat public, kemudian buatlah method berikut:\n",
    "- debit: yang akan mengurangi jumlah saldo. Syarat dari debit adalah tidak boleh mengurangi lebih dari jumlah saldonya, serta tidak boleh mengambil lebih dari limit.\n",
    "- kredit: yang akan menambah jumlah saldo. Syarat dari kredit adalah tidak boleh mengisi lebih dari 4 kali limitnya.\n",
    "- getSaldo: yang akan mengembalikan jumlah saldo saat ini.\n",
    "\n",
    "Buatlah sebuah instance yang akan membuat saldo pertama kali adalah 500 dan limit 1000. Kemudian tunjukkan dalam kode peran method kredit, debit dalam merubah saldo. Tampilkan saldo akhir di fungsi getSaldo."
   ]
  },
  {
   "cell_type": "code",
   "execution_count": 66,
   "metadata": {},
   "outputs": [
    {
     "name": "stdout",
     "output_type": "stream",
     "text": [
      "Saldo saat ini adalah 1000\n",
      "Gagal debit, jumlah melebihi saldo.\n",
      "Saldo saat ini adalah 1000\n",
      "Saldo saat ini adalah 5000\n",
      "\n",
      "Saldo saat ini adalah 500\n",
      "Saldo saat ini adalah 300\n",
      "Gagal kredit, jumlah melebihi batas ketentuan.\n",
      "Saldo saat ini adalah 300\n"
     ]
    }
   ],
   "source": [
    "class rekening:\n",
    "    def __init__(self, saldo=500, limit=1000):\n",
    "        self.__saldo = saldo\n",
    "        self.limit = limit\n",
    "    def debit(self, minus):\n",
    "        if minus > self.__saldo:\n",
    "            print(\"Gagal debit, jumlah melebihi saldo.\")\n",
    "        else:\n",
    "            self.__saldo -= minus\n",
    "    def kredit(self, plus):\n",
    "        if plus > self.limit * 4:\n",
    "            print(\"Gagal kredit, jumlah melebihi batas ketentuan.\")\n",
    "        else:\n",
    "            self.__saldo += plus\n",
    "    def getSaldo(self):\n",
    "        return \"Saldo saat ini adalah \" + str(self.__saldo)\n",
    "    \n",
    "a = rekening(1000,5000)\n",
    "print(a.getSaldo())\n",
    "a.debit(1600)\n",
    "print(a.getSaldo())\n",
    "a.kredit(4000)\n",
    "print(a.getSaldo())\n",
    "\n",
    "print()\n",
    "\n",
    "b = rekening()\n",
    "print(b.getSaldo())\n",
    "b.debit(200)\n",
    "print(b.getSaldo())\n",
    "b.kredit(5000)\n",
    "print(b.getSaldo())"
   ]
  },
  {
   "cell_type": "markdown",
   "metadata": {},
   "source": [
    "## Soal 7\n",
    "Buatlah fungsi `letter_catalog` dengan sebuah positional argument berupa list dan keyword argument `letter` untuk nilai default 'A'. Fungsi `letter_catalog` akan mengembalikan sebuah list yang berisi nama-nama buah yang dimulai dengan huruf yang ada keyword argument `letter`. Jika tidak ada item di list inputan tersebut yang diawali dengan huruf yang didefinisikan di keyword `letter` maka fungsi mengembalikan list kosong."
   ]
  },
  {
   "cell_type": "code",
   "execution_count": 56,
   "metadata": {},
   "outputs": [
    {
     "name": "stdout",
     "output_type": "stream",
     "text": [
      "['Apple', 'Avocado']\n",
      "['Banana', 'Blackberries', 'Blueberries']\n",
      "['Cherries']\n",
      "[]\n"
     ]
    }
   ],
   "source": [
    "def letter_catalog(item, letter=\"A\"):\n",
    "    newList = []\n",
    "    for i in item:\n",
    "        if i[0] == letter:\n",
    "            newList.append(i)\n",
    "    return newList\n",
    "\n",
    "print(letter_catalog(['Apple','Avocado','Banana','Blackberries','Blueberries','Cherries'],letter='A'))\n",
    "print(letter_catalog(['Apple','Avocado','Banana','Blackberries','Blueberries','Cherries'],letter='B'))\n",
    "print(letter_catalog(['Apple','Avocado','Banana','Blackberries','Blueberries','Cherries'],letter='C'))\n",
    "print(letter_catalog(['Apple', 'Grape', 'Banana', 'cherry', 'alvocado'], 'b'))"
   ]
  },
  {
   "cell_type": "markdown",
   "metadata": {},
   "source": [
    "## Soal 8\n",
    "Buatlah list `counter_item` yang memiliki sebuah input argument berupa list. Fungsi ini mengembalikan sebuah dictionary yang menghitung jumlah buah dalam list input, dengan `key` berupa nama buah tersebut dan `value` berupa jumlah nama buah tersebut muncul di list input. "
   ]
  },
  {
   "cell_type": "code",
   "execution_count": 62,
   "metadata": {},
   "outputs": [
    {
     "name": "stdout",
     "output_type": "stream",
     "text": [
      "{'Apple': 3, 'Blueberries': 3}\n",
      "{'Avocado': 2, 'Banana': 3, 'Blackberries': 2, 'Blueberries': 2, 'Cherries': 1}\n",
      "{'Avocado': 2, 'Blackberries': 2, 'Blueberries': 2, 'Cherries': 4}\n",
      "{'Apple': 1, 'Avocado': 1, 'Banana': 2, 'Blackberries': 1, 'Blueberries': 2, 'Cherries': 3}\n"
     ]
    }
   ],
   "source": [
    "def counter_item(items):\n",
    "    newDict = {\"\":\"\"}\n",
    "    for key, value in newDict.items():\n",
    "        for i in sorted(items):\n",
    "            newDict[i] = items.count(i)\n",
    "        \n",
    "        del newDict[\"\"]\n",
    "        return newDict\n",
    "\n",
    "print(counter_item(['Apple','Apple','Apple','Blueberries','Blueberries','Blueberries']))\n",
    "print(counter_item(['Cherries', 'Blueberries', 'Banana', 'Avocado', 'Blackberries', 'Banana', 'Blueberries', 'Avocado', 'Banana', 'Blackberries']))\n",
    "print(counter_item(['Cherries', 'Blackberries', 'Avocado', 'Blueberries', 'Blackberries', 'Avocado', 'Cherries', 'Cherries', 'Blueberries', 'Cherries']))\n",
    "print(counter_item(['Avocado', 'Blueberries', 'Cherries', 'Blueberries', 'Banana', 'Apple', 'Banana', 'Blackberries', 'Cherries', 'Cherries']))"
   ]
  },
  {
   "cell_type": "markdown",
   "metadata": {},
   "source": [
    "## Soal 9\n",
    "Di bawah ini sudah ada tiga variables `fruits`, `prices`, dan `chart`. \n",
    "- Buatlah sebuah dictionary yang berupa daftar harga buah dengan `key` berupa nama buah di variable `fruits` dan dengan `value` berupa harga dari buah tersebut di variable `price` (sudah diurutkan sesuai dengan nama-nama buah di varibale `fruits`, kemudian Dictionary tersebut disimpan di dalam variable `fruit_price`.\n",
    "- Selanjutnya, Buatlah fungsi `total_price` dengan dua input yaitu: 1) dictionary yang merupakan keluaran dari fungsi `counter_item` dan 2) dictionary harga buah  `fruit_price`. Fungsi ini mengeluarkan sebuah total harga dari daftar buah di dictionary keluaran dari `counter_item`.\n",
    "\n",
    "**Hint**: Gunakan fungsi `counter_item` di soal nomor 2."
   ]
  },
  {
   "cell_type": "code",
   "execution_count": 107,
   "metadata": {},
   "outputs": [
    {
     "name": "stdout",
     "output_type": "stream",
     "text": [
      "103\n",
      "70\n",
      "82\n",
      "72\n"
     ]
    }
   ],
   "source": [
    "# dua variable berikut jangan diubah\n",
    "fruits = ['Apple','Avocado','Banana','Blackberries','Blueberries','Cherries','Date Fruit','Grapes','Guava','Jackfruit','Kiwifruit']\n",
    "prices = [6,5,3,10,12,7,14,15,8,7,9]\n",
    "\n",
    "# list buah\n",
    "chart = ['Blueberries','Blueberries','Grapes','Apple','Apple','Apple','Blueberries','Guava','Jackfruit','Blueberries','Jackfruit']\n",
    "\n",
    "fruit_price = {}\n",
    "for i in range(len(fruits)):\n",
    "    fruit_price[fruits[i]] = prices[i]\n",
    "               \n",
    "def total_price(fcounter, fprice):\n",
    "    count = 0\n",
    "    for key, value in fcounter.items():\n",
    "        for key1, value1 in fprice.items():\n",
    "            if key == key1:\n",
    "                count += fcounter[key] * fprice[key1]\n",
    "    return count\n",
    "\n",
    "print(total_price(counter_item(chart),fruit_price))\n",
    "print(total_price({'Cherries': 1, 'Blueberries': 2, 'Banana': 3, 'Avocado': 2, 'Blackberries': 2}, {'Apple': 6, 'Avocado': 5, 'Banana': 3, 'Blackberries': 10, 'Blueberries': 12, 'Cherries': 7, 'Date Fruit': 14, 'Grapes': 15, 'Guava': 8, 'Jackfruit': 7, 'Kiwifruit': 9}))\n",
    "print(total_price({'Cherries': 4, 'Blackberries': 2, 'Avocado': 2, 'Blueberries': 2}, {'Apple': 6, 'Avocado': 5, 'Banana': 3, 'Blackberries': 10, 'Blueberries': 12, 'Cherries': 7, 'Date Fruit': 14, 'Grapes': 15, 'Guava': 8, 'Jackfruit': 7, 'Kiwifruit': 9}))\n",
    "print(total_price({'Avocado': 1, 'Blueberries': 2, 'Cherries': 3, 'Banana': 2, 'Apple': 1, 'Blackberries': 1}, {'Apple': 6, 'Avocado': 5, 'Banana': 3, 'Blackberries': 10, 'Blueberries': 12, 'Cherries': 7, 'Date Fruit': 14, 'Grapes': 15, 'Guava': 8, 'Jackfruit': 7, 'Kiwifruit': 9}))"
   ]
  },
  {
   "cell_type": "markdown",
   "metadata": {},
   "source": [
    "## Soal 10\n",
    "Buatlah fungsi `discounted_price` dengan dua positional arguments input dari keluaran fungsi totalprice dan discount dalam persen(80 berarti 80%, dst), dan satu keyword argument `minprice` yang menunjukkan hanya dengan minimum price tersebut yang hanya di-discount, set default value `minprice` ke 100. Fungsi tersebut menghitung nilai harga akhir setelah di-discount sebesar discount variable (argument kedua). Untuk harga total yang kurang dari `minprice` maka keluarannya sama dengan harga total tersebut tanpa discount."
   ]
  },
  {
   "cell_type": "code",
   "execution_count": 111,
   "metadata": {},
   "outputs": [
    {
     "name": "stdout",
     "output_type": "stream",
     "text": [
      "92.7\n",
      "90.0\n",
      "99.0\n",
      "100\n",
      "176.0\n",
      "154.1\n"
     ]
    }
   ],
   "source": [
    "def discounted_price(total, discount, minprice=100):\n",
    "    if total >= minprice:\n",
    "        totalAfterDiscount = ((100-discount) / 100) * total\n",
    "    else:\n",
    "        totalAfterDiscount = total\n",
    "    return round(totalAfterDiscount,2)\n",
    "\n",
    "print(discounted_price(total_price(counter_item(chart),fruit_price),10,minprice=100))\n",
    "print(discounted_price(100, 10, 100))\n",
    "print(discounted_price(110, 10, 80))\n",
    "print(discounted_price(100, 15, 120))\n",
    "print(discounted_price(200, 12, 100))\n",
    "print(discounted_price(230, 33, 100))"
   ]
  },
  {
   "cell_type": "markdown",
   "metadata": {},
   "source": [
    "## Soal 11\n",
    "Buatlah fungsi `print_summary` dengan 2 posisional argument input, list nama2 buah (cth: seperti variable `chart`) dan dictionary harga buah (cth: seperti variable `fruit_price`, yang mengeluarkan tulisan ringakasan dari pembelian buah seperti berikut ini.\n",
    "\n",
    "cth keluaran:\n",
    "```\n",
    "3 Apple : 18\n",
    "4 Blueberries : 48\n",
    "1 Grapes : 15\n",
    "1 Guava : 8\n",
    "2 Jackfruit : 14\n",
    "total : 103\n",
    "discount price : 92.7\n",
    "```\n",
    "dengan format `jumlahbuah`\\<spasi\\>`namabuah`\\<spasi\\>`totalhargabuah\\n` dengan nama nama buah berurutan sesuai abjad `ascending`, kemudian diikuti total harga semuanya dan discount price dengan besaran 10% dengan minimum harga pembelian 100.\n",
    "\n",
    "**Note**: dipisahkan hanya satu spasi. Output harus sama dengan contoh diatas untuk pemanggilan fungsi berikut ini.\n",
    "```\n",
    "print_summary(chart,fruit_price)\n",
    "```"
   ]
  },
  {
   "cell_type": "code",
   "execution_count": 119,
   "metadata": {},
   "outputs": [
    {
     "name": "stdout",
     "output_type": "stream",
     "text": [
      "3 Apple : 18\n",
      "4 Blueberries : 48\n",
      "1 Grapes : 15\n",
      "1 Guava : 8\n",
      "2 Jackfruit : 14\n",
      "total : 103\n",
      "discount price : 92.7\n",
      "\n",
      "1 Apple : 6\n",
      "1 Avocado : 5\n",
      "2 Banana : 6\n",
      "1 Blackberries : 10\n",
      "4 Blueberries : 48\n",
      "1 Cherries : 7\n",
      "total : 82\n",
      "discount price : 82\n",
      "\n",
      "1 Apple : 6\n",
      "4 Avocado : 20\n",
      "1 Banana : 3\n",
      "1 Blackberries : 10\n",
      "3 Cherries : 21\n",
      "total : 60\n",
      "discount price : 60\n",
      "\n",
      "2 Apple : 12\n",
      "1 Avocado : 5\n",
      "1 Banana : 3\n",
      "3 Blackberries : 30\n",
      "2 Blueberries : 24\n",
      "1 Cherries : 7\n",
      "total : 81\n",
      "discount price : 81\n",
      "\n",
      "1 Avocado : 5\n",
      "2 Banana : 6\n",
      "5 Blackberries : 50\n",
      "1 Blueberries : 12\n",
      "1 Cherries : 7\n",
      "total : 80\n",
      "discount price : 80\n",
      "\n",
      "1 Apple : 6\n",
      "2 Avocado : 10\n",
      "1 Banana : 3\n",
      "2 Blackberries : 20\n",
      "1 Blueberries : 12\n",
      "3 Cherries : 21\n",
      "total : 72\n",
      "discount price : 72\n"
     ]
    }
   ],
   "source": [
    "def print_summary(fitem, fprice):\n",
    "    for key, value in counter_item(fitem).items():\n",
    "        for key1, value1 in fruit_price.items():\n",
    "            if key == key1:\n",
    "                print(value, key, \":\", value * value1)\n",
    "    \n",
    "    total = total_price(counter_item(fitem), fprice)\n",
    "    discountPrice = discounted_price(total, discount=10, minprice=100)\n",
    "    print(\"total :\", total)\n",
    "    print(\"discount price :\", discountPrice)\n",
    "                \n",
    "print_summary(chart,fruit_price); print()\n",
    "print_summary(['Banana', 'Cherries', 'Avocado', 'Blueberries', 'Blackberries', 'Apple', 'Blueberries', 'Banana', 'Blueberries', 'Blueberries'], {'Apple': 6, 'Avocado': 5, 'Banana': 3, 'Blackberries': 10, 'Blueberries': 12, 'Cherries': 7, 'Date Fruit': 14, 'Grapes': 15, 'Guava': 8, 'Jackfruit': 7, 'Kiwifruit': 9})\n",
    "print()\n",
    "print_summary(['Apple', 'Banana', 'Cherries', 'Avocado', 'Avocado', 'Cherries', 'Avocado', 'Blackberries', 'Avocado', 'Cherries'], {'Apple': 6, 'Avocado': 5, 'Banana': 3, 'Blackberries': 10, 'Blueberries': 12, 'Cherries': 7, 'Date Fruit': 14, 'Grapes': 15, 'Guava': 8, 'Jackfruit': 7, 'Kiwifruit': 9})\n",
    "print()\n",
    "print_summary(['Blueberries', 'Banana', 'Apple', 'Avocado', 'Blackberries', 'Cherries', 'Apple', 'Blackberries', 'Blueberries', 'Blackberries'], {'Apple': 6, 'Avocado': 5, 'Banana': 3, 'Blackberries': 10, 'Blueberries': 12, 'Cherries': 7, 'Date Fruit': 14, 'Grapes': 15, 'Guava': 8, 'Jackfruit': 7, 'Kiwifruit': 9})\n",
    "print()\n",
    "print_summary(['Blueberries', 'Blackberries', 'Cherries', 'Blackberries', 'Blackberries', 'Banana', 'Blackberries', 'Banana', 'Blackberries', 'Avocado'], {'Apple': 6, 'Avocado': 5, 'Banana': 3, 'Blackberries': 10, 'Blueberries': 12, 'Cherries': 7, 'Date Fruit': 14, 'Grapes': 15, 'Guava': 8, 'Jackfruit': 7, 'Kiwifruit': 9})\n",
    "print()\n",
    "print_summary(['Avocado', 'Avocado', 'Blackberries', 'Blackberries', 'Banana', 'Apple', 'Blueberries', 'Cherries', 'Cherries', 'Cherries'], {'Apple': 6, 'Avocado': 5, 'Banana': 3, 'Blackberries': 10, 'Blueberries': 12, 'Cherries': 7, 'Date Fruit': 14, 'Grapes': 15, 'Guava': 8, 'Jackfruit': 7, 'Kiwifruit': 9})"
   ]
  },
  {
   "cell_type": "markdown",
   "metadata": {},
   "source": [
    "## Soal 12\n",
    "Buatlah sebuah fungsi `isPointInCircle` dengan posisional argument `x,y,r` dan keyword argument `center` dengan default value sebuah tupple dua nilai `(0,0)`. Untuk menentukan apakah titik `(x,y)` berada di dalam atau di luar lingkaran $L(\\rm{center},r)$. Keluaran fungsi `isPointInCircle` merupakan suatu nilai boolean, `True` Jika titik `(x,y)` berada di dalam lingkaran dan `False` Jika berada di luar.\n",
    "\n",
    "**Note: titik yang berada tepat di lingkaran dikategorikan sebagai dalam, maka `True`.**"
   ]
  },
  {
   "cell_type": "code",
   "execution_count": 121,
   "metadata": {},
   "outputs": [
    {
     "name": "stdout",
     "output_type": "stream",
     "text": [
      "False True True False\n",
      "False True True True True\n"
     ]
    }
   ],
   "source": [
    "def isPointInCircle(x,y,r,center=(0,0)):\n",
    "    if (x-center[0])**2 + (y-center[1])**2 <= r**2:\n",
    "        return True\n",
    "    else:\n",
    "        return False\n",
    "    \n",
    "print(isPointInCircle(1,1,1,center=(0,0)),isPointInCircle(1,0,1,center=(0,0)),\n",
    "      isPointInCircle(1,1,1,center=(1,0)),isPointInCircle(0,0,1,center=(1,1)))\n",
    "\n",
    "print(isPointInCircle(1,1,1,center=(0,0)),\n",
    "      isPointInCircle(12,0,2,center=(10,0)),\n",
    "      isPointInCircle(1,1,1,center=(0,1)),\n",
    "      isPointInCircle(1,0,1,center=(0,0)),\n",
    "      isPointInCircle(1,2,1,center=(0,2)))"
   ]
  },
  {
   "cell_type": "markdown",
   "metadata": {},
   "source": [
    "## Soal 13\n",
    "`generateRandomSquarePoints` dengan dua positional argumen `n` dan `length`, dan keyword argument `center` default: tupple`(0,0)`. Fungsi ini akan mengeluarkan suatu list dengan jumlah `n` titik random `[x,y]` yang berada di dalam suatu kotak persegi dengan panjang `length` dan titik tengah `center`. Keluaran fungsi merupakan list dari `n` titik random `[x,y]`, cth: `[[x1,y1],...,[xn,yn]]`.\n",
    "\n",
    "**hint:**\n",
    "\n",
    "1. Jarak titik tengah `center` ke tepi persegi sama dengan `length/2`.\n",
    "2. Untuk menghasilkan nilai random, gunakan `random.uniform`, penjelasan [random.uniform](https://docs.python.org/3/library/random.html#random.uniform). Untuk menentukan nilai `a` dan `b` dari fungsi random.uniform, coba perhatikan gambar di cell bawah dengan `center=(0,0)`. Note: harus fleksible ketika titik `center` berubah.\n",
    "3. Gunakan list comprehension untuk men-generate n titik x,y tersebut.\n",
    "4. Untuk menyelesaikan hanya butuh ubah satu baris kode, ganti `None` value, dengan kode anda.\n"
   ]
  },
  {
   "cell_type": "code",
   "execution_count": 122,
   "metadata": {},
   "outputs": [
    {
     "name": "stdout",
     "output_type": "stream",
     "text": [
      "[[-0.18985243068066737, 0.22983174826012864], [0.3988382879679935, 0.18398393191544127], [-0.027857284547286643, -0.3992987919316342], [-0.06582816454621632, 0.1108869734438016], [0.4130110532378982, 0.4666063677707588]]\n"
     ]
    }
   ],
   "source": [
    "import random\n",
    "\n",
    "def generateRandomSquarePoints(n, length, center=(0,0)):\n",
    "    return [[random.uniform(center[0]-(length/2), center[0]+(length/2)), random.uniform(center[1]-(length/2), center[1]+(length/2))] for i in range(n)]\n",
    "\n",
    "random.seed(0)\n",
    "\n",
    "# generate 100 point di dalam persegi dengan panjang sisi 1 dan berpusat di (0,0)\n",
    "points = generateRandomSquarePoints(100,1)\n",
    "print(points[10:15])"
   ]
  },
  {
   "cell_type": "code",
   "execution_count": 123,
   "metadata": {},
   "outputs": [
    {
     "name": "stdout",
     "output_type": "stream",
     "text": [
      "[[0.3444218515250481, 0.2579544029403025], [-0.079428419169155, -0.24108324970703665], [0.01127472136860852, -0.09506586254958571], [0.2837985890347726, -0.19668727392107255], [-0.02340304584764419, 0.0833820394550312]]\n"
     ]
    }
   ],
   "source": [
    "random.seed(0)\n",
    "print(generateRandomSquarePoints(5,1))"
   ]
  },
  {
   "cell_type": "code",
   "execution_count": 124,
   "metadata": {},
   "outputs": [
    {
     "name": "stdout",
     "output_type": "stream",
     "text": [
      "[[9.268728488224802, 0.6948674738744653], [10.527549237953227, -0.4898619485211566], [9.990870174183883, -0.10101787042252375], [10.303185945445525, 0.5774467022710263], [9.18771917354847, -0.9433050469559874]]\n"
     ]
    }
   ],
   "source": [
    "random.seed(1)\n",
    "print(generateRandomSquarePoints(5,2,(10,0)))"
   ]
  },
  {
   "cell_type": "code",
   "execution_count": 125,
   "metadata": {},
   "outputs": [
    {
     "name": "stdout",
     "output_type": "stream",
     "text": [
      "[[2.368102815667748, 2.343482461178048], [-0.33034589681957394, -0.2453840145232351], [2.006496634388349, 1.7079099672055698], [1.5091912043206626, 0.4244093727674326], [1.3178324970353872, 1.3204052009225138]]\n"
     ]
    }
   ],
   "source": [
    "random.seed(2)\n",
    "print(generateRandomSquarePoints(5,3,(1,1)))"
   ]
  },
  {
   "cell_type": "code",
   "execution_count": 126,
   "metadata": {},
   "outputs": [
    {
     "name": "stdout",
     "output_type": "stream",
     "text": [
      "[[99.47592925418378, 100.0884584505919], [99.73991033309616, 100.20784007719239], [100.25144060821611, 99.13105771847962], [99.02633598310975, 100.67493816419292], [99.51870802865602, 99.46866192209339]]\n"
     ]
    }
   ],
   "source": [
    "random.seed(3)\n",
    "print(generateRandomSquarePoints(5,2,(100,100)))"
   ]
  },
  {
   "cell_type": "markdown",
   "metadata": {},
   "source": [
    "## Soal 14\n",
    "Buatlah fungsi `MCCircleArea` dengan positional argument `r` dan keyword argument dengan default `n=100` dan `center=(0,0)`, untuk menghitung luas lingkaran dengan jari-jari r dengan mengestimasi dari `n` titik random. Keluaran fungsi merupakan suatu nilai yang menunjukkan estimasi luas lingkaran tersebut.\n",
    "\n",
    "**hint:**\n",
    "1. gunakan fungsi yang sudah dibuat di atas `isPointInCircle` dan `generateRandomSquarePoints`.\n",
    "2. perhatikan gambar lingkaran dan persegi di atas, jari-jari $r$ lingkaran sama dengan setengah dari panjang sisi persegi.\n",
    "3. lingkaran dan persegi memiliki pusat yang sama.\n"
   ]
  },
  {
   "cell_type": "code",
   "execution_count": 130,
   "metadata": {},
   "outputs": [
    {
     "name": "stdout",
     "output_type": "stream",
     "text": [
      "3.28 3.2\n"
     ]
    }
   ],
   "source": [
    "def MCCircleArea(r, n=100, center=(0,0)):\n",
    "    points = generateRandomSquarePoints(n, 2*r)\n",
    "    count = 0\n",
    "    for i in points:\n",
    "        if isPointInCircle(i[0],i[1],r):\n",
    "            count += 1\n",
    "            \n",
    "    luasLingkaran = count/n * (2*r)**2\n",
    "    return luasLingkaran\n",
    "\n",
    "random.seed(0)\n",
    "print(MCCircleArea(1,100),MCCircleArea(1,10,center=(10,10)))"
   ]
  },
  {
   "cell_type": "code",
   "execution_count": 131,
   "metadata": {},
   "outputs": [
    {
     "name": "stdout",
     "output_type": "stream",
     "text": [
      "3.2\n"
     ]
    }
   ],
   "source": [
    "random.seed(0)\n",
    "print(MCCircleArea(1,10))"
   ]
  },
  {
   "cell_type": "code",
   "execution_count": 132,
   "metadata": {},
   "outputs": [
    {
     "name": "stdout",
     "output_type": "stream",
     "text": [
      "2.0\n"
     ]
    }
   ],
   "source": [
    "random.seed(1)\n",
    "print(MCCircleArea(1,10,center=(10,10)))"
   ]
  },
  {
   "cell_type": "code",
   "execution_count": 133,
   "metadata": {},
   "outputs": [
    {
     "name": "stdout",
     "output_type": "stream",
     "text": [
      "11.2\n"
     ]
    }
   ],
   "source": [
    "random.seed(2)\n",
    "print(MCCircleArea(2,10,center=(10,10)))"
   ]
  },
  {
   "cell_type": "code",
   "execution_count": 134,
   "metadata": {},
   "outputs": [
    {
     "name": "stdout",
     "output_type": "stream",
     "text": [
      "32.4\n"
     ]
    }
   ],
   "source": [
    "random.seed(3)\n",
    "print(MCCircleArea(3,10,center=(100,20)))"
   ]
  },
  {
   "cell_type": "code",
   "execution_count": 135,
   "metadata": {},
   "outputs": [
    {
     "name": "stdout",
     "output_type": "stream",
     "text": [
      "11.2\n"
     ]
    }
   ],
   "source": [
    "random.seed(4)\n",
    "print(MCCircleArea(2,10,center=(0,10)))"
   ]
  },
  {
   "cell_type": "markdown",
   "metadata": {},
   "source": [
    "## Soal 15\n",
    "Buatlah fungsi `LLNPiMC` untuk mengestimasi nilai `pi` dengan positional argumen `nsim` dan `nsample`. `nsample` merupakan jumlah sample titik-titik random untuk menghitung luas lingkaran berjari-jari 1 (maka Luas = $\\pi$) dan `nsim` merupakan jumlah simulasi untuk menghitung nilai rata-rata atau mean dari estimasi nilai $\\pi$. Keluaran fungsi merupakan nilai mean dari simulasi tersebut (estimasi nilai $\\pi$)."
   ]
  },
  {
   "cell_type": "code",
   "execution_count": 140,
   "metadata": {},
   "outputs": [
    {
     "name": "stdout",
     "output_type": "stream",
     "text": [
      "est_pi: 3.1416055999999823\n",
      "act_pi: 3.141592653589793\n"
     ]
    }
   ],
   "source": [
    "import math\n",
    "\n",
    "def LLNPiMC(nsim, nsample):\n",
    "    luas = 0\n",
    "    for i in range(nsim):\n",
    "        luas += MCCircleArea(1, nsample, center=(0,0))\n",
    "    \n",
    "    return luas/nsim\n",
    "\n",
    "random.seed(0)\n",
    "estpi = LLNPiMC(10000,500)\n",
    "\n",
    "print('est_pi:',estpi)\n",
    "print('act_pi:',math.pi)"
   ]
  },
  {
   "cell_type": "markdown",
   "metadata": {},
   "source": [
    "## Soal 16\n",
    "Buatlah fungsi `relativeError`, dengan argument `act` yang merupakan nilai aktual, dan `est` yang merupakan nilai estimasi."
   ]
  },
  {
   "cell_type": "code",
   "execution_count": 141,
   "metadata": {},
   "outputs": [
    {
     "name": "stdout",
     "output_type": "stream",
     "text": [
      "error relatif: 0.0004120970353822341 %\n"
     ]
    }
   ],
   "source": [
    "def relativeError(act, est):\n",
    "    return abs((est-act)/act) * 100\n",
    "\n",
    "print('error relatif:',relativeError(math.pi,estpi),'%')"
   ]
  },
  {
   "cell_type": "code",
   "execution_count": null,
   "metadata": {},
   "outputs": [],
   "source": []
  }
 ],
 "metadata": {
  "kernelspec": {
   "display_name": "Python 3",
   "language": "python",
   "name": "python3"
  },
  "language_info": {
   "codemirror_mode": {
    "name": "ipython",
    "version": 3
   },
   "file_extension": ".py",
   "mimetype": "text/x-python",
   "name": "python",
   "nbconvert_exporter": "python",
   "pygments_lexer": "ipython3",
   "version": "3.7.6"
  }
 },
 "nbformat": 4,
 "nbformat_minor": 4
}
