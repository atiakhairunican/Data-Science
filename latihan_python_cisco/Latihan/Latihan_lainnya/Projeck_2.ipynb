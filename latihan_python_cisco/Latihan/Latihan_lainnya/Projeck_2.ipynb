{
 "cells": [
  {
   "cell_type": "code",
   "execution_count": 1,
   "metadata": {},
   "outputs": [
    {
     "name": "stdout",
     "output_type": "stream",
     "text": [
      "False True True False\n"
     ]
    }
   ],
   "source": [
    "#Graded\n",
    "\n",
    "def isPointInCircle(x,y,r,center=(0,0)):\n",
    "    # MULAI KODEMU DI SINI\n",
    "    x0 = center[0]\n",
    "    y0 = center[1]\n",
    "    if (x-x0) ** 2 + (y-y0) ** 2 <= (r ** 2):\n",
    "        return True\n",
    "    else:\n",
    "        return False\n",
    "    \n",
    "#CEK OUTPUT KODE ANDA\n",
    "print(isPointInCircle(1,1,1,center=(0,0)),isPointInCircle(1,0,1,center=(0,0)),\n",
    "      isPointInCircle(1,1,1,center=(1,0)),isPointInCircle(0,0,1,center=(1,1)))"
   ]
  },
  {
   "cell_type": "code",
   "execution_count": 2,
   "metadata": {},
   "outputs": [
    {
     "name": "stdout",
     "output_type": "stream",
     "text": [
      "[[-0.18985243068066737, 0.22983174826012864], [0.3988382879679935, 0.18398393191544127], [-0.027857284547286643, -0.3992987919316342], [-0.06582816454621632, 0.1108869734438016], [0.4130110532378982, 0.4666063677707588]]\n"
     ]
    }
   ],
   "source": [
    "#Graded\n",
    "import random\n",
    "\n",
    "def generateRandomSquarePoints(n,length,center=(0,0)):\n",
    "    # MULAI KODEMU DI SINI\n",
    "    minx = center[0]-length/2\n",
    "    miny = center[1]-length/2\n",
    "  \n",
    "    # Gunakan list comprehension dengan variable minx, miny, length, dan n\n",
    "    points = [[random.uniform(minx,(minx+length)), random.uniform(miny,(miny+length))] for i in range(n)]\n",
    "    return points\n",
    "\n",
    "#CEK OUTPUT KODE ANDA\n",
    "random.seed(0)\n",
    "\n",
    "# generate 100 point di dalam persegi dengan panjang sisi 1 dan berpusat di (0,0)\n",
    "points = generateRandomSquarePoints(100,1)\n",
    "print(points[10:15])"
   ]
  },
  {
   "cell_type": "code",
   "execution_count": 3,
   "metadata": {},
   "outputs": [
    {
     "name": "stdout",
     "output_type": "stream",
     "text": [
      "3.28 3.2\n"
     ]
    }
   ],
   "source": [
    "#Graded\n",
    "import random\n",
    "\n",
    "def MCCircleArea(r,n=100,center=(0,0)):\n",
    "    # MULAI KODEMU DI SINI\n",
    "    \n",
    "    points = generateRandomSquarePoints(n,(r*2),center=(0,0))\n",
    "    count = 0\n",
    "    \n",
    "    for k in range(n):\n",
    "        x = points[k][0]\n",
    "        y = points[k][1]\n",
    "        \n",
    "        if isPointInCircle(x,y,r,center=(0,0)):\n",
    "            count += 1\n",
    "        \n",
    "    lk = (count / n) * ((2*r) ** 2)\n",
    "    return lk\n",
    "\n",
    "#CEK OUTPUT KODE ANDA\n",
    "\n",
    "random.seed(0)\n",
    "print(MCCircleArea(1,100),MCCircleArea(1,10,center=(10,10)))"
   ]
  },
  {
   "cell_type": "code",
   "execution_count": 4,
   "metadata": {},
   "outputs": [
    {
     "name": "stdout",
     "output_type": "stream",
     "text": [
      "3.2\n"
     ]
    }
   ],
   "source": [
    "random.seed(0)\n",
    "print(MCCircleArea(1,10))"
   ]
  },
  {
   "cell_type": "code",
   "execution_count": 5,
   "metadata": {},
   "outputs": [
    {
     "name": "stdout",
     "output_type": "stream",
     "text": [
      "2.0\n"
     ]
    }
   ],
   "source": [
    "random.seed(1)\n",
    "print(MCCircleArea(1,10,center=(10,10)))"
   ]
  },
  {
   "cell_type": "code",
   "execution_count": 6,
   "metadata": {},
   "outputs": [
    {
     "name": "stdout",
     "output_type": "stream",
     "text": [
      "11.2\n"
     ]
    }
   ],
   "source": [
    "random.seed(2)\n",
    "print(MCCircleArea(2,10,center=(10,10)))"
   ]
  },
  {
   "cell_type": "code",
   "execution_count": 7,
   "metadata": {},
   "outputs": [
    {
     "name": "stdout",
     "output_type": "stream",
     "text": [
      "32.4\n"
     ]
    }
   ],
   "source": [
    "random.seed(3)\n",
    "print(MCCircleArea(3,10,center=(100,20)))"
   ]
  },
  {
   "cell_type": "code",
   "execution_count": 8,
   "metadata": {},
   "outputs": [
    {
     "name": "stdout",
     "output_type": "stream",
     "text": [
      "11.2\n"
     ]
    }
   ],
   "source": [
    "random.seed(4)\n",
    "print(MCCircleArea(2,10,center=(0,10)))"
   ]
  },
  {
   "cell_type": "code",
   "execution_count": 9,
   "metadata": {},
   "outputs": [
    {
     "name": "stdout",
     "output_type": "stream",
     "text": [
      "est_pi: 3.1416055999999823\n",
      "act_pi: 3.141592653589793\n"
     ]
    }
   ],
   "source": [
    "#Graded\n",
    "import random\n",
    "\n",
    "def LLNPiMC(nsim,nsample):\n",
    "    # MULAI KODEMU DI SINI\n",
    "    lk = 0\n",
    "    for j in range(nsim):\n",
    "        k = MCCircleArea(1,nsample)\n",
    "        lk += k\n",
    "        \n",
    "    meanPi = lk / nsim\n",
    "    return meanPi\n",
    "\n",
    "#CEK OUTPUT KODE ANDA\n",
    "\n",
    "import math\n",
    "\n",
    "random.seed(0)\n",
    "estpi = LLNPiMC(10000,500)\n",
    "\n",
    "print('est_pi:',estpi)\n",
    "print('act_pi:',math.pi)"
   ]
  },
  {
   "cell_type": "code",
   "execution_count": 10,
   "metadata": {},
   "outputs": [
    {
     "name": "stdout",
     "output_type": "stream",
     "text": [
      "error relatif: 0.0004120970353822341 %\n"
     ]
    }
   ],
   "source": [
    "# Graded\n",
    "\n",
    "import math\n",
    "est = LLNPiMC(10000,500)\n",
    "act = math.pi\n",
    "\n",
    "def relativeError(act,est):\n",
    "    # MULAI KODEMU DI SINI\n",
    "    E = abs(((est - act) / act) * 100)\n",
    "    return E\n",
    "\n",
    "#CEK OUTPUT KODE ANDA\n",
    "print('error relatif:',relativeError(math.pi,estpi),'%')"
   ]
  },
  {
   "cell_type": "code",
   "execution_count": null,
   "metadata": {},
   "outputs": [],
   "source": []
  }
 ],
 "metadata": {
  "kernelspec": {
   "display_name": "Python 3",
   "language": "python",
   "name": "python3"
  },
  "language_info": {
   "codemirror_mode": {
    "name": "ipython",
    "version": 3
   },
   "file_extension": ".py",
   "mimetype": "text/x-python",
   "name": "python",
   "nbconvert_exporter": "python",
   "pygments_lexer": "ipython3",
   "version": "3.7.6"
  }
 },
 "nbformat": 4,
 "nbformat_minor": 4
}
