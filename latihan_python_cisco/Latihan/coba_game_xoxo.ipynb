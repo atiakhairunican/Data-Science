{
 "cells": [
  {
   "cell_type": "code",
   "execution_count": 60,
   "metadata": {},
   "outputs": [
    {
     "ename": "KeyError",
     "evalue": "<function computerMove at 0x0000016AE620A708>",
     "output_type": "error",
     "traceback": [
      "\u001b[1;31m---------------------------------------------------------------------------\u001b[0m",
      "\u001b[1;31mKeyError\u001b[0m                                  Traceback (most recent call last)",
      "\u001b[1;32m<ipython-input-60-0790fda72b13>\u001b[0m in \u001b[0;36m<module>\u001b[1;34m\u001b[0m\n\u001b[0;32m     49\u001b[0m }\n\u001b[0;32m     50\u001b[0m \u001b[1;33m\u001b[0m\u001b[0m\n\u001b[1;32m---> 51\u001b[1;33m \u001b[0mcomputerMove\u001b[0m\u001b[1;33m(\u001b[0m\u001b[0mboard\u001b[0m\u001b[1;33m)\u001b[0m\u001b[1;33m\u001b[0m\u001b[1;33m\u001b[0m\u001b[0m\n\u001b[0m",
      "\u001b[1;32m<ipython-input-60-0790fda72b13>\u001b[0m in \u001b[0;36mcomputerMove\u001b[1;34m(board)\u001b[0m\n\u001b[0;32m     37\u001b[0m \u001b[1;33m\u001b[0m\u001b[0m\n\u001b[0;32m     38\u001b[0m     \u001b[1;32mwhile\u001b[0m \u001b[1;32mnot\u001b[0m \u001b[0mgood\u001b[0m\u001b[1;33m:\u001b[0m\u001b[1;33m\u001b[0m\u001b[1;33m\u001b[0m\u001b[0m\n\u001b[1;32m---> 39\u001b[1;33m         \u001b[1;32mif\u001b[0m \u001b[0mboard\u001b[0m\u001b[1;33m[\u001b[0m\u001b[0mcomputerMove\u001b[0m\u001b[1;33m]\u001b[0m \u001b[1;33m!=\u001b[0m \u001b[1;34m\"X\"\u001b[0m \u001b[1;32mand\u001b[0m \u001b[0mboard\u001b[0m\u001b[1;33m[\u001b[0m\u001b[0mcomputerMove\u001b[0m\u001b[1;33m]\u001b[0m \u001b[1;33m!=\u001b[0m \u001b[1;34m\"O\"\u001b[0m\u001b[1;33m:\u001b[0m\u001b[1;33m\u001b[0m\u001b[1;33m\u001b[0m\u001b[0m\n\u001b[0m\u001b[0;32m     40\u001b[0m             \u001b[0mboard\u001b[0m\u001b[1;33m[\u001b[0m\u001b[0mcomputerMove\u001b[0m\u001b[1;33m]\u001b[0m \u001b[1;33m=\u001b[0m \u001b[1;34m\"X\"\u001b[0m\u001b[1;33m\u001b[0m\u001b[1;33m\u001b[0m\u001b[0m\n\u001b[0;32m     41\u001b[0m         \u001b[1;32melse\u001b[0m\u001b[1;33m:\u001b[0m\u001b[1;33m\u001b[0m\u001b[1;33m\u001b[0m\u001b[0m\n",
      "\u001b[1;31mKeyError\u001b[0m: <function computerMove at 0x0000016AE620A708>"
     ]
    }
   ],
   "source": [
    "def displayBoard(board):\n",
    "    print(\"+-------+-------+-------+\")\n",
    "    print(\"|       |       |       |\")\n",
    "    print(\"|   \"+board[1]+\"   |   \"+board[2]+\"   |   \"+board[3]+\"   |\")\n",
    "    print(\"|       |       |       |\")\n",
    "    print(\"+-------+-------+-------+\")\n",
    "    print(\"|       |       |       |\")\n",
    "    print(\"|   \"+board[4]+\"   |   \"+board[5]+\"   |   \"+board[6]+\"   |\")\n",
    "    print(\"|       |       |       |\")\n",
    "    print(\"+-------+-------+-------+\")\n",
    "    print(\"|       |       |       |\")\n",
    "    print(\"|   \"+board[7]+\"   |   \"+board[8]+\"   |   \"+board[9]+\"   |\")\n",
    "    print(\"|       |       |       |\")\n",
    "    print(\"+-------+-------+-------+\")\n",
    "    \n",
    "    \n",
    "def humanMove(board):\n",
    "    good = False\n",
    "    while not good:\n",
    "        humanMove = int(input(\"Enter your move: \"))\n",
    "        good = humanMove > 0 and humanMove < 10\n",
    "        if not good:\n",
    "            print(\"Bad move - repeat your input!\")\n",
    "            continue\n",
    "        good = board[humanMove] != \"X\" and board[humanMove] != \"O\"\n",
    "        if not good:\n",
    "            print(\"Field already occupied - repeat your input!\")\n",
    "        else:\n",
    "            board[humanMove] = \"O\"\n",
    "#             displayBoard(board)\n",
    "  \n",
    "    \n",
    "def computerMove(board):\n",
    "    from random import randint \n",
    "    computerTurn = randint(1, 9)\n",
    "    good = False\n",
    "    \n",
    "    while not good:\n",
    "        if board[computerMove] != \"X\" and board[computerMove] != \"O\":\n",
    "            board[computerMove] = \"X\"\n",
    "        else:\n",
    "            computerTurn = randint(1, 9)\n",
    "\n",
    "    \n",
    "board = {\n",
    "    1:\"1\", 2:\"2\", 3:\"3\",\n",
    "    4:\"4\", 5:\"X\", 6:\"6\",\n",
    "    7:\"7\", 8:\"8\", 9:\"9\"\n",
    "}\n",
    "\n",
    "computerMove(board)"
   ]
  },
  {
   "cell_type": "code",
   "execution_count": null,
   "metadata": {},
   "outputs": [],
   "source": []
  }
 ],
 "metadata": {
  "kernelspec": {
   "display_name": "Python 3",
   "language": "python",
   "name": "python3"
  },
  "language_info": {
   "codemirror_mode": {
    "name": "ipython",
    "version": 3
   },
   "file_extension": ".py",
   "mimetype": "text/x-python",
   "name": "python",
   "nbconvert_exporter": "python",
   "pygments_lexer": "ipython3",
   "version": "3.7.6"
  }
 },
 "nbformat": 4,
 "nbformat_minor": 4
}
