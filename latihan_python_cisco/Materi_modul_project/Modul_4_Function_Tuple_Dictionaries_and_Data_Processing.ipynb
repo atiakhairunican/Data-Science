{
 "cells": [
  {
   "cell_type": "markdown",
   "metadata": {
    "colab_type": "text",
    "id": "DqdTx-CrWfn_"
   },
   "source": [
    "# Modul 4 - Function Tuple Dictionaries and Data Processing \n",
    "klik untuk [Open in colab](https://colab.research.google.com/github/sykrn/py-dts/blob/master/Modul%204%20-%20Function%20Tuple%20Dictionaries%20and%20Data%20Processing.ipynb) \n",
    "\n",
    "#### Luaran Pembelajaran\n",
    "\n",
    "In this module, you will learn about:\n",
    "\n",
    "- defining and using functions;\n",
    "- different ways of passing arguments;\n",
    "- name scopes;\n",
    "- tuples and dictionaries;\n",
    "- data processing."
   ]
  },
  {
   "cell_type": "markdown",
   "metadata": {
    "colab_type": "text",
    "id": "aWYcd0_XWfoB"
   },
   "source": [
    "# 4.1.1 Function"
   ]
  },
  {
   "cell_type": "markdown",
   "metadata": {
    "colab_type": "text",
    "id": "l6nGsgkGWfoC"
   },
   "source": [
    "![image.png](attachment:image.png)"
   ]
  },
  {
   "cell_type": "code",
   "execution_count": 0,
   "metadata": {
    "colab": {},
    "colab_type": "code",
    "id": "qfyhQkBVWfoD"
   },
   "outputs": [],
   "source": [
    "# Motivasi function adalah perulangan kode\n",
    "\n",
    "print(\"Please, Enter a value: \")\n",
    "a = int(input())\n",
    "print(a)\n",
    "\n",
    "print(\"Please, Enter a value: \")\n",
    "b = int(input())\n",
    "print(b)\n",
    "\n",
    "print(\"Please, Enter a value: \")\n",
    "c = int(input())\n",
    "print(c)\n",
    "\n",
    "# can we do this: change made once in one place would be propagated to all the places where it's used."
   ]
  },
  {
   "cell_type": "markdown",
   "metadata": {
    "colab_type": "text",
    "id": "YQl1XF45WfoJ"
   },
   "source": [
    "Sintaks Function:\n",
    "\n",
    "```python\n",
    "def functionName():\n",
    "    functionBody\n",
    "```"
   ]
  },
  {
   "cell_type": "code",
   "execution_count": 0,
   "metadata": {
    "colab": {},
    "colab_type": "code",
    "id": "rmak3w61WfoK"
   },
   "outputs": [],
   "source": [
    "def message():\n",
    "    print(\"Please, Enter a value: \")\n",
    "    a = int(input())\n",
    "    print(a)\n",
    "\n",
    "print(\"Dimulai dari sini\")\n",
    "message() #invocation\n",
    "message()\n",
    "message()\n",
    "print(\"Berhenti disini\")\n"
   ]
  },
  {
   "cell_type": "markdown",
   "metadata": {
    "colab_type": "text",
    "id": "RiTtc52qWfoP"
   },
   "source": [
    "### Parametrized functions"
   ]
  },
  {
   "cell_type": "code",
   "execution_count": 0,
   "metadata": {
    "colab": {},
    "colab_type": "code",
    "id": "n6vGIKokWfoQ"
   },
   "outputs": [],
   "source": [
    "def message(m):\n",
    "    print(\"pesan: \",m.upper())\n",
    "    \n",
    "message(\"Hello\")\n",
    "message(\"Hello juga\")"
   ]
  },
  {
   "cell_type": "code",
   "execution_count": 0,
   "metadata": {
    "colab": {},
    "colab_type": "code",
    "id": "SDm9v8TmWfoU"
   },
   "outputs": [],
   "source": [
    "def message(what, number):\n",
    "    print(\"Enter\", what, \"number\", number)\n",
    "\n",
    "message(\"telephone\", 11)\n",
    "message(\"price\", 5)\n",
    "message(\"number\", \"number\")"
   ]
  },
  {
   "cell_type": "code",
   "execution_count": 0,
   "metadata": {
    "colab": {},
    "colab_type": "code",
    "id": "zLNLGHk0WfoY"
   },
   "outputs": [],
   "source": [
    "def tambahUmur(nama, umur):\n",
    "    umur = umur + 0.5\n",
    "    print(nama, umur)\n",
    "    \n",
    "tambahUmur(\"Guntur\",5.1)"
   ]
  },
  {
   "cell_type": "markdown",
   "metadata": {
    "colab_type": "text",
    "id": "O0ZSOvzRWfod"
   },
   "source": [
    "### posisi parameter\n",
    "\n"
   ]
  },
  {
   "cell_type": "code",
   "execution_count": 0,
   "metadata": {
    "colab": {},
    "colab_type": "code",
    "id": "6dslrVOaWfoe"
   },
   "outputs": [],
   "source": [
    "def introduction(firstName, lastName):\n",
    "    print(\"Hello, my name is\", firstName, lastName)\n",
    "\n",
    "introduction(\"Luke\", \"Skywalker\")\n",
    "introduction(\"Skywalker\", \"Luke\")\n",
    "introduction(\"Jesse\", \"Quick\")\n",
    "introduction(\"Clark\", \"Kent\")"
   ]
  },
  {
   "cell_type": "code",
   "execution_count": 0,
   "metadata": {
    "colab": {},
    "colab_type": "code",
    "id": "rjnR2B9lWfok"
   },
   "outputs": [],
   "source": [
    "introduction(firstName = \"James\", lastName = \"Bond\")\n",
    "introduction(lastName = \"Skywalker\", firstName = \"Luke\")"
   ]
  },
  {
   "cell_type": "code",
   "execution_count": 0,
   "metadata": {
    "colab": {},
    "colab_type": "code",
    "id": "T96fkMP0Wfoo"
   },
   "outputs": [],
   "source": [
    "def jumlah(a, b, c):\n",
    "    print(a, \"+\", b, \"+\", c, \"=\", a + b + c)\n",
    "\n",
    "# call the sum function here\n",
    "jumlah(5,6,4)"
   ]
  },
  {
   "cell_type": "markdown",
   "metadata": {
    "colab_type": "text",
    "id": "JYla4Qu-Wfot"
   },
   "source": [
    "## Default parameter"
   ]
  },
  {
   "cell_type": "code",
   "execution_count": 0,
   "metadata": {
    "colab": {},
    "colab_type": "code",
    "id": "-vRGPsg7Wfou"
   },
   "outputs": [],
   "source": [
    "#All required parameters must be placed before any default arguments.\n",
    "\n",
    "def introduction(firstName, lastName=\"Smith\"):\n",
    "    print(\"Hello, my name is\", firstName, lastName)\n",
    "\n",
    "# call the function here\n",
    "introduction(firstName=\"Guntur\")"
   ]
  },
  {
   "cell_type": "code",
   "execution_count": 0,
   "metadata": {
    "colab": {},
    "colab_type": "code",
    "id": "_hdwYzVIWfoy"
   },
   "outputs": [],
   "source": [
    "def introductionLengkap(firstName, lastName, middleName=\"Guntur\"):\n",
    "    print(\"Hello, my name is\", firstName, middleName, lastName)\n",
    "    \n",
    "introductionLengkap(firstName = \"James\", lastName = \"Bond\")"
   ]
  },
  {
   "cell_type": "markdown",
   "metadata": {
    "colab_type": "text",
    "id": "D_EFsigLWfo9"
   },
   "source": [
    "# 4.1.3 Function dengan Return"
   ]
  },
  {
   "cell_type": "code",
   "execution_count": 0,
   "metadata": {
    "colab": {},
    "colab_type": "code",
    "id": "e3Nre6myWfo9"
   },
   "outputs": [],
   "source": [
    "def boringFuncton():\n",
    "    return 123\n",
    "\n",
    "x = boringFuncton()\n",
    "\n",
    "print(\"The boringFunction has returned its result. It's:\", x)"
   ]
  },
  {
   "cell_type": "code",
   "execution_count": 0,
   "metadata": {
    "colab": {},
    "colab_type": "code",
    "id": "WKq8F1ZVWfpC"
   },
   "outputs": [],
   "source": [
    "def boringFunction():\n",
    "    print(\"'Boredom Mode' ON.\")\n",
    "    return 123\n",
    "\n",
    "print(\"This lesson is interesting!\")\n",
    "boringFunction()\n",
    "print(\"This lesson is boring...\")"
   ]
  },
  {
   "cell_type": "code",
   "execution_count": 0,
   "metadata": {
    "colab": {},
    "colab_type": "code",
    "id": "otzE6nQnWfpG"
   },
   "outputs": [],
   "source": [
    "def jumlah(a,b):\n",
    "    c = a + b\n",
    "    return c\n",
    "\n",
    "a = jumlah(3,4) \n",
    "print(a)"
   ]
  },
  {
   "cell_type": "code",
   "execution_count": 0,
   "metadata": {
    "colab": {},
    "colab_type": "code",
    "id": "-2KIPFtRWfpL"
   },
   "outputs": [],
   "source": [
    "value = None\n",
    "if value == None:\n",
    "    print(\"Sorry, you don't carry any value\")"
   ]
  },
  {
   "cell_type": "code",
   "execution_count": 0,
   "metadata": {
    "colab": {},
    "colab_type": "code",
    "id": "4o89ZyDDWfpP"
   },
   "outputs": [],
   "source": [
    "def strangeFunction(n):\n",
    "    if(n % 2 == 0):\n",
    "        return True\n",
    "    \n",
    "print(strangeFunction(4))\n",
    "print(strangeFunction(3))"
   ]
  },
  {
   "cell_type": "code",
   "execution_count": 0,
   "metadata": {
    "colab": {},
    "colab_type": "code",
    "id": "PxVmsgCsWfpX"
   },
   "outputs": [],
   "source": [
    "def sumOfList(lst):\n",
    "    sum = 0\n",
    "    \n",
    "    for elem in lst:\n",
    "        sum += elem\n",
    "    \n",
    "    return sum\n",
    "\n",
    "sumOfList([5,2,10,30])"
   ]
  },
  {
   "cell_type": "code",
   "execution_count": 0,
   "metadata": {
    "colab": {},
    "colab_type": "code",
    "id": "Dzi5jmw2Wfpc"
   },
   "outputs": [],
   "source": [
    "def strangeListFunction(n):\n",
    "    strangeList = []\n",
    "    \n",
    "    for i in range(0, n):\n",
    "        print(\"Insert\",i)\n",
    "        strangeList.insert(0, i)\n",
    "        print(strangeList)\n",
    "        \n",
    "    \n",
    "    return strangeList\n",
    "\n",
    "print(\"Hasil = \",strangeListFunction(5))"
   ]
  },
  {
   "cell_type": "code",
   "execution_count": 0,
   "metadata": {
    "colab": {},
    "colab_type": "code",
    "id": "aReqoCeZWfpg"
   },
   "outputs": [],
   "source": [
    "def strangeListFunction(n):\n",
    "    strangeList = []\n",
    "    \n",
    "    for i in range(0, n):\n",
    "        strangeList.insert(0, i)\n",
    "    \n",
    "    return strangeList\n",
    "\n",
    "print(strangeListFunction(5))"
   ]
  },
  {
   "cell_type": "markdown",
   "metadata": {
    "colab_type": "text",
    "id": "cxqbp6w8Wfpj"
   },
   "source": [
    "### Lab\n",
    "Your task is to write and test a function which takes one argument (a year) and returns `True` if the year is a leap year, or `False` otherwise.\n",
    "\n",
    "The seed of the function is already sown in the skeleton code in the editor.\n",
    "\n",
    "Note: we've also prepared a short testing code, which you can use to test your function.\n",
    "\n",
    "The code uses two lists - one with the test data, and the other containing the expected results. The code will tell you if any of your results are invalid.\n",
    "\n",
    "```python\n",
    "def isYearLeap(year):\n",
    "#\n",
    "# put your code here\n",
    "#\n",
    "\n",
    "testData = [1900, 2000, 2016, 1987]\n",
    "testResults = [False, True, True, False]\n",
    "for i in range(len(testData)):\n",
    "\tyr = testData[i]\n",
    "\tprint(yr,\"->\",end=\"\")\n",
    "\tresult = isYearLeap(yr)\n",
    "\tif result == testResults[i]:\n",
    "\t\tprint(\"OK\")\n",
    "\telse:\n",
    "\t\tprint(\"Failed\")\n",
    "        \n",
    "```\n"
   ]
  },
  {
   "cell_type": "code",
   "execution_count": 0,
   "metadata": {
    "colab": {},
    "colab_type": "code",
    "collapsed": true,
    "id": "oosj131eWfpk"
   },
   "outputs": [],
   "source": [
    "def isYearLeap(year):\n",
    "    if (year % 4) == 0:\n",
    "        if (year % 100) == 0:\n",
    "            if (year % 400) == 0:\n",
    "                return True\n",
    "            else:\n",
    "                return False\n",
    "        else:\n",
    "            return True\n",
    "    else:\n",
    "        return False\n",
    "\n",
    "testData = [1900, 2000, 2016, 1987]\n",
    "testResults = [False, True, True, False]\n",
    "for i in range(len(testData)):\n",
    "    yr = testData[i]\n",
    "    print(yr,\"->\",end=\"\")\n",
    "    result = isYearLeap(yr)\n",
    "    if result == testResults[i]:\n",
    "        print(\"OK\")\n",
    "    else:\n",
    "        print(\"Failed\")"
   ]
  },
  {
   "cell_type": "markdown",
   "metadata": {
    "colab_type": "text",
    "id": "XJizd0zQWfpo"
   },
   "source": [
    "## Masih ada Lab Lainnya"
   ]
  },
  {
   "cell_type": "markdown",
   "metadata": {
    "colab_type": "text",
    "id": "ljyhjQs-Wfpp"
   },
   "source": [
    "### LAB\n",
    "Your task is to write and test a function which takes three arguments (a year, a month, and a day of the month) and returns the corresponding day of the year, or returns None if any of the arguments is invalid.\n",
    "\n",
    "Use the previously written and tested functions. Add some test cases to the code. This test is only a beginning.\n",
    "\n",
    "```PYTHON\n",
    "def isYearLeap(year):\n",
    "#\n",
    "# your code from LAB 4.1.3.6\n",
    "#\n",
    "\n",
    "def daysInMonth(year, month):\n",
    "#\n",
    "# your code from LAB 4.1.3.7\n",
    "#\n",
    "\n",
    "def dayOfYear(year, month, day):\n",
    "#\n",
    "# put your new code here\n",
    "#\n",
    "\n",
    "print(dayOfYear(2000, 12, 31))\n",
    "```\n"
   ]
  },
  {
   "cell_type": "markdown",
   "metadata": {
    "colab_type": "text",
    "id": "y71rKITYWfpp"
   },
   "source": [
    "### LAB\n",
    "\n",
    "A natural number is prime if it is greater than 1 and has no divisors other than 1 and itself.\n",
    "\n",
    "Complicated? Not at all. For example, 8 isn't a prime number, as you can divide it by 2 and 4 (we can't use divisors equal to 1 and 8, as the definition prohibits this).\n",
    "\n",
    "On the other hand, 7 is a prime number, as we can't find any legal divisors for it.\n",
    "\n",
    "\n",
    "Your task is to write a function checking whether a number is prime or not.\n",
    "\n",
    "The function:\n",
    "\n",
    "is called isPrime;\n",
    "takes one argument (the value to check)\n",
    "returns True if the argument is a prime number, and False otherwise.\n",
    "Hint: try to divide the argument by all subsequent values (starting from 2) and check the remainder - if it's zero, your number cannot be a prime; think carefully about when you should stop the process.\n",
    "\n",
    "If you need to know the square root of any value, you can utilize the ** operator. Remember: the square root of x is the same as x0.5\n",
    "\n",
    "Complete the code in the editor.\n",
    "\n",
    "Run your code and check whether your output is the same as ours.\n",
    "\n",
    "Test Data\n",
    "Expected output:\n",
    "\n",
    "2 3 5 7 11 13 17 19\n",
    "\n",
    "```python\n",
    "def isPrime(num):\n",
    "#\n",
    "# put your code here\n",
    "#\n",
    "\n",
    "for i in range(1, 20):\n",
    "\tif isPrime(i + 1):\n",
    "\t\t\tprint(i + 1, end=\" \")\n",
    "print()\n",
    "```\n"
   ]
  },
  {
   "cell_type": "markdown",
   "metadata": {
    "colab_type": "text",
    "id": "zmjAvimpWfpq"
   },
   "source": [
    "# LAB\n",
    "Scenario <BR>\n",
    "A car's fuel consumption may be expressed in many different ways. For example, in Europe, it is shown as the amount of fuel consumed per 100 kilometers.\n",
    "\n",
    "In the USA, it is shown as the number of miles traveled by a car using one gallon of fuel.\n",
    "\n",
    "Your task is to write a pair of functions converting l/100km into mpg, and vice versa.\n",
    "\n",
    "The functions:\n",
    "\n",
    "are named l100kmtompg and mpgtol100km respectively;\n",
    "take one argument (the value corresponding to their names)\n",
    "Complete the code in the editor.\n",
    "\n",
    "Run your code and check whether your output is the same as ours.\n",
    "\n",
    "Here is some information to help you:\n",
    "\n",
    "1 American mile = 1609.344 metres;\n",
    "1 American gallon = 3.785411784 litres.\n",
    "Test Data\n",
    "Expected output:\n",
    "\n",
    "60.31143162393162 <br>\n",
    "31.36194444444444 <br>\n",
    "23.52145833333333 <br>\n",
    "3.9007393587617467 <br>\n",
    "7.490910297239916 <br>\n",
    "10.009131205673757 <br>\n",
    "\n",
    "```python\n",
    "def l100kmtompg(liters):\n",
    "#\n",
    "# put your code here\n",
    "#\n",
    "\n",
    "def mpgtol100km(miles):\n",
    "#\n",
    "# put your code here\n",
    "#\n",
    "\n",
    "print(l100kmtompg(3.9))\n",
    "print(l100kmtompg(7.5))\n",
    "print(l100kmtompg(10.))\n",
    "print(mpgtol100km(60.3))\n",
    "print(mpgtol100km(31.4))\n",
    "print(mpgtol100km(23.5))\n",
    "```\n"
   ]
  },
  {
   "cell_type": "code",
   "execution_count": 0,
   "metadata": {
    "colab": {},
    "colab_type": "code",
    "id": "ImcAs_bnWfpr"
   },
   "outputs": [],
   "source": [
    "#Exercise 1\n",
    "\n",
    "#What is the output of the following snippet?\n",
    "\n",
    "def hi():\n",
    "    return\n",
    "    print(\"Hi!\")\n",
    "\n",
    "hi()"
   ]
  },
  {
   "cell_type": "code",
   "execution_count": 0,
   "metadata": {
    "colab": {},
    "colab_type": "code",
    "id": "d94OO_YGWfpv"
   },
   "outputs": [],
   "source": [
    "#Exercise 2\n",
    "\n",
    "#What is the output of the following snippet?\n",
    "\n",
    "def isInt(data):\n",
    "    if type(data) == int:\n",
    "        return True\n",
    "    elif type(data) == float:\n",
    "        return False\n",
    "\n",
    "print(isInt(5))\n",
    "print(isInt(5.0))\n",
    "print(isInt(\"5\"))\n",
    "\n"
   ]
  },
  {
   "cell_type": "code",
   "execution_count": 0,
   "metadata": {
    "colab": {},
    "colab_type": "code",
    "id": "XqX5jM4TWfpy"
   },
   "outputs": [],
   "source": [
    "#Exercise 3\n",
    "\n",
    "#What is the output of the following snippet?\n",
    "\n",
    "def evenNumLst(ran):\n",
    "    lst = []\n",
    "    for num in range(ran):\n",
    "        if num % 2 == 0:\n",
    "            lst.append(num)\n",
    "    return lst\n",
    "\n",
    "print(evenNumLst(11))\n",
    "\n"
   ]
  },
  {
   "cell_type": "code",
   "execution_count": 0,
   "metadata": {
    "colab": {},
    "colab_type": "code",
    "id": "v6JmPwkNWfp3"
   },
   "outputs": [],
   "source": [
    "#Exercise 4\n",
    "\n",
    "#What is the output of the following snippet?\n",
    "\n",
    "def listUpdater(lst):\n",
    "    updList = []\n",
    "    for elem in lst:\n",
    "        elem **= 2\n",
    "        updList.append(elem)\n",
    "    return updList\n",
    "\n",
    "l = [1, 2, 3, 4, 5]\n",
    "print(listUpdater(l))"
   ]
  },
  {
   "cell_type": "markdown",
   "metadata": {
    "colab_type": "text",
    "id": "DqjbPCkPWfp9"
   },
   "source": [
    "# Scope in Function"
   ]
  },
  {
   "cell_type": "code",
   "execution_count": 0,
   "metadata": {
    "colab": {},
    "colab_type": "code",
    "id": "Dmydb6gcWfp-"
   },
   "outputs": [],
   "source": [
    "def scopeTest():\n",
    "    YY = 123\n",
    "\n",
    "scopeTest()\n",
    "print(YY)"
   ]
  },
  {
   "cell_type": "code",
   "execution_count": 0,
   "metadata": {
    "colab": {},
    "colab_type": "code",
    "id": "i39wzn2xWfqB"
   },
   "outputs": [],
   "source": [
    "def myFunction():\n",
    "    print(\"Do I know that variable?\", var)\n",
    "\n",
    "var = 1\n",
    "myFunction()\n",
    "print(var)\n",
    "\n",
    "# The answer is: a variable existing outside a function \n",
    "# has a scope inside the functions' bodies."
   ]
  },
  {
   "cell_type": "code",
   "execution_count": 0,
   "metadata": {
    "colab": {},
    "colab_type": "code",
    "id": "76lQp60yWfqF"
   },
   "outputs": [],
   "source": [
    "def myFunction():\n",
    "    global var\n",
    "    var = 2\n",
    "    print(\"Do I know that variable?\", var)\n",
    "\n",
    "var = 1\n",
    "myFunction()\n",
    "print(var)\n",
    "\n",
    "# There's a special Python method which can extend a variable's scope \n",
    "# in a way which includes the functions' bodies \n",
    "# (even if you want not only to read the values, but also to modify them)."
   ]
  },
  {
   "cell_type": "code",
   "execution_count": 0,
   "metadata": {
    "colab": {},
    "colab_type": "code",
    "id": "L-CmLddVWfqI"
   },
   "outputs": [],
   "source": [
    "def myFunction(n):\n",
    "    print(\"I got\", n)\n",
    "    n += 1\n",
    "    print(\"I have\", n)\n",
    "\n",
    "var = 1\n",
    "myFunction(var)\n",
    "print(var)\n",
    "\n",
    "#changing the parameter's value doesn't propagate outside the function"
   ]
  },
  {
   "cell_type": "markdown",
   "metadata": {
    "colab_type": "text",
    "id": "3LLFk4veWfqO"
   },
   "source": [
    "# Some Function Examples"
   ]
  },
  {
   "cell_type": "markdown",
   "metadata": {
    "colab_type": "text",
    "id": "jhxP8d-aWfqO"
   },
   "source": [
    "## BMI"
   ]
  },
  {
   "cell_type": "code",
   "execution_count": 0,
   "metadata": {
    "colab": {},
    "colab_type": "code",
    "collapsed": true,
    "id": "cQA1JuDhWfqP"
   },
   "outputs": [],
   "source": [
    "def bmi(weight, height):\n",
    "    return weight / height ** 2\n",
    "\n",
    "print(bmi(52.5, 1.65))"
   ]
  },
  {
   "cell_type": "code",
   "execution_count": 0,
   "metadata": {
    "colab": {},
    "colab_type": "code",
    "collapsed": true,
    "id": "f_TU9q63WfqT"
   },
   "outputs": [],
   "source": [
    "def bmi(weight, height):\n",
    "    if height < 1.0 or height > 2.5 or \\\n",
    "    weight < 20 or weight > 200:\n",
    "        return None\n",
    "    \n",
    "    return weight / height ** 2\n",
    "\n",
    "print(bmi(352.5, 1.65))"
   ]
  },
  {
   "cell_type": "markdown",
   "metadata": {
    "colab_type": "text",
    "id": "uKPTdE8YWfqX"
   },
   "source": [
    "## Segitiga"
   ]
  },
  {
   "cell_type": "code",
   "execution_count": 0,
   "metadata": {
    "colab": {},
    "colab_type": "code",
    "collapsed": true,
    "id": "RDWtOuxEWfqX"
   },
   "outputs": [],
   "source": [
    "def isItATriangle(a, b, c):\n",
    "    if a + b <= c:\n",
    "        return False\n",
    "    if b + c <= a:\n",
    "        return False\n",
    "    if c + a <= b:\n",
    "        return False\n",
    "    return True\n",
    "\n",
    "print(isItATriangle(1, 1, 1))\n",
    "print(isItATriangle(1, 1, 3))"
   ]
  },
  {
   "cell_type": "code",
   "execution_count": 0,
   "metadata": {
    "colab": {},
    "colab_type": "code",
    "collapsed": true,
    "id": "ZtLjh0luWfqb"
   },
   "outputs": [],
   "source": [
    "def isItATriangle(a, b, c):\n",
    "    return a + b > c and b + c > a and c + a > b\n",
    "\n",
    "a = float(input(\"Enter the first side's length: \"))\n",
    "b = float(input(\"Enter the second side's length: \"))\n",
    "c = float(input(\"Enter the third side's length: \"))\n",
    "\n",
    "if isItATriangle(a, b, c):\n",
    "    print(\"Congratulations - it can be a triangle.\")\n",
    "else:\n",
    "    print(\"Sorry, it won't be a triangle.\")"
   ]
  },
  {
   "cell_type": "markdown",
   "metadata": {
    "colab_type": "text",
    "id": "0CS9h9wHWfqg"
   },
   "source": [
    "## Faktorial"
   ]
  },
  {
   "cell_type": "code",
   "execution_count": 0,
   "metadata": {
    "colab": {},
    "colab_type": "code",
    "collapsed": true,
    "id": "U48T2oO7Wfqh"
   },
   "outputs": [],
   "source": [
    "def factorialFun(n):\n",
    "    if n < 0:\n",
    "        return None\n",
    "    if n < 2:\n",
    "        return 1\n",
    "    \n",
    "    product = 1\n",
    "    for i in range(2, n + 1):\n",
    "        product *= i\n",
    "    return product\n",
    "\n",
    "for n in range(1, 6): # testing\n",
    "    print(n, factorialFun(n))"
   ]
  },
  {
   "cell_type": "markdown",
   "metadata": {
    "colab_type": "text",
    "id": "AQV430KmWfql"
   },
   "source": [
    "## Fibonacci"
   ]
  },
  {
   "cell_type": "code",
   "execution_count": 0,
   "metadata": {
    "colab": {},
    "colab_type": "code",
    "collapsed": true,
    "id": "SWCNe0E4Wfqm"
   },
   "outputs": [],
   "source": [
    "def fib(n):\n",
    "    if n < 1:\n",
    "         return None\n",
    "    if n < 3:\n",
    "        return 1\n",
    "\n",
    "    elem1 = elem2 = 1\n",
    "    sum = 0\n",
    "    for i in range(3, n + 1):\n",
    "        sum = elem1 + elem2\n",
    "        elem1, elem2 = elem2, sum\n",
    "    return sum\n",
    "\n",
    "for n in range(1, 10): # testing\n",
    "    print(n, \"->\", fib(n))"
   ]
  },
  {
   "cell_type": "markdown",
   "metadata": {
    "colab_type": "text",
    "id": "DrPc3WLOWfqq"
   },
   "source": [
    "## Recursion"
   ]
  },
  {
   "cell_type": "code",
   "execution_count": 0,
   "metadata": {
    "colab": {},
    "colab_type": "code",
    "collapsed": true,
    "id": "3tL7OlAmWfqq"
   },
   "outputs": [],
   "source": [
    "def fib(n):\n",
    "    if n < 1:\n",
    "        return None\n",
    "    if n < 3:\n",
    "        return 1\n",
    "    return fib(n - 1) + fib(n - 2)\n",
    "\n",
    "for n in range(1, 10): # testing\n",
    "    print(n, \"->\", fib(n))"
   ]
  },
  {
   "cell_type": "markdown",
   "metadata": {
    "colab_type": "raw",
    "id": "enByAmEfWfqu"
   },
   "source": [
    "### Key takeaways\n",
    "\n",
    "1. A function can call other functions or even itself. When a function calls itself, this situation is known as recursion, and the function which calls itself and contains a specified termination condition (i.e., the base case - a condition which doesn't tell the function to make any further calls to that function) is called a recursive function.\n",
    "\n",
    "2. You can use recursive functions in Python to write clean, elegant code, and divide it into smaller, organized chunks. On the other hand, you need to be very careful as it might be easy to make a mistake and create a function which never terminates. You also need to remember that recursive calls consume a lot of memory, and therefore may sometimes be inefficient.\n",
    "\n",
    "When using recursion, you need to take all its advantages and disadvantages into consideration.\n",
    "\n",
    "The factorial function is a classic example of how the concept of recursion can be put in practice:\n",
    "\n",
    "# Recursive implementation of the factorial function\n",
    "def factorial(n):\n",
    "    if n == 1:    # the base case (termination condition)\n",
    "        return 1\n",
    "    else:\n",
    "        return n * factorial(n - 1)\n",
    "\n",
    "print(factorial(4)) # 4 * 3 * 2 * 1 = 24\n"
   ]
  },
  {
   "cell_type": "markdown",
   "metadata": {
    "colab_type": "text",
    "id": "LjmiIvLOWfqv"
   },
   "source": [
    "# 4.1.6 Tuples and Dictionaries"
   ]
  },
  {
   "cell_type": "markdown",
   "metadata": {
    "colab_type": "text",
    "id": "3rcOO9wVWfqv"
   },
   "source": [
    "List datanya bisa dirubah selama eksekusi program, sifatnya bernama mutable\n",
    "Sebaliknya tuple tidak bisa, sifatnya dinamakan immutable. Persamaannya keduanya sama-sama bisa menyimpan banyak nilai sekaligus dalam satu tipe data (sequence type)"
   ]
  },
  {
   "cell_type": "markdown",
   "metadata": {
    "colab_type": "text",
    "id": "HBWsNfKnWfqw"
   },
   "source": [
    "## Tuples\n",
    "Tuples are ordered and unchangeable (immutable) collections of data. They can be thought of as immutable lists. They are written in round brackets:"
   ]
  },
  {
   "cell_type": "code",
   "execution_count": 0,
   "metadata": {
    "colab": {},
    "colab_type": "code",
    "collapsed": true,
    "id": "FH5arxVVWfqx"
   },
   "outputs": [],
   "source": [
    "myTuple = (1, 2, True, \"a string\", (3, 4), [5, 6], None)\n",
    "print(myTuple)\n",
    "\n",
    "myList = [1, 2, True, \"a string\", (3, 4), [5, 6], None]\n",
    "print(myList)"
   ]
  },
  {
   "cell_type": "code",
   "execution_count": 0,
   "metadata": {
    "colab": {},
    "colab_type": "code",
    "id": "DngpU7F2Wfq2"
   },
   "outputs": [],
   "source": [
    "tuple1 = (1, 2, 4, 8)\n",
    "tuple2 = 1., .5, .25, .125\n",
    "\n",
    "print(tuple1)\n",
    "print(tuple2)"
   ]
  },
  {
   "cell_type": "code",
   "execution_count": 0,
   "metadata": {
    "colab": {},
    "colab_type": "code",
    "id": "lFf38bq7Wfq9"
   },
   "outputs": [],
   "source": [
    "emptyTuple = ()\n",
    "print(type(emptyTuple))"
   ]
  },
  {
   "cell_type": "code",
   "execution_count": 0,
   "metadata": {
    "colab": {},
    "colab_type": "code",
    "id": "tyHbWgkTWfrK"
   },
   "outputs": [],
   "source": [
    "myTuple = (1, 10, 100, 1000)\n",
    "\n",
    "print(myTuple[0])\n",
    "print(myTuple[-1])\n",
    "print(myTuple[1:])\n",
    "print(myTuple[:-2])\n",
    "\n",
    "for elem in myTuple:\n",
    "    print(elem)"
   ]
  },
  {
   "cell_type": "code",
   "execution_count": 0,
   "metadata": {
    "colab": {},
    "colab_type": "code",
    "collapsed": true,
    "id": "z6BruAVqWfrP"
   },
   "outputs": [],
   "source": [
    "myTuple = (1, 10, 100, 1000)\n",
    "\n",
    "myTuple.append(10000)\n",
    "del myTuple[0]\n",
    "myTuple[1] = -10"
   ]
  },
  {
   "cell_type": "code",
   "execution_count": 0,
   "metadata": {
    "colab": {},
    "colab_type": "code",
    "collapsed": true,
    "id": "ThLrYvmXWfrY"
   },
   "outputs": [],
   "source": [
    "myTuple = (1, 10, 100)\n",
    "\n",
    "t1 = myTuple + (1000, 10000)\n",
    "t2 = myTuple * 3\n",
    "\n",
    "print(len(t2))\n",
    "print(t1)\n",
    "print(t2)\n",
    "print(10 in myTuple)\n",
    "print(-10 not in myTuple)"
   ]
  },
  {
   "cell_type": "code",
   "execution_count": 0,
   "metadata": {
    "colab": {},
    "colab_type": "code",
    "collapsed": true,
    "id": "Ur7EByEAWfrd"
   },
   "outputs": [],
   "source": [
    "# Example 1\n",
    "t1 = (1, 2, 3)\n",
    "for elem in t1:\n",
    "    print(elem)\n",
    "\n",
    "# Example 2\n",
    "t2 = (1, 2, 3, 4)\n",
    "print(5 in t2)\n",
    "print(5 not in t2)\n",
    "\n",
    "# Example 3\n",
    "t3 = (1, 2, 3, 5)\n",
    "print(len(t3))\n",
    "\n",
    "# Example 4\n",
    "t4 = t1 + t2\n",
    "t5 = t3 * 2\n",
    "\n",
    "print(t4)\n",
    "print(t5)"
   ]
  },
  {
   "cell_type": "markdown",
   "metadata": {
    "colab_type": "text",
    "id": "hW5Ja-igWfri"
   },
   "source": [
    "## Dictionaries"
   ]
  },
  {
   "cell_type": "markdown",
   "metadata": {
    "colab_type": "text",
    "id": "MWxd8vy3Wfri"
   },
   "source": [
    "In Python's world, the word you look for is named a key. The word you get from the dictionary is called a value.\n",
    "\n",
    "Dictionaries are unordered*, changeable (mutable), and indexed collections of data. (*In Python 3.6x dictionaries have become ordered by default.\n",
    "\n",
    "This means that a dictionary is a set of key-value pairs. Note:\n",
    "\n",
    "- each key must be unique - it's not possible to have more than one key of the same value;\n",
    "- a key may be data of any type: it may be a number (integer or float), or even a string;\n",
    "- a dictionary is not a list - a list contains a set of numbered values, while a dictionary holds pairs of values;\n",
    "- the len() function works for dictionaries, too - it returns the numbers of key-value elements in the dictionary;\n",
    "- a dictionary is a one-way tool - if you have an English-French dictionary, you can look for French equivalents of English terms, but not vice versa."
   ]
  },
  {
   "cell_type": "code",
   "execution_count": 0,
   "metadata": {
    "colab": {},
    "colab_type": "code",
    "collapsed": true,
    "id": "AE9PDf25Wfrj"
   },
   "outputs": [],
   "source": [
    "dict = {\"cat\" : \"chat\", \"dog\" : \"chien\", \"horse\" : \"cheval\"}\n",
    "phoneNumbers = {'boss' : 5551234567, 'Suzy' : 22657854310}\n",
    "emptyDictionary = {}\n",
    "\n",
    "print(dict)\n",
    "print(phoneNumbers)\n",
    "print(emptyDictionary)"
   ]
  },
  {
   "cell_type": "code",
   "execution_count": 0,
   "metadata": {
    "colab": {},
    "colab_type": "code",
    "collapsed": true,
    "id": "3i8UyN6sWfrm"
   },
   "outputs": [],
   "source": [
    "print(dict['cat'])\n",
    "print(phoneNumbers['Suzy'])"
   ]
  },
  {
   "cell_type": "code",
   "execution_count": 0,
   "metadata": {
    "colab": {},
    "colab_type": "code",
    "collapsed": true,
    "id": "YalVQgsoWfrp"
   },
   "outputs": [],
   "source": [
    "dict = {\"cat\" : \"chat\", \"dog\" : \"chien\", \"horse\" : \"cheval\"}\n",
    "words = ['cat', 'lion', 'horse']\n",
    "\n",
    "for word in words:\n",
    "    if word in dict:\n",
    "        print(word, \"->\", dict[word])\n",
    "    else:\n",
    "        print(word, \"is not in dictionary\")"
   ]
  },
  {
   "cell_type": "code",
   "execution_count": 0,
   "metadata": {
    "colab": {},
    "colab_type": "code",
    "collapsed": true,
    "id": "AC7XpXSXWfru"
   },
   "outputs": [],
   "source": [
    "dict = {\"cat\" : \"chat\", \"dog\" : \"chien\", \"horse\" : \"cheval\"}\n",
    "\n",
    "for key in dict.keys():\n",
    "    print(key, \"->\", dict[key])"
   ]
  },
  {
   "cell_type": "code",
   "execution_count": 0,
   "metadata": {
    "colab": {},
    "colab_type": "code",
    "collapsed": true,
    "id": "DnAJJ3HNWfr0"
   },
   "outputs": [],
   "source": [
    "for key in sorted(dict.keys()):\n",
    "    print(key, \"->\", dict[key])"
   ]
  },
  {
   "cell_type": "markdown",
   "metadata": {
    "colab_type": "text",
    "id": "RosHC8aSWfr9"
   },
   "source": [
    "### items and values"
   ]
  },
  {
   "cell_type": "code",
   "execution_count": 0,
   "metadata": {
    "colab": {},
    "colab_type": "code",
    "collapsed": true,
    "id": "wlYphNvPWfr9"
   },
   "outputs": [],
   "source": [
    "dict = {\"cat\" : \"chat\", \"dog\" : \"chien\", \"horse\" : \"cheval\"}\n",
    "\n",
    "for english, french in dict.items():\n",
    "    print(english, \"->\", french)"
   ]
  },
  {
   "cell_type": "code",
   "execution_count": 0,
   "metadata": {
    "colab": {},
    "colab_type": "code",
    "collapsed": true,
    "id": "sD0XFl4PWfsA"
   },
   "outputs": [],
   "source": [
    "dict = {\"cat\" : \"chat\", \"dog\" : \"chien\", \"horse\" : \"cheval\"}\n",
    "\n",
    "for french in dict.values():\n",
    "    print(french)"
   ]
  },
  {
   "cell_type": "markdown",
   "metadata": {
    "colab_type": "text",
    "id": "T7oZubWuWfsE"
   },
   "source": [
    "### Replace"
   ]
  },
  {
   "cell_type": "code",
   "execution_count": 0,
   "metadata": {
    "colab": {},
    "colab_type": "code",
    "collapsed": true,
    "id": "zvWkmboKWfsE"
   },
   "outputs": [],
   "source": [
    "dict = {\"cat\" : \"chat\", \"dog\" : \"chien\", \"horse\" : \"cheval\"}\n",
    "\n",
    "dict['cat'] = 'minou'\n",
    "print(dict)"
   ]
  },
  {
   "cell_type": "markdown",
   "metadata": {
    "colab_type": "text",
    "id": "Aed40feNWfsK"
   },
   "source": [
    "### Adding new key"
   ]
  },
  {
   "cell_type": "code",
   "execution_count": 0,
   "metadata": {
    "colab": {},
    "colab_type": "code",
    "collapsed": true,
    "id": "xXgxOp9DWfsK"
   },
   "outputs": [],
   "source": [
    "dict = {\"cat\" : \"chat\", \"dog\" : \"chien\", \"horse\" : \"cheval\"}\n",
    "\n",
    "dict['swan'] = 'cygne'\n",
    "print(dict)"
   ]
  },
  {
   "cell_type": "markdown",
   "metadata": {
    "colab_type": "text",
    "id": "LQq3IWsXWfsQ"
   },
   "source": [
    "### Tuples and Dictionaries work Together\n",
    "\n"
   ]
  },
  {
   "cell_type": "markdown",
   "metadata": {
    "colab_type": "text",
    "id": "L7qoglDNWfsR"
   },
   "source": [
    "- line 1: create an empty dictionary for the input data; the student's name is used as a key, while all the associated scores are stored in a tuple (the tuple may be a dictionary value - that's not a problem at all)\n",
    "- line 3: enter an \"infinite\" loop (don't worry, it'll break at the right moment)\n",
    "- line 4: read the student's name here;\n",
    "- line 5-6: if the name is exit, leave the loop;\n",
    "- line 8: ask for one of the student's scores (an integer from the range 1-10)\n",
    "- line 10-11: if the student's name is already in the dictionary, lengthen the associated tuple with the new score (note the += operator)\n",
    "- line 12-13: if this is a new student (unknown to the dictionary), create a new entry - its value is a one-element tuple containing the entered score;\n",
    "- line 15: iterate through the sorted students' names;\n",
    "- line 16-17: initialize the data needed to evaluate the average (sum and counter)\n",
    "- line 18-20: we iterate through the tuple, taking all the subsequent scores and updating the sum, together with the counter;\n",
    "- line 21: evaluate and print the student's name and average score."
   ]
  },
  {
   "cell_type": "code",
   "execution_count": 0,
   "metadata": {
    "colab": {},
    "colab_type": "code",
    "collapsed": true,
    "id": "s1rH0UPSWfsR"
   },
   "outputs": [],
   "source": [
    "schoolClass = {}\n",
    "\n",
    "while True:\n",
    "    name = input(\"Enter the student's name (or type exit to stop): \")\n",
    "    if name == 'exit':\n",
    "        break\n",
    "    \n",
    "    score = int(input(\"Enter the student's score (0-10): \"))\n",
    "    \n",
    "    if name in schoolClass:\n",
    "        schoolClass[name] += (score,)\n",
    "    else:\n",
    "        schoolClass[name] = (score,)\n",
    "        \n",
    "for name in sorted(schoolClass.keys()):\n",
    "    sum = 0\n",
    "    counter = 0\n",
    "    for score in schoolClass[name]:\n",
    "        sum += score\n",
    "        counter += 1\n",
    "    print(name, \":\", sum / counter)"
   ]
  },
  {
   "cell_type": "markdown",
   "metadata": {
    "colab_type": "text",
    "id": "xiF7Cfe5WfsX"
   },
   "source": [
    "# Summary\n",
    "\n",
    "1. Dictionaries are unordered*, changeable (mutable), and indexed collections of data. (*In Python 3.6x dictionaries have become ordered by default.\n",
    "\n",
    "Each dictionary is a set of key : value pairs. You can create it by using the following syntax:\n",
    "\n",
    "```python            \n",
    "myDictionary = {\n",
    "    key1 : value1,\n",
    "    key2 : value2,\n",
    "    key3 : value3,\n",
    "    }\n",
    "```\n",
    "2. If you want to access a dictionary item, you can do so by making a reference to its key inside a pair of square brackets (ex. 1) or by using the get() method (ex. 2):\n",
    "\n",
    "```python                                                                                         \n",
    "polEngDict = {\n",
    "    \"kwiat\" : \"flower\",\n",
    "    \"woda\"  : \"water\",\n",
    "    \"gleba\" : \"soil\"\n",
    "    }\n",
    "\n",
    "item1 = polEngDict[\"gleba\"]    # ex. 1\n",
    "print(item1)    # outputs: soil\n",
    "\n",
    "item2 = polEngDict.get(\"woda\")\n",
    "print(item2)    # outputs: water\n",
    "```\n",
    "3. If you want to change the value associated with a specific key, you can do so by referring to the item's key name in the following way:\n",
    "\n",
    "```python \n",
    "polEngDict = {\n",
    "    \"zamek\" : \"castle\",\n",
    "    \"woda\"  : \"water\",\n",
    "    \"gleba\" : \"soil\"\n",
    "    }\n",
    "\n",
    "polEngDict[\"zamek\"] = \"lock\"\n",
    "item = polEngDict[\"zamek\"]    # outputs: lock\n",
    "```\n",
    "4. To add or remove a key (and the associated value), use the following syntax:\n",
    "\n",
    "```python \n",
    "myPhonebook = {}    # an empty dictionary\n",
    "\n",
    "myPhonebook[\"Adam\"] = 3456783958    # create/add a key-value pair\n",
    "print(myPhonebook)    # outputs: {'Adam': 3456783958}\n",
    "\n",
    "del myPhonebook[\"Adam\"]\n",
    "print(myPhonebook)    # outputs: {}\n",
    "```\n",
    "\n",
    "You can also insert an item to a dictionary by using the update() method, and remove the last element by using the popitem() method, e.g.:\n",
    "\n",
    "```python \n",
    "polEngDict = {\"kwiat\" : \"flower\"}\n",
    "\n",
    "polEngDict = update(\"gleba\" : \"soil\")\n",
    "print(polEngDict)    # outputs: {'kwiat' : 'flower', 'gleba' : 'soil'}\n",
    "\n",
    "polEngDict.popitem()\n",
    "print(polEngDict)    # outputs: {'kwiat' : 'flower'}\n",
    "```\n",
    "\n",
    "5. You can use the for loop to loop through a dictionary, e.g.:\n",
    "\n",
    "```python \n",
    "polEngDict = {\n",
    "    \"zamek\" : \"castle\",\n",
    "    \"woda\"  : \"water\",\n",
    "    \"gleba\" : \"soil\"\n",
    "    }\n",
    "\n",
    "for item in polEngDict:\n",
    "    print(item)    # outputs: zamek\n",
    "                   #          woda\n",
    "                   #          gleba\n",
    "\n",
    "```\n",
    "\n",
    "\n",
    "\n",
    "6. If you want to loop through a dictionary's keys and values, you can use the items() method, e.g.:\n",
    "\n",
    "\n",
    "```python \n",
    "polEngDict = {\n",
    "    \"zamek\" : \"castle\",\n",
    "    \"woda\"  : \"water\",\n",
    "    \"gleba\" : \"soil\"\n",
    "    }\n",
    "\n",
    "for key, value in polEngDict.items():\n",
    "    print(\"Pol/Eng ->\", key, \":\", value)\n",
    "```\n",
    "\n",
    "\n",
    "7. To check if a given key exists in a dictionary, you can use the in keyword:\n",
    "\n",
    "```python \n",
    "polEngDict = {\n",
    "    \"zamek\" : \"castle\",\n",
    "    \"woda\"  : \"water\",\n",
    "    \"gleba\" : \"soil\"\n",
    "    }\n",
    "\n",
    "if \"zamek\" in polEngDict:\n",
    "    print(\"Yes\")\n",
    "else:\n",
    "    print(\"No\")\n",
    "```\n",
    "\n",
    "8. You can use the del keyword to remove a specific item, or delete a dictionary. To remove all the dictionary's items, you need to use the clear() method:\n",
    "\n",
    "```python \n",
    "polEngDict = {\n",
    "    \"zamek\" : \"castle\",\n",
    "    \"woda\"  : \"water\",\n",
    "    \"gleba\" : \"soil\"\n",
    "    }\n",
    "\n",
    "print(len(polEngDict))    # outputs: 3\n",
    "del polEngDict[\"zamek\"]    # remove an item\n",
    "print(len(polEngDict))    # outputs: 2\n",
    "\n",
    "polEngDict.clear()   # removes all the items\n",
    "print(len(polEngDict))    # outputs: 0\n",
    "\n",
    "del polEngDict    # removes the dictionary\n",
    "```\n",
    "\n",
    "9. To copy a dictionary, use the copy() method:\n",
    "\n",
    "```python \n",
    "polEngDict = {\n",
    "    \"zamek\" : \"castle\",\n",
    "    \"woda\"  : \"water\",\n",
    "    \"gleba\" : \"soil\"\n",
    "    }\n",
    "\n",
    "copyDict = polEngDict.copy()\n",
    "```"
   ]
  },
  {
   "cell_type": "code",
   "execution_count": 0,
   "metadata": {
    "colab": {},
    "colab_type": "code",
    "id": "485dfIqOWfsY"
   },
   "outputs": [],
   "source": [
    "#Exercise 1\n",
    "\n",
    "#What happens when you attempt to run the following snippet?\n",
    "\n",
    "myTup = (1, 2, 3)\n",
    "print(myTup[2])\n"
   ]
  },
  {
   "cell_type": "code",
   "execution_count": 0,
   "metadata": {
    "colab": {},
    "colab_type": "code",
    "id": "QM1yP6MsWfse"
   },
   "outputs": [],
   "source": [
    "#Exercise 2\n",
    "\n",
    "#What is the output of the following snippet?\n",
    "\n",
    "tup = 1, 2, 3\n",
    "a, b, c = tup\n",
    "\n",
    "print(a * b * c)"
   ]
  },
  {
   "cell_type": "code",
   "execution_count": 0,
   "metadata": {
    "colab": {},
    "colab_type": "code",
    "id": "qWrMDWe2Wfsh"
   },
   "outputs": [],
   "source": [
    "#Exercise 3\n",
    "\n",
    "#Complete the code to correctly use the count() method to find the number of duplicates of 2 in the following tuple.\n",
    "\n",
    "tup = 1, 2, 3, 2, 4, 5, 6, 2, 7, 2, 8, 9\n",
    "duplicates = # your code\n",
    "\n",
    "print(duplicates)    # outputs: 4"
   ]
  },
  {
   "cell_type": "code",
   "execution_count": 0,
   "metadata": {
    "colab": {},
    "colab_type": "code",
    "id": "LlNyh7GnWfsl"
   },
   "outputs": [],
   "source": [
    "#Exercise 4\n",
    "\n",
    "#Write a program that will \"glue\" the two dictionaries (d1 and d2) together and create a new one (d3).\n",
    "\n",
    "d1 = {'Adam Smith':'A', 'Judy Paxton':'B+'}\n",
    "d2 = {'Mary Louis':'A', 'Patrick White':'C'}\n",
    "d3 = {}\n",
    "\n",
    "for item in (d1, d2):\n",
    "    # your code\n",
    "\n",
    "print(d3)"
   ]
  },
  {
   "cell_type": "code",
   "execution_count": 0,
   "metadata": {
    "colab": {},
    "colab_type": "code",
    "id": "7BrEaBU3Wfso"
   },
   "outputs": [],
   "source": [
    "#Exercise 5\n",
    "\n",
    "#Write a program that will convert the l list to a tuple.\n",
    "\n",
    "l = [\"car\", \"Ford\", \"flower\", \"Tulip\"]\n",
    "\n",
    "t = # your code\n",
    "print(t)\n"
   ]
  },
  {
   "cell_type": "code",
   "execution_count": 0,
   "metadata": {
    "colab": {},
    "colab_type": "code",
    "id": "ZbeK5M7-Wfsr"
   },
   "outputs": [],
   "source": [
    "#Exercise 6\n",
    "\n",
    "#Write a program that will convert the colors tuple to a dictionary.\n",
    "\n",
    "colors = ((\"green\", \"#008000\"), (\"blue\", \"#0000FF\"))\n",
    "\n",
    "# your code\n",
    "\n",
    "print(colDict)"
   ]
  },
  {
   "cell_type": "code",
   "execution_count": 0,
   "metadata": {
    "colab": {},
    "colab_type": "code",
    "id": "6aoBknMBWfsu"
   },
   "outputs": [],
   "source": [
    "#Exercise 7\n",
    "\n",
    "#What will happen when you run the following code?\n",
    "\n",
    "myDict = {\"A\":1, \"B\":2}\n",
    "copyMyDict = myDict.copy()\n",
    "myDict.clear()\n",
    "\n",
    "print(copyMyDict)\n"
   ]
  },
  {
   "cell_type": "code",
   "execution_count": 0,
   "metadata": {
    "colab": {},
    "colab_type": "code",
    "id": "geNwyEMzWfsw"
   },
   "outputs": [],
   "source": [
    "#Exercise 8\n",
    "\n",
    "#What is the output of the following program?\n",
    "\n",
    "colors = {\n",
    "    \"white\" : (255, 255, 255),\n",
    "    \"grey\"  : (128, 128, 128),\n",
    "    \"red\"   : (255, 0, 0),\n",
    "    \"green\" : (0, 128, 0)\n",
    "    }\n",
    "\n",
    "for col, rgb in colors.items():\n",
    "    print(col, \":\", rgb)"
   ]
  },
  {
   "cell_type": "markdown",
   "metadata": {
    "colab_type": "text",
    "id": "juyc9dCSWfsy"
   },
   "source": [
    "# Project  - Tic Tac Toe\n",
    "\n",
    "Scenario\n",
    "Your task is to write a simple program which pretends to play tic-tac-toe with the user. To make it all easier for you, we've decided to simplify the game. Here are our assumptions:\n",
    "\n",
    "- the computer (i.e., your program) should play the game using 'X's;\n",
    "- the user (e.g., you) should play the game using 'O's;\n",
    "- the first move belongs to the computer - it always puts its first 'X' in the middle of the board;\n",
    "- all the squares are numbered row by row starting with 1 (see the example session below for reference)\n",
    "- the user inputs their move by entering the number of the square they choose - the number must be valid, i.e., it must be an integer, it must be greater than 0 and less than 10, and it cannot point to a field which is already occupied;\n",
    "- the program checks if the game is over - there are four possible verdicts: the game should continue, or the game ends with a tie, your win, or the computer's win;\n",
    "- the computer responds with its move and the check is repeated;\n",
    "- don't implement any form of artificial intelligence - a random field choice made by the computer is good enough for the game.\n",
    "- The example session with the program may look as follows:\n",
    "\n",
    "```\n",
    "+-------+-------+-------+\n",
    "|       |       |       |\n",
    "|   1   |   2   |   3   |\n",
    "|       |       |       |\n",
    "+-------+-------+-------+\n",
    "|       |       |       |\n",
    "|   4   |   X   |   6   |\n",
    "|       |       |       |\n",
    "+-------+-------+-------+\n",
    "|       |       |       |\n",
    "|   7   |   8   |   9   |\n",
    "|       |       |       |\n",
    "+-------+-------+-------+\n",
    "Enter your move: 1\n",
    "+-------+-------+-------+\n",
    "|       |       |       |\n",
    "|   O   |   2   |   3   |\n",
    "|       |       |       |\n",
    "+-------+-------+-------+\n",
    "|       |       |       |\n",
    "|   4   |   X   |   6   |\n",
    "|       |       |       |\n",
    "+-------+-------+-------+\n",
    "|       |       |       |\n",
    "|   7   |   8   |   9   |\n",
    "|       |       |       |\n",
    "+-------+-------+-------+\n",
    "+-------+-------+-------+\n",
    "|       |       |       |\n",
    "|   O   |   X   |   3   |\n",
    "|       |       |       |\n",
    "+-------+-------+-------+\n",
    "|       |       |       |\n",
    "|   4   |   X   |   6   |\n",
    "|       |       |       |\n",
    "+-------+-------+-------+\n",
    "|       |       |       |\n",
    "|   7   |   8   |   9   |\n",
    "|       |       |       |\n",
    "+-------+-------+-------+\n",
    "Enter your move: 8\n",
    "+-------+-------+-------+\n",
    "|       |       |       |\n",
    "|   O   |   X   |   3   |\n",
    "|       |       |       |\n",
    "+-------+-------+-------+\n",
    "|       |       |       |\n",
    "|   4   |   X   |   6   |\n",
    "|       |       |       |\n",
    "+-------+-------+-------+\n",
    "|       |       |       |\n",
    "|   7   |   O   |   9   |\n",
    "|       |       |       |\n",
    "+-------+-------+-------+\n",
    "+-------+-------+-------+\n",
    "|       |       |       |\n",
    "|   O   |   X   |   3   |\n",
    "|       |       |       |\n",
    "+-------+-------+-------+\n",
    "|       |       |       |\n",
    "|   4   |   X   |   X   |\n",
    "|       |       |       |\n",
    "+-------+-------+-------+\n",
    "|       |       |       |\n",
    "|   7   |   O   |   9   |\n",
    "|       |       |       |\n",
    "+-------+-------+-------+\n",
    "Enter your move: 4\n",
    "+-------+-------+-------+\n",
    "|       |       |       |\n",
    "|   O   |   X   |   3   |\n",
    "|       |       |       |\n",
    "+-------+-------+-------+\n",
    "|       |       |       |\n",
    "|   O   |   X   |   X   |\n",
    "|       |       |       |\n",
    "+-------+-------+-------+\n",
    "|       |       |       |\n",
    "|   7   |   O   |   9   |\n",
    "|       |       |       |\n",
    "+-------+-------+-------+\n",
    "+-------+-------+-------+\n",
    "|       |       |       |\n",
    "|   O   |   X   |   X   |\n",
    "|       |       |       |\n",
    "+-------+-------+-------+\n",
    "|       |       |       |\n",
    "|   O   |   X   |   X   |\n",
    "|       |       |       |\n",
    "+-------+-------+-------+\n",
    "|       |       |       |\n",
    "|   7   |   O   |   9   |\n",
    "|       |       |       |\n",
    "+-------+-------+-------+\n",
    "Enter your move: 7\n",
    "+-------+-------+-------+\n",
    "|       |       |       |\n",
    "|   O   |   X   |   X   |\n",
    "|       |       |       |\n",
    "+-------+-------+-------+\n",
    "|       |       |       |\n",
    "|   O   |   X   |   X   |\n",
    "|       |       |       |\n",
    "+-------+-------+-------+\n",
    "|       |       |       |\n",
    "|   O   |   O   |   9   |\n",
    "|       |       |       |\n",
    "+-------+-------+-------+\n",
    "You won!\n",
    "```\n",
    "\n",
    "Requirements\n",
    "Implement the following features:\n",
    "\n",
    "- the board should be stored as a three-element list, while each element is another three-element list (the inner lists represent rows) so that all of the squares may be accessed using the following syntax: \n",
    "```\n",
    "board[row][column]\n",
    "```\n",
    "- each of the inner list's elements can contain 'O', 'X', or a digit representing the square's number (such a square is considered free)\n",
    "- the board's appearance should be exactly the same as the one presented in the example.\n",
    "- implement the functions defined for you in the editor.\n",
    "\n",
    "Drawing a random integer number can be done by utilizing a Python function called randrange(). The example program below shows how to use it (the program prints ten random numbers from 0 to 8).\n",
    "\n",
    "Note: the from-import instruction provides an access to the randrange function defined within an external Python module callled random.\n",
    "\n",
    "```python\n",
    "from random import randrange\n",
    "\n",
    "for i in range(10):\n",
    "    print(randrange(8))\n",
    "```"
   ]
  },
  {
   "cell_type": "code",
   "execution_count": 0,
   "metadata": {
    "colab": {},
    "colab_type": "code",
    "id": "rQF5JVn2Wfsz"
   },
   "outputs": [],
   "source": [
    "def DisplayBoard(board):\n",
    "#\n",
    "# the function accepts one parameter containing the board's current status\n",
    "# and prints it out to the console\n",
    "#\n",
    "\n",
    "def EnterMove(board):\n",
    "#\n",
    "# the function accepts the board current status, asks the user about their move, \n",
    "# checks the input and updates the board according to the user's decision\n",
    "#\n",
    "\n",
    "def MakeListOfFreeFields(board):\n",
    "#\n",
    "# the function browses the board and builds a list of all the free squares; \n",
    "# the list consists of tuples, while each tuple is a pair of row and column numbers\n",
    "#\n",
    "\n",
    "def VictoryFor(board, sign):\n",
    "#\n",
    "# the function analyzes the board status in order to check if \n",
    "# the player using 'O's or 'X's has won the game\n",
    "#\n",
    "\n",
    "def DrawMove(board):\n",
    "#\n",
    "# the function draws the computer's move and updates the board\n",
    "#"
   ]
  },
  {
   "cell_type": "code",
   "execution_count": 0,
   "metadata": {
    "colab": {},
    "colab_type": "code",
    "id": "7xhabukJWfs2"
   },
   "outputs": [],
   "source": []
  }
 ],
 "metadata": {
  "colab": {
   "name": "Modul 4 - Function Tuple Dictionaries and Data Processing.ipynb",
   "provenance": []
  },
  "kernelspec": {
   "display_name": "Python 3",
   "language": "python",
   "name": "python3"
  },
  "language_info": {
   "codemirror_mode": {
    "name": "ipython",
    "version": 3
   },
   "file_extension": ".py",
   "mimetype": "text/x-python",
   "name": "python",
   "nbconvert_exporter": "python",
   "pygments_lexer": "ipython3",
   "version": "3.7.6"
  }
 },
 "nbformat": 4,
 "nbformat_minor": 1
}
